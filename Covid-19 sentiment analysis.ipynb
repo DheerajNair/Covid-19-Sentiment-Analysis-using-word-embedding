{
  "nbformat": 4,
  "nbformat_minor": 0,
  "metadata": {
    "colab": {
      "name": "RA_final.ipynb",
      "provenance": [],
      "collapsed_sections": [
        "8woiteInZvVY",
        "ZzVUxYIfZvVn",
        "d-8XEa_IZvVy",
        "9pTzhS76ZvWE",
        "qSvq3TaMZvWK",
        "Itvl6FmK07Pl"
      ]
    },
    "kernelspec": {
      "name": "python3",
      "display_name": "Python 3"
    },
    "language_info": {
      "name": "python"
    },
    "widgets": {
      "application/vnd.jupyter.widget-state+json": {
        "0c9c8f21dc134243a701898621d6bdb9": {
          "model_module": "@jupyter-widgets/controls",
          "model_name": "HBoxModel",
          "model_module_version": "1.5.0",
          "state": {
            "_view_name": "HBoxView",
            "_dom_classes": [],
            "_model_name": "HBoxModel",
            "_view_module": "@jupyter-widgets/controls",
            "_model_module_version": "1.5.0",
            "_view_count": null,
            "_view_module_version": "1.5.0",
            "box_style": "",
            "layout": "IPY_MODEL_4cea88181d2f4f5e9d67bb655e04707f",
            "_model_module": "@jupyter-widgets/controls",
            "children": [
              "IPY_MODEL_90339a8c907e49afb8fa42a9aad8f1fe",
              "IPY_MODEL_469b969cf02b49b69294b0f05a8aff25",
              "IPY_MODEL_83fa0ba71e854437a8af287e976a2493"
            ]
          }
        },
        "4cea88181d2f4f5e9d67bb655e04707f": {
          "model_module": "@jupyter-widgets/base",
          "model_name": "LayoutModel",
          "model_module_version": "1.2.0",
          "state": {
            "_view_name": "LayoutView",
            "grid_template_rows": null,
            "right": null,
            "justify_content": null,
            "_view_module": "@jupyter-widgets/base",
            "overflow": null,
            "_model_module_version": "1.2.0",
            "_view_count": null,
            "flex_flow": null,
            "width": null,
            "min_width": null,
            "border": null,
            "align_items": null,
            "bottom": null,
            "_model_module": "@jupyter-widgets/base",
            "top": null,
            "grid_column": null,
            "overflow_y": null,
            "overflow_x": null,
            "grid_auto_flow": null,
            "grid_area": null,
            "grid_template_columns": null,
            "flex": null,
            "_model_name": "LayoutModel",
            "justify_items": null,
            "grid_row": null,
            "max_height": null,
            "align_content": null,
            "visibility": null,
            "align_self": null,
            "height": null,
            "min_height": null,
            "padding": null,
            "grid_auto_rows": null,
            "grid_gap": null,
            "max_width": null,
            "order": null,
            "_view_module_version": "1.2.0",
            "grid_template_areas": null,
            "object_position": null,
            "object_fit": null,
            "grid_auto_columns": null,
            "margin": null,
            "display": null,
            "left": null
          }
        },
        "90339a8c907e49afb8fa42a9aad8f1fe": {
          "model_module": "@jupyter-widgets/controls",
          "model_name": "HTMLModel",
          "model_module_version": "1.5.0",
          "state": {
            "_view_name": "HTMLView",
            "style": "IPY_MODEL_a830d32aa6bb4c20af197cba6d0e67bd",
            "_dom_classes": [],
            "description": "",
            "_model_name": "HTMLModel",
            "placeholder": "​",
            "_view_module": "@jupyter-widgets/controls",
            "_model_module_version": "1.5.0",
            "value": "",
            "_view_count": null,
            "_view_module_version": "1.5.0",
            "description_tooltip": null,
            "_model_module": "@jupyter-widgets/controls",
            "layout": "IPY_MODEL_035088e599614c7c83ed8fe46fcc5d03"
          }
        },
        "469b969cf02b49b69294b0f05a8aff25": {
          "model_module": "@jupyter-widgets/controls",
          "model_name": "FloatProgressModel",
          "model_module_version": "1.5.0",
          "state": {
            "_view_name": "ProgressView",
            "style": "IPY_MODEL_a8200ef544114dab879580d5cddfc771",
            "_dom_classes": [],
            "description": "",
            "_model_name": "FloatProgressModel",
            "bar_style": "success",
            "max": 1,
            "_view_module": "@jupyter-widgets/controls",
            "_model_module_version": "1.5.0",
            "value": 1,
            "_view_count": null,
            "_view_module_version": "1.5.0",
            "orientation": "horizontal",
            "min": 0,
            "description_tooltip": null,
            "_model_module": "@jupyter-widgets/controls",
            "layout": "IPY_MODEL_ddf367578af145c58c8bf9579fa70329"
          }
        },
        "83fa0ba71e854437a8af287e976a2493": {
          "model_module": "@jupyter-widgets/controls",
          "model_name": "HTMLModel",
          "model_module_version": "1.5.0",
          "state": {
            "_view_name": "HTMLView",
            "style": "IPY_MODEL_a5eef0e3d853490bb0ed7aac64e67b5b",
            "_dom_classes": [],
            "description": "",
            "_model_name": "HTMLModel",
            "placeholder": "​",
            "_view_module": "@jupyter-widgets/controls",
            "_model_module_version": "1.5.0",
            "value": " 2000000/? [03:02&lt;00:00, 13084.12it/s]",
            "_view_count": null,
            "_view_module_version": "1.5.0",
            "description_tooltip": null,
            "_model_module": "@jupyter-widgets/controls",
            "layout": "IPY_MODEL_768e363b23664ac7b34ca3fbdc1e3e43"
          }
        },
        "a830d32aa6bb4c20af197cba6d0e67bd": {
          "model_module": "@jupyter-widgets/controls",
          "model_name": "DescriptionStyleModel",
          "model_module_version": "1.5.0",
          "state": {
            "_view_name": "StyleView",
            "_model_name": "DescriptionStyleModel",
            "description_width": "",
            "_view_module": "@jupyter-widgets/base",
            "_model_module_version": "1.5.0",
            "_view_count": null,
            "_view_module_version": "1.2.0",
            "_model_module": "@jupyter-widgets/controls"
          }
        },
        "035088e599614c7c83ed8fe46fcc5d03": {
          "model_module": "@jupyter-widgets/base",
          "model_name": "LayoutModel",
          "model_module_version": "1.2.0",
          "state": {
            "_view_name": "LayoutView",
            "grid_template_rows": null,
            "right": null,
            "justify_content": null,
            "_view_module": "@jupyter-widgets/base",
            "overflow": null,
            "_model_module_version": "1.2.0",
            "_view_count": null,
            "flex_flow": null,
            "width": null,
            "min_width": null,
            "border": null,
            "align_items": null,
            "bottom": null,
            "_model_module": "@jupyter-widgets/base",
            "top": null,
            "grid_column": null,
            "overflow_y": null,
            "overflow_x": null,
            "grid_auto_flow": null,
            "grid_area": null,
            "grid_template_columns": null,
            "flex": null,
            "_model_name": "LayoutModel",
            "justify_items": null,
            "grid_row": null,
            "max_height": null,
            "align_content": null,
            "visibility": null,
            "align_self": null,
            "height": null,
            "min_height": null,
            "padding": null,
            "grid_auto_rows": null,
            "grid_gap": null,
            "max_width": null,
            "order": null,
            "_view_module_version": "1.2.0",
            "grid_template_areas": null,
            "object_position": null,
            "object_fit": null,
            "grid_auto_columns": null,
            "margin": null,
            "display": null,
            "left": null
          }
        },
        "a8200ef544114dab879580d5cddfc771": {
          "model_module": "@jupyter-widgets/controls",
          "model_name": "ProgressStyleModel",
          "model_module_version": "1.5.0",
          "state": {
            "_view_name": "StyleView",
            "_model_name": "ProgressStyleModel",
            "description_width": "",
            "_view_module": "@jupyter-widgets/base",
            "_model_module_version": "1.5.0",
            "_view_count": null,
            "_view_module_version": "1.2.0",
            "bar_color": null,
            "_model_module": "@jupyter-widgets/controls"
          }
        },
        "ddf367578af145c58c8bf9579fa70329": {
          "model_module": "@jupyter-widgets/base",
          "model_name": "LayoutModel",
          "model_module_version": "1.2.0",
          "state": {
            "_view_name": "LayoutView",
            "grid_template_rows": null,
            "right": null,
            "justify_content": null,
            "_view_module": "@jupyter-widgets/base",
            "overflow": null,
            "_model_module_version": "1.2.0",
            "_view_count": null,
            "flex_flow": null,
            "width": "20px",
            "min_width": null,
            "border": null,
            "align_items": null,
            "bottom": null,
            "_model_module": "@jupyter-widgets/base",
            "top": null,
            "grid_column": null,
            "overflow_y": null,
            "overflow_x": null,
            "grid_auto_flow": null,
            "grid_area": null,
            "grid_template_columns": null,
            "flex": null,
            "_model_name": "LayoutModel",
            "justify_items": null,
            "grid_row": null,
            "max_height": null,
            "align_content": null,
            "visibility": null,
            "align_self": null,
            "height": null,
            "min_height": null,
            "padding": null,
            "grid_auto_rows": null,
            "grid_gap": null,
            "max_width": null,
            "order": null,
            "_view_module_version": "1.2.0",
            "grid_template_areas": null,
            "object_position": null,
            "object_fit": null,
            "grid_auto_columns": null,
            "margin": null,
            "display": null,
            "left": null
          }
        },
        "a5eef0e3d853490bb0ed7aac64e67b5b": {
          "model_module": "@jupyter-widgets/controls",
          "model_name": "DescriptionStyleModel",
          "model_module_version": "1.5.0",
          "state": {
            "_view_name": "StyleView",
            "_model_name": "DescriptionStyleModel",
            "description_width": "",
            "_view_module": "@jupyter-widgets/base",
            "_model_module_version": "1.5.0",
            "_view_count": null,
            "_view_module_version": "1.2.0",
            "_model_module": "@jupyter-widgets/controls"
          }
        },
        "768e363b23664ac7b34ca3fbdc1e3e43": {
          "model_module": "@jupyter-widgets/base",
          "model_name": "LayoutModel",
          "model_module_version": "1.2.0",
          "state": {
            "_view_name": "LayoutView",
            "grid_template_rows": null,
            "right": null,
            "justify_content": null,
            "_view_module": "@jupyter-widgets/base",
            "overflow": null,
            "_model_module_version": "1.2.0",
            "_view_count": null,
            "flex_flow": null,
            "width": null,
            "min_width": null,
            "border": null,
            "align_items": null,
            "bottom": null,
            "_model_module": "@jupyter-widgets/base",
            "top": null,
            "grid_column": null,
            "overflow_y": null,
            "overflow_x": null,
            "grid_auto_flow": null,
            "grid_area": null,
            "grid_template_columns": null,
            "flex": null,
            "_model_name": "LayoutModel",
            "justify_items": null,
            "grid_row": null,
            "max_height": null,
            "align_content": null,
            "visibility": null,
            "align_self": null,
            "height": null,
            "min_height": null,
            "padding": null,
            "grid_auto_rows": null,
            "grid_gap": null,
            "max_width": null,
            "order": null,
            "_view_module_version": "1.2.0",
            "grid_template_areas": null,
            "object_position": null,
            "object_fit": null,
            "grid_auto_columns": null,
            "margin": null,
            "display": null,
            "left": null
          }
        },
        "d53b2bb78f4d45a4a34af39214559453": {
          "model_module": "@jupyter-widgets/controls",
          "model_name": "HBoxModel",
          "model_module_version": "1.5.0",
          "state": {
            "_view_name": "HBoxView",
            "_dom_classes": [],
            "_model_name": "HBoxModel",
            "_view_module": "@jupyter-widgets/controls",
            "_model_module_version": "1.5.0",
            "_view_count": null,
            "_view_module_version": "1.5.0",
            "box_style": "",
            "layout": "IPY_MODEL_17a24e4f1bdf442892b00e2d158301b4",
            "_model_module": "@jupyter-widgets/controls",
            "children": [
              "IPY_MODEL_86b39928fa7443a5b6c28764d7dc282e",
              "IPY_MODEL_e069710ec0c14ed5a0a3672044a1dd22",
              "IPY_MODEL_7819a8ddad014b04a2bb9c54216f67ad"
            ]
          }
        },
        "17a24e4f1bdf442892b00e2d158301b4": {
          "model_module": "@jupyter-widgets/base",
          "model_name": "LayoutModel",
          "model_module_version": "1.2.0",
          "state": {
            "_view_name": "LayoutView",
            "grid_template_rows": null,
            "right": null,
            "justify_content": null,
            "_view_module": "@jupyter-widgets/base",
            "overflow": null,
            "_model_module_version": "1.2.0",
            "_view_count": null,
            "flex_flow": null,
            "width": null,
            "min_width": null,
            "border": null,
            "align_items": null,
            "bottom": null,
            "_model_module": "@jupyter-widgets/base",
            "top": null,
            "grid_column": null,
            "overflow_y": null,
            "overflow_x": null,
            "grid_auto_flow": null,
            "grid_area": null,
            "grid_template_columns": null,
            "flex": null,
            "_model_name": "LayoutModel",
            "justify_items": null,
            "grid_row": null,
            "max_height": null,
            "align_content": null,
            "visibility": null,
            "align_self": null,
            "height": null,
            "min_height": null,
            "padding": null,
            "grid_auto_rows": null,
            "grid_gap": null,
            "max_width": null,
            "order": null,
            "_view_module_version": "1.2.0",
            "grid_template_areas": null,
            "object_position": null,
            "object_fit": null,
            "grid_auto_columns": null,
            "margin": null,
            "display": null,
            "left": null
          }
        },
        "86b39928fa7443a5b6c28764d7dc282e": {
          "model_module": "@jupyter-widgets/controls",
          "model_name": "HTMLModel",
          "model_module_version": "1.5.0",
          "state": {
            "_view_name": "HTMLView",
            "style": "IPY_MODEL_1e5242679cec4f78b4b4ecbb506f93fc",
            "_dom_classes": [],
            "description": "",
            "_model_name": "HTMLModel",
            "placeholder": "​",
            "_view_module": "@jupyter-widgets/controls",
            "_model_module_version": "1.5.0",
            "value": "100%",
            "_view_count": null,
            "_view_module_version": "1.5.0",
            "description_tooltip": null,
            "_model_module": "@jupyter-widgets/controls",
            "layout": "IPY_MODEL_642bf5bc86d74aaca296512c2b9230a6"
          }
        },
        "e069710ec0c14ed5a0a3672044a1dd22": {
          "model_module": "@jupyter-widgets/controls",
          "model_name": "FloatProgressModel",
          "model_module_version": "1.5.0",
          "state": {
            "_view_name": "ProgressView",
            "style": "IPY_MODEL_e63b5843f75c4a53a41d6d3591a41f3b",
            "_dom_classes": [],
            "description": "",
            "_model_name": "FloatProgressModel",
            "bar_style": "success",
            "max": 100,
            "_view_module": "@jupyter-widgets/controls",
            "_model_module_version": "1.5.0",
            "value": 100,
            "_view_count": null,
            "_view_module_version": "1.5.0",
            "orientation": "horizontal",
            "min": 0,
            "description_tooltip": null,
            "_model_module": "@jupyter-widgets/controls",
            "layout": "IPY_MODEL_b50a79f43663480b917fd181ed70de03"
          }
        },
        "7819a8ddad014b04a2bb9c54216f67ad": {
          "model_module": "@jupyter-widgets/controls",
          "model_name": "HTMLModel",
          "model_module_version": "1.5.0",
          "state": {
            "_view_name": "HTMLView",
            "style": "IPY_MODEL_a1e2e2df1d2c457c95563a8cfcbc02c9",
            "_dom_classes": [],
            "description": "",
            "_model_name": "HTMLModel",
            "placeholder": "​",
            "_view_module": "@jupyter-widgets/controls",
            "_model_module_version": "1.5.0",
            "value": " 100/100 [00:00&lt;00:00, 1415.56it/s]",
            "_view_count": null,
            "_view_module_version": "1.5.0",
            "description_tooltip": null,
            "_model_module": "@jupyter-widgets/controls",
            "layout": "IPY_MODEL_9980486ff32e4e1d905b025888a23a03"
          }
        },
        "1e5242679cec4f78b4b4ecbb506f93fc": {
          "model_module": "@jupyter-widgets/controls",
          "model_name": "DescriptionStyleModel",
          "model_module_version": "1.5.0",
          "state": {
            "_view_name": "StyleView",
            "_model_name": "DescriptionStyleModel",
            "description_width": "",
            "_view_module": "@jupyter-widgets/base",
            "_model_module_version": "1.5.0",
            "_view_count": null,
            "_view_module_version": "1.2.0",
            "_model_module": "@jupyter-widgets/controls"
          }
        },
        "642bf5bc86d74aaca296512c2b9230a6": {
          "model_module": "@jupyter-widgets/base",
          "model_name": "LayoutModel",
          "model_module_version": "1.2.0",
          "state": {
            "_view_name": "LayoutView",
            "grid_template_rows": null,
            "right": null,
            "justify_content": null,
            "_view_module": "@jupyter-widgets/base",
            "overflow": null,
            "_model_module_version": "1.2.0",
            "_view_count": null,
            "flex_flow": null,
            "width": null,
            "min_width": null,
            "border": null,
            "align_items": null,
            "bottom": null,
            "_model_module": "@jupyter-widgets/base",
            "top": null,
            "grid_column": null,
            "overflow_y": null,
            "overflow_x": null,
            "grid_auto_flow": null,
            "grid_area": null,
            "grid_template_columns": null,
            "flex": null,
            "_model_name": "LayoutModel",
            "justify_items": null,
            "grid_row": null,
            "max_height": null,
            "align_content": null,
            "visibility": null,
            "align_self": null,
            "height": null,
            "min_height": null,
            "padding": null,
            "grid_auto_rows": null,
            "grid_gap": null,
            "max_width": null,
            "order": null,
            "_view_module_version": "1.2.0",
            "grid_template_areas": null,
            "object_position": null,
            "object_fit": null,
            "grid_auto_columns": null,
            "margin": null,
            "display": null,
            "left": null
          }
        },
        "e63b5843f75c4a53a41d6d3591a41f3b": {
          "model_module": "@jupyter-widgets/controls",
          "model_name": "ProgressStyleModel",
          "model_module_version": "1.5.0",
          "state": {
            "_view_name": "StyleView",
            "_model_name": "ProgressStyleModel",
            "description_width": "",
            "_view_module": "@jupyter-widgets/base",
            "_model_module_version": "1.5.0",
            "_view_count": null,
            "_view_module_version": "1.2.0",
            "bar_color": null,
            "_model_module": "@jupyter-widgets/controls"
          }
        },
        "b50a79f43663480b917fd181ed70de03": {
          "model_module": "@jupyter-widgets/base",
          "model_name": "LayoutModel",
          "model_module_version": "1.2.0",
          "state": {
            "_view_name": "LayoutView",
            "grid_template_rows": null,
            "right": null,
            "justify_content": null,
            "_view_module": "@jupyter-widgets/base",
            "overflow": null,
            "_model_module_version": "1.2.0",
            "_view_count": null,
            "flex_flow": null,
            "width": null,
            "min_width": null,
            "border": null,
            "align_items": null,
            "bottom": null,
            "_model_module": "@jupyter-widgets/base",
            "top": null,
            "grid_column": null,
            "overflow_y": null,
            "overflow_x": null,
            "grid_auto_flow": null,
            "grid_area": null,
            "grid_template_columns": null,
            "flex": null,
            "_model_name": "LayoutModel",
            "justify_items": null,
            "grid_row": null,
            "max_height": null,
            "align_content": null,
            "visibility": null,
            "align_self": null,
            "height": null,
            "min_height": null,
            "padding": null,
            "grid_auto_rows": null,
            "grid_gap": null,
            "max_width": null,
            "order": null,
            "_view_module_version": "1.2.0",
            "grid_template_areas": null,
            "object_position": null,
            "object_fit": null,
            "grid_auto_columns": null,
            "margin": null,
            "display": null,
            "left": null
          }
        },
        "a1e2e2df1d2c457c95563a8cfcbc02c9": {
          "model_module": "@jupyter-widgets/controls",
          "model_name": "DescriptionStyleModel",
          "model_module_version": "1.5.0",
          "state": {
            "_view_name": "StyleView",
            "_model_name": "DescriptionStyleModel",
            "description_width": "",
            "_view_module": "@jupyter-widgets/base",
            "_model_module_version": "1.5.0",
            "_view_count": null,
            "_view_module_version": "1.2.0",
            "_model_module": "@jupyter-widgets/controls"
          }
        },
        "9980486ff32e4e1d905b025888a23a03": {
          "model_module": "@jupyter-widgets/base",
          "model_name": "LayoutModel",
          "model_module_version": "1.2.0",
          "state": {
            "_view_name": "LayoutView",
            "grid_template_rows": null,
            "right": null,
            "justify_content": null,
            "_view_module": "@jupyter-widgets/base",
            "overflow": null,
            "_model_module_version": "1.2.0",
            "_view_count": null,
            "flex_flow": null,
            "width": null,
            "min_width": null,
            "border": null,
            "align_items": null,
            "bottom": null,
            "_model_module": "@jupyter-widgets/base",
            "top": null,
            "grid_column": null,
            "overflow_y": null,
            "overflow_x": null,
            "grid_auto_flow": null,
            "grid_area": null,
            "grid_template_columns": null,
            "flex": null,
            "_model_name": "LayoutModel",
            "justify_items": null,
            "grid_row": null,
            "max_height": null,
            "align_content": null,
            "visibility": null,
            "align_self": null,
            "height": null,
            "min_height": null,
            "padding": null,
            "grid_auto_rows": null,
            "grid_gap": null,
            "max_width": null,
            "order": null,
            "_view_module_version": "1.2.0",
            "grid_template_areas": null,
            "object_position": null,
            "object_fit": null,
            "grid_auto_columns": null,
            "margin": null,
            "display": null,
            "left": null
          }
        }
      }
    }
  },
  "cells": [
    {
      "cell_type": "markdown",
      "source": [
        "#Initial Setup"
      ],
      "metadata": {
        "id": "HX6qXXRux12J"
      }
    },
    {
      "cell_type": "code",
      "source": [
        "import torch\n",
        "import pandas as pd\n",
        "\n",
        "\n",
        "import os\n",
        "import io\n",
        "import codecs\n",
        "import joblib\n",
        "import numpy as np\n",
        "from numpy import percentile\n",
        "import matplotlib.pyplot as plt\n",
        "import seaborn as sns\n",
        "import matplotlib\n",
        "import re # for regular expressions\n",
        "import pandas as pd \n",
        "pd.set_option(\"display.max_colwidth\", 200) \n",
        "import string\n",
        "import tensorflow as tf\n",
        "\n",
        "from datetime import datetime\n",
        "from tqdm import notebook\n",
        "from sklearn.model_selection import train_test_split\n",
        "from sklearn.metrics import accuracy_score\n",
        "\n",
        "from nltk.tokenize import RegexpTokenizer\n",
        "from tensorflow.keras.preprocessing.text import Tokenizer\n",
        "from tensorflow.keras.preprocessing.sequence import pad_sequences\n",
        "\n",
        "from tensorflow.keras.models import Model\n",
        "from tensorflow.keras.layers import Input, Embedding, Dense, Dropout, concatenate\n",
        "from tensorflow.keras.layers import Conv1D, GlobalMaxPooling1D\n",
        "\n",
        "\n",
        "import warnings \n",
        "warnings.filterwarnings(\"ignore\")\n",
        "\n",
        "%matplotlib inline"
      ],
      "metadata": {
        "id": "rQC8ruxRsjfs"
      },
      "execution_count": 1,
      "outputs": []
    },
    {
      "cell_type": "code",
      "source": [
        "#load data\n",
        "df = pd.read_csv('/content/drive/MyDrive/Sample_COVID19_sentiments_interview.csv')"
      ],
      "metadata": {
        "id": "6HGp8lDHqyd0"
      },
      "execution_count": 2,
      "outputs": []
    },
    {
      "cell_type": "code",
      "source": [
        "#preview\n",
        "df.head()"
      ],
      "metadata": {
        "colab": {
          "base_uri": "https://localhost:8080/",
          "height": 337
        },
        "id": "FiF7f-pFq1uV",
        "outputId": "a879bd7f-b481-4e45-e5a0-f506bd7fb433"
      },
      "execution_count": 3,
      "outputs": [
        {
          "output_type": "execute_result",
          "data": {
            "text/html": [
              "\n",
              "  <div id=\"df-8d814d01-f653-4d7b-a560-c09845d4ad86\">\n",
              "    <div class=\"colab-df-container\">\n",
              "      <div>\n",
              "<style scoped>\n",
              "    .dataframe tbody tr th:only-of-type {\n",
              "        vertical-align: middle;\n",
              "    }\n",
              "\n",
              "    .dataframe tbody tr th {\n",
              "        vertical-align: top;\n",
              "    }\n",
              "\n",
              "    .dataframe thead th {\n",
              "        text-align: right;\n",
              "    }\n",
              "</style>\n",
              "<table border=\"1\" class=\"dataframe\">\n",
              "  <thead>\n",
              "    <tr style=\"text-align: right;\">\n",
              "      <th></th>\n",
              "      <th>tweet_id</th>\n",
              "      <th>created_at</th>\n",
              "      <th>full_text</th>\n",
              "      <th>sentiment</th>\n",
              "    </tr>\n",
              "  </thead>\n",
              "  <tbody>\n",
              "    <tr>\n",
              "      <th>0</th>\n",
              "      <td>0</td>\n",
              "      <td>2020-01-24 09:59:17+00:00</td>\n",
              "      <td>RT @PravitR: There’s​ a derogatory saying that Chinese eats everything with four legs except table. After the Wuhan virus spread, South Chi…</td>\n",
              "      <td>Fear</td>\n",
              "    </tr>\n",
              "    <tr>\n",
              "      <th>1</th>\n",
              "      <td>1</td>\n",
              "      <td>2020-01-24 09:59:17+00:00</td>\n",
              "      <td>RT @ConflictsW: Reports that the Chinese Army (PLA) has been deployed in Wuhan to assist with the lockdown of the city\\n#China #Wuhan #Coron…</td>\n",
              "      <td>Neutral</td>\n",
              "    </tr>\n",
              "    <tr>\n",
              "      <th>2</th>\n",
              "      <td>2</td>\n",
              "      <td>2020-01-24 09:59:17+00:00</td>\n",
              "      <td>RT @lokinhei: that is how authorities protect its own citizens. Not like Hong Kong.\\n\\nhttps://t.co/sWiS8fyubd</td>\n",
              "      <td>Anger</td>\n",
              "    </tr>\n",
              "    <tr>\n",
              "      <th>3</th>\n",
              "      <td>3</td>\n",
              "      <td>2020-01-24 09:59:18+00:00</td>\n",
              "      <td>Are u sharing ur expertise of what a failure leader is at the Forum?  Or r u just spreeding the Wuhan coronavirus to the world?  WTF u r doing when u should be dealing with Chinese coronavirus in ...</td>\n",
              "      <td>Fear</td>\n",
              "    </tr>\n",
              "    <tr>\n",
              "      <th>4</th>\n",
              "      <td>4</td>\n",
              "      <td>2020-01-24 09:59:19+00:00</td>\n",
              "      <td>RT @Woppa1Woppa: Philippines is sending the Chinese back to Wuhan to prevent #coronavirus from spreading.  Hey Carrie Lam, why don't you tr…</td>\n",
              "      <td>Fear</td>\n",
              "    </tr>\n",
              "  </tbody>\n",
              "</table>\n",
              "</div>\n",
              "      <button class=\"colab-df-convert\" onclick=\"convertToInteractive('df-8d814d01-f653-4d7b-a560-c09845d4ad86')\"\n",
              "              title=\"Convert this dataframe to an interactive table.\"\n",
              "              style=\"display:none;\">\n",
              "        \n",
              "  <svg xmlns=\"http://www.w3.org/2000/svg\" height=\"24px\"viewBox=\"0 0 24 24\"\n",
              "       width=\"24px\">\n",
              "    <path d=\"M0 0h24v24H0V0z\" fill=\"none\"/>\n",
              "    <path d=\"M18.56 5.44l.94 2.06.94-2.06 2.06-.94-2.06-.94-.94-2.06-.94 2.06-2.06.94zm-11 1L8.5 8.5l.94-2.06 2.06-.94-2.06-.94L8.5 2.5l-.94 2.06-2.06.94zm10 10l.94 2.06.94-2.06 2.06-.94-2.06-.94-.94-2.06-.94 2.06-2.06.94z\"/><path d=\"M17.41 7.96l-1.37-1.37c-.4-.4-.92-.59-1.43-.59-.52 0-1.04.2-1.43.59L10.3 9.45l-7.72 7.72c-.78.78-.78 2.05 0 2.83L4 21.41c.39.39.9.59 1.41.59.51 0 1.02-.2 1.41-.59l7.78-7.78 2.81-2.81c.8-.78.8-2.07 0-2.86zM5.41 20L4 18.59l7.72-7.72 1.47 1.35L5.41 20z\"/>\n",
              "  </svg>\n",
              "      </button>\n",
              "      \n",
              "  <style>\n",
              "    .colab-df-container {\n",
              "      display:flex;\n",
              "      flex-wrap:wrap;\n",
              "      gap: 12px;\n",
              "    }\n",
              "\n",
              "    .colab-df-convert {\n",
              "      background-color: #E8F0FE;\n",
              "      border: none;\n",
              "      border-radius: 50%;\n",
              "      cursor: pointer;\n",
              "      display: none;\n",
              "      fill: #1967D2;\n",
              "      height: 32px;\n",
              "      padding: 0 0 0 0;\n",
              "      width: 32px;\n",
              "    }\n",
              "\n",
              "    .colab-df-convert:hover {\n",
              "      background-color: #E2EBFA;\n",
              "      box-shadow: 0px 1px 2px rgba(60, 64, 67, 0.3), 0px 1px 3px 1px rgba(60, 64, 67, 0.15);\n",
              "      fill: #174EA6;\n",
              "    }\n",
              "\n",
              "    [theme=dark] .colab-df-convert {\n",
              "      background-color: #3B4455;\n",
              "      fill: #D2E3FC;\n",
              "    }\n",
              "\n",
              "    [theme=dark] .colab-df-convert:hover {\n",
              "      background-color: #434B5C;\n",
              "      box-shadow: 0px 1px 3px 1px rgba(0, 0, 0, 0.15);\n",
              "      filter: drop-shadow(0px 1px 2px rgba(0, 0, 0, 0.3));\n",
              "      fill: #FFFFFF;\n",
              "    }\n",
              "  </style>\n",
              "\n",
              "      <script>\n",
              "        const buttonEl =\n",
              "          document.querySelector('#df-8d814d01-f653-4d7b-a560-c09845d4ad86 button.colab-df-convert');\n",
              "        buttonEl.style.display =\n",
              "          google.colab.kernel.accessAllowed ? 'block' : 'none';\n",
              "\n",
              "        async function convertToInteractive(key) {\n",
              "          const element = document.querySelector('#df-8d814d01-f653-4d7b-a560-c09845d4ad86');\n",
              "          const dataTable =\n",
              "            await google.colab.kernel.invokeFunction('convertToInteractive',\n",
              "                                                     [key], {});\n",
              "          if (!dataTable) return;\n",
              "\n",
              "          const docLinkHtml = 'Like what you see? Visit the ' +\n",
              "            '<a target=\"_blank\" href=https://colab.research.google.com/notebooks/data_table.ipynb>data table notebook</a>'\n",
              "            + ' to learn more about interactive tables.';\n",
              "          element.innerHTML = '';\n",
              "          dataTable['output_type'] = 'display_data';\n",
              "          await google.colab.output.renderOutput(dataTable, element);\n",
              "          const docLink = document.createElement('div');\n",
              "          docLink.innerHTML = docLinkHtml;\n",
              "          element.appendChild(docLink);\n",
              "        }\n",
              "      </script>\n",
              "    </div>\n",
              "  </div>\n",
              "  "
            ],
            "text/plain": [
              "   tweet_id  ... sentiment\n",
              "0         0  ...      Fear\n",
              "1         1  ...   Neutral\n",
              "2         2  ...     Anger\n",
              "3         3  ...      Fear\n",
              "4         4  ...      Fear\n",
              "\n",
              "[5 rows x 4 columns]"
            ]
          },
          "metadata": {},
          "execution_count": 3
        }
      ]
    },
    {
      "cell_type": "code",
      "source": [
        "#Unique Values In Each Feature Coulmn\n",
        "\n",
        "unique_df = pd.DataFrame()\n",
        "unique_df['Features'] = df.columns\n",
        "unique=[]\n",
        "for i in df.columns:\n",
        "    unique.append(df[i].nunique())\n",
        "unique_df['Uniques'] = unique\n",
        "\n",
        "f, ax = plt.subplots(1,1, figsize=(15,7))\n",
        "\n",
        "splot = sns.barplot(x=unique_df['Features'], y=unique_df['Uniques'], alpha=0.8)\n",
        "for p in splot.patches:\n",
        "    splot.annotate(format(p.get_height(), '.0f'), (p.get_x() + p.get_width() / 2., p.get_height()), ha = 'center',\n",
        "                   va = 'center', xytext = (0, 9), textcoords = 'offset points')\n",
        "plt.title('Bar plot for number of unique values in each column',weight='bold', size=15)\n",
        "plt.ylabel('#Unique values', size=12, weight='bold')\n",
        "plt.xlabel('Features', size=12, weight='bold')\n",
        "plt.xticks(rotation=90)\n",
        "plt.show()"
      ],
      "metadata": {
        "colab": {
          "base_uri": "https://localhost:8080/",
          "height": 506
        },
        "id": "iJ4zIVsGrHQB",
        "outputId": "5fb70a98-6375-4ca0-f58d-a76ea98e40f8"
      },
      "execution_count": 4,
      "outputs": [
        {
          "output_type": "display_data",
          "data": {
            "image/png": "[encoded data removed]",
            "text/plain": [
              "<Figure size 1080x504 with 1 Axes>"
            ]
          },
          "metadata": {
            "needs_background": "light"
          }
        }
      ]
    },
    {
      "cell_type": "markdown",
      "source": [
        "# Feature Set Generation"
      ],
      "metadata": {
        "id": "X9nURz6os1om"
      }
    },
    {
      "cell_type": "code",
      "source": [
        "#Number of characters \n",
        "def count_chars(text):\n",
        "    return len(text)\n",
        "    print(text)\n",
        "\n",
        "df['char_count'] = df[\"full_text\"].apply(lambda x:count_chars(x))\n"
      ],
      "metadata": {
        "id": "aBY3aKH9Rmzb"
      },
      "execution_count": 5,
      "outputs": []
    },
    {
      "cell_type": "code",
      "source": [
        "  df['char_count']"
      ],
      "metadata": {
        "colab": {
          "base_uri": "https://localhost:8080/"
        },
        "id": "JBy0s3f0S_YJ",
        "outputId": "51fc47da-06fb-4821-a106-a96cf80caf79"
      },
      "execution_count": 6,
      "outputs": [
        {
          "output_type": "execute_result",
          "data": {
            "text/plain": [
              "0     140\n",
              "1     140\n",
              "2     108\n",
              "3     290\n",
              "4     140\n",
              "     ... \n",
              "95    143\n",
              "96    235\n",
              "97    274\n",
              "98    140\n",
              "99    140\n",
              "Name: char_count, Length: 100, dtype: int64"
            ]
          },
          "metadata": {},
          "execution_count": 6
        }
      ]
    },
    {
      "cell_type": "code",
      "source": [
        "#Number of words\n",
        "def count_words(text):\n",
        "    return len(text.split())\n",
        "\n",
        "df['word_count'] = df[\"full_text\"].apply(lambda x:count_words(x))"
      ],
      "metadata": {
        "id": "xpLmZYMjTy1b"
      },
      "execution_count": 7,
      "outputs": []
    },
    {
      "cell_type": "code",
      "source": [
        "df['word_count']"
      ],
      "metadata": {
        "colab": {
          "base_uri": "https://localhost:8080/"
        },
        "id": "29EM0obhU-U_",
        "outputId": "da23ae13-dcee-4bfe-d4f9-4c0e25a77db6"
      },
      "execution_count": 8,
      "outputs": [
        {
          "output_type": "execute_result",
          "data": {
            "text/plain": [
              "0     22\n",
              "1     24\n",
              "2     15\n",
              "3     44\n",
              "4     22\n",
              "      ..\n",
              "95    22\n",
              "96    37\n",
              "97    46\n",
              "98    23\n",
              "99    26\n",
              "Name: word_count, Length: 100, dtype: int64"
            ]
          },
          "metadata": {},
          "execution_count": 8
        }
      ]
    },
    {
      "cell_type": "code",
      "source": [
        "#Number of capital characters\n",
        "def count_capital_chars(text):\n",
        "    count=0\n",
        "    for i in text:\n",
        "        if i.isupper():\n",
        "            count+=1\n",
        "    return count\n",
        "\n",
        "df['capital_char_count'] = df[\"full_text\"].apply(lambda x:count_capital_chars(x))"
      ],
      "metadata": {
        "id": "GxW9SBXaiav0"
      },
      "execution_count": 9,
      "outputs": []
    },
    {
      "cell_type": "code",
      "source": [
        "#Number of capital words\n",
        "def count_capital_words(text):\n",
        "    return sum(map(str.isupper,text.split()))\n",
        "\n",
        "df['capital_word_count'] = df[\"full_text\"].apply(lambda x:count_capital_words(x))"
      ],
      "metadata": {
        "id": "XHwmHJ2winOW"
      },
      "execution_count": 10,
      "outputs": []
    },
    {
      "cell_type": "code",
      "source": [
        "#Count the number of punctuations\n",
        "def count_punctuations(text):\n",
        "    punctuations='!\"#$%&\\'()*+,-./:;<=>?@[\\]^_`{|}~'\n",
        "    d=dict()\n",
        "    for i in punctuations:\n",
        "        d[str(i)+' count']=text.count(i)\n",
        "    return d \n",
        "\n",
        "df['punct_count'] = df[\"full_text\"].apply(lambda x:count_punctuations(x))"
      ],
      "metadata": {
        "id": "wC8EPwIPi4Fx"
      },
      "execution_count": 11,
      "outputs": []
    },
    {
      "cell_type": "code",
      "source": [
        "#Number of words in quotes\n",
        "def count_words_in_quotes(text):\n",
        "    x = re.findall(\"'.'|\\\".\\\"\", text)\n",
        "    count=0\n",
        "    if x is None:\n",
        "        return 0\n",
        "    else:\n",
        "        for i in x:\n",
        "            t=i[1:-1]\n",
        "            count+=count_words(t)\n",
        "        return count\n",
        "\n",
        "df['quoted_word_count'] = df[\"full_text\"].apply(lambda x:count_words_in_quotes(x))"
      ],
      "metadata": {
        "id": "p_vn_-jtjNuH"
      },
      "execution_count": 12,
      "outputs": []
    },
    {
      "cell_type": "code",
      "source": [
        "import nltk\n",
        "nltk.download('punkt')\n",
        "\n",
        "from nltk.tokenize import word_tokenize\n"
      ],
      "metadata": {
        "colab": {
          "base_uri": "https://localhost:8080/"
        },
        "id": "-hl7xBroKqUn",
        "outputId": "39708af4-75f5-498c-990c-10651c2a832c"
      },
      "execution_count": 13,
      "outputs": [
        {
          "output_type": "stream",
          "name": "stdout",
          "text": [
            "[nltk_data] Downloading package punkt to /root/nltk_data...\n",
            "[nltk_data]   Package punkt is already up-to-date!\n"
          ]
        }
      ]
    },
    {
      "cell_type": "code",
      "source": [
        "#Number of sentences\n",
        "def count_sent(text):\n",
        "    return len(nltk.sent_tokenize(text))\n",
        "\n",
        "df['sent_count'] = df[\"full_text\"].apply(lambda x:count_sent(x))"
      ],
      "metadata": {
        "id": "U-uY8zSZkIiS"
      },
      "execution_count": 14,
      "outputs": []
    },
    {
      "cell_type": "code",
      "source": [
        "#Count the number of unique words\n",
        "def count_unique_words(text):\n",
        "    return len(set(text.split()))\n",
        "\n",
        "df['unique_word_count'] = df[\"full_text\"].apply(lambda x:count_unique_words(x))"
      ],
      "metadata": {
        "id": "dGgLMgj3kktJ"
      },
      "execution_count": 15,
      "outputs": []
    },
    {
      "cell_type": "code",
      "source": [
        "#Count of hashtags\n",
        "def count_htags(text):\n",
        "    x = re.findall(r'(#w[A-Za-z0-9]*)', text)\n",
        "    return len(x) \n",
        "\n",
        "df['htag_count'] = df[\"full_text\"].apply(lambda x:count_htags(x))"
      ],
      "metadata": {
        "id": "xHBHPzALk87t"
      },
      "execution_count": 16,
      "outputs": []
    },
    {
      "cell_type": "code",
      "source": [
        "#Count of mentions\n",
        "def count_mentions(text):\n",
        "    x = re.findall(r'(@w[A-Za-z0-9]*)', text)\n",
        "    return len(x)\n",
        "\n",
        "df['mention_count'] = df[\"full_text\"].apply(lambda x:count_mentions(x))"
      ],
      "metadata": {
        "id": "L8s7Q3QElOT5"
      },
      "execution_count": 17,
      "outputs": []
    },
    {
      "cell_type": "code",
      "source": [
        "#Count of stopwords\n",
        "from nltk.corpus import stopwords\n",
        "nltk.download('stopwords')\n",
        "\n",
        "def count_stopwords(text):\n",
        "    stop_words = set(stopwords.words('english'))  \n",
        "    word_tokens = word_tokenize(text)\n",
        "    stopwords_x = [w for w in word_tokens if w in stop_words]\n",
        "    return len(stopwords_x)\n",
        "\n",
        "df['stopword_count'] = df[\"full_text\"].apply(lambda x:count_stopwords(x))"
      ],
      "metadata": {
        "id": "l3kN4-UplXmV",
        "colab": {
          "base_uri": "https://localhost:8080/"
        },
        "outputId": "5ec3828c-cdbf-43f7-8423-ae33c3f25cf1"
      },
      "execution_count": 18,
      "outputs": [
        {
          "output_type": "stream",
          "name": "stdout",
          "text": [
            "[nltk_data] Downloading package stopwords to /root/nltk_data...\n",
            "[nltk_data]   Package stopwords is already up-to-date!\n"
          ]
        }
      ]
    },
    {
      "cell_type": "code",
      "source": [
        "#Calculating average word length\n",
        "\n",
        "df['avg_wordlength'] = df['char_count']/df['word_count']"
      ],
      "metadata": {
        "id": "edQz1lsPlh7G"
      },
      "execution_count": 19,
      "outputs": []
    },
    {
      "cell_type": "code",
      "source": [
        "#Calculating average sentence length\n",
        "\n",
        "df['avg_sentlength'] = df['word_count']/df['sent_count']"
      ],
      "metadata": {
        "id": "BbaHLmw9nzuC"
      },
      "execution_count": 20,
      "outputs": []
    },
    {
      "cell_type": "code",
      "source": [
        "#Unique words vs word count feature\n",
        "\n",
        "df['unique_vs_words'] = df['unique_word_count']/df['word_count']"
      ],
      "metadata": {
        "id": "Slb-bxyXn5Rm"
      },
      "execution_count": 21,
      "outputs": []
    },
    {
      "cell_type": "code",
      "source": [
        "#Stopwords count vs words counts feature\n",
        "\n",
        "df['stopwords_vs_words'] = df['stopword_count']/df['word_count']"
      ],
      "metadata": {
        "id": "u-H34l4hoCCi"
      },
      "execution_count": 22,
      "outputs": []
    },
    {
      "cell_type": "code",
      "source": [
        "df.columns"
      ],
      "metadata": {
        "colab": {
          "base_uri": "https://localhost:8080/"
        },
        "id": "TXJjRh5goHgf",
        "outputId": "4e1c1c76-5a4d-4b33-c043-d2f2eaea04bb"
      },
      "execution_count": 23,
      "outputs": [
        {
          "output_type": "execute_result",
          "data": {
            "text/plain": [
              "Index(['tweet_id', 'created_at', 'full_text', 'sentiment', 'char_count',\n",
              "       'word_count', 'capital_char_count', 'capital_word_count', 'punct_count',\n",
              "       'quoted_word_count', 'sent_count', 'unique_word_count', 'htag_count',\n",
              "       'mention_count', 'stopword_count', 'avg_wordlength', 'avg_sentlength',\n",
              "       'unique_vs_words', 'stopwords_vs_words'],\n",
              "      dtype='object')"
            ]
          },
          "metadata": {},
          "execution_count": 23
        }
      ]
    },
    {
      "cell_type": "code",
      "source": [
        "df['sentiment'].value_counts()"
      ],
      "metadata": {
        "colab": {
          "base_uri": "https://localhost:8080/"
        },
        "id": "gFw2ZsdNuRET",
        "outputId": "e61aec46-03e2-405a-d847-221ac79963b6"
      },
      "execution_count": 24,
      "outputs": [
        {
          "output_type": "execute_result",
          "data": {
            "text/plain": [
              "Neutral      48\n",
              "Fear         33\n",
              "Surprise      7\n",
              "Sadness       4\n",
              "Joy           3\n",
              "Unrelated     3\n",
              "Anger         2\n",
              "Name: sentiment, dtype: int64"
            ]
          },
          "metadata": {},
          "execution_count": 24
        }
      ]
    },
    {
      "cell_type": "code",
      "source": [
        "#top sentiments \n",
        "\n",
        "sns.set(font_scale=1.1)\n",
        "sns.catplot(\"sentiment\", data=df, kind=\"count\", height=8)"
      ],
      "metadata": {
        "colab": {
          "base_uri": "https://localhost:8080/",
          "height": 595
        },
        "id": "7DcsCpDZqMLF",
        "outputId": "ec98e898-f32c-4bb6-d9a1-a2b2060e886b"
      },
      "execution_count": 25,
      "outputs": [
        {
          "output_type": "execute_result",
          "data": {
            "text/plain": [
              "<seaborn.axisgrid.FacetGrid at 0x7f290f7b0210>"
            ]
          },
          "metadata": {},
          "execution_count": 25
        },
        {
          "output_type": "display_data",
          "data": {
            "image/png": "[encoded data removed]",
            "text/plain": [
              "<Figure size 576x576 with 1 Axes>"
            ]
          },
          "metadata": {}
        }
      ]
    },
    {
      "cell_type": "markdown",
      "source": [
        "# Data Preprocessing\n"
      ],
      "metadata": {
        "id": "rHnneK_2sqxb"
      }
    },
    {
      "cell_type": "code",
      "source": [
        "#Removing @user\n",
        "def remove_pattern(input_txt, pattern):\n",
        "    r = re.findall(pattern, input_txt)\n",
        "    for i in r:\n",
        "        input_txt = re.sub(i,'',input_txt)\n",
        "    return input_txt"
      ],
      "metadata": {
        "id": "z_yaxQyEsx3F"
      },
      "execution_count": 26,
      "outputs": []
    },
    {
      "cell_type": "code",
      "source": [
        "# create new column with removed @user\n",
        "df['Tweet'] = np.vectorize(remove_pattern)(df['full_text'], '@[\\w]*')"
      ],
      "metadata": {
        "id": "yi0N0vHStC59"
      },
      "execution_count": 27,
      "outputs": []
    },
    {
      "cell_type": "code",
      "source": [
        "df.head(2)"
      ],
      "metadata": {
        "colab": {
          "base_uri": "https://localhost:8080/",
          "height": 627
        },
        "id": "9lxC7rT8tG2o",
        "outputId": "83d3c050-c645-451c-b815-a9871749641b"
      },
      "execution_count": 28,
      "outputs": [
        {
          "output_type": "execute_result",
          "data": {
            "text/html": [
              "\n",
              "  <div id=\"df-25470aef-0b88-473a-bf39-ced68431cda0\">\n",
              "    <div class=\"colab-df-container\">\n",
              "      <div>\n",
              "<style scoped>\n",
              "    .dataframe tbody tr th:only-of-type {\n",
              "        vertical-align: middle;\n",
              "    }\n",
              "\n",
              "    .dataframe tbody tr th {\n",
              "        vertical-align: top;\n",
              "    }\n",
              "\n",
              "    .dataframe thead th {\n",
              "        text-align: right;\n",
              "    }\n",
              "</style>\n",
              "<table border=\"1\" class=\"dataframe\">\n",
              "  <thead>\n",
              "    <tr style=\"text-align: right;\">\n",
              "      <th></th>\n",
              "      <th>tweet_id</th>\n",
              "      <th>created_at</th>\n",
              "      <th>full_text</th>\n",
              "      <th>sentiment</th>\n",
              "      <th>char_count</th>\n",
              "      <th>word_count</th>\n",
              "      <th>capital_char_count</th>\n",
              "      <th>capital_word_count</th>\n",
              "      <th>punct_count</th>\n",
              "      <th>quoted_word_count</th>\n",
              "      <th>sent_count</th>\n",
              "      <th>unique_word_count</th>\n",
              "      <th>htag_count</th>\n",
              "      <th>mention_count</th>\n",
              "      <th>stopword_count</th>\n",
              "      <th>avg_wordlength</th>\n",
              "      <th>avg_sentlength</th>\n",
              "      <th>unique_vs_words</th>\n",
              "      <th>stopwords_vs_words</th>\n",
              "      <th>Tweet</th>\n",
              "    </tr>\n",
              "  </thead>\n",
              "  <tbody>\n",
              "    <tr>\n",
              "      <th>0</th>\n",
              "      <td>0</td>\n",
              "      <td>2020-01-24 09:59:17+00:00</td>\n",
              "      <td>RT @PravitR: There’s​ a derogatory saying that Chinese eats everything with four legs except table. After the Wuhan virus spread, South Chi…</td>\n",
              "      <td>Fear</td>\n",
              "      <td>140</td>\n",
              "      <td>22</td>\n",
              "      <td>10</td>\n",
              "      <td>1</td>\n",
              "      <td>{'! count': 0, '\" count': 0, '# count': 0, '$ count': 0, '% count': 0, '&amp; count': 0, '' count': 0, '( count': 0, ') count': 0, '* count': 0, '+ count': 0, ', count': 1, '- count': 0, '. count': 1,...</td>\n",
              "      <td>0</td>\n",
              "      <td>2</td>\n",
              "      <td>22</td>\n",
              "      <td>0</td>\n",
              "      <td>0</td>\n",
              "      <td>4</td>\n",
              "      <td>6.363636</td>\n",
              "      <td>11.0</td>\n",
              "      <td>1.000000</td>\n",
              "      <td>0.181818</td>\n",
              "      <td>RT : There’s​ a derogatory saying that Chinese eats everything with four legs except table. After the Wuhan virus spread, South Chi…</td>\n",
              "    </tr>\n",
              "    <tr>\n",
              "      <th>1</th>\n",
              "      <td>1</td>\n",
              "      <td>2020-01-24 09:59:17+00:00</td>\n",
              "      <td>RT @ConflictsW: Reports that the Chinese Army (PLA) has been deployed in Wuhan to assist with the lockdown of the city\\n#China #Wuhan #Coron…</td>\n",
              "      <td>Neutral</td>\n",
              "      <td>140</td>\n",
              "      <td>24</td>\n",
              "      <td>14</td>\n",
              "      <td>2</td>\n",
              "      <td>{'! count': 0, '\" count': 0, '# count': 3, '$ count': 0, '% count': 0, '&amp; count': 0, '' count': 0, '( count': 1, ') count': 1, '* count': 0, '+ count': 0, ', count': 0, '- count': 0, '. count': 0,...</td>\n",
              "      <td>0</td>\n",
              "      <td>1</td>\n",
              "      <td>22</td>\n",
              "      <td>0</td>\n",
              "      <td>0</td>\n",
              "      <td>10</td>\n",
              "      <td>5.833333</td>\n",
              "      <td>24.0</td>\n",
              "      <td>0.916667</td>\n",
              "      <td>0.416667</td>\n",
              "      <td>RT : Reports that the Chinese Army (PLA) has been deployed in Wuhan to assist with the lockdown of the city\\n#China #Wuhan #Coron…</td>\n",
              "    </tr>\n",
              "  </tbody>\n",
              "</table>\n",
              "</div>\n",
              "      <button class=\"colab-df-convert\" onclick=\"convertToInteractive('df-25470aef-0b88-473a-bf39-ced68431cda0')\"\n",
              "              title=\"Convert this dataframe to an interactive table.\"\n",
              "              style=\"display:none;\">\n",
              "        \n",
              "  <svg xmlns=\"http://www.w3.org/2000/svg\" height=\"24px\"viewBox=\"0 0 24 24\"\n",
              "       width=\"24px\">\n",
              "    <path d=\"M0 0h24v24H0V0z\" fill=\"none\"/>\n",
              "    <path d=\"M18.56 5.44l.94 2.06.94-2.06 2.06-.94-2.06-.94-.94-2.06-.94 2.06-2.06.94zm-11 1L8.5 8.5l.94-2.06 2.06-.94-2.06-.94L8.5 2.5l-.94 2.06-2.06.94zm10 10l.94 2.06.94-2.06 2.06-.94-2.06-.94-.94-2.06-.94 2.06-2.06.94z\"/><path d=\"M17.41 7.96l-1.37-1.37c-.4-.4-.92-.59-1.43-.59-.52 0-1.04.2-1.43.59L10.3 9.45l-7.72 7.72c-.78.78-.78 2.05 0 2.83L4 21.41c.39.39.9.59 1.41.59.51 0 1.02-.2 1.41-.59l7.78-7.78 2.81-2.81c.8-.78.8-2.07 0-2.86zM5.41 20L4 18.59l7.72-7.72 1.47 1.35L5.41 20z\"/>\n",
              "  </svg>\n",
              "      </button>\n",
              "      \n",
              "  <style>\n",
              "    .colab-df-container {\n",
              "      display:flex;\n",
              "      flex-wrap:wrap;\n",
              "      gap: 12px;\n",
              "    }\n",
              "\n",
              "    .colab-df-convert {\n",
              "      background-color: #E8F0FE;\n",
              "      border: none;\n",
              "      border-radius: 50%;\n",
              "      cursor: pointer;\n",
              "      display: none;\n",
              "      fill: #1967D2;\n",
              "      height: 32px;\n",
              "      padding: 0 0 0 0;\n",
              "      width: 32px;\n",
              "    }\n",
              "\n",
              "    .colab-df-convert:hover {\n",
              "      background-color: #E2EBFA;\n",
              "      box-shadow: 0px 1px 2px rgba(60, 64, 67, 0.3), 0px 1px 3px 1px rgba(60, 64, 67, 0.15);\n",
              "      fill: #174EA6;\n",
              "    }\n",
              "\n",
              "    [theme=dark] .colab-df-convert {\n",
              "      background-color: #3B4455;\n",
              "      fill: #D2E3FC;\n",
              "    }\n",
              "\n",
              "    [theme=dark] .colab-df-convert:hover {\n",
              "      background-color: #434B5C;\n",
              "      box-shadow: 0px 1px 3px 1px rgba(0, 0, 0, 0.15);\n",
              "      filter: drop-shadow(0px 1px 2px rgba(0, 0, 0, 0.3));\n",
              "      fill: #FFFFFF;\n",
              "    }\n",
              "  </style>\n",
              "\n",
              "      <script>\n",
              "        const buttonEl =\n",
              "          document.querySelector('#df-25470aef-0b88-473a-bf39-ced68431cda0 button.colab-df-convert');\n",
              "        buttonEl.style.display =\n",
              "          google.colab.kernel.accessAllowed ? 'block' : 'none';\n",
              "\n",
              "        async function convertToInteractive(key) {\n",
              "          const element = document.querySelector('#df-25470aef-0b88-473a-bf39-ced68431cda0');\n",
              "          const dataTable =\n",
              "            await google.colab.kernel.invokeFunction('convertToInteractive',\n",
              "                                                     [key], {});\n",
              "          if (!dataTable) return;\n",
              "\n",
              "          const docLinkHtml = 'Like what you see? Visit the ' +\n",
              "            '<a target=\"_blank\" href=https://colab.research.google.com/notebooks/data_table.ipynb>data table notebook</a>'\n",
              "            + ' to learn more about interactive tables.';\n",
              "          element.innerHTML = '';\n",
              "          dataTable['output_type'] = 'display_data';\n",
              "          await google.colab.output.renderOutput(dataTable, element);\n",
              "          const docLink = document.createElement('div');\n",
              "          docLink.innerHTML = docLinkHtml;\n",
              "          element.appendChild(docLink);\n",
              "        }\n",
              "      </script>\n",
              "    </div>\n",
              "  </div>\n",
              "  "
            ],
            "text/plain": [
              "   tweet_id  ...                                                                                                                                 Tweet\n",
              "0         0  ...  RT : There’s​ a derogatory saying that Chinese eats everything with four legs except table. After the Wuhan virus spread, South Chi…\n",
              "1         1  ...    RT : Reports that the Chinese Army (PLA) has been deployed in Wuhan to assist with the lockdown of the city\\n#China #Wuhan #Coron…\n",
              "\n",
              "[2 rows x 20 columns]"
            ]
          },
          "metadata": {},
          "execution_count": 28
        }
      ]
    },
    {
      "cell_type": "code",
      "source": [
        "#REMOVED HTTP AND URLS FROM TWEET\n",
        "\n",
        "import re\n",
        "df['Tweet'] = df['Tweet'].apply(lambda x: re.split('https:\\/\\/.*', str(x))[0])"
      ],
      "metadata": {
        "id": "pjK9A27etIWK"
      },
      "execution_count": 29,
      "outputs": []
    },
    {
      "cell_type": "code",
      "source": [
        "# remove special characters, numbers, punctuations\n",
        "df['Tweet'] = df['Tweet'].str.replace('[^a-zA-Z#]+',' ')"
      ],
      "metadata": {
        "id": "UpEKSyn5yXCF"
      },
      "execution_count": 30,
      "outputs": []
    },
    {
      "cell_type": "code",
      "source": [
        "df.info()"
      ],
      "metadata": {
        "colab": {
          "base_uri": "https://localhost:8080/"
        },
        "id": "oKt0tZygriA7",
        "outputId": "2588bdd0-33ed-41c4-86af-a4943f153187"
      },
      "execution_count": 31,
      "outputs": [
        {
          "output_type": "stream",
          "name": "stdout",
          "text": [
            "<class 'pandas.core.frame.DataFrame'>\n",
            "RangeIndex: 100 entries, 0 to 99\n",
            "Data columns (total 20 columns):\n",
            " #   Column              Non-Null Count  Dtype  \n",
            "---  ------              --------------  -----  \n",
            " 0   tweet_id            100 non-null    int64  \n",
            " 1   created_at          100 non-null    object \n",
            " 2   full_text           100 non-null    object \n",
            " 3   sentiment           100 non-null    object \n",
            " 4   char_count          100 non-null    int64  \n",
            " 5   word_count          100 non-null    int64  \n",
            " 6   capital_char_count  100 non-null    int64  \n",
            " 7   capital_word_count  100 non-null    int64  \n",
            " 8   punct_count         100 non-null    object \n",
            " 9   quoted_word_count   100 non-null    int64  \n",
            " 10  sent_count          100 non-null    int64  \n",
            " 11  unique_word_count   100 non-null    int64  \n",
            " 12  htag_count          100 non-null    int64  \n",
            " 13  mention_count       100 non-null    int64  \n",
            " 14  stopword_count      100 non-null    int64  \n",
            " 15  avg_wordlength      100 non-null    float64\n",
            " 16  avg_sentlength      100 non-null    float64\n",
            " 17  unique_vs_words     100 non-null    float64\n",
            " 18  stopwords_vs_words  100 non-null    float64\n",
            " 19  Tweet               100 non-null    object \n",
            "dtypes: float64(4), int64(11), object(5)\n",
            "memory usage: 15.8+ KB\n"
          ]
        }
      ]
    },
    {
      "cell_type": "code",
      "source": [
        "df.head()"
      ],
      "metadata": {
        "colab": {
          "base_uri": "https://localhost:8080/",
          "height": 1000
        },
        "id": "5NEM5xyCJzZI",
        "outputId": "3136a49e-f77d-4b5b-e61f-b60a45094471"
      },
      "execution_count": 32,
      "outputs": [
        {
          "output_type": "execute_result",
          "data": {
            "text/html": [
              "\n",
              "  <div id=\"df-d9df153d-4871-44c1-817e-5ce3e8439064\">\n",
              "    <div class=\"colab-df-container\">\n",
              "      <div>\n",
              "<style scoped>\n",
              "    .dataframe tbody tr th:only-of-type {\n",
              "        vertical-align: middle;\n",
              "    }\n",
              "\n",
              "    .dataframe tbody tr th {\n",
              "        vertical-align: top;\n",
              "    }\n",
              "\n",
              "    .dataframe thead th {\n",
              "        text-align: right;\n",
              "    }\n",
              "</style>\n",
              "<table border=\"1\" class=\"dataframe\">\n",
              "  <thead>\n",
              "    <tr style=\"text-align: right;\">\n",
              "      <th></th>\n",
              "      <th>tweet_id</th>\n",
              "      <th>created_at</th>\n",
              "      <th>full_text</th>\n",
              "      <th>sentiment</th>\n",
              "      <th>char_count</th>\n",
              "      <th>word_count</th>\n",
              "      <th>capital_char_count</th>\n",
              "      <th>capital_word_count</th>\n",
              "      <th>punct_count</th>\n",
              "      <th>quoted_word_count</th>\n",
              "      <th>sent_count</th>\n",
              "      <th>unique_word_count</th>\n",
              "      <th>htag_count</th>\n",
              "      <th>mention_count</th>\n",
              "      <th>stopword_count</th>\n",
              "      <th>avg_wordlength</th>\n",
              "      <th>avg_sentlength</th>\n",
              "      <th>unique_vs_words</th>\n",
              "      <th>stopwords_vs_words</th>\n",
              "      <th>Tweet</th>\n",
              "    </tr>\n",
              "  </thead>\n",
              "  <tbody>\n",
              "    <tr>\n",
              "      <th>0</th>\n",
              "      <td>0</td>\n",
              "      <td>2020-01-24 09:59:17+00:00</td>\n",
              "      <td>RT @PravitR: There’s​ a derogatory saying that Chinese eats everything with four legs except table. After the Wuhan virus spread, South Chi…</td>\n",
              "      <td>Fear</td>\n",
              "      <td>140</td>\n",
              "      <td>22</td>\n",
              "      <td>10</td>\n",
              "      <td>1</td>\n",
              "      <td>{'! count': 0, '\" count': 0, '# count': 0, '$ count': 0, '% count': 0, '&amp; count': 0, '' count': 0, '( count': 0, ') count': 0, '* count': 0, '+ count': 0, ', count': 1, '- count': 0, '. count': 1,...</td>\n",
              "      <td>0</td>\n",
              "      <td>2</td>\n",
              "      <td>22</td>\n",
              "      <td>0</td>\n",
              "      <td>0</td>\n",
              "      <td>4</td>\n",
              "      <td>6.363636</td>\n",
              "      <td>11.0</td>\n",
              "      <td>1.000000</td>\n",
              "      <td>0.181818</td>\n",
              "      <td>RT There s a derogatory saying that Chinese eats everything with four legs except table After the Wuhan virus spread South Chi</td>\n",
              "    </tr>\n",
              "    <tr>\n",
              "      <th>1</th>\n",
              "      <td>1</td>\n",
              "      <td>2020-01-24 09:59:17+00:00</td>\n",
              "      <td>RT @ConflictsW: Reports that the Chinese Army (PLA) has been deployed in Wuhan to assist with the lockdown of the city\\n#China #Wuhan #Coron…</td>\n",
              "      <td>Neutral</td>\n",
              "      <td>140</td>\n",
              "      <td>24</td>\n",
              "      <td>14</td>\n",
              "      <td>2</td>\n",
              "      <td>{'! count': 0, '\" count': 0, '# count': 3, '$ count': 0, '% count': 0, '&amp; count': 0, '' count': 0, '( count': 1, ') count': 1, '* count': 0, '+ count': 0, ', count': 0, '- count': 0, '. count': 0,...</td>\n",
              "      <td>0</td>\n",
              "      <td>1</td>\n",
              "      <td>22</td>\n",
              "      <td>0</td>\n",
              "      <td>0</td>\n",
              "      <td>10</td>\n",
              "      <td>5.833333</td>\n",
              "      <td>24.0</td>\n",
              "      <td>0.916667</td>\n",
              "      <td>0.416667</td>\n",
              "      <td>RT Reports that the Chinese Army PLA has been deployed in Wuhan to assist with the lockdown of the city #China #Wuhan #Coron</td>\n",
              "    </tr>\n",
              "    <tr>\n",
              "      <th>2</th>\n",
              "      <td>2</td>\n",
              "      <td>2020-01-24 09:59:17+00:00</td>\n",
              "      <td>RT @lokinhei: that is how authorities protect its own citizens. Not like Hong Kong.\\n\\nhttps://t.co/sWiS8fyubd</td>\n",
              "      <td>Anger</td>\n",
              "      <td>108</td>\n",
              "      <td>15</td>\n",
              "      <td>7</td>\n",
              "      <td>1</td>\n",
              "      <td>{'! count': 0, '\" count': 0, '# count': 0, '$ count': 0, '% count': 0, '&amp; count': 0, '' count': 0, '( count': 0, ') count': 0, '* count': 0, '+ count': 0, ', count': 0, '- count': 0, '. count': 3,...</td>\n",
              "      <td>0</td>\n",
              "      <td>3</td>\n",
              "      <td>15</td>\n",
              "      <td>0</td>\n",
              "      <td>0</td>\n",
              "      <td>5</td>\n",
              "      <td>7.200000</td>\n",
              "      <td>5.0</td>\n",
              "      <td>1.000000</td>\n",
              "      <td>0.333333</td>\n",
              "      <td>RT that is how authorities protect its own citizens Not like Hong Kong</td>\n",
              "    </tr>\n",
              "    <tr>\n",
              "      <th>3</th>\n",
              "      <td>3</td>\n",
              "      <td>2020-01-24 09:59:18+00:00</td>\n",
              "      <td>Are u sharing ur expertise of what a failure leader is at the Forum?  Or r u just spreeding the Wuhan coronavirus to the world?  WTF u r doing when u should be dealing with Chinese coronavirus in ...</td>\n",
              "      <td>Fear</td>\n",
              "      <td>290</td>\n",
              "      <td>44</td>\n",
              "      <td>28</td>\n",
              "      <td>1</td>\n",
              "      <td>{'! count': 0, '\" count': 0, '# count': 3, '$ count': 0, '% count': 0, '&amp; count': 0, '' count': 0, '( count': 0, ') count': 0, '* count': 0, '+ count': 0, ', count': 0, '- count': 0, '. count': 2,...</td>\n",
              "      <td>0</td>\n",
              "      <td>4</td>\n",
              "      <td>37</td>\n",
              "      <td>0</td>\n",
              "      <td>0</td>\n",
              "      <td>16</td>\n",
              "      <td>6.590909</td>\n",
              "      <td>11.0</td>\n",
              "      <td>0.840909</td>\n",
              "      <td>0.363636</td>\n",
              "      <td>Are u sharing ur expertise of what a failure leader is at the Forum Or r u just spreeding the Wuhan coronavirus to the world WTF u r doing when u should be dealing with Chinese coronavirus in Hong...</td>\n",
              "    </tr>\n",
              "    <tr>\n",
              "      <th>4</th>\n",
              "      <td>4</td>\n",
              "      <td>2020-01-24 09:59:19+00:00</td>\n",
              "      <td>RT @Woppa1Woppa: Philippines is sending the Chinese back to Wuhan to prevent #coronavirus from spreading.  Hey Carrie Lam, why don't you tr…</td>\n",
              "      <td>Fear</td>\n",
              "      <td>140</td>\n",
              "      <td>22</td>\n",
              "      <td>10</td>\n",
              "      <td>1</td>\n",
              "      <td>{'! count': 0, '\" count': 0, '# count': 1, '$ count': 0, '% count': 0, '&amp; count': 0, '' count': 1, '( count': 0, ') count': 0, '* count': 0, '+ count': 0, ', count': 1, '- count': 0, '. count': 1,...</td>\n",
              "      <td>0</td>\n",
              "      <td>2</td>\n",
              "      <td>21</td>\n",
              "      <td>0</td>\n",
              "      <td>0</td>\n",
              "      <td>8</td>\n",
              "      <td>6.363636</td>\n",
              "      <td>11.0</td>\n",
              "      <td>0.954545</td>\n",
              "      <td>0.363636</td>\n",
              "      <td>RT Philippines is sending the Chinese back to Wuhan to prevent #coronavirus from spreading Hey Carrie Lam why don t you tr</td>\n",
              "    </tr>\n",
              "  </tbody>\n",
              "</table>\n",
              "</div>\n",
              "      <button class=\"colab-df-convert\" onclick=\"convertToInteractive('df-d9df153d-4871-44c1-817e-5ce3e8439064')\"\n",
              "              title=\"Convert this dataframe to an interactive table.\"\n",
              "              style=\"display:none;\">\n",
              "        \n",
              "  <svg xmlns=\"http://www.w3.org/2000/svg\" height=\"24px\"viewBox=\"0 0 24 24\"\n",
              "       width=\"24px\">\n",
              "    <path d=\"M0 0h24v24H0V0z\" fill=\"none\"/>\n",
              "    <path d=\"M18.56 5.44l.94 2.06.94-2.06 2.06-.94-2.06-.94-.94-2.06-.94 2.06-2.06.94zm-11 1L8.5 8.5l.94-2.06 2.06-.94-2.06-.94L8.5 2.5l-.94 2.06-2.06.94zm10 10l.94 2.06.94-2.06 2.06-.94-2.06-.94-.94-2.06-.94 2.06-2.06.94z\"/><path d=\"M17.41 7.96l-1.37-1.37c-.4-.4-.92-.59-1.43-.59-.52 0-1.04.2-1.43.59L10.3 9.45l-7.72 7.72c-.78.78-.78 2.05 0 2.83L4 21.41c.39.39.9.59 1.41.59.51 0 1.02-.2 1.41-.59l7.78-7.78 2.81-2.81c.8-.78.8-2.07 0-2.86zM5.41 20L4 18.59l7.72-7.72 1.47 1.35L5.41 20z\"/>\n",
              "  </svg>\n",
              "      </button>\n",
              "      \n",
              "  <style>\n",
              "    .colab-df-container {\n",
              "      display:flex;\n",
              "      flex-wrap:wrap;\n",
              "      gap: 12px;\n",
              "    }\n",
              "\n",
              "    .colab-df-convert {\n",
              "      background-color: #E8F0FE;\n",
              "      border: none;\n",
              "      border-radius: 50%;\n",
              "      cursor: pointer;\n",
              "      display: none;\n",
              "      fill: #1967D2;\n",
              "      height: 32px;\n",
              "      padding: 0 0 0 0;\n",
              "      width: 32px;\n",
              "    }\n",
              "\n",
              "    .colab-df-convert:hover {\n",
              "      background-color: #E2EBFA;\n",
              "      box-shadow: 0px 1px 2px rgba(60, 64, 67, 0.3), 0px 1px 3px 1px rgba(60, 64, 67, 0.15);\n",
              "      fill: #174EA6;\n",
              "    }\n",
              "\n",
              "    [theme=dark] .colab-df-convert {\n",
              "      background-color: #3B4455;\n",
              "      fill: #D2E3FC;\n",
              "    }\n",
              "\n",
              "    [theme=dark] .colab-df-convert:hover {\n",
              "      background-color: #434B5C;\n",
              "      box-shadow: 0px 1px 3px 1px rgba(0, 0, 0, 0.15);\n",
              "      filter: drop-shadow(0px 1px 2px rgba(0, 0, 0, 0.3));\n",
              "      fill: #FFFFFF;\n",
              "    }\n",
              "  </style>\n",
              "\n",
              "      <script>\n",
              "        const buttonEl =\n",
              "          document.querySelector('#df-d9df153d-4871-44c1-817e-5ce3e8439064 button.colab-df-convert');\n",
              "        buttonEl.style.display =\n",
              "          google.colab.kernel.accessAllowed ? 'block' : 'none';\n",
              "\n",
              "        async function convertToInteractive(key) {\n",
              "          const element = document.querySelector('#df-d9df153d-4871-44c1-817e-5ce3e8439064');\n",
              "          const dataTable =\n",
              "            await google.colab.kernel.invokeFunction('convertToInteractive',\n",
              "                                                     [key], {});\n",
              "          if (!dataTable) return;\n",
              "\n",
              "          const docLinkHtml = 'Like what you see? Visit the ' +\n",
              "            '<a target=\"_blank\" href=https://colab.research.google.com/notebooks/data_table.ipynb>data table notebook</a>'\n",
              "            + ' to learn more about interactive tables.';\n",
              "          element.innerHTML = '';\n",
              "          dataTable['output_type'] = 'display_data';\n",
              "          await google.colab.output.renderOutput(dataTable, element);\n",
              "          const docLink = document.createElement('div');\n",
              "          docLink.innerHTML = docLinkHtml;\n",
              "          element.appendChild(docLink);\n",
              "        }\n",
              "      </script>\n",
              "    </div>\n",
              "  </div>\n",
              "  "
            ],
            "text/plain": [
              "   tweet_id  ...                                                                                                                                                                                                    Tweet\n",
              "0         0  ...                                                                          RT There s a derogatory saying that Chinese eats everything with four legs except table After the Wuhan virus spread South Chi \n",
              "1         1  ...                                                                            RT Reports that the Chinese Army PLA has been deployed in Wuhan to assist with the lockdown of the city #China #Wuhan #Coron \n",
              "2         2  ...                                                                                                                                  RT that is how authorities protect its own citizens Not like Hong Kong \n",
              "3         3  ...  Are u sharing ur expertise of what a failure leader is at the Forum Or r u just spreeding the Wuhan coronavirus to the world WTF u r doing when u should be dealing with Chinese coronavirus in Hong...\n",
              "4         4  ...                                                                              RT Philippines is sending the Chinese back to Wuhan to prevent #coronavirus from spreading Hey Carrie Lam why don t you tr \n",
              "\n",
              "[5 rows x 20 columns]"
            ]
          },
          "metadata": {},
          "execution_count": 32
        }
      ]
    },
    {
      "cell_type": "code",
      "source": [
        "#move to new dataframe\n",
        "df_dataset = df[['Tweet','sentiment']]"
      ],
      "metadata": {
        "id": "WmqkpPbWri8-"
      },
      "execution_count": 33,
      "outputs": []
    },
    {
      "cell_type": "code",
      "source": [
        "df_dataset.info()"
      ],
      "metadata": {
        "colab": {
          "base_uri": "https://localhost:8080/"
        },
        "id": "nMjlQjg_s2UI",
        "outputId": "13e7f605-96b1-402c-9f5e-42e1609cf443"
      },
      "execution_count": 34,
      "outputs": [
        {
          "output_type": "stream",
          "name": "stdout",
          "text": [
            "<class 'pandas.core.frame.DataFrame'>\n",
            "RangeIndex: 100 entries, 0 to 99\n",
            "Data columns (total 2 columns):\n",
            " #   Column     Non-Null Count  Dtype \n",
            "---  ------     --------------  ----- \n",
            " 0   Tweet      100 non-null    object\n",
            " 1   sentiment  100 non-null    object\n",
            "dtypes: object(2)\n",
            "memory usage: 1.7+ KB\n"
          ]
        }
      ]
    },
    {
      "cell_type": "code",
      "source": [
        "#store classes into an array\n",
        "possible_labels = df_dataset.sentiment.unique()\n",
        "possible_labels"
      ],
      "metadata": {
        "colab": {
          "base_uri": "https://localhost:8080/"
        },
        "id": "Sc5MfyO9rpez",
        "outputId": "0d18b308-6eee-4ad5-fec2-6052cbe1d95b"
      },
      "execution_count": 35,
      "outputs": [
        {
          "output_type": "execute_result",
          "data": {
            "text/plain": [
              "array(['Fear', 'Neutral', 'Anger', 'Joy', 'Surprise', 'Sadness',\n",
              "       'Unrelated'], dtype=object)"
            ]
          },
          "metadata": {},
          "execution_count": 35
        }
      ]
    },
    {
      "cell_type": "code",
      "source": [
        "#convert labels into numeric values\n",
        "label_dict = {}\n",
        "for index, possible_label in enumerate(possible_labels):\n",
        "    label_dict[possible_label] = index"
      ],
      "metadata": {
        "id": "PLA2hIYzrwTi"
      },
      "execution_count": 36,
      "outputs": []
    },
    {
      "cell_type": "code",
      "source": [
        "label_dict"
      ],
      "metadata": {
        "colab": {
          "base_uri": "https://localhost:8080/"
        },
        "id": "7mDp68kVrzLg",
        "outputId": "875bf13d-a0f3-4538-a06d-4e75f99a4208"
      },
      "execution_count": 37,
      "outputs": [
        {
          "output_type": "execute_result",
          "data": {
            "text/plain": [
              "{'Anger': 2,\n",
              " 'Fear': 0,\n",
              " 'Joy': 3,\n",
              " 'Neutral': 1,\n",
              " 'Sadness': 5,\n",
              " 'Surprise': 4,\n",
              " 'Unrelated': 6}"
            ]
          },
          "metadata": {},
          "execution_count": 37
        }
      ]
    },
    {
      "cell_type": "code",
      "source": [
        "#convert labels into numeric values\n",
        "df_dataset['label'] = df_dataset.sentiment.replace(label_dict)\n",
        "df_dataset.head(10)"
      ],
      "metadata": {
        "colab": {
          "base_uri": "https://localhost:8080/",
          "height": 424
        },
        "id": "HQ2KEh-kr1Pq",
        "outputId": "7b5a8987-c869-41b5-f079-802eea4f25e1"
      },
      "execution_count": 38,
      "outputs": [
        {
          "output_type": "execute_result",
          "data": {
            "text/html": [
              "\n",
              "  <div id=\"df-760760fb-2bf5-465b-b8b7-8def36423603\">\n",
              "    <div class=\"colab-df-container\">\n",
              "      <div>\n",
              "<style scoped>\n",
              "    .dataframe tbody tr th:only-of-type {\n",
              "        vertical-align: middle;\n",
              "    }\n",
              "\n",
              "    .dataframe tbody tr th {\n",
              "        vertical-align: top;\n",
              "    }\n",
              "\n",
              "    .dataframe thead th {\n",
              "        text-align: right;\n",
              "    }\n",
              "</style>\n",
              "<table border=\"1\" class=\"dataframe\">\n",
              "  <thead>\n",
              "    <tr style=\"text-align: right;\">\n",
              "      <th></th>\n",
              "      <th>Tweet</th>\n",
              "      <th>sentiment</th>\n",
              "      <th>label</th>\n",
              "    </tr>\n",
              "  </thead>\n",
              "  <tbody>\n",
              "    <tr>\n",
              "      <th>0</th>\n",
              "      <td>RT There s a derogatory saying that Chinese eats everything with four legs except table After the Wuhan virus spread South Chi</td>\n",
              "      <td>Fear</td>\n",
              "      <td>0</td>\n",
              "    </tr>\n",
              "    <tr>\n",
              "      <th>1</th>\n",
              "      <td>RT Reports that the Chinese Army PLA has been deployed in Wuhan to assist with the lockdown of the city #China #Wuhan #Coron</td>\n",
              "      <td>Neutral</td>\n",
              "      <td>1</td>\n",
              "    </tr>\n",
              "    <tr>\n",
              "      <th>2</th>\n",
              "      <td>RT that is how authorities protect its own citizens Not like Hong Kong</td>\n",
              "      <td>Anger</td>\n",
              "      <td>2</td>\n",
              "    </tr>\n",
              "    <tr>\n",
              "      <th>3</th>\n",
              "      <td>Are u sharing ur expertise of what a failure leader is at the Forum Or r u just spreeding the Wuhan coronavirus to the world WTF u r doing when u should be dealing with Chinese coronavirus in Hong...</td>\n",
              "      <td>Fear</td>\n",
              "      <td>0</td>\n",
              "    </tr>\n",
              "    <tr>\n",
              "      <th>4</th>\n",
              "      <td>RT Philippines is sending the Chinese back to Wuhan to prevent #coronavirus from spreading Hey Carrie Lam why don t you tr</td>\n",
              "      <td>Fear</td>\n",
              "      <td>0</td>\n",
              "    </tr>\n",
              "    <tr>\n",
              "      <th>5</th>\n",
              "      <td>RT China built a lab to study SARS and Ebola in Wuhan and US biosafety experts warned in that a virus could escape th</td>\n",
              "      <td>Neutral</td>\n",
              "      <td>1</td>\n",
              "    </tr>\n",
              "    <tr>\n",
              "      <th>6</th>\n",
              "      <td>RT A year old woman is the first Thai to test positive for coronavirus The patient fell ill shortly after returning fro</td>\n",
              "      <td>Neutral</td>\n",
              "      <td>1</td>\n",
              "    </tr>\n",
              "    <tr>\n",
              "      <th>7</th>\n",
              "      <td>RT Singapore confirms first case of Wuhan virus</td>\n",
              "      <td>Neutral</td>\n",
              "      <td>1</td>\n",
              "    </tr>\n",
              "    <tr>\n",
              "      <th>8</th>\n",
              "      <td>RT Video In Wuhan where the outbreak began anxiety and anger prevailed as worried residents crowded into hospitals and teams o</td>\n",
              "      <td>Neutral</td>\n",
              "      <td>1</td>\n",
              "    </tr>\n",
              "    <tr>\n",
              "      <th>9</th>\n",
              "      <td>RT Should we be worried about coronavirus in #Thailand Yes and no The chance of people getting the virus is low Even tho</td>\n",
              "      <td>Fear</td>\n",
              "      <td>0</td>\n",
              "    </tr>\n",
              "  </tbody>\n",
              "</table>\n",
              "</div>\n",
              "      <button class=\"colab-df-convert\" onclick=\"convertToInteractive('df-760760fb-2bf5-465b-b8b7-8def36423603')\"\n",
              "              title=\"Convert this dataframe to an interactive table.\"\n",
              "              style=\"display:none;\">\n",
              "        \n",
              "  <svg xmlns=\"http://www.w3.org/2000/svg\" height=\"24px\"viewBox=\"0 0 24 24\"\n",
              "       width=\"24px\">\n",
              "    <path d=\"M0 0h24v24H0V0z\" fill=\"none\"/>\n",
              "    <path d=\"M18.56 5.44l.94 2.06.94-2.06 2.06-.94-2.06-.94-.94-2.06-.94 2.06-2.06.94zm-11 1L8.5 8.5l.94-2.06 2.06-.94-2.06-.94L8.5 2.5l-.94 2.06-2.06.94zm10 10l.94 2.06.94-2.06 2.06-.94-2.06-.94-.94-2.06-.94 2.06-2.06.94z\"/><path d=\"M17.41 7.96l-1.37-1.37c-.4-.4-.92-.59-1.43-.59-.52 0-1.04.2-1.43.59L10.3 9.45l-7.72 7.72c-.78.78-.78 2.05 0 2.83L4 21.41c.39.39.9.59 1.41.59.51 0 1.02-.2 1.41-.59l7.78-7.78 2.81-2.81c.8-.78.8-2.07 0-2.86zM5.41 20L4 18.59l7.72-7.72 1.47 1.35L5.41 20z\"/>\n",
              "  </svg>\n",
              "      </button>\n",
              "      \n",
              "  <style>\n",
              "    .colab-df-container {\n",
              "      display:flex;\n",
              "      flex-wrap:wrap;\n",
              "      gap: 12px;\n",
              "    }\n",
              "\n",
              "    .colab-df-convert {\n",
              "      background-color: #E8F0FE;\n",
              "      border: none;\n",
              "      border-radius: 50%;\n",
              "      cursor: pointer;\n",
              "      display: none;\n",
              "      fill: #1967D2;\n",
              "      height: 32px;\n",
              "      padding: 0 0 0 0;\n",
              "      width: 32px;\n",
              "    }\n",
              "\n",
              "    .colab-df-convert:hover {\n",
              "      background-color: #E2EBFA;\n",
              "      box-shadow: 0px 1px 2px rgba(60, 64, 67, 0.3), 0px 1px 3px 1px rgba(60, 64, 67, 0.15);\n",
              "      fill: #174EA6;\n",
              "    }\n",
              "\n",
              "    [theme=dark] .colab-df-convert {\n",
              "      background-color: #3B4455;\n",
              "      fill: #D2E3FC;\n",
              "    }\n",
              "\n",
              "    [theme=dark] .colab-df-convert:hover {\n",
              "      background-color: #434B5C;\n",
              "      box-shadow: 0px 1px 3px 1px rgba(0, 0, 0, 0.15);\n",
              "      filter: drop-shadow(0px 1px 2px rgba(0, 0, 0, 0.3));\n",
              "      fill: #FFFFFF;\n",
              "    }\n",
              "  </style>\n",
              "\n",
              "      <script>\n",
              "        const buttonEl =\n",
              "          document.querySelector('#df-760760fb-2bf5-465b-b8b7-8def36423603 button.colab-df-convert');\n",
              "        buttonEl.style.display =\n",
              "          google.colab.kernel.accessAllowed ? 'block' : 'none';\n",
              "\n",
              "        async function convertToInteractive(key) {\n",
              "          const element = document.querySelector('#df-760760fb-2bf5-465b-b8b7-8def36423603');\n",
              "          const dataTable =\n",
              "            await google.colab.kernel.invokeFunction('convertToInteractive',\n",
              "                                                     [key], {});\n",
              "          if (!dataTable) return;\n",
              "\n",
              "          const docLinkHtml = 'Like what you see? Visit the ' +\n",
              "            '<a target=\"_blank\" href=https://colab.research.google.com/notebooks/data_table.ipynb>data table notebook</a>'\n",
              "            + ' to learn more about interactive tables.';\n",
              "          element.innerHTML = '';\n",
              "          dataTable['output_type'] = 'display_data';\n",
              "          await google.colab.output.renderOutput(dataTable, element);\n",
              "          const docLink = document.createElement('div');\n",
              "          docLink.innerHTML = docLinkHtml;\n",
              "          element.appendChild(docLink);\n",
              "        }\n",
              "      </script>\n",
              "    </div>\n",
              "  </div>\n",
              "  "
            ],
            "text/plain": [
              "                                                                                                                                                                                                     Tweet  ... label\n",
              "0                                                                          RT There s a derogatory saying that Chinese eats everything with four legs except table After the Wuhan virus spread South Chi   ...     0\n",
              "1                                                                            RT Reports that the Chinese Army PLA has been deployed in Wuhan to assist with the lockdown of the city #China #Wuhan #Coron   ...     1\n",
              "2                                                                                                                                  RT that is how authorities protect its own citizens Not like Hong Kong   ...     2\n",
              "3  Are u sharing ur expertise of what a failure leader is at the Forum Or r u just spreeding the Wuhan coronavirus to the world WTF u r doing when u should be dealing with Chinese coronavirus in Hong...  ...     0\n",
              "4                                                                              RT Philippines is sending the Chinese back to Wuhan to prevent #coronavirus from spreading Hey Carrie Lam why don t you tr   ...     0\n",
              "5                                                                                   RT China built a lab to study SARS and Ebola in Wuhan and US biosafety experts warned in that a virus could escape th   ...     1\n",
              "6                                                                                 RT A year old woman is the first Thai to test positive for coronavirus The patient fell ill shortly after returning fro   ...     1\n",
              "7                                                                                                                                                         RT Singapore confirms first case of Wuhan virus   ...     1\n",
              "8                                                                          RT Video In Wuhan where the outbreak began anxiety and anger prevailed as worried residents crowded into hospitals and teams o   ...     1\n",
              "9                                                                                RT Should we be worried about coronavirus in #Thailand Yes and no The chance of people getting the virus is low Even tho   ...     0\n",
              "\n",
              "[10 rows x 3 columns]"
            ]
          },
          "metadata": {},
          "execution_count": 38
        }
      ]
    },
    {
      "cell_type": "code",
      "source": [
        "df_dataset.drop(['sentiment'], axis=1, inplace=True)"
      ],
      "metadata": {
        "id": "vA1cMVb8iGUZ"
      },
      "execution_count": 39,
      "outputs": []
    },
    {
      "cell_type": "code",
      "source": [
        "df_dataset.head()"
      ],
      "metadata": {
        "colab": {
          "base_uri": "https://localhost:8080/",
          "height": 267
        },
        "id": "bm0K3Sc9ijT_",
        "outputId": "62c5a491-3eaa-495f-f667-aee0a7f1d090"
      },
      "execution_count": 40,
      "outputs": [
        {
          "output_type": "execute_result",
          "data": {
            "text/html": [
              "\n",
              "  <div id=\"df-6fdd1b82-7fe4-4a19-9c0a-83618597a550\">\n",
              "    <div class=\"colab-df-container\">\n",
              "      <div>\n",
              "<style scoped>\n",
              "    .dataframe tbody tr th:only-of-type {\n",
              "        vertical-align: middle;\n",
              "    }\n",
              "\n",
              "    .dataframe tbody tr th {\n",
              "        vertical-align: top;\n",
              "    }\n",
              "\n",
              "    .dataframe thead th {\n",
              "        text-align: right;\n",
              "    }\n",
              "</style>\n",
              "<table border=\"1\" class=\"dataframe\">\n",
              "  <thead>\n",
              "    <tr style=\"text-align: right;\">\n",
              "      <th></th>\n",
              "      <th>Tweet</th>\n",
              "      <th>label</th>\n",
              "    </tr>\n",
              "  </thead>\n",
              "  <tbody>\n",
              "    <tr>\n",
              "      <th>0</th>\n",
              "      <td>RT There s a derogatory saying that Chinese eats everything with four legs except table After the Wuhan virus spread South Chi</td>\n",
              "      <td>0</td>\n",
              "    </tr>\n",
              "    <tr>\n",
              "      <th>1</th>\n",
              "      <td>RT Reports that the Chinese Army PLA has been deployed in Wuhan to assist with the lockdown of the city #China #Wuhan #Coron</td>\n",
              "      <td>1</td>\n",
              "    </tr>\n",
              "    <tr>\n",
              "      <th>2</th>\n",
              "      <td>RT that is how authorities protect its own citizens Not like Hong Kong</td>\n",
              "      <td>2</td>\n",
              "    </tr>\n",
              "    <tr>\n",
              "      <th>3</th>\n",
              "      <td>Are u sharing ur expertise of what a failure leader is at the Forum Or r u just spreeding the Wuhan coronavirus to the world WTF u r doing when u should be dealing with Chinese coronavirus in Hong...</td>\n",
              "      <td>0</td>\n",
              "    </tr>\n",
              "    <tr>\n",
              "      <th>4</th>\n",
              "      <td>RT Philippines is sending the Chinese back to Wuhan to prevent #coronavirus from spreading Hey Carrie Lam why don t you tr</td>\n",
              "      <td>0</td>\n",
              "    </tr>\n",
              "  </tbody>\n",
              "</table>\n",
              "</div>\n",
              "      <button class=\"colab-df-convert\" onclick=\"convertToInteractive('df-6fdd1b82-7fe4-4a19-9c0a-83618597a550')\"\n",
              "              title=\"Convert this dataframe to an interactive table.\"\n",
              "              style=\"display:none;\">\n",
              "        \n",
              "  <svg xmlns=\"http://www.w3.org/2000/svg\" height=\"24px\"viewBox=\"0 0 24 24\"\n",
              "       width=\"24px\">\n",
              "    <path d=\"M0 0h24v24H0V0z\" fill=\"none\"/>\n",
              "    <path d=\"M18.56 5.44l.94 2.06.94-2.06 2.06-.94-2.06-.94-.94-2.06-.94 2.06-2.06.94zm-11 1L8.5 8.5l.94-2.06 2.06-.94-2.06-.94L8.5 2.5l-.94 2.06-2.06.94zm10 10l.94 2.06.94-2.06 2.06-.94-2.06-.94-.94-2.06-.94 2.06-2.06.94z\"/><path d=\"M17.41 7.96l-1.37-1.37c-.4-.4-.92-.59-1.43-.59-.52 0-1.04.2-1.43.59L10.3 9.45l-7.72 7.72c-.78.78-.78 2.05 0 2.83L4 21.41c.39.39.9.59 1.41.59.51 0 1.02-.2 1.41-.59l7.78-7.78 2.81-2.81c.8-.78.8-2.07 0-2.86zM5.41 20L4 18.59l7.72-7.72 1.47 1.35L5.41 20z\"/>\n",
              "  </svg>\n",
              "      </button>\n",
              "      \n",
              "  <style>\n",
              "    .colab-df-container {\n",
              "      display:flex;\n",
              "      flex-wrap:wrap;\n",
              "      gap: 12px;\n",
              "    }\n",
              "\n",
              "    .colab-df-convert {\n",
              "      background-color: #E8F0FE;\n",
              "      border: none;\n",
              "      border-radius: 50%;\n",
              "      cursor: pointer;\n",
              "      display: none;\n",
              "      fill: #1967D2;\n",
              "      height: 32px;\n",
              "      padding: 0 0 0 0;\n",
              "      width: 32px;\n",
              "    }\n",
              "\n",
              "    .colab-df-convert:hover {\n",
              "      background-color: #E2EBFA;\n",
              "      box-shadow: 0px 1px 2px rgba(60, 64, 67, 0.3), 0px 1px 3px 1px rgba(60, 64, 67, 0.15);\n",
              "      fill: #174EA6;\n",
              "    }\n",
              "\n",
              "    [theme=dark] .colab-df-convert {\n",
              "      background-color: #3B4455;\n",
              "      fill: #D2E3FC;\n",
              "    }\n",
              "\n",
              "    [theme=dark] .colab-df-convert:hover {\n",
              "      background-color: #434B5C;\n",
              "      box-shadow: 0px 1px 3px 1px rgba(0, 0, 0, 0.15);\n",
              "      filter: drop-shadow(0px 1px 2px rgba(0, 0, 0, 0.3));\n",
              "      fill: #FFFFFF;\n",
              "    }\n",
              "  </style>\n",
              "\n",
              "      <script>\n",
              "        const buttonEl =\n",
              "          document.querySelector('#df-6fdd1b82-7fe4-4a19-9c0a-83618597a550 button.colab-df-convert');\n",
              "        buttonEl.style.display =\n",
              "          google.colab.kernel.accessAllowed ? 'block' : 'none';\n",
              "\n",
              "        async function convertToInteractive(key) {\n",
              "          const element = document.querySelector('#df-6fdd1b82-7fe4-4a19-9c0a-83618597a550');\n",
              "          const dataTable =\n",
              "            await google.colab.kernel.invokeFunction('convertToInteractive',\n",
              "                                                     [key], {});\n",
              "          if (!dataTable) return;\n",
              "\n",
              "          const docLinkHtml = 'Like what you see? Visit the ' +\n",
              "            '<a target=\"_blank\" href=https://colab.research.google.com/notebooks/data_table.ipynb>data table notebook</a>'\n",
              "            + ' to learn more about interactive tables.';\n",
              "          element.innerHTML = '';\n",
              "          dataTable['output_type'] = 'display_data';\n",
              "          await google.colab.output.renderOutput(dataTable, element);\n",
              "          const docLink = document.createElement('div');\n",
              "          docLink.innerHTML = docLinkHtml;\n",
              "          element.appendChild(docLink);\n",
              "        }\n",
              "      </script>\n",
              "    </div>\n",
              "  </div>\n",
              "  "
            ],
            "text/plain": [
              "                                                                                                                                                                                                     Tweet  label\n",
              "0                                                                          RT There s a derogatory saying that Chinese eats everything with four legs except table After the Wuhan virus spread South Chi       0\n",
              "1                                                                            RT Reports that the Chinese Army PLA has been deployed in Wuhan to assist with the lockdown of the city #China #Wuhan #Coron       1\n",
              "2                                                                                                                                  RT that is how authorities protect its own citizens Not like Hong Kong       2\n",
              "3  Are u sharing ur expertise of what a failure leader is at the Forum Or r u just spreeding the Wuhan coronavirus to the world WTF u r doing when u should be dealing with Chinese coronavirus in Hong...      0\n",
              "4                                                                              RT Philippines is sending the Chinese back to Wuhan to prevent #coronavirus from spreading Hey Carrie Lam why don t you tr       0"
            ]
          },
          "metadata": {},
          "execution_count": 40
        }
      ]
    },
    {
      "cell_type": "markdown",
      "source": [
        "#Load Fasttext vectors\n"
      ],
      "metadata": {
        "id": "cNgQU0AStSaT"
      }
    },
    {
      "cell_type": "code",
      "source": [
        "#!wget https://dl.fbaipublicfiles.com/fasttext/vectors-crawl/cc.en.300.vec.gz\n",
        "#!gzip -d cc.en.300.vec.gz"
      ],
      "metadata": {
        "id": "1q-BLBYetYmQ"
      },
      "execution_count": 41,
      "outputs": []
    },
    {
      "cell_type": "code",
      "metadata": {
        "id": "PcWej6mDZvU0",
        "outputId": "76a3b63f-8c80-4b79-de59-38c9bcc049c2",
        "colab": {
          "base_uri": "https://localhost:8080/",
          "height": 66,
          "referenced_widgets": [
            "0c9c8f21dc134243a701898621d6bdb9",
            "4cea88181d2f4f5e9d67bb655e04707f",
            "90339a8c907e49afb8fa42a9aad8f1fe",
            "469b969cf02b49b69294b0f05a8aff25",
            "83fa0ba71e854437a8af287e976a2493",
            "a830d32aa6bb4c20af197cba6d0e67bd",
            "035088e599614c7c83ed8fe46fcc5d03",
            "a8200ef544114dab879580d5cddfc771",
            "ddf367578af145c58c8bf9579fa70329",
            "a5eef0e3d853490bb0ed7aac64e67b5b",
            "768e363b23664ac7b34ca3fbdc1e3e43"
          ]
        }
      },
      "source": [
        "#create word vectors\n",
        "from tqdm import tqdm_notebook\n",
        "\n",
        "word_vectors = {}\n",
        "f = io.open(\"/content/cc.en.300.vec\", encoding='utf-8')\n",
        "n, d = map(int, f.readline().split())\n",
        "for line in tqdm_notebook(f):\n",
        "    values = line.rstrip().split(' ')\n",
        "    word = values[0]\n",
        "    vector = np.array(values[1:], dtype='float32')\n",
        "    word_vectors[word] = vector\n",
        "f.close()\n",
        "print(f'found {len(word_vectors)} word vectors')"
      ],
      "execution_count": 42,
      "outputs": [
        {
          "output_type": "display_data",
          "data": {
            "application/vnd.jupyter.widget-view+json": {
              "model_id": "0c9c8f21dc134243a701898621d6bdb9",
              "version_minor": 0,
              "version_major": 2
            },
            "text/plain": [
              "0it [00:00, ?it/s]"
            ]
          },
          "metadata": {}
        },
        {
          "output_type": "stream",
          "name": "stdout",
          "text": [
            "found 2000000 word vectors\n"
          ]
        }
      ]
    },
    {
      "cell_type": "markdown",
      "metadata": {
        "id": "HmeuxIoqZvUp"
      },
      "source": [
        "# Text length distribution"
      ]
    },
    {
      "cell_type": "code",
      "metadata": {
        "id": "fUOuOW9hZvUq",
        "outputId": "f3a9ff13-3cb3-409f-b4b9-12f74c09d109",
        "colab": {
          "base_uri": "https://localhost:8080/"
        }
      },
      "source": [
        "#Finding the text length distribution\n",
        "df_dataset['sent_len'] = df_dataset['Tweet'].apply(lambda x: len(x.split(\" \")))\n",
        "max_seq_len = np.round(df_dataset['sent_len'].mean() + 2 * df_dataset['sent_len'].std()).astype(int)\n",
        "max_seq_len"
      ],
      "execution_count": 43,
      "outputs": [
        {
          "output_type": "execute_result",
          "data": {
            "text/plain": [
              "39"
            ]
          },
          "metadata": {},
          "execution_count": 43
        }
      ]
    },
    {
      "cell_type": "code",
      "metadata": {
        "id": "bkG4F3l_ZvUu",
        "outputId": "1f4c16d0-22a2-4de0-eaa3-36c0c2f6a249",
        "colab": {
          "base_uri": "https://localhost:8080/",
          "height": 272
        }
      },
      "source": [
        "df_dataset['sent_len'].plot.hist()\n",
        "plt.axvline(x=max_seq_len, color='k', linestyle='--', label='max len');"
      ],
      "execution_count": 44,
      "outputs": [
        {
          "output_type": "display_data",
          "data": {
            "image/png": "[encoded data removed]",
            "text/plain": [
              "<Figure size 432x288 with 1 Axes>"
            ]
          },
          "metadata": {}
        }
      ]
    },
    {
      "cell_type": "markdown",
      "metadata": {
        "id": "Fz8nBPxNZvU6"
      },
      "source": [
        "# Clean"
      ]
    },
    {
      "cell_type": "code",
      "metadata": {
        "scrolled": false,
        "id": "H1TtV1dEZvU7",
        "outputId": "2d982251-6366-4ecb-a3d6-938f2f300cf4",
        "colab": {
          "base_uri": "https://localhost:8080/",
          "height": 267
        }
      },
      "source": [
        "df_dataset.head()"
      ],
      "execution_count": 45,
      "outputs": [
        {
          "output_type": "execute_result",
          "data": {
            "text/html": [
              "\n",
              "  <div id=\"df-090ff83a-38f8-4561-ae47-5e724edbcb41\">\n",
              "    <div class=\"colab-df-container\">\n",
              "      <div>\n",
              "<style scoped>\n",
              "    .dataframe tbody tr th:only-of-type {\n",
              "        vertical-align: middle;\n",
              "    }\n",
              "\n",
              "    .dataframe tbody tr th {\n",
              "        vertical-align: top;\n",
              "    }\n",
              "\n",
              "    .dataframe thead th {\n",
              "        text-align: right;\n",
              "    }\n",
              "</style>\n",
              "<table border=\"1\" class=\"dataframe\">\n",
              "  <thead>\n",
              "    <tr style=\"text-align: right;\">\n",
              "      <th></th>\n",
              "      <th>Tweet</th>\n",
              "      <th>label</th>\n",
              "      <th>sent_len</th>\n",
              "    </tr>\n",
              "  </thead>\n",
              "  <tbody>\n",
              "    <tr>\n",
              "      <th>0</th>\n",
              "      <td>RT There s a derogatory saying that Chinese eats everything with four legs except table After the Wuhan virus spread South Chi</td>\n",
              "      <td>0</td>\n",
              "      <td>23</td>\n",
              "    </tr>\n",
              "    <tr>\n",
              "      <th>1</th>\n",
              "      <td>RT Reports that the Chinese Army PLA has been deployed in Wuhan to assist with the lockdown of the city #China #Wuhan #Coron</td>\n",
              "      <td>1</td>\n",
              "      <td>24</td>\n",
              "    </tr>\n",
              "    <tr>\n",
              "      <th>2</th>\n",
              "      <td>RT that is how authorities protect its own citizens Not like Hong Kong</td>\n",
              "      <td>2</td>\n",
              "      <td>14</td>\n",
              "    </tr>\n",
              "    <tr>\n",
              "      <th>3</th>\n",
              "      <td>Are u sharing ur expertise of what a failure leader is at the Forum Or r u just spreeding the Wuhan coronavirus to the world WTF u r doing when u should be dealing with Chinese coronavirus in Hong...</td>\n",
              "      <td>0</td>\n",
              "      <td>44</td>\n",
              "    </tr>\n",
              "    <tr>\n",
              "      <th>4</th>\n",
              "      <td>RT Philippines is sending the Chinese back to Wuhan to prevent #coronavirus from spreading Hey Carrie Lam why don t you tr</td>\n",
              "      <td>0</td>\n",
              "      <td>23</td>\n",
              "    </tr>\n",
              "  </tbody>\n",
              "</table>\n",
              "</div>\n",
              "      <button class=\"colab-df-convert\" onclick=\"convertToInteractive('df-090ff83a-38f8-4561-ae47-5e724edbcb41')\"\n",
              "              title=\"Convert this dataframe to an interactive table.\"\n",
              "              style=\"display:none;\">\n",
              "        \n",
              "  <svg xmlns=\"http://www.w3.org/2000/svg\" height=\"24px\"viewBox=\"0 0 24 24\"\n",
              "       width=\"24px\">\n",
              "    <path d=\"M0 0h24v24H0V0z\" fill=\"none\"/>\n",
              "    <path d=\"M18.56 5.44l.94 2.06.94-2.06 2.06-.94-2.06-.94-.94-2.06-.94 2.06-2.06.94zm-11 1L8.5 8.5l.94-2.06 2.06-.94-2.06-.94L8.5 2.5l-.94 2.06-2.06.94zm10 10l.94 2.06.94-2.06 2.06-.94-2.06-.94-.94-2.06-.94 2.06-2.06.94z\"/><path d=\"M17.41 7.96l-1.37-1.37c-.4-.4-.92-.59-1.43-.59-.52 0-1.04.2-1.43.59L10.3 9.45l-7.72 7.72c-.78.78-.78 2.05 0 2.83L4 21.41c.39.39.9.59 1.41.59.51 0 1.02-.2 1.41-.59l7.78-7.78 2.81-2.81c.8-.78.8-2.07 0-2.86zM5.41 20L4 18.59l7.72-7.72 1.47 1.35L5.41 20z\"/>\n",
              "  </svg>\n",
              "      </button>\n",
              "      \n",
              "  <style>\n",
              "    .colab-df-container {\n",
              "      display:flex;\n",
              "      flex-wrap:wrap;\n",
              "      gap: 12px;\n",
              "    }\n",
              "\n",
              "    .colab-df-convert {\n",
              "      background-color: #E8F0FE;\n",
              "      border: none;\n",
              "      border-radius: 50%;\n",
              "      cursor: pointer;\n",
              "      display: none;\n",
              "      fill: #1967D2;\n",
              "      height: 32px;\n",
              "      padding: 0 0 0 0;\n",
              "      width: 32px;\n",
              "    }\n",
              "\n",
              "    .colab-df-convert:hover {\n",
              "      background-color: #E2EBFA;\n",
              "      box-shadow: 0px 1px 2px rgba(60, 64, 67, 0.3), 0px 1px 3px 1px rgba(60, 64, 67, 0.15);\n",
              "      fill: #174EA6;\n",
              "    }\n",
              "\n",
              "    [theme=dark] .colab-df-convert {\n",
              "      background-color: #3B4455;\n",
              "      fill: #D2E3FC;\n",
              "    }\n",
              "\n",
              "    [theme=dark] .colab-df-convert:hover {\n",
              "      background-color: #434B5C;\n",
              "      box-shadow: 0px 1px 3px 1px rgba(0, 0, 0, 0.15);\n",
              "      filter: drop-shadow(0px 1px 2px rgba(0, 0, 0, 0.3));\n",
              "      fill: #FFFFFF;\n",
              "    }\n",
              "  </style>\n",
              "\n",
              "      <script>\n",
              "        const buttonEl =\n",
              "          document.querySelector('#df-090ff83a-38f8-4561-ae47-5e724edbcb41 button.colab-df-convert');\n",
              "        buttonEl.style.display =\n",
              "          google.colab.kernel.accessAllowed ? 'block' : 'none';\n",
              "\n",
              "        async function convertToInteractive(key) {\n",
              "          const element = document.querySelector('#df-090ff83a-38f8-4561-ae47-5e724edbcb41');\n",
              "          const dataTable =\n",
              "            await google.colab.kernel.invokeFunction('convertToInteractive',\n",
              "                                                     [key], {});\n",
              "          if (!dataTable) return;\n",
              "\n",
              "          const docLinkHtml = 'Like what you see? Visit the ' +\n",
              "            '<a target=\"_blank\" href=https://colab.research.google.com/notebooks/data_table.ipynb>data table notebook</a>'\n",
              "            + ' to learn more about interactive tables.';\n",
              "          element.innerHTML = '';\n",
              "          dataTable['output_type'] = 'display_data';\n",
              "          await google.colab.output.renderOutput(dataTable, element);\n",
              "          const docLink = document.createElement('div');\n",
              "          docLink.innerHTML = docLinkHtml;\n",
              "          element.appendChild(docLink);\n",
              "        }\n",
              "      </script>\n",
              "    </div>\n",
              "  </div>\n",
              "  "
            ],
            "text/plain": [
              "                                                                                                                                                                                                     Tweet  ...  sent_len\n",
              "0                                                                          RT There s a derogatory saying that Chinese eats everything with four legs except table After the Wuhan virus spread South Chi   ...        23\n",
              "1                                                                            RT Reports that the Chinese Army PLA has been deployed in Wuhan to assist with the lockdown of the city #China #Wuhan #Coron   ...        24\n",
              "2                                                                                                                                  RT that is how authorities protect its own citizens Not like Hong Kong   ...        14\n",
              "3  Are u sharing ur expertise of what a failure leader is at the Forum Or r u just spreeding the Wuhan coronavirus to the world WTF u r doing when u should be dealing with Chinese coronavirus in Hong...  ...        44\n",
              "4                                                                              RT Philippines is sending the Chinese back to Wuhan to prevent #coronavirus from spreading Hey Carrie Lam why don t you tr   ...        23\n",
              "\n",
              "[5 rows x 3 columns]"
            ]
          },
          "metadata": {},
          "execution_count": 45
        }
      ]
    },
    {
      "cell_type": "code",
      "metadata": {
        "id": "8n2fAcHsZvU-"
      },
      "source": [
        "regex_tokenizer = RegexpTokenizer(r'\\w+')"
      ],
      "execution_count": 46,
      "outputs": []
    },
    {
      "cell_type": "code",
      "metadata": {
        "id": "hcx38CGGZvVB",
        "outputId": "c8ca2639-f56c-41bf-b62d-eb1ac8e73066",
        "colab": {
          "base_uri": "https://localhost:8080/",
          "height": 49,
          "referenced_widgets": [
            "d53b2bb78f4d45a4a34af39214559453",
            "17a24e4f1bdf442892b00e2d158301b4",
            "86b39928fa7443a5b6c28764d7dc282e",
            "e069710ec0c14ed5a0a3672044a1dd22",
            "7819a8ddad014b04a2bb9c54216f67ad",
            "1e5242679cec4f78b4b4ecbb506f93fc",
            "642bf5bc86d74aaca296512c2b9230a6",
            "e63b5843f75c4a53a41d6d3591a41f3b",
            "b50a79f43663480b917fd181ed70de03",
            "a1e2e2df1d2c457c95563a8cfcbc02c9",
            "9980486ff32e4e1d905b025888a23a03"
          ]
        }
      },
      "source": [
        "cleaned_text = []\n",
        "\n",
        "for text in tqdm_notebook(df_dataset['Tweet']):\n",
        "    tokens = regex_tokenizer.tokenize(text)\n",
        "    cleaned_text.append(\" \".join(tokens))"
      ],
      "execution_count": 47,
      "outputs": [
        {
          "output_type": "display_data",
          "data": {
            "application/vnd.jupyter.widget-view+json": {
              "model_id": "d53b2bb78f4d45a4a34af39214559453",
              "version_minor": 0,
              "version_major": 2
            },
            "text/plain": [
              "  0%|          | 0/100 [00:00<?, ?it/s]"
            ]
          },
          "metadata": {}
        }
      ]
    },
    {
      "cell_type": "code",
      "metadata": {
        "id": "rdgqY2MOZvVE",
        "outputId": "542b86e3-cc0b-42f1-bf9f-fdf484550afd",
        "colab": {
          "base_uri": "https://localhost:8080/"
        }
      },
      "source": [
        "print(cleaned_text[0])"
      ],
      "execution_count": 48,
      "outputs": [
        {
          "output_type": "stream",
          "name": "stdout",
          "text": [
            "RT There s a derogatory saying that Chinese eats everything with four legs except table After the Wuhan virus spread South Chi\n"
          ]
        }
      ]
    },
    {
      "cell_type": "markdown",
      "metadata": {
        "id": "WkGvsotdZvVJ"
      },
      "source": [
        "#Tokenize"
      ]
    },
    {
      "cell_type": "code",
      "metadata": {
        "id": "m_99kIzjZvVK"
      },
      "source": [
        "max_words = 1e5"
      ],
      "execution_count": 49,
      "outputs": []
    },
    {
      "cell_type": "code",
      "metadata": {
        "id": "5VyXMIl1ZvVN"
      },
      "source": [
        "tokenizer = Tokenizer(num_words=max_words, lower=True, char_level=False)"
      ],
      "execution_count": 50,
      "outputs": []
    },
    {
      "cell_type": "code",
      "metadata": {
        "id": "-1OjVtK1ZvVR",
        "outputId": "156aafff-1c01-4937-f2a8-1590780499ac",
        "colab": {
          "base_uri": "https://localhost:8080/"
        }
      },
      "source": [
        "#tokenize and build dictionary\n",
        "tokenizer.fit_on_texts(cleaned_text)\n",
        "input_sequences = tokenizer.texts_to_sequences(cleaned_text)\n",
        "\n",
        "word_index = tokenizer.word_index\n",
        "print(\"dictionary size: \", len(word_index))"
      ],
      "execution_count": 51,
      "outputs": [
        {
          "output_type": "stream",
          "name": "stdout",
          "text": [
            "dictionary size:  793\n"
          ]
        }
      ]
    },
    {
      "cell_type": "code",
      "metadata": {
        "id": "xnVesnTbZvVU",
        "outputId": "146ccc89-f326-4413-a351-ce6606b29aab",
        "colab": {
          "base_uri": "https://localhost:8080/"
        }
      },
      "source": [
        "print(input_sequences[0])"
      ],
      "execution_count": 52,
      "outputs": [
        {
          "output_type": "stream",
          "name": "stdout",
          "text": [
            "[3, 49, 13, 5, 252, 129, 28, 12, 253, 130, 21, 254, 255, 91, 256, 92, 1, 2, 15, 36, 257, 131]\n"
          ]
        }
      ]
    },
    {
      "cell_type": "markdown",
      "metadata": {
        "id": "8woiteInZvVY"
      },
      "source": [
        "# Padding"
      ]
    },
    {
      "cell_type": "code",
      "metadata": {
        "id": "RRC2PB1UZvVZ"
      },
      "source": [
        "#pad text to make it of equal length\n",
        "input_sequences = pad_sequences(input_sequences, maxlen=max_seq_len)"
      ],
      "execution_count": 53,
      "outputs": []
    },
    {
      "cell_type": "code",
      "metadata": {
        "id": "J9xLO9QwZvVd",
        "outputId": "e685d3eb-f5d0-4bca-ab5e-480711236432",
        "colab": {
          "base_uri": "https://localhost:8080/"
        }
      },
      "source": [
        "print(input_sequences[0])"
      ],
      "execution_count": 54,
      "outputs": [
        {
          "output_type": "stream",
          "name": "stdout",
          "text": [
            "[  0   0   0   0   0   0   0   0   0   0   0   0   0   0   0   0   0   3\n",
            "  49  13   5 252 129  28  12 253 130  21 254 255  91 256  92   1   2  15\n",
            "  36 257 131]\n"
          ]
        }
      ]
    },
    {
      "cell_type": "code",
      "metadata": {
        "id": "ZC9t1SJmZvVg"
      },
      "source": [
        "labels = df_dataset['label'].values"
      ],
      "execution_count": 55,
      "outputs": []
    },
    {
      "cell_type": "code",
      "metadata": {
        "id": "PiL9P2-SZvVk",
        "outputId": "0e0dfd6c-b560-4b19-a7cd-a4c13a0573ef",
        "colab": {
          "base_uri": "https://localhost:8080/"
        }
      },
      "source": [
        "print(labels[36])"
      ],
      "execution_count": 56,
      "outputs": [
        {
          "output_type": "stream",
          "name": "stdout",
          "text": [
            "4\n"
          ]
        }
      ]
    },
    {
      "cell_type": "markdown",
      "metadata": {
        "id": "ZzVUxYIfZvVn"
      },
      "source": [
        "#Embedding matrix"
      ]
    },
    {
      "cell_type": "code",
      "metadata": {
        "id": "fP2wR9ZbZvVo"
      },
      "source": [
        "embed_dim = 300"
      ],
      "execution_count": 57,
      "outputs": []
    },
    {
      "cell_type": "code",
      "metadata": {
        "id": "w4wBP5MrZvVr",
        "outputId": "cabe4181-3d9a-43dd-f047-9bf59fdd6bfb",
        "colab": {
          "base_uri": "https://localhost:8080/"
        }
      },
      "source": [
        "#creating the embedding matrix\n",
        "words_not_found = []\n",
        "nb_words = min(max_words, len(word_index))\n",
        "\n",
        "embedding_matrix = np.zeros((nb_words+1, embed_dim))\n",
        "\n",
        "for word, i in word_index.items():\n",
        "    if i > nb_words:\n",
        "        break\n",
        "\n",
        "    vector = word_vectors.get(word)\n",
        "    if vector is not None:\n",
        "        # words not found in embedding index will be all-zeros.\n",
        "        embedding_matrix[i] = vector\n",
        "    else:\n",
        "        words_not_found.append(word)\n",
        "\n",
        "print('number of null word embeddings: {:d}'.format(np.sum(np.sum(embedding_matrix, axis=1) == 0)))"
      ],
      "execution_count": 58,
      "outputs": [
        {
          "output_type": "stream",
          "name": "stdout",
          "text": [
            "number of null word embeddings: 35\n"
          ]
        }
      ]
    },
    {
      "cell_type": "code",
      "metadata": {
        "id": "3S5Ve5iiZvVu",
        "outputId": "ceb23ac5-54f2-4880-a451-9a3253f1425a",
        "colab": {
          "base_uri": "https://localhost:8080/"
        }
      },
      "source": [
        "print(\"sample words not found: \", np.random.choice(words_not_found, 10))"
      ],
      "execution_count": 59,
      "outputs": [
        {
          "output_type": "stream",
          "name": "stdout",
          "text": [
            "sample words not found:  ['quaranted' 'quaranted' 'serginho' 'wuhanoutbre' 'wuhancoronavirus'\n",
            " 'serginho' 'turkistan' 'disposabl' 'blackpink' 'hankou']\n"
          ]
        }
      ]
    },
    {
      "cell_type": "markdown",
      "metadata": {
        "id": "d-8XEa_IZvVy"
      },
      "source": [
        "#Train Test Split"
      ]
    },
    {
      "cell_type": "code",
      "metadata": {
        "id": "fSo1UHTGZvVz"
      },
      "source": [
        "#splitting the given dataset into train and test sets\n",
        "X_train, X_test, y_train, y_test = (\n",
        "    train_test_split(input_sequences, labels, random_state=42, test_size=0.2)\n",
        ")"
      ],
      "execution_count": 60,
      "outputs": []
    },
    {
      "cell_type": "code",
      "metadata": {
        "id": "PbJS6U1vZvV2"
      },
      "source": [
        "X_train = tf.constant(X_train)\n",
        "X_test = tf.constant(X_test)\n",
        "\n",
        "y_train = tf.constant(y_train)\n",
        "y_test = tf.constant(y_test)"
      ],
      "execution_count": 61,
      "outputs": []
    },
    {
      "cell_type": "code",
      "metadata": {
        "id": "x96WC67rZvV8",
        "outputId": "8f2bd1c7-3107-4b4a-fa9d-1b0bcadf360c",
        "colab": {
          "base_uri": "https://localhost:8080/"
        }
      },
      "source": [
        "print(f'Train | X shape: {X_train.shape}, y shape: {y_train.shape}')\n",
        "print(f'Test | X shape: {X_test.shape}, y shape: {y_test.shape}')"
      ],
      "execution_count": 62,
      "outputs": [
        {
          "output_type": "stream",
          "name": "stdout",
          "text": [
            "Train | X shape: (80, 39), y shape: (80,)\n",
            "Test | X shape: (20, 39), y shape: (20,)\n"
          ]
        }
      ]
    },
    {
      "cell_type": "markdown",
      "metadata": {
        "id": "olAVq30hZvV_"
      },
      "source": [
        "# Create model"
      ]
    },
    {
      "cell_type": "code",
      "source": [
        "from keras import backend as K\n",
        "\n",
        "def recall_m(y_true, y_pred):\n",
        "    true_positives = K.sum(K.round(K.clip(y_true * y_pred, 0, 1)))\n",
        "    possible_positives = K.sum(K.round(K.clip(y_true, 0, 1)))\n",
        "    recall = true_positives / (possible_positives + K.epsilon())\n",
        "    return recall\n",
        "\n",
        "def precision_m(y_true, y_pred):\n",
        "    true_positives = K.sum(K.round(K.clip(y_true * y_pred, 0, 1)))\n",
        "    predicted_positives = K.sum(K.round(K.clip(y_pred, 0, 1)))\n",
        "    precision = true_positives / (predicted_positives + K.epsilon())\n",
        "    return precision\n",
        "\n",
        "def f1_m(y_true, y_pred):\n",
        "    precision = precision_m(y_true, y_pred)\n",
        "    recall = recall_m(y_true, y_pred)\n",
        "    return 2*((precision*recall)/(precision+recall+K.epsilon()))"
      ],
      "metadata": {
        "id": "smkyxsidB5Qd"
      },
      "execution_count": 63,
      "outputs": []
    },
    {
      "cell_type": "code",
      "metadata": {
        "id": "4Di75fGNZvWA"
      },
      "source": [
        "#defining the model\n",
        "def create_model(input_len):\n",
        "    inp = Input(shape=(input_len,))\n",
        "\n",
        "    x = Embedding(nb_words+1, embed_dim,\n",
        "                  weights=[embedding_matrix],\n",
        "                  input_length=input_len, trainable=False)(inp)\n",
        "    \n",
        "    x1 = Conv1D(200, 3, activation='relu', padding='same')(x)\n",
        "    x1 = GlobalMaxPooling1D()(x1)\n",
        "\n",
        "    x2 = Conv1D(200, 4, activation='relu', padding='same')(x)\n",
        "    x2 = GlobalMaxPooling1D()(x2)\n",
        "\n",
        "    x3 = Conv1D(200, 5, activation='relu', padding='same')(x)\n",
        "    x3 = GlobalMaxPooling1D()(x3)\n",
        "\n",
        "    x = concatenate([x1, x2, x3])\n",
        "    x = Dropout(0.5)(x)\n",
        "    x = Dense(30, activation='relu')(x)\n",
        "    x = Dropout(0.5)(x)\n",
        "    x = Dense(7, activation='softmax')(x)\n",
        "\n",
        "    model = Model(inputs=inp, outputs=x)\n",
        "\n",
        "    opt = tf.keras.optimizers.Adam(lr=0.001)\n",
        "\n",
        "    model.compile(loss='sparse_categorical_crossentropy',\n",
        "                  optimizer=opt,\n",
        "                  metrics=['accuracy',f1_m,precision_m, recall_m])\n",
        "\n",
        "    return model"
      ],
      "execution_count": 64,
      "outputs": []
    },
    {
      "cell_type": "code",
      "metadata": {
        "scrolled": true,
        "id": "J4oTEp97ZvWC",
        "outputId": "7c919557-31bd-41b6-a794-8defe6103947",
        "colab": {
          "base_uri": "https://localhost:8080/"
        }
      },
      "source": [
        "model = create_model(max_seq_len)\n",
        "model.summary()"
      ],
      "execution_count": 65,
      "outputs": [
        {
          "output_type": "stream",
          "name": "stdout",
          "text": [
            "Model: \"model\"\n",
            "__________________________________________________________________________________________________\n",
            " Layer (type)                   Output Shape         Param #     Connected to                     \n",
            "==================================================================================================\n",
            " input_1 (InputLayer)           [(None, 39)]         0           []                               \n",
            "                                                                                                  \n",
            " embedding (Embedding)          (None, 39, 300)      238200      ['input_1[0][0]']                \n",
            "                                                                                                  \n",
            " conv1d (Conv1D)                (None, 39, 200)      180200      ['embedding[0][0]']              \n",
            "                                                                                                  \n",
            " conv1d_1 (Conv1D)              (None, 39, 200)      240200      ['embedding[0][0]']              \n",
            "                                                                                                  \n",
            " conv1d_2 (Conv1D)              (None, 39, 200)      300200      ['embedding[0][0]']              \n",
            "                                                                                                  \n",
            " global_max_pooling1d (GlobalMa  (None, 200)         0           ['conv1d[0][0]']                 \n",
            " xPooling1D)                                                                                      \n",
            "                                                                                                  \n",
            " global_max_pooling1d_1 (Global  (None, 200)         0           ['conv1d_1[0][0]']               \n",
            " MaxPooling1D)                                                                                    \n",
            "                                                                                                  \n",
            " global_max_pooling1d_2 (Global  (None, 200)         0           ['conv1d_2[0][0]']               \n",
            " MaxPooling1D)                                                                                    \n",
            "                                                                                                  \n",
            " concatenate (Concatenate)      (None, 600)          0           ['global_max_pooling1d[0][0]',   \n",
            "                                                                  'global_max_pooling1d_1[0][0]', \n",
            "                                                                  'global_max_pooling1d_2[0][0]'] \n",
            "                                                                                                  \n",
            " dropout (Dropout)              (None, 600)          0           ['concatenate[0][0]']            \n",
            "                                                                                                  \n",
            " dense (Dense)                  (None, 30)           18030       ['dropout[0][0]']                \n",
            "                                                                                                  \n",
            " dropout_1 (Dropout)            (None, 30)           0           ['dense[0][0]']                  \n",
            "                                                                                                  \n",
            " dense_1 (Dense)                (None, 7)            217         ['dropout_1[0][0]']              \n",
            "                                                                                                  \n",
            "==================================================================================================\n",
            "Total params: 977,047\n",
            "Trainable params: 738,847\n",
            "Non-trainable params: 238,200\n",
            "__________________________________________________________________________________________________\n"
          ]
        }
      ]
    },
    {
      "cell_type": "markdown",
      "metadata": {
        "id": "9pTzhS76ZvWE"
      },
      "source": [
        "# Training"
      ]
    },
    {
      "cell_type": "code",
      "metadata": {
        "scrolled": true,
        "id": "JxwSsECoZvWF",
        "outputId": "69d26f57-4b4a-4a7c-a2f0-175616d12f63",
        "colab": {
          "base_uri": "https://localhost:8080/"
        }
      },
      "source": [
        "#metrics for evaluation\n",
        "loss, metric, f1, prec, rec = model.evaluate(X_test, y_test, batch_size=32, verbose=0)\n",
        "print(f\"Loss before training: {loss:.4f} \\nAccuracy before training: {metric:.2%} \\nF1 Score: {f1:.4f} \\nPrecision: {prec:.4f} \\nRecall: {rec:.4f}\")"
      ],
      "execution_count": 66,
      "outputs": [
        {
          "output_type": "stream",
          "name": "stdout",
          "text": [
            "Loss before training: 2.1931 \n",
            "Accuracy before training: 0.00% \n",
            "F1 Score: 0.1538 \n",
            "Precision: 10000000.0000 \n",
            "Recall: 0.0769\n"
          ]
        }
      ]
    },
    {
      "cell_type": "code",
      "source": [
        "df_dataset.dtypes"
      ],
      "metadata": {
        "colab": {
          "base_uri": "https://localhost:8080/"
        },
        "id": "7tIMFiCifg29",
        "outputId": "c49300ec-ccff-4220-aae1-91148083010e"
      },
      "execution_count": 67,
      "outputs": [
        {
          "output_type": "execute_result",
          "data": {
            "text/plain": [
              "Tweet       object\n",
              "label        int64\n",
              "sent_len     int64\n",
              "dtype: object"
            ]
          },
          "metadata": {},
          "execution_count": 67
        }
      ]
    },
    {
      "cell_type": "code",
      "metadata": {
        "scrolled": true,
        "id": "VawyxCyLZvWH",
        "outputId": "fb3420a0-e595-46d9-e879-ac9412ef2a28",
        "colab": {
          "base_uri": "https://localhost:8080/"
        }
      },
      "source": [
        "#fitting the model\n",
        "history = model.fit(X_train, y_train, batch_size=256, epochs=5, validation_data=(X_test, y_test))"
      ],
      "execution_count": 68,
      "outputs": [
        {
          "output_type": "stream",
          "name": "stdout",
          "text": [
            "Epoch 1/5\n",
            "1/1 [==============================] - 1s 1s/step - loss: 2.2980 - accuracy: 0.0750 - f1_m: 2.5172 - precision_m: 18.2500 - recall_m: 1.3519 - val_loss: 1.7698 - val_accuracy: 0.5000 - val_f1_m: 0.1538 - val_precision_m: 10000000.0000 - val_recall_m: 0.0769\n",
            "Epoch 2/5\n",
            "1/1 [==============================] - 0s 255ms/step - loss: 1.8583 - accuracy: 0.2250 - f1_m: 2.5926 - precision_m: 700000000.0000 - recall_m: 1.2963 - val_loss: 1.5416 - val_accuracy: 0.6000 - val_f1_m: 0.1538 - val_precision_m: 10000000.0000 - val_recall_m: 0.0769\n",
            "Epoch 3/5\n",
            "1/1 [==============================] - 0s 269ms/step - loss: 1.6090 - accuracy: 0.4375 - f1_m: 2.7719 - precision_m: 26.3333 - recall_m: 1.4630 - val_loss: 1.3796 - val_accuracy: 0.6000 - val_f1_m: 0.1538 - val_precision_m: 10000000.0000 - val_recall_m: 0.0769\n",
            "Epoch 4/5\n",
            "1/1 [==============================] - 0s 242ms/step - loss: 1.6847 - accuracy: 0.3375 - f1_m: 2.2857 - precision_m: 8.0000 - recall_m: 1.3333 - val_loss: 1.2760 - val_accuracy: 0.6000 - val_f1_m: 0.2857 - val_precision_m: 2.0000 - val_recall_m: 0.1538\n",
            "Epoch 5/5\n",
            "1/1 [==============================] - 0s 245ms/step - loss: 1.5803 - accuracy: 0.4000 - f1_m: 1.6232 - precision_m: 3.7333 - recall_m: 1.0370 - val_loss: 1.2009 - val_accuracy: 0.6000 - val_f1_m: 0.5000 - val_precision_m: 1.3333 - val_recall_m: 0.3077\n"
          ]
        }
      ]
    },
    {
      "cell_type": "code",
      "source": [
        "# compile the model\n",
        "model.compile(optimizer='adam', loss='sparse_categorical_crossentropy', metrics=['accuracy',f1_m,precision_m, recall_m])\n"
      ],
      "metadata": {
        "id": "LSDgteFUyXFp"
      },
      "execution_count": 69,
      "outputs": []
    },
    {
      "cell_type": "code",
      "source": [
        "# evaluate the model\n",
        "#loss, accuracy, f1_score, precision, recall = model.evaluate(X_test, y_test, verbose=0)\n",
        "loss, metric, f1, prec, rec = model.evaluate(X_test, y_test, batch_size=32, verbose=0)"
      ],
      "metadata": {
        "id": "P_zrVnOVyeQk"
      },
      "execution_count": 70,
      "outputs": []
    },
    {
      "cell_type": "code",
      "source": [
        "print(f\"Loss after training: {loss:.4f} \\nAccuracy after training: {metric:.2%} \\nF1 Score : {f1:.4f} \\nPrecision: {prec:.4f} \\nRecall: {rec:.4f}\")"
      ],
      "metadata": {
        "colab": {
          "base_uri": "https://localhost:8080/"
        },
        "id": "srFUfNO6Cr0W",
        "outputId": "6717eedf-f331-4b5d-96c4-1889cba54b65"
      },
      "execution_count": 71,
      "outputs": [
        {
          "output_type": "stream",
          "name": "stdout",
          "text": [
            "Loss after training: 1.2009 \n",
            "Accuracy after training: 60.00% \n",
            "F1 Score : 0.5000 \n",
            "Precision: 1.3333 \n",
            "Recall: 0.3077\n"
          ]
        }
      ]
    },
    {
      "cell_type": "markdown",
      "metadata": {
        "id": "qSvq3TaMZvWK"
      },
      "source": [
        "# Test model on new sentences"
      ]
    },
    {
      "cell_type": "code",
      "metadata": {
        "id": "GsK5CuQOZvWK"
      },
      "source": [
        "def predict(text):\n",
        "  # pre-process text\n",
        "    tokens = regex_tokenizer.tokenize(text)\n",
        "    cleaned_text = [\" \".join(tokens)]\n",
        "    \n",
        "    input_ = tokenizer.texts_to_sequences(cleaned_text)\n",
        "    input_ = pad_sequences(input_, maxlen=max_seq_len)\n",
        "    \n",
        "    pred = model.predict(input_)[0]\n",
        "\n",
        "    return pred"
      ],
      "execution_count": 72,
      "outputs": []
    },
    {
      "cell_type": "code",
      "source": [
        "label_dict"
      ],
      "metadata": {
        "colab": {
          "base_uri": "https://localhost:8080/"
        },
        "id": "lGjKws-SnCrB",
        "outputId": "cb66b14c-6fb0-46f9-d426-e5bf5f2d60f8"
      },
      "execution_count": 73,
      "outputs": [
        {
          "output_type": "execute_result",
          "data": {
            "text/plain": [
              "{'Anger': 2,\n",
              " 'Fear': 0,\n",
              " 'Joy': 3,\n",
              " 'Neutral': 1,\n",
              " 'Sadness': 5,\n",
              " 'Surprise': 4,\n",
              " 'Unrelated': 6}"
            ]
          },
          "metadata": {},
          "execution_count": 73
        }
      ]
    },
    {
      "cell_type": "code",
      "metadata": {
        "id": "U_cGelZzZvWN"
      },
      "source": [
        "text = \"i am afraid of the virus\""
      ],
      "execution_count": 74,
      "outputs": []
    },
    {
      "cell_type": "code",
      "metadata": {
        "id": "5yucZ9D12jzy",
        "outputId": "d538a184-a19f-454b-e89a-f4ba3b085049",
        "colab": {
          "base_uri": "https://localhost:8080/"
        }
      },
      "source": [
        "predict(text)"
      ],
      "execution_count": 75,
      "outputs": [
        {
          "output_type": "execute_result",
          "data": {
            "text/plain": [
              "array([0.2648982 , 0.30254954, 0.0486162 , 0.05385831, 0.1540297 ,\n",
              "       0.09268133, 0.08336673], dtype=float32)"
            ]
          },
          "metadata": {},
          "execution_count": 75
        }
      ]
    },
    {
      "cell_type": "code",
      "source": [
        "result = np.argmax(predict(text), axis=0)\n",
        "print(\"Sentiment : \",list(label_dict.keys())[list(label_dict.values()).index(result)])"
      ],
      "metadata": {
        "colab": {
          "base_uri": "https://localhost:8080/"
        },
        "id": "b5sL3POiHWdP",
        "outputId": "4249f9f6-7d73-4d1c-d145-0459da8ee96f"
      },
      "execution_count": 76,
      "outputs": [
        {
          "output_type": "stream",
          "name": "stdout",
          "text": [
            "Sentiment :  Neutral\n"
          ]
        }
      ]
    },
    {
      "cell_type": "code",
      "metadata": {
        "id": "t8UBIg2aZvWS"
      },
      "source": [
        "text = \"I dont care about the virus\""
      ],
      "execution_count": 77,
      "outputs": []
    },
    {
      "cell_type": "code",
      "source": [
        "predict(text)"
      ],
      "metadata": {
        "colab": {
          "base_uri": "https://localhost:8080/"
        },
        "id": "w-iCAMRw-oGU",
        "outputId": "8b85aaf8-9a87-4ec2-843b-3800d167d2d0"
      },
      "execution_count": 78,
      "outputs": [
        {
          "output_type": "execute_result",
          "data": {
            "text/plain": [
              "array([0.2338636 , 0.25274068, 0.0710441 , 0.06746957, 0.164423  ,\n",
              "       0.11328064, 0.0971784 ], dtype=float32)"
            ]
          },
          "metadata": {},
          "execution_count": 78
        }
      ]
    },
    {
      "cell_type": "code",
      "source": [
        "result = np.argmax(predict(text), axis=0)\n",
        "print(\"Sentiment : \",list(label_dict.keys())[list(label_dict.values()).index(result)])"
      ],
      "metadata": {
        "colab": {
          "base_uri": "https://localhost:8080/"
        },
        "id": "J8WnexRW-Q5Y",
        "outputId": "89297988-1fe0-48f0-997e-0e2c1577490b"
      },
      "execution_count": 79,
      "outputs": [
        {
          "output_type": "stream",
          "name": "stdout",
          "text": [
            "Sentiment :  Neutral\n"
          ]
        }
      ]
    },
    {
      "cell_type": "markdown",
      "metadata": {
        "id": "Itvl6FmK07Pl"
      },
      "source": [
        "#Save model"
      ]
    },
    {
      "cell_type": "code",
      "metadata": {
        "id": "KbXC5L72ZvWY"
      },
      "source": [
        "model_save_path = \"model.h5\"\n",
        "model.save(model_save_path)"
      ],
      "execution_count": 80,
      "outputs": []
    },
    {
      "cell_type": "code",
      "metadata": {
        "id": "4Clezf0qZvWb",
        "colab": {
          "base_uri": "https://localhost:8080/"
        },
        "outputId": "6f9d7683-ffbe-4741-9310-95a552e22447"
      },
      "source": [
        "tokenizer_save_path = \"tokenizer.joblib\"\n",
        "joblib.dump(tokenizer, tokenizer_save_path)"
      ],
      "execution_count": 81,
      "outputs": [
        {
          "output_type": "execute_result",
          "data": {
            "text/plain": [
              "['tokenizer.joblib']"
            ]
          },
          "metadata": {},
          "execution_count": 81
        }
      ]
    }
  ]
}

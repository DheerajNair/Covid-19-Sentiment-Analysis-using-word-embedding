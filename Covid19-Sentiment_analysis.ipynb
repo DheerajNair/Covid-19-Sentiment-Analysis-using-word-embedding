{
  "nbformat": 4,
  "nbformat_minor": 0,
  "metadata": {
    "colab": {
      "name": "Untitled15.ipynb",
      "provenance": [],
      "mount_file_id": "1u0LMXBh9c9lcY-L43F5KH_5YTMdWuL3M",
      "authorship_tag": "ABX9TyPT31sw3RHreh/dQenqFOBk",
      "include_colab_link": true
    },
    "kernelspec": {
      "name": "python3",
      "display_name": "Python 3"
    },
    "language_info": {
      "name": "python"
    },
    "widgets": {
      "application/vnd.jupyter.widget-state+json": {
        "f7bd59991a50456ba8812ddd5f71412a": {
          "model_module": "@jupyter-widgets/controls",
          "model_name": "HBoxModel",
          "model_module_version": "1.5.0",
          "state": {
            "_view_name": "HBoxView",
            "_dom_classes": [],
            "_model_name": "HBoxModel",
            "_view_module": "@jupyter-widgets/controls",
            "_model_module_version": "1.5.0",
            "_view_count": null,
            "_view_module_version": "1.5.0",
            "box_style": "",
            "layout": "IPY_MODEL_8533cc2c3ed94d9db5710cc708c2bced",
            "_model_module": "@jupyter-widgets/controls",
            "children": [
              "IPY_MODEL_d6a9cfa47a9e483d9ce61ab925406a92",
              "IPY_MODEL_3a8e184b568f4a80898a3c7d6cbcccf0",
              "IPY_MODEL_17866ac5af4349e0b3969c94210687d2"
            ]
          }
        },
        "8533cc2c3ed94d9db5710cc708c2bced": {
          "model_module": "@jupyter-widgets/base",
          "model_name": "LayoutModel",
          "model_module_version": "1.2.0",
          "state": {
            "_view_name": "LayoutView",
            "grid_template_rows": null,
            "right": null,
            "justify_content": null,
            "_view_module": "@jupyter-widgets/base",
            "overflow": null,
            "_model_module_version": "1.2.0",
            "_view_count": null,
            "flex_flow": null,
            "width": null,
            "min_width": null,
            "border": null,
            "align_items": null,
            "bottom": null,
            "_model_module": "@jupyter-widgets/base",
            "top": null,
            "grid_column": null,
            "overflow_y": null,
            "overflow_x": null,
            "grid_auto_flow": null,
            "grid_area": null,
            "grid_template_columns": null,
            "flex": null,
            "_model_name": "LayoutModel",
            "justify_items": null,
            "grid_row": null,
            "max_height": null,
            "align_content": null,
            "visibility": null,
            "align_self": null,
            "height": null,
            "min_height": null,
            "padding": null,
            "grid_auto_rows": null,
            "grid_gap": null,
            "max_width": null,
            "order": null,
            "_view_module_version": "1.2.0",
            "grid_template_areas": null,
            "object_position": null,
            "object_fit": null,
            "grid_auto_columns": null,
            "margin": null,
            "display": null,
            "left": null
          }
        },
        "d6a9cfa47a9e483d9ce61ab925406a92": {
          "model_module": "@jupyter-widgets/controls",
          "model_name": "HTMLModel",
          "model_module_version": "1.5.0",
          "state": {
            "_view_name": "HTMLView",
            "style": "IPY_MODEL_ff0600dae1934b61a3e0e1c1b0ce45e8",
            "_dom_classes": [],
            "description": "",
            "_model_name": "HTMLModel",
            "placeholder": "​",
            "_view_module": "@jupyter-widgets/controls",
            "_model_module_version": "1.5.0",
            "value": "",
            "_view_count": null,
            "_view_module_version": "1.5.0",
            "description_tooltip": null,
            "_model_module": "@jupyter-widgets/controls",
            "layout": "IPY_MODEL_a45ea093e1ec46929362c45b3d35f815"
          }
        },
        "3a8e184b568f4a80898a3c7d6cbcccf0": {
          "model_module": "@jupyter-widgets/controls",
          "model_name": "FloatProgressModel",
          "model_module_version": "1.5.0",
          "state": {
            "_view_name": "ProgressView",
            "style": "IPY_MODEL_1dedbeb0a9234068babb7c147fd09cef",
            "_dom_classes": [],
            "description": "",
            "_model_name": "FloatProgressModel",
            "bar_style": "success",
            "max": 1,
            "_view_module": "@jupyter-widgets/controls",
            "_model_module_version": "1.5.0",
            "value": 1,
            "_view_count": null,
            "_view_module_version": "1.5.0",
            "orientation": "horizontal",
            "min": 0,
            "description_tooltip": null,
            "_model_module": "@jupyter-widgets/controls",
            "layout": "IPY_MODEL_35ab395274ce414aaed742a970554b84"
          }
        },
        "17866ac5af4349e0b3969c94210687d2": {
          "model_module": "@jupyter-widgets/controls",
          "model_name": "HTMLModel",
          "model_module_version": "1.5.0",
          "state": {
            "_view_name": "HTMLView",
            "style": "IPY_MODEL_41bcf8dc705b45a3bc8aa5043db2b8df",
            "_dom_classes": [],
            "description": "",
            "_model_name": "HTMLModel",
            "placeholder": "​",
            "_view_module": "@jupyter-widgets/controls",
            "_model_module_version": "1.5.0",
            "value": " 2000000/? [02:46&lt;00:00, 12032.38it/s]",
            "_view_count": null,
            "_view_module_version": "1.5.0",
            "description_tooltip": null,
            "_model_module": "@jupyter-widgets/controls",
            "layout": "IPY_MODEL_0ae16756b1544f8f8e7e5ea16d62ed25"
          }
        },
        "ff0600dae1934b61a3e0e1c1b0ce45e8": {
          "model_module": "@jupyter-widgets/controls",
          "model_name": "DescriptionStyleModel",
          "model_module_version": "1.5.0",
          "state": {
            "_view_name": "StyleView",
            "_model_name": "DescriptionStyleModel",
            "description_width": "",
            "_view_module": "@jupyter-widgets/base",
            "_model_module_version": "1.5.0",
            "_view_count": null,
            "_view_module_version": "1.2.0",
            "_model_module": "@jupyter-widgets/controls"
          }
        },
        "a45ea093e1ec46929362c45b3d35f815": {
          "model_module": "@jupyter-widgets/base",
          "model_name": "LayoutModel",
          "model_module_version": "1.2.0",
          "state": {
            "_view_name": "LayoutView",
            "grid_template_rows": null,
            "right": null,
            "justify_content": null,
            "_view_module": "@jupyter-widgets/base",
            "overflow": null,
            "_model_module_version": "1.2.0",
            "_view_count": null,
            "flex_flow": null,
            "width": null,
            "min_width": null,
            "border": null,
            "align_items": null,
            "bottom": null,
            "_model_module": "@jupyter-widgets/base",
            "top": null,
            "grid_column": null,
            "overflow_y": null,
            "overflow_x": null,
            "grid_auto_flow": null,
            "grid_area": null,
            "grid_template_columns": null,
            "flex": null,
            "_model_name": "LayoutModel",
            "justify_items": null,
            "grid_row": null,
            "max_height": null,
            "align_content": null,
            "visibility": null,
            "align_self": null,
            "height": null,
            "min_height": null,
            "padding": null,
            "grid_auto_rows": null,
            "grid_gap": null,
            "max_width": null,
            "order": null,
            "_view_module_version": "1.2.0",
            "grid_template_areas": null,
            "object_position": null,
            "object_fit": null,
            "grid_auto_columns": null,
            "margin": null,
            "display": null,
            "left": null
          }
        },
        "1dedbeb0a9234068babb7c147fd09cef": {
          "model_module": "@jupyter-widgets/controls",
          "model_name": "ProgressStyleModel",
          "model_module_version": "1.5.0",
          "state": {
            "_view_name": "StyleView",
            "_model_name": "ProgressStyleModel",
            "description_width": "",
            "_view_module": "@jupyter-widgets/base",
            "_model_module_version": "1.5.0",
            "_view_count": null,
            "_view_module_version": "1.2.0",
            "bar_color": null,
            "_model_module": "@jupyter-widgets/controls"
          }
        },
        "35ab395274ce414aaed742a970554b84": {
          "model_module": "@jupyter-widgets/base",
          "model_name": "LayoutModel",
          "model_module_version": "1.2.0",
          "state": {
            "_view_name": "LayoutView",
            "grid_template_rows": null,
            "right": null,
            "justify_content": null,
            "_view_module": "@jupyter-widgets/base",
            "overflow": null,
            "_model_module_version": "1.2.0",
            "_view_count": null,
            "flex_flow": null,
            "width": "20px",
            "min_width": null,
            "border": null,
            "align_items": null,
            "bottom": null,
            "_model_module": "@jupyter-widgets/base",
            "top": null,
            "grid_column": null,
            "overflow_y": null,
            "overflow_x": null,
            "grid_auto_flow": null,
            "grid_area": null,
            "grid_template_columns": null,
            "flex": null,
            "_model_name": "LayoutModel",
            "justify_items": null,
            "grid_row": null,
            "max_height": null,
            "align_content": null,
            "visibility": null,
            "align_self": null,
            "height": null,
            "min_height": null,
            "padding": null,
            "grid_auto_rows": null,
            "grid_gap": null,
            "max_width": null,
            "order": null,
            "_view_module_version": "1.2.0",
            "grid_template_areas": null,
            "object_position": null,
            "object_fit": null,
            "grid_auto_columns": null,
            "margin": null,
            "display": null,
            "left": null
          }
        },
        "41bcf8dc705b45a3bc8aa5043db2b8df": {
          "model_module": "@jupyter-widgets/controls",
          "model_name": "DescriptionStyleModel",
          "model_module_version": "1.5.0",
          "state": {
            "_view_name": "StyleView",
            "_model_name": "DescriptionStyleModel",
            "description_width": "",
            "_view_module": "@jupyter-widgets/base",
            "_model_module_version": "1.5.0",
            "_view_count": null,
            "_view_module_version": "1.2.0",
            "_model_module": "@jupyter-widgets/controls"
          }
        },
        "0ae16756b1544f8f8e7e5ea16d62ed25": {
          "model_module": "@jupyter-widgets/base",
          "model_name": "LayoutModel",
          "model_module_version": "1.2.0",
          "state": {
            "_view_name": "LayoutView",
            "grid_template_rows": null,
            "right": null,
            "justify_content": null,
            "_view_module": "@jupyter-widgets/base",
            "overflow": null,
            "_model_module_version": "1.2.0",
            "_view_count": null,
            "flex_flow": null,
            "width": null,
            "min_width": null,
            "border": null,
            "align_items": null,
            "bottom": null,
            "_model_module": "@jupyter-widgets/base",
            "top": null,
            "grid_column": null,
            "overflow_y": null,
            "overflow_x": null,
            "grid_auto_flow": null,
            "grid_area": null,
            "grid_template_columns": null,
            "flex": null,
            "_model_name": "LayoutModel",
            "justify_items": null,
            "grid_row": null,
            "max_height": null,
            "align_content": null,
            "visibility": null,
            "align_self": null,
            "height": null,
            "min_height": null,
            "padding": null,
            "grid_auto_rows": null,
            "grid_gap": null,
            "max_width": null,
            "order": null,
            "_view_module_version": "1.2.0",
            "grid_template_areas": null,
            "object_position": null,
            "object_fit": null,
            "grid_auto_columns": null,
            "margin": null,
            "display": null,
            "left": null
          }
        },
        "55852fa1226e496c8cecd1d3f7a38ec2": {
          "model_module": "@jupyter-widgets/controls",
          "model_name": "HBoxModel",
          "model_module_version": "1.5.0",
          "state": {
            "_view_name": "HBoxView",
            "_dom_classes": [],
            "_model_name": "HBoxModel",
            "_view_module": "@jupyter-widgets/controls",
            "_model_module_version": "1.5.0",
            "_view_count": null,
            "_view_module_version": "1.5.0",
            "box_style": "",
            "layout": "IPY_MODEL_31c0d9837ec74f19b593ac8b16807ad2",
            "_model_module": "@jupyter-widgets/controls",
            "children": [
              "IPY_MODEL_ecf74ca7cf6b46e2972d060e023d92b4",
              "IPY_MODEL_ac6b046d963e464ea2d5f51ad5379de9",
              "IPY_MODEL_518c181e26a448999aa8ed4eac433a50"
            ]
          }
        },
        "31c0d9837ec74f19b593ac8b16807ad2": {
          "model_module": "@jupyter-widgets/base",
          "model_name": "LayoutModel",
          "model_module_version": "1.2.0",
          "state": {
            "_view_name": "LayoutView",
            "grid_template_rows": null,
            "right": null,
            "justify_content": null,
            "_view_module": "@jupyter-widgets/base",
            "overflow": null,
            "_model_module_version": "1.2.0",
            "_view_count": null,
            "flex_flow": null,
            "width": null,
            "min_width": null,
            "border": null,
            "align_items": null,
            "bottom": null,
            "_model_module": "@jupyter-widgets/base",
            "top": null,
            "grid_column": null,
            "overflow_y": null,
            "overflow_x": null,
            "grid_auto_flow": null,
            "grid_area": null,
            "grid_template_columns": null,
            "flex": null,
            "_model_name": "LayoutModel",
            "justify_items": null,
            "grid_row": null,
            "max_height": null,
            "align_content": null,
            "visibility": null,
            "align_self": null,
            "height": null,
            "min_height": null,
            "padding": null,
            "grid_auto_rows": null,
            "grid_gap": null,
            "max_width": null,
            "order": null,
            "_view_module_version": "1.2.0",
            "grid_template_areas": null,
            "object_position": null,
            "object_fit": null,
            "grid_auto_columns": null,
            "margin": null,
            "display": null,
            "left": null
          }
        },
        "ecf74ca7cf6b46e2972d060e023d92b4": {
          "model_module": "@jupyter-widgets/controls",
          "model_name": "HTMLModel",
          "model_module_version": "1.5.0",
          "state": {
            "_view_name": "HTMLView",
            "style": "IPY_MODEL_e9016e07d96f44e0885c4b1bed72242b",
            "_dom_classes": [],
            "description": "",
            "_model_name": "HTMLModel",
            "placeholder": "​",
            "_view_module": "@jupyter-widgets/controls",
            "_model_module_version": "1.5.0",
            "value": "100%",
            "_view_count": null,
            "_view_module_version": "1.5.0",
            "description_tooltip": null,
            "_model_module": "@jupyter-widgets/controls",
            "layout": "IPY_MODEL_591ec37d8be24e0fad16a4034a48581b"
          }
        },
        "ac6b046d963e464ea2d5f51ad5379de9": {
          "model_module": "@jupyter-widgets/controls",
          "model_name": "FloatProgressModel",
          "model_module_version": "1.5.0",
          "state": {
            "_view_name": "ProgressView",
            "style": "IPY_MODEL_af5be88af81e4116993da723fa5035b5",
            "_dom_classes": [],
            "description": "",
            "_model_name": "FloatProgressModel",
            "bar_style": "success",
            "max": 3090,
            "_view_module": "@jupyter-widgets/controls",
            "_model_module_version": "1.5.0",
            "value": 3090,
            "_view_count": null,
            "_view_module_version": "1.5.0",
            "orientation": "horizontal",
            "min": 0,
            "description_tooltip": null,
            "_model_module": "@jupyter-widgets/controls",
            "layout": "IPY_MODEL_6fefc9d7b5244553938fede95c62e632"
          }
        },
        "518c181e26a448999aa8ed4eac433a50": {
          "model_module": "@jupyter-widgets/controls",
          "model_name": "HTMLModel",
          "model_module_version": "1.5.0",
          "state": {
            "_view_name": "HTMLView",
            "style": "IPY_MODEL_71a4b37e2b6746819e121a20dd8fdec5",
            "_dom_classes": [],
            "description": "",
            "_model_name": "HTMLModel",
            "placeholder": "​",
            "_view_module": "@jupyter-widgets/controls",
            "_model_module_version": "1.5.0",
            "value": " 3090/3090 [00:00&lt;00:00, 38226.08it/s]",
            "_view_count": null,
            "_view_module_version": "1.5.0",
            "description_tooltip": null,
            "_model_module": "@jupyter-widgets/controls",
            "layout": "IPY_MODEL_fdd6d5c0fcc84c89b510518399135910"
          }
        },
        "e9016e07d96f44e0885c4b1bed72242b": {
          "model_module": "@jupyter-widgets/controls",
          "model_name": "DescriptionStyleModel",
          "model_module_version": "1.5.0",
          "state": {
            "_view_name": "StyleView",
            "_model_name": "DescriptionStyleModel",
            "description_width": "",
            "_view_module": "@jupyter-widgets/base",
            "_model_module_version": "1.5.0",
            "_view_count": null,
            "_view_module_version": "1.2.0",
            "_model_module": "@jupyter-widgets/controls"
          }
        },
        "591ec37d8be24e0fad16a4034a48581b": {
          "model_module": "@jupyter-widgets/base",
          "model_name": "LayoutModel",
          "model_module_version": "1.2.0",
          "state": {
            "_view_name": "LayoutView",
            "grid_template_rows": null,
            "right": null,
            "justify_content": null,
            "_view_module": "@jupyter-widgets/base",
            "overflow": null,
            "_model_module_version": "1.2.0",
            "_view_count": null,
            "flex_flow": null,
            "width": null,
            "min_width": null,
            "border": null,
            "align_items": null,
            "bottom": null,
            "_model_module": "@jupyter-widgets/base",
            "top": null,
            "grid_column": null,
            "overflow_y": null,
            "overflow_x": null,
            "grid_auto_flow": null,
            "grid_area": null,
            "grid_template_columns": null,
            "flex": null,
            "_model_name": "LayoutModel",
            "justify_items": null,
            "grid_row": null,
            "max_height": null,
            "align_content": null,
            "visibility": null,
            "align_self": null,
            "height": null,
            "min_height": null,
            "padding": null,
            "grid_auto_rows": null,
            "grid_gap": null,
            "max_width": null,
            "order": null,
            "_view_module_version": "1.2.0",
            "grid_template_areas": null,
            "object_position": null,
            "object_fit": null,
            "grid_auto_columns": null,
            "margin": null,
            "display": null,
            "left": null
          }
        },
        "af5be88af81e4116993da723fa5035b5": {
          "model_module": "@jupyter-widgets/controls",
          "model_name": "ProgressStyleModel",
          "model_module_version": "1.5.0",
          "state": {
            "_view_name": "StyleView",
            "_model_name": "ProgressStyleModel",
            "description_width": "",
            "_view_module": "@jupyter-widgets/base",
            "_model_module_version": "1.5.0",
            "_view_count": null,
            "_view_module_version": "1.2.0",
            "bar_color": null,
            "_model_module": "@jupyter-widgets/controls"
          }
        },
        "6fefc9d7b5244553938fede95c62e632": {
          "model_module": "@jupyter-widgets/base",
          "model_name": "LayoutModel",
          "model_module_version": "1.2.0",
          "state": {
            "_view_name": "LayoutView",
            "grid_template_rows": null,
            "right": null,
            "justify_content": null,
            "_view_module": "@jupyter-widgets/base",
            "overflow": null,
            "_model_module_version": "1.2.0",
            "_view_count": null,
            "flex_flow": null,
            "width": null,
            "min_width": null,
            "border": null,
            "align_items": null,
            "bottom": null,
            "_model_module": "@jupyter-widgets/base",
            "top": null,
            "grid_column": null,
            "overflow_y": null,
            "overflow_x": null,
            "grid_auto_flow": null,
            "grid_area": null,
            "grid_template_columns": null,
            "flex": null,
            "_model_name": "LayoutModel",
            "justify_items": null,
            "grid_row": null,
            "max_height": null,
            "align_content": null,
            "visibility": null,
            "align_self": null,
            "height": null,
            "min_height": null,
            "padding": null,
            "grid_auto_rows": null,
            "grid_gap": null,
            "max_width": null,
            "order": null,
            "_view_module_version": "1.2.0",
            "grid_template_areas": null,
            "object_position": null,
            "object_fit": null,
            "grid_auto_columns": null,
            "margin": null,
            "display": null,
            "left": null
          }
        },
        "71a4b37e2b6746819e121a20dd8fdec5": {
          "model_module": "@jupyter-widgets/controls",
          "model_name": "DescriptionStyleModel",
          "model_module_version": "1.5.0",
          "state": {
            "_view_name": "StyleView",
            "_model_name": "DescriptionStyleModel",
            "description_width": "",
            "_view_module": "@jupyter-widgets/base",
            "_model_module_version": "1.5.0",
            "_view_count": null,
            "_view_module_version": "1.2.0",
            "_model_module": "@jupyter-widgets/controls"
          }
        },
        "fdd6d5c0fcc84c89b510518399135910": {
          "model_module": "@jupyter-widgets/base",
          "model_name": "LayoutModel",
          "model_module_version": "1.2.0",
          "state": {
            "_view_name": "LayoutView",
            "grid_template_rows": null,
            "right": null,
            "justify_content": null,
            "_view_module": "@jupyter-widgets/base",
            "overflow": null,
            "_model_module_version": "1.2.0",
            "_view_count": null,
            "flex_flow": null,
            "width": null,
            "min_width": null,
            "border": null,
            "align_items": null,
            "bottom": null,
            "_model_module": "@jupyter-widgets/base",
            "top": null,
            "grid_column": null,
            "overflow_y": null,
            "overflow_x": null,
            "grid_auto_flow": null,
            "grid_area": null,
            "grid_template_columns": null,
            "flex": null,
            "_model_name": "LayoutModel",
            "justify_items": null,
            "grid_row": null,
            "max_height": null,
            "align_content": null,
            "visibility": null,
            "align_self": null,
            "height": null,
            "min_height": null,
            "padding": null,
            "grid_auto_rows": null,
            "grid_gap": null,
            "max_width": null,
            "order": null,
            "_view_module_version": "1.2.0",
            "grid_template_areas": null,
            "object_position": null,
            "object_fit": null,
            "grid_auto_columns": null,
            "margin": null,
            "display": null,
            "left": null
          }
        }
      }
    }
  },
  "cells": [
    {
      "cell_type": "markdown",
      "metadata": {
        "id": "view-in-github",
        "colab_type": "text"
      },
      "source": [
        "<a href=\"https://colab.research.google.com/github/DheerajNair/Covid-19-Sentiment-Analysis-using-word-embedding/blob/main/Covid19-Sentiment_analysis.ipynb\" target=\"_parent\"><img src=\"https://colab.research.google.com/assets/colab-badge.svg\" alt=\"Open In Colab\"/></a>"
      ]
    },
    {
      "cell_type": "markdown",
      "source": [
        "#Initial Setup"
      ],
      "metadata": {
        "id": "HX6qXXRux12J"
      }
    },
    {
      "cell_type": "code",
      "source": [
        "import torch\n",
        "import pandas as pd\n",
        "\n",
        "\n",
        "import os\n",
        "import io\n",
        "import codecs\n",
        "import joblib\n",
        "import numpy as np\n",
        "from numpy import percentile\n",
        "import matplotlib.pyplot as plt\n",
        "import seaborn as sns\n",
        "import matplotlib\n",
        "import re # for regular expressions\n",
        "import pandas as pd \n",
        "pd.set_option(\"display.max_colwidth\", 200) \n",
        "import string\n",
        "import tensorflow as tf\n",
        "\n",
        "from datetime import datetime\n",
        "from tqdm import notebook\n",
        "from sklearn.model_selection import train_test_split\n",
        "from sklearn.metrics import accuracy_score\n",
        "\n",
        "from nltk.tokenize import RegexpTokenizer\n",
        "from tensorflow.keras.preprocessing.text import Tokenizer\n",
        "from tensorflow.keras.preprocessing.sequence import pad_sequences\n",
        "\n",
        "from tensorflow.keras.models import Model\n",
        "from tensorflow.keras.layers import Input, Embedding, Dense, Dropout, concatenate\n",
        "from tensorflow.keras.layers import Conv1D, GlobalMaxPooling1D\n",
        "\n",
        "\n",
        "import warnings \n",
        "warnings.filterwarnings(\"ignore\")\n",
        "\n",
        "%matplotlib inline"
      ],
      "metadata": {
        "id": "rQC8ruxRsjfs"
      },
      "execution_count": 1,
      "outputs": []
    },
    {
      "cell_type": "code",
      "source": [
        "#load data\n",
        "df = pd.read_csv('/content/drive/MyDrive/finalSentimentdata2.csv')"
      ],
      "metadata": {
        "id": "6HGp8lDHqyd0"
      },
      "execution_count": 2,
      "outputs": []
    },
    {
      "cell_type": "code",
      "source": [
        "#preview\n",
        "df.head()"
      ],
      "metadata": {
        "colab": {
          "base_uri": "https://localhost:8080/",
          "height": 285
        },
        "id": "FiF7f-pFq1uV",
        "outputId": "b25f7f27-f955-4b53-bbaa-614080929b19"
      },
      "execution_count": 3,
      "outputs": [
        {
          "output_type": "execute_result",
          "data": {
            "text/html": [
              "\n",
              "  <div id=\"df-89437821-5a15-45eb-8855-d940d5284cb3\">\n",
              "    <div class=\"colab-df-container\">\n",
              "      <div>\n",
              "<style scoped>\n",
              "    .dataframe tbody tr th:only-of-type {\n",
              "        vertical-align: middle;\n",
              "    }\n",
              "\n",
              "    .dataframe tbody tr th {\n",
              "        vertical-align: top;\n",
              "    }\n",
              "\n",
              "    .dataframe thead th {\n",
              "        text-align: right;\n",
              "    }\n",
              "</style>\n",
              "<table border=\"1\" class=\"dataframe\">\n",
              "  <thead>\n",
              "    <tr style=\"text-align: right;\">\n",
              "      <th></th>\n",
              "      <th>Unnamed: 0</th>\n",
              "      <th>sentiment</th>\n",
              "      <th>text</th>\n",
              "    </tr>\n",
              "  </thead>\n",
              "  <tbody>\n",
              "    <tr>\n",
              "      <th>0</th>\n",
              "      <td>3204</td>\n",
              "      <td>sad</td>\n",
              "      <td>agree the poor in india are treated badly their poors seek a living in singapore and are treated like citizens they are given free medical treatment given food daily sim cards to call home to tell...</td>\n",
              "    </tr>\n",
              "    <tr>\n",
              "      <th>1</th>\n",
              "      <td>1431</td>\n",
              "      <td>joy</td>\n",
              "      <td>if only i could have spent the with this cutie vc sakshi__s i n g h coast crossing republik …</td>\n",
              "    </tr>\n",
              "    <tr>\n",
              "      <th>2</th>\n",
              "      <td>654</td>\n",
              "      <td>joy</td>\n",
              "      <td>will nature conservation remain a priority in post corona bangladesh | the daily star</td>\n",
              "    </tr>\n",
              "    <tr>\n",
              "      <th>3</th>\n",
              "      <td>2530</td>\n",
              "      <td>sad</td>\n",
              "      <td>coronavirus disappearing in italy show this to \"intellectuals\" who say lockdowns do not work …</td>\n",
              "    </tr>\n",
              "    <tr>\n",
              "      <th>4</th>\n",
              "      <td>2296</td>\n",
              "      <td>sad</td>\n",
              "      <td>uk records lowest daily virus death toll since start of lockdown govt</td>\n",
              "    </tr>\n",
              "  </tbody>\n",
              "</table>\n",
              "</div>\n",
              "      <button class=\"colab-df-convert\" onclick=\"convertToInteractive('df-89437821-5a15-45eb-8855-d940d5284cb3')\"\n",
              "              title=\"Convert this dataframe to an interactive table.\"\n",
              "              style=\"display:none;\">\n",
              "        \n",
              "  <svg xmlns=\"http://www.w3.org/2000/svg\" height=\"24px\"viewBox=\"0 0 24 24\"\n",
              "       width=\"24px\">\n",
              "    <path d=\"M0 0h24v24H0V0z\" fill=\"none\"/>\n",
              "    <path d=\"M18.56 5.44l.94 2.06.94-2.06 2.06-.94-2.06-.94-.94-2.06-.94 2.06-2.06.94zm-11 1L8.5 8.5l.94-2.06 2.06-.94-2.06-.94L8.5 2.5l-.94 2.06-2.06.94zm10 10l.94 2.06.94-2.06 2.06-.94-2.06-.94-.94-2.06-.94 2.06-2.06.94z\"/><path d=\"M17.41 7.96l-1.37-1.37c-.4-.4-.92-.59-1.43-.59-.52 0-1.04.2-1.43.59L10.3 9.45l-7.72 7.72c-.78.78-.78 2.05 0 2.83L4 21.41c.39.39.9.59 1.41.59.51 0 1.02-.2 1.41-.59l7.78-7.78 2.81-2.81c.8-.78.8-2.07 0-2.86zM5.41 20L4 18.59l7.72-7.72 1.47 1.35L5.41 20z\"/>\n",
              "  </svg>\n",
              "      </button>\n",
              "      \n",
              "  <style>\n",
              "    .colab-df-container {\n",
              "      display:flex;\n",
              "      flex-wrap:wrap;\n",
              "      gap: 12px;\n",
              "    }\n",
              "\n",
              "    .colab-df-convert {\n",
              "      background-color: #E8F0FE;\n",
              "      border: none;\n",
              "      border-radius: 50%;\n",
              "      cursor: pointer;\n",
              "      display: none;\n",
              "      fill: #1967D2;\n",
              "      height: 32px;\n",
              "      padding: 0 0 0 0;\n",
              "      width: 32px;\n",
              "    }\n",
              "\n",
              "    .colab-df-convert:hover {\n",
              "      background-color: #E2EBFA;\n",
              "      box-shadow: 0px 1px 2px rgba(60, 64, 67, 0.3), 0px 1px 3px 1px rgba(60, 64, 67, 0.15);\n",
              "      fill: #174EA6;\n",
              "    }\n",
              "\n",
              "    [theme=dark] .colab-df-convert {\n",
              "      background-color: #3B4455;\n",
              "      fill: #D2E3FC;\n",
              "    }\n",
              "\n",
              "    [theme=dark] .colab-df-convert:hover {\n",
              "      background-color: #434B5C;\n",
              "      box-shadow: 0px 1px 3px 1px rgba(0, 0, 0, 0.15);\n",
              "      filter: drop-shadow(0px 1px 2px rgba(0, 0, 0, 0.3));\n",
              "      fill: #FFFFFF;\n",
              "    }\n",
              "  </style>\n",
              "\n",
              "      <script>\n",
              "        const buttonEl =\n",
              "          document.querySelector('#df-89437821-5a15-45eb-8855-d940d5284cb3 button.colab-df-convert');\n",
              "        buttonEl.style.display =\n",
              "          google.colab.kernel.accessAllowed ? 'block' : 'none';\n",
              "\n",
              "        async function convertToInteractive(key) {\n",
              "          const element = document.querySelector('#df-89437821-5a15-45eb-8855-d940d5284cb3');\n",
              "          const dataTable =\n",
              "            await google.colab.kernel.invokeFunction('convertToInteractive',\n",
              "                                                     [key], {});\n",
              "          if (!dataTable) return;\n",
              "\n",
              "          const docLinkHtml = 'Like what you see? Visit the ' +\n",
              "            '<a target=\"_blank\" href=https://colab.research.google.com/notebooks/data_table.ipynb>data table notebook</a>'\n",
              "            + ' to learn more about interactive tables.';\n",
              "          element.innerHTML = '';\n",
              "          dataTable['output_type'] = 'display_data';\n",
              "          await google.colab.output.renderOutput(dataTable, element);\n",
              "          const docLink = document.createElement('div');\n",
              "          docLink.innerHTML = docLinkHtml;\n",
              "          element.appendChild(docLink);\n",
              "        }\n",
              "      </script>\n",
              "    </div>\n",
              "  </div>\n",
              "  "
            ],
            "text/plain": [
              "   Unnamed: 0  ...                                                                                                                                                                                                     text\n",
              "0        3204  ...  agree the poor in india are treated badly their poors seek a living in singapore and are treated like citizens they are given free medical treatment given food daily sim cards to call home to tell...\n",
              "1        1431  ...                                                                                                            if only i could have spent the with this cutie vc sakshi__s i n g h coast crossing republik …\n",
              "2         654  ...                                                                                                                    will nature conservation remain a priority in post corona bangladesh | the daily star\n",
              "3        2530  ...                                                                                                           coronavirus disappearing in italy show this to \"intellectuals\" who say lockdowns do not work …\n",
              "4        2296  ...                                                                                                                                    uk records lowest daily virus death toll since start of lockdown govt\n",
              "\n",
              "[5 rows x 3 columns]"
            ]
          },
          "metadata": {},
          "execution_count": 3
        }
      ]
    },
    {
      "cell_type": "code",
      "source": [
        "#Unique Values In Each Feature Coulmn\n",
        "\n",
        "unique_df = pd.DataFrame()\n",
        "unique_df['Features'] = df.columns\n",
        "unique=[]\n",
        "for i in df.columns:\n",
        "    unique.append(df[i].nunique())\n",
        "unique_df['Uniques'] = unique\n",
        "\n",
        "f, ax = plt.subplots(1,1, figsize=(15,7))\n",
        "\n",
        "splot = sns.barplot(x=unique_df['Features'], y=unique_df['Uniques'], alpha=0.8)\n",
        "for p in splot.patches:\n",
        "    splot.annotate(format(p.get_height(), '.0f'), (p.get_x() + p.get_width() / 2., p.get_height()), ha = 'center',\n",
        "                   va = 'center', xytext = (0, 9), textcoords = 'offset points')\n",
        "plt.title('Bar plot for number of unique values in each column',weight='bold', size=15)\n",
        "plt.ylabel('#Unique values', size=12, weight='bold')\n",
        "plt.xlabel('Features', size=12, weight='bold')\n",
        "plt.xticks(rotation=90)\n",
        "plt.show()"
      ],
      "metadata": {
        "colab": {
          "base_uri": "https://localhost:8080/",
          "height": 514
        },
        "id": "iJ4zIVsGrHQB",
        "outputId": "14d19182-cfca-41d0-fd25-fee1ae27fa54"
      },
      "execution_count": 4,
      "outputs": [
        {
          "output_type": "display_data",
          "data": {
            "image/png": "[encoded data removed]",
            "text/plain": [
              "<Figure size 1080x504 with 1 Axes>"
            ]
          },
          "metadata": {
            "needs_background": "light"
          }
        }
      ]
    },
    {
      "cell_type": "markdown",
      "source": [
        "# Feature Set Generation"
      ],
      "metadata": {
        "id": "X9nURz6os1om"
      }
    },
    {
      "cell_type": "code",
      "source": [
        "#Number of characters \n",
        "def count_chars(text):\n",
        "    return len(text)\n",
        "    print(text)\n",
        "\n",
        "df['char_count'] = df[\"text\"].apply(lambda x:count_chars(x))\n"
      ],
      "metadata": {
        "id": "aBY3aKH9Rmzb"
      },
      "execution_count": 5,
      "outputs": []
    },
    {
      "cell_type": "code",
      "source": [
        "  df['char_count']"
      ],
      "metadata": {
        "colab": {
          "base_uri": "https://localhost:8080/"
        },
        "id": "JBy0s3f0S_YJ",
        "outputId": "18de02d4-f317-4c7c-d215-ab7c2257f4b9"
      },
      "execution_count": 6,
      "outputs": [
        {
          "output_type": "execute_result",
          "data": {
            "text/plain": [
              "0       270\n",
              "1        93\n",
              "2        85\n",
              "3        94\n",
              "4        69\n",
              "       ... \n",
              "3085    243\n",
              "3086    101\n",
              "3087     66\n",
              "3088    277\n",
              "3089    100\n",
              "Name: char_count, Length: 3090, dtype: int64"
            ]
          },
          "metadata": {},
          "execution_count": 6
        }
      ]
    },
    {
      "cell_type": "code",
      "source": [
        "#Number of words\n",
        "def count_words(text):\n",
        "    return len(text.split())\n",
        "\n",
        "df['word_count'] = df[\"text\"].apply(lambda x:count_words(x))"
      ],
      "metadata": {
        "id": "xpLmZYMjTy1b"
      },
      "execution_count": 7,
      "outputs": []
    },
    {
      "cell_type": "code",
      "source": [
        "df['word_count']"
      ],
      "metadata": {
        "colab": {
          "base_uri": "https://localhost:8080/"
        },
        "id": "29EM0obhU-U_",
        "outputId": "ff5c9369-6fb0-4a3d-bfaf-a85f47631dc1"
      },
      "execution_count": 8,
      "outputs": [
        {
          "output_type": "execute_result",
          "data": {
            "text/plain": [
              "0       50\n",
              "1       20\n",
              "2       14\n",
              "3       15\n",
              "4       12\n",
              "        ..\n",
              "3085    46\n",
              "3086    20\n",
              "3087    10\n",
              "3088    51\n",
              "3089    19\n",
              "Name: word_count, Length: 3090, dtype: int64"
            ]
          },
          "metadata": {},
          "execution_count": 8
        }
      ]
    },
    {
      "cell_type": "code",
      "source": [
        "#Number of capital characters\n",
        "def count_capital_chars(text):\n",
        "    count=0\n",
        "    for i in text:\n",
        "        if i.isupper():\n",
        "            count+=1\n",
        "    return count\n",
        "\n",
        "df['capital_char_count'] = df[\"text\"].apply(lambda x:count_capital_chars(x))"
      ],
      "metadata": {
        "id": "GxW9SBXaiav0"
      },
      "execution_count": 9,
      "outputs": []
    },
    {
      "cell_type": "code",
      "source": [
        "#Number of capital words\n",
        "def count_capital_words(text):\n",
        "    return sum(map(str.isupper,text.split()))\n",
        "\n",
        "df['capital_word_count'] = df[\"text\"].apply(lambda x:count_capital_words(x))"
      ],
      "metadata": {
        "id": "XHwmHJ2winOW"
      },
      "execution_count": 10,
      "outputs": []
    },
    {
      "cell_type": "code",
      "source": [
        "#Count the number of punctuations\n",
        "def count_punctuations(text):\n",
        "    punctuations='!\"#$%&\\'()*+,-./:;<=>?@[\\]^_`{|}~'\n",
        "    d=dict()\n",
        "    for i in punctuations:\n",
        "        d[str(i)+' count']=text.count(i)\n",
        "    return d \n",
        "\n",
        "df['punct_count'] = df[\"text\"].apply(lambda x:count_punctuations(x))"
      ],
      "metadata": {
        "id": "wC8EPwIPi4Fx"
      },
      "execution_count": 11,
      "outputs": []
    },
    {
      "cell_type": "code",
      "source": [
        "#Number of words in quotes\n",
        "def count_words_in_quotes(text):\n",
        "    x = re.findall(\"'.'|\\\".\\\"\", text)\n",
        "    count=0\n",
        "    if x is None:\n",
        "        return 0\n",
        "    else:\n",
        "        for i in x:\n",
        "            t=i[1:-1]\n",
        "            count+=count_words(t)\n",
        "        return count\n",
        "\n",
        "df['quoted_word_count'] = df[\"text\"].apply(lambda x:count_words_in_quotes(x))"
      ],
      "metadata": {
        "id": "p_vn_-jtjNuH"
      },
      "execution_count": 12,
      "outputs": []
    },
    {
      "cell_type": "code",
      "source": [
        "import nltk\n",
        "nltk.download('punkt')\n",
        "\n",
        "from nltk.tokenize import word_tokenize\n"
      ],
      "metadata": {
        "colab": {
          "base_uri": "https://localhost:8080/"
        },
        "id": "-hl7xBroKqUn",
        "outputId": "eeb02315-e879-4f98-dace-1c23e60f5fbc"
      },
      "execution_count": 13,
      "outputs": [
        {
          "output_type": "stream",
          "name": "stdout",
          "text": [
            "[nltk_data] Downloading package punkt to /root/nltk_data...\n",
            "[nltk_data]   Package punkt is already up-to-date!\n"
          ]
        }
      ]
    },
    {
      "cell_type": "code",
      "source": [
        "#Number of sentences\n",
        "def count_sent(text):\n",
        "    return len(nltk.sent_tokenize(text))\n",
        "\n",
        "df['sent_count'] = df[\"text\"].apply(lambda x:count_sent(x))"
      ],
      "metadata": {
        "id": "U-uY8zSZkIiS"
      },
      "execution_count": 14,
      "outputs": []
    },
    {
      "cell_type": "code",
      "source": [
        "#Count the number of unique words\n",
        "def count_unique_words(text):\n",
        "    return len(set(text.split()))\n",
        "\n",
        "df['unique_word_count'] = df[\"text\"].apply(lambda x:count_unique_words(x))"
      ],
      "metadata": {
        "id": "dGgLMgj3kktJ"
      },
      "execution_count": 15,
      "outputs": []
    },
    {
      "cell_type": "code",
      "source": [
        "#Count of hashtags\n",
        "def count_htags(text):\n",
        "    x = re.findall(r'(#w[A-Za-z0-9]*)', text)\n",
        "    return len(x) \n",
        "\n",
        "df['htag_count'] = df[\"text\"].apply(lambda x:count_htags(x))"
      ],
      "metadata": {
        "id": "xHBHPzALk87t"
      },
      "execution_count": 16,
      "outputs": []
    },
    {
      "cell_type": "code",
      "source": [
        "#Count of mentions\n",
        "def count_mentions(text):\n",
        "    x = re.findall(r'(@w[A-Za-z0-9]*)', text)\n",
        "    return len(x)\n",
        "\n",
        "df['mention_count'] = df[\"text\"].apply(lambda x:count_mentions(x))"
      ],
      "metadata": {
        "id": "L8s7Q3QElOT5"
      },
      "execution_count": 17,
      "outputs": []
    },
    {
      "cell_type": "code",
      "source": [
        "#Count of stopwords\n",
        "from nltk.corpus import stopwords\n",
        "nltk.download('stopwords')\n",
        "\n",
        "def count_stopwords(text):\n",
        "    stop_words = set(stopwords.words('english'))  \n",
        "    word_tokens = word_tokenize(text)\n",
        "    stopwords_x = [w for w in word_tokens if w in stop_words]\n",
        "    return len(stopwords_x)\n",
        "\n",
        "df['stopword_count'] = df[\"text\"].apply(lambda x:count_stopwords(x))"
      ],
      "metadata": {
        "id": "l3kN4-UplXmV",
        "colab": {
          "base_uri": "https://localhost:8080/"
        },
        "outputId": "5ceaa8a3-a2ab-4c49-dc8c-7fe3f36f7650"
      },
      "execution_count": 18,
      "outputs": [
        {
          "output_type": "stream",
          "name": "stdout",
          "text": [
            "[nltk_data] Downloading package stopwords to /root/nltk_data...\n",
            "[nltk_data]   Package stopwords is already up-to-date!\n"
          ]
        }
      ]
    },
    {
      "cell_type": "code",
      "source": [
        "#Calculating average word length\n",
        "\n",
        "df['avg_wordlength'] = df['char_count']/df['word_count']"
      ],
      "metadata": {
        "id": "edQz1lsPlh7G"
      },
      "execution_count": 19,
      "outputs": []
    },
    {
      "cell_type": "code",
      "source": [
        "#Calculating average sentence length\n",
        "\n",
        "df['avg_sentlength'] = df['word_count']/df['sent_count']"
      ],
      "metadata": {
        "id": "BbaHLmw9nzuC"
      },
      "execution_count": 20,
      "outputs": []
    },
    {
      "cell_type": "code",
      "source": [
        "#Unique words vs word count feature\n",
        "\n",
        "df['unique_vs_words'] = df['unique_word_count']/df['word_count']"
      ],
      "metadata": {
        "id": "Slb-bxyXn5Rm"
      },
      "execution_count": 21,
      "outputs": []
    },
    {
      "cell_type": "code",
      "source": [
        "#Stopwords count vs words counts feature\n",
        "\n",
        "df['stopwords_vs_words'] = df['stopword_count']/df['word_count']"
      ],
      "metadata": {
        "id": "u-H34l4hoCCi"
      },
      "execution_count": 22,
      "outputs": []
    },
    {
      "cell_type": "code",
      "source": [
        "df.columns"
      ],
      "metadata": {
        "colab": {
          "base_uri": "https://localhost:8080/"
        },
        "id": "TXJjRh5goHgf",
        "outputId": "2a796571-f03f-407b-ae13-c01f3708dbf1"
      },
      "execution_count": 23,
      "outputs": [
        {
          "output_type": "execute_result",
          "data": {
            "text/plain": [
              "Index(['Unnamed: 0', 'sentiment', 'text', 'char_count', 'word_count',\n",
              "       'capital_char_count', 'capital_word_count', 'punct_count',\n",
              "       'quoted_word_count', 'sent_count', 'unique_word_count', 'htag_count',\n",
              "       'mention_count', 'stopword_count', 'avg_wordlength', 'avg_sentlength',\n",
              "       'unique_vs_words', 'stopwords_vs_words'],\n",
              "      dtype='object')"
            ]
          },
          "metadata": {},
          "execution_count": 23
        }
      ]
    },
    {
      "cell_type": "code",
      "source": [
        "df['sentiment'].value_counts()"
      ],
      "metadata": {
        "colab": {
          "base_uri": "https://localhost:8080/"
        },
        "id": "gFw2ZsdNuRET",
        "outputId": "49259998-9454-4719-d835-c6f954393ae9"
      },
      "execution_count": 24,
      "outputs": [
        {
          "output_type": "execute_result",
          "data": {
            "text/plain": [
              "fear     801\n",
              "sad      795\n",
              "anger    767\n",
              "joy      727\n",
              "Name: sentiment, dtype: int64"
            ]
          },
          "metadata": {},
          "execution_count": 24
        }
      ]
    },
    {
      "cell_type": "code",
      "source": [
        "#top sentiments \n",
        "\n",
        "sns.set(font_scale=1.1)\n",
        "sns.catplot(\"sentiment\", data=df, kind=\"count\", height=8)"
      ],
      "metadata": {
        "colab": {
          "base_uri": "https://localhost:8080/",
          "height": 595
        },
        "id": "7DcsCpDZqMLF",
        "outputId": "eac41fc2-5cf6-43e4-9f05-ec4585a8e10b"
      },
      "execution_count": 25,
      "outputs": [
        {
          "output_type": "execute_result",
          "data": {
            "text/plain": [
              "<seaborn.axisgrid.FacetGrid at 0x7f2cbd304690>"
            ]
          },
          "metadata": {},
          "execution_count": 25
        },
        {
          "output_type": "display_data",
          "data": {
            "image/png": "[encoded data removed]",
            "text/plain": [
              "<Figure size 576x576 with 1 Axes>"
            ]
          },
          "metadata": {}
        }
      ]
    },
    {
      "cell_type": "markdown",
      "source": [
        "# Data Preprocessing\n"
      ],
      "metadata": {
        "id": "rHnneK_2sqxb"
      }
    },
    {
      "cell_type": "code",
      "source": [
        "#Removing @user\n",
        "def remove_pattern(input_txt, pattern):\n",
        "    r = re.findall(pattern, input_txt)\n",
        "    for i in r:\n",
        "        input_txt = re.sub(i,'',input_txt)\n",
        "    return input_txt"
      ],
      "metadata": {
        "id": "z_yaxQyEsx3F"
      },
      "execution_count": 26,
      "outputs": []
    },
    {
      "cell_type": "code",
      "source": [
        "# create new column with removed @user\n",
        "df['Tweet'] = np.vectorize(remove_pattern)(df['text'], '@[\\w]*')"
      ],
      "metadata": {
        "id": "yi0N0vHStC59"
      },
      "execution_count": 27,
      "outputs": []
    },
    {
      "cell_type": "code",
      "source": [
        "df.head(2)"
      ],
      "metadata": {
        "colab": {
          "base_uri": "https://localhost:8080/",
          "height": 0
        },
        "id": "9lxC7rT8tG2o",
        "outputId": "4f510c2c-2924-452f-ed3c-21dae3cc34f3"
      },
      "execution_count": 28,
      "outputs": [
        {
          "output_type": "execute_result",
          "data": {
            "text/html": [
              "\n",
              "  <div id=\"df-895ae147-c1fd-45b2-91fb-f688a7b541f0\">\n",
              "    <div class=\"colab-df-container\">\n",
              "      <div>\n",
              "<style scoped>\n",
              "    .dataframe tbody tr th:only-of-type {\n",
              "        vertical-align: middle;\n",
              "    }\n",
              "\n",
              "    .dataframe tbody tr th {\n",
              "        vertical-align: top;\n",
              "    }\n",
              "\n",
              "    .dataframe thead th {\n",
              "        text-align: right;\n",
              "    }\n",
              "</style>\n",
              "<table border=\"1\" class=\"dataframe\">\n",
              "  <thead>\n",
              "    <tr style=\"text-align: right;\">\n",
              "      <th></th>\n",
              "      <th>Unnamed: 0</th>\n",
              "      <th>sentiment</th>\n",
              "      <th>text</th>\n",
              "      <th>char_count</th>\n",
              "      <th>word_count</th>\n",
              "      <th>capital_char_count</th>\n",
              "      <th>capital_word_count</th>\n",
              "      <th>punct_count</th>\n",
              "      <th>quoted_word_count</th>\n",
              "      <th>sent_count</th>\n",
              "      <th>unique_word_count</th>\n",
              "      <th>htag_count</th>\n",
              "      <th>mention_count</th>\n",
              "      <th>stopword_count</th>\n",
              "      <th>avg_wordlength</th>\n",
              "      <th>avg_sentlength</th>\n",
              "      <th>unique_vs_words</th>\n",
              "      <th>stopwords_vs_words</th>\n",
              "      <th>Tweet</th>\n",
              "    </tr>\n",
              "  </thead>\n",
              "  <tbody>\n",
              "    <tr>\n",
              "      <th>0</th>\n",
              "      <td>3204</td>\n",
              "      <td>sad</td>\n",
              "      <td>agree the poor in india are treated badly their poors seek a living in singapore and are treated like citizens they are given free medical treatment given food daily sim cards to call home to tell...</td>\n",
              "      <td>270</td>\n",
              "      <td>50</td>\n",
              "      <td>0</td>\n",
              "      <td>0</td>\n",
              "      <td>{'! count': 0, '\" count': 0, '# count': 0, '$ count': 0, '% count': 0, '&amp; count': 0, '' count': 0, '( count': 0, ') count': 0, '* count': 0, '+ count': 0, ', count': 0, '- count': 0, '. count': 0,...</td>\n",
              "      <td>0</td>\n",
              "      <td>1</td>\n",
              "      <td>39</td>\n",
              "      <td>0</td>\n",
              "      <td>0</td>\n",
              "      <td>18</td>\n",
              "      <td>5.40</td>\n",
              "      <td>50.0</td>\n",
              "      <td>0.78</td>\n",
              "      <td>0.36</td>\n",
              "      <td>agree the poor in india are treated badly their poors seek a living in singapore and are treated like citizens they are given free medical treatment given food daily sim cards to call home to tell...</td>\n",
              "    </tr>\n",
              "    <tr>\n",
              "      <th>1</th>\n",
              "      <td>1431</td>\n",
              "      <td>joy</td>\n",
              "      <td>if only i could have spent the with this cutie vc sakshi__s i n g h coast crossing republik …</td>\n",
              "      <td>93</td>\n",
              "      <td>20</td>\n",
              "      <td>0</td>\n",
              "      <td>0</td>\n",
              "      <td>{'! count': 0, '\" count': 0, '# count': 0, '$ count': 0, '% count': 0, '&amp; count': 0, '' count': 0, '( count': 0, ') count': 0, '* count': 0, '+ count': 0, ', count': 0, '- count': 0, '. count': 0,...</td>\n",
              "      <td>0</td>\n",
              "      <td>1</td>\n",
              "      <td>19</td>\n",
              "      <td>0</td>\n",
              "      <td>0</td>\n",
              "      <td>8</td>\n",
              "      <td>4.65</td>\n",
              "      <td>20.0</td>\n",
              "      <td>0.95</td>\n",
              "      <td>0.40</td>\n",
              "      <td>if only i could have spent the with this cutie vc sakshi__s i n g h coast crossing republik …</td>\n",
              "    </tr>\n",
              "  </tbody>\n",
              "</table>\n",
              "</div>\n",
              "      <button class=\"colab-df-convert\" onclick=\"convertToInteractive('df-895ae147-c1fd-45b2-91fb-f688a7b541f0')\"\n",
              "              title=\"Convert this dataframe to an interactive table.\"\n",
              "              style=\"display:none;\">\n",
              "        \n",
              "  <svg xmlns=\"http://www.w3.org/2000/svg\" height=\"24px\"viewBox=\"0 0 24 24\"\n",
              "       width=\"24px\">\n",
              "    <path d=\"M0 0h24v24H0V0z\" fill=\"none\"/>\n",
              "    <path d=\"M18.56 5.44l.94 2.06.94-2.06 2.06-.94-2.06-.94-.94-2.06-.94 2.06-2.06.94zm-11 1L8.5 8.5l.94-2.06 2.06-.94-2.06-.94L8.5 2.5l-.94 2.06-2.06.94zm10 10l.94 2.06.94-2.06 2.06-.94-2.06-.94-.94-2.06-.94 2.06-2.06.94z\"/><path d=\"M17.41 7.96l-1.37-1.37c-.4-.4-.92-.59-1.43-.59-.52 0-1.04.2-1.43.59L10.3 9.45l-7.72 7.72c-.78.78-.78 2.05 0 2.83L4 21.41c.39.39.9.59 1.41.59.51 0 1.02-.2 1.41-.59l7.78-7.78 2.81-2.81c.8-.78.8-2.07 0-2.86zM5.41 20L4 18.59l7.72-7.72 1.47 1.35L5.41 20z\"/>\n",
              "  </svg>\n",
              "      </button>\n",
              "      \n",
              "  <style>\n",
              "    .colab-df-container {\n",
              "      display:flex;\n",
              "      flex-wrap:wrap;\n",
              "      gap: 12px;\n",
              "    }\n",
              "\n",
              "    .colab-df-convert {\n",
              "      background-color: #E8F0FE;\n",
              "      border: none;\n",
              "      border-radius: 50%;\n",
              "      cursor: pointer;\n",
              "      display: none;\n",
              "      fill: #1967D2;\n",
              "      height: 32px;\n",
              "      padding: 0 0 0 0;\n",
              "      width: 32px;\n",
              "    }\n",
              "\n",
              "    .colab-df-convert:hover {\n",
              "      background-color: #E2EBFA;\n",
              "      box-shadow: 0px 1px 2px rgba(60, 64, 67, 0.3), 0px 1px 3px 1px rgba(60, 64, 67, 0.15);\n",
              "      fill: #174EA6;\n",
              "    }\n",
              "\n",
              "    [theme=dark] .colab-df-convert {\n",
              "      background-color: #3B4455;\n",
              "      fill: #D2E3FC;\n",
              "    }\n",
              "\n",
              "    [theme=dark] .colab-df-convert:hover {\n",
              "      background-color: #434B5C;\n",
              "      box-shadow: 0px 1px 3px 1px rgba(0, 0, 0, 0.15);\n",
              "      filter: drop-shadow(0px 1px 2px rgba(0, 0, 0, 0.3));\n",
              "      fill: #FFFFFF;\n",
              "    }\n",
              "  </style>\n",
              "\n",
              "      <script>\n",
              "        const buttonEl =\n",
              "          document.querySelector('#df-895ae147-c1fd-45b2-91fb-f688a7b541f0 button.colab-df-convert');\n",
              "        buttonEl.style.display =\n",
              "          google.colab.kernel.accessAllowed ? 'block' : 'none';\n",
              "\n",
              "        async function convertToInteractive(key) {\n",
              "          const element = document.querySelector('#df-895ae147-c1fd-45b2-91fb-f688a7b541f0');\n",
              "          const dataTable =\n",
              "            await google.colab.kernel.invokeFunction('convertToInteractive',\n",
              "                                                     [key], {});\n",
              "          if (!dataTable) return;\n",
              "\n",
              "          const docLinkHtml = 'Like what you see? Visit the ' +\n",
              "            '<a target=\"_blank\" href=https://colab.research.google.com/notebooks/data_table.ipynb>data table notebook</a>'\n",
              "            + ' to learn more about interactive tables.';\n",
              "          element.innerHTML = '';\n",
              "          dataTable['output_type'] = 'display_data';\n",
              "          await google.colab.output.renderOutput(dataTable, element);\n",
              "          const docLink = document.createElement('div');\n",
              "          docLink.innerHTML = docLinkHtml;\n",
              "          element.appendChild(docLink);\n",
              "        }\n",
              "      </script>\n",
              "    </div>\n",
              "  </div>\n",
              "  "
            ],
            "text/plain": [
              "   Unnamed: 0  ...                                                                                                                                                                                                    Tweet\n",
              "0        3204  ...  agree the poor in india are treated badly their poors seek a living in singapore and are treated like citizens they are given free medical treatment given food daily sim cards to call home to tell...\n",
              "1        1431  ...                                                                                                            if only i could have spent the with this cutie vc sakshi__s i n g h coast crossing republik …\n",
              "\n",
              "[2 rows x 19 columns]"
            ]
          },
          "metadata": {},
          "execution_count": 28
        }
      ]
    },
    {
      "cell_type": "code",
      "source": [
        "#REMOVED HTTP AND URLS FROM TWEET\n",
        "\n",
        "import re\n",
        "df['Tweet'] = df['Tweet'].apply(lambda x: re.split('https:\\/\\/.*', str(x))[0])"
      ],
      "metadata": {
        "id": "pjK9A27etIWK"
      },
      "execution_count": 29,
      "outputs": []
    },
    {
      "cell_type": "code",
      "source": [
        "# remove special characters, numbers, punctuations\n",
        "df['Tweet'] = df['Tweet'].str.replace('[^a-zA-Z#]+',' ')"
      ],
      "metadata": {
        "id": "UpEKSyn5yXCF"
      },
      "execution_count": 30,
      "outputs": []
    },
    {
      "cell_type": "code",
      "source": [
        "df.info()"
      ],
      "metadata": {
        "colab": {
          "base_uri": "https://localhost:8080/"
        },
        "id": "oKt0tZygriA7",
        "outputId": "3fdc0c57-5e19-4a8c-99cb-8be56adf79e9"
      },
      "execution_count": 31,
      "outputs": [
        {
          "output_type": "stream",
          "name": "stdout",
          "text": [
            "<class 'pandas.core.frame.DataFrame'>\n",
            "RangeIndex: 3090 entries, 0 to 3089\n",
            "Data columns (total 19 columns):\n",
            " #   Column              Non-Null Count  Dtype  \n",
            "---  ------              --------------  -----  \n",
            " 0   Unnamed: 0          3090 non-null   int64  \n",
            " 1   sentiment           3090 non-null   object \n",
            " 2   text                3090 non-null   object \n",
            " 3   char_count          3090 non-null   int64  \n",
            " 4   word_count          3090 non-null   int64  \n",
            " 5   capital_char_count  3090 non-null   int64  \n",
            " 6   capital_word_count  3090 non-null   int64  \n",
            " 7   punct_count         3090 non-null   object \n",
            " 8   quoted_word_count   3090 non-null   int64  \n",
            " 9   sent_count          3090 non-null   int64  \n",
            " 10  unique_word_count   3090 non-null   int64  \n",
            " 11  htag_count          3090 non-null   int64  \n",
            " 12  mention_count       3090 non-null   int64  \n",
            " 13  stopword_count      3090 non-null   int64  \n",
            " 14  avg_wordlength      3090 non-null   float64\n",
            " 15  avg_sentlength      3090 non-null   float64\n",
            " 16  unique_vs_words     3090 non-null   float64\n",
            " 17  stopwords_vs_words  3090 non-null   float64\n",
            " 18  Tweet               3090 non-null   object \n",
            "dtypes: float64(4), int64(11), object(4)\n",
            "memory usage: 458.8+ KB\n"
          ]
        }
      ]
    },
    {
      "cell_type": "code",
      "source": [
        "df.head()"
      ],
      "metadata": {
        "colab": {
          "base_uri": "https://localhost:8080/",
          "height": 0
        },
        "id": "5NEM5xyCJzZI",
        "outputId": "8a0a8fff-7331-4861-d690-f94cfb752a61"
      },
      "execution_count": 32,
      "outputs": [
        {
          "output_type": "execute_result",
          "data": {
            "text/html": [
              "\n",
              "  <div id=\"df-717224ac-6653-47f1-87c5-b7382781517f\">\n",
              "    <div class=\"colab-df-container\">\n",
              "      <div>\n",
              "<style scoped>\n",
              "    .dataframe tbody tr th:only-of-type {\n",
              "        vertical-align: middle;\n",
              "    }\n",
              "\n",
              "    .dataframe tbody tr th {\n",
              "        vertical-align: top;\n",
              "    }\n",
              "\n",
              "    .dataframe thead th {\n",
              "        text-align: right;\n",
              "    }\n",
              "</style>\n",
              "<table border=\"1\" class=\"dataframe\">\n",
              "  <thead>\n",
              "    <tr style=\"text-align: right;\">\n",
              "      <th></th>\n",
              "      <th>Unnamed: 0</th>\n",
              "      <th>sentiment</th>\n",
              "      <th>text</th>\n",
              "      <th>char_count</th>\n",
              "      <th>word_count</th>\n",
              "      <th>capital_char_count</th>\n",
              "      <th>capital_word_count</th>\n",
              "      <th>punct_count</th>\n",
              "      <th>quoted_word_count</th>\n",
              "      <th>sent_count</th>\n",
              "      <th>unique_word_count</th>\n",
              "      <th>htag_count</th>\n",
              "      <th>mention_count</th>\n",
              "      <th>stopword_count</th>\n",
              "      <th>avg_wordlength</th>\n",
              "      <th>avg_sentlength</th>\n",
              "      <th>unique_vs_words</th>\n",
              "      <th>stopwords_vs_words</th>\n",
              "      <th>Tweet</th>\n",
              "    </tr>\n",
              "  </thead>\n",
              "  <tbody>\n",
              "    <tr>\n",
              "      <th>0</th>\n",
              "      <td>3204</td>\n",
              "      <td>sad</td>\n",
              "      <td>agree the poor in india are treated badly their poors seek a living in singapore and are treated like citizens they are given free medical treatment given food daily sim cards to call home to tell...</td>\n",
              "      <td>270</td>\n",
              "      <td>50</td>\n",
              "      <td>0</td>\n",
              "      <td>0</td>\n",
              "      <td>{'! count': 0, '\" count': 0, '# count': 0, '$ count': 0, '% count': 0, '&amp; count': 0, '' count': 0, '( count': 0, ') count': 0, '* count': 0, '+ count': 0, ', count': 0, '- count': 0, '. count': 0,...</td>\n",
              "      <td>0</td>\n",
              "      <td>1</td>\n",
              "      <td>39</td>\n",
              "      <td>0</td>\n",
              "      <td>0</td>\n",
              "      <td>18</td>\n",
              "      <td>5.400000</td>\n",
              "      <td>50.0</td>\n",
              "      <td>0.78</td>\n",
              "      <td>0.360000</td>\n",
              "      <td>agree the poor in india are treated badly their poors seek a living in singapore and are treated like citizens they are given free medical treatment given food daily sim cards to call home to tell...</td>\n",
              "    </tr>\n",
              "    <tr>\n",
              "      <th>1</th>\n",
              "      <td>1431</td>\n",
              "      <td>joy</td>\n",
              "      <td>if only i could have spent the with this cutie vc sakshi__s i n g h coast crossing republik …</td>\n",
              "      <td>93</td>\n",
              "      <td>20</td>\n",
              "      <td>0</td>\n",
              "      <td>0</td>\n",
              "      <td>{'! count': 0, '\" count': 0, '# count': 0, '$ count': 0, '% count': 0, '&amp; count': 0, '' count': 0, '( count': 0, ') count': 0, '* count': 0, '+ count': 0, ', count': 0, '- count': 0, '. count': 0,...</td>\n",
              "      <td>0</td>\n",
              "      <td>1</td>\n",
              "      <td>19</td>\n",
              "      <td>0</td>\n",
              "      <td>0</td>\n",
              "      <td>8</td>\n",
              "      <td>4.650000</td>\n",
              "      <td>20.0</td>\n",
              "      <td>0.95</td>\n",
              "      <td>0.400000</td>\n",
              "      <td>if only i could have spent the with this cutie vc sakshi s i n g h coast crossing republik</td>\n",
              "    </tr>\n",
              "    <tr>\n",
              "      <th>2</th>\n",
              "      <td>654</td>\n",
              "      <td>joy</td>\n",
              "      <td>will nature conservation remain a priority in post corona bangladesh | the daily star</td>\n",
              "      <td>85</td>\n",
              "      <td>14</td>\n",
              "      <td>0</td>\n",
              "      <td>0</td>\n",
              "      <td>{'! count': 0, '\" count': 0, '# count': 0, '$ count': 0, '% count': 0, '&amp; count': 0, '' count': 0, '( count': 0, ') count': 0, '* count': 0, '+ count': 0, ', count': 0, '- count': 0, '. count': 0,...</td>\n",
              "      <td>0</td>\n",
              "      <td>1</td>\n",
              "      <td>14</td>\n",
              "      <td>0</td>\n",
              "      <td>0</td>\n",
              "      <td>4</td>\n",
              "      <td>6.071429</td>\n",
              "      <td>14.0</td>\n",
              "      <td>1.00</td>\n",
              "      <td>0.285714</td>\n",
              "      <td>will nature conservation remain a priority in post corona bangladesh the daily star</td>\n",
              "    </tr>\n",
              "    <tr>\n",
              "      <th>3</th>\n",
              "      <td>2530</td>\n",
              "      <td>sad</td>\n",
              "      <td>coronavirus disappearing in italy show this to \"intellectuals\" who say lockdowns do not work …</td>\n",
              "      <td>94</td>\n",
              "      <td>15</td>\n",
              "      <td>0</td>\n",
              "      <td>0</td>\n",
              "      <td>{'! count': 0, '\" count': 2, '# count': 0, '$ count': 0, '% count': 0, '&amp; count': 0, '' count': 0, '( count': 0, ') count': 0, '* count': 0, '+ count': 0, ', count': 0, '- count': 0, '. count': 0,...</td>\n",
              "      <td>0</td>\n",
              "      <td>1</td>\n",
              "      <td>15</td>\n",
              "      <td>0</td>\n",
              "      <td>0</td>\n",
              "      <td>6</td>\n",
              "      <td>6.266667</td>\n",
              "      <td>15.0</td>\n",
              "      <td>1.00</td>\n",
              "      <td>0.400000</td>\n",
              "      <td>coronavirus disappearing in italy show this to intellectuals who say lockdowns do not work</td>\n",
              "    </tr>\n",
              "    <tr>\n",
              "      <th>4</th>\n",
              "      <td>2296</td>\n",
              "      <td>sad</td>\n",
              "      <td>uk records lowest daily virus death toll since start of lockdown govt</td>\n",
              "      <td>69</td>\n",
              "      <td>12</td>\n",
              "      <td>0</td>\n",
              "      <td>0</td>\n",
              "      <td>{'! count': 0, '\" count': 0, '# count': 0, '$ count': 0, '% count': 0, '&amp; count': 0, '' count': 0, '( count': 0, ') count': 0, '* count': 0, '+ count': 0, ', count': 0, '- count': 0, '. count': 0,...</td>\n",
              "      <td>0</td>\n",
              "      <td>1</td>\n",
              "      <td>12</td>\n",
              "      <td>0</td>\n",
              "      <td>0</td>\n",
              "      <td>1</td>\n",
              "      <td>5.750000</td>\n",
              "      <td>12.0</td>\n",
              "      <td>1.00</td>\n",
              "      <td>0.083333</td>\n",
              "      <td>uk records lowest daily virus death toll since start of lockdown govt</td>\n",
              "    </tr>\n",
              "  </tbody>\n",
              "</table>\n",
              "</div>\n",
              "      <button class=\"colab-df-convert\" onclick=\"convertToInteractive('df-717224ac-6653-47f1-87c5-b7382781517f')\"\n",
              "              title=\"Convert this dataframe to an interactive table.\"\n",
              "              style=\"display:none;\">\n",
              "        \n",
              "  <svg xmlns=\"http://www.w3.org/2000/svg\" height=\"24px\"viewBox=\"0 0 24 24\"\n",
              "       width=\"24px\">\n",
              "    <path d=\"M0 0h24v24H0V0z\" fill=\"none\"/>\n",
              "    <path d=\"M18.56 5.44l.94 2.06.94-2.06 2.06-.94-2.06-.94-.94-2.06-.94 2.06-2.06.94zm-11 1L8.5 8.5l.94-2.06 2.06-.94-2.06-.94L8.5 2.5l-.94 2.06-2.06.94zm10 10l.94 2.06.94-2.06 2.06-.94-2.06-.94-.94-2.06-.94 2.06-2.06.94z\"/><path d=\"M17.41 7.96l-1.37-1.37c-.4-.4-.92-.59-1.43-.59-.52 0-1.04.2-1.43.59L10.3 9.45l-7.72 7.72c-.78.78-.78 2.05 0 2.83L4 21.41c.39.39.9.59 1.41.59.51 0 1.02-.2 1.41-.59l7.78-7.78 2.81-2.81c.8-.78.8-2.07 0-2.86zM5.41 20L4 18.59l7.72-7.72 1.47 1.35L5.41 20z\"/>\n",
              "  </svg>\n",
              "      </button>\n",
              "      \n",
              "  <style>\n",
              "    .colab-df-container {\n",
              "      display:flex;\n",
              "      flex-wrap:wrap;\n",
              "      gap: 12px;\n",
              "    }\n",
              "\n",
              "    .colab-df-convert {\n",
              "      background-color: #E8F0FE;\n",
              "      border: none;\n",
              "      border-radius: 50%;\n",
              "      cursor: pointer;\n",
              "      display: none;\n",
              "      fill: #1967D2;\n",
              "      height: 32px;\n",
              "      padding: 0 0 0 0;\n",
              "      width: 32px;\n",
              "    }\n",
              "\n",
              "    .colab-df-convert:hover {\n",
              "      background-color: #E2EBFA;\n",
              "      box-shadow: 0px 1px 2px rgba(60, 64, 67, 0.3), 0px 1px 3px 1px rgba(60, 64, 67, 0.15);\n",
              "      fill: #174EA6;\n",
              "    }\n",
              "\n",
              "    [theme=dark] .colab-df-convert {\n",
              "      background-color: #3B4455;\n",
              "      fill: #D2E3FC;\n",
              "    }\n",
              "\n",
              "    [theme=dark] .colab-df-convert:hover {\n",
              "      background-color: #434B5C;\n",
              "      box-shadow: 0px 1px 3px 1px rgba(0, 0, 0, 0.15);\n",
              "      filter: drop-shadow(0px 1px 2px rgba(0, 0, 0, 0.3));\n",
              "      fill: #FFFFFF;\n",
              "    }\n",
              "  </style>\n",
              "\n",
              "      <script>\n",
              "        const buttonEl =\n",
              "          document.querySelector('#df-717224ac-6653-47f1-87c5-b7382781517f button.colab-df-convert');\n",
              "        buttonEl.style.display =\n",
              "          google.colab.kernel.accessAllowed ? 'block' : 'none';\n",
              "\n",
              "        async function convertToInteractive(key) {\n",
              "          const element = document.querySelector('#df-717224ac-6653-47f1-87c5-b7382781517f');\n",
              "          const dataTable =\n",
              "            await google.colab.kernel.invokeFunction('convertToInteractive',\n",
              "                                                     [key], {});\n",
              "          if (!dataTable) return;\n",
              "\n",
              "          const docLinkHtml = 'Like what you see? Visit the ' +\n",
              "            '<a target=\"_blank\" href=https://colab.research.google.com/notebooks/data_table.ipynb>data table notebook</a>'\n",
              "            + ' to learn more about interactive tables.';\n",
              "          element.innerHTML = '';\n",
              "          dataTable['output_type'] = 'display_data';\n",
              "          await google.colab.output.renderOutput(dataTable, element);\n",
              "          const docLink = document.createElement('div');\n",
              "          docLink.innerHTML = docLinkHtml;\n",
              "          element.appendChild(docLink);\n",
              "        }\n",
              "      </script>\n",
              "    </div>\n",
              "  </div>\n",
              "  "
            ],
            "text/plain": [
              "   Unnamed: 0  ...                                                                                                                                                                                                    Tweet\n",
              "0        3204  ...  agree the poor in india are treated badly their poors seek a living in singapore and are treated like citizens they are given free medical treatment given food daily sim cards to call home to tell...\n",
              "1        1431  ...                                                                                                              if only i could have spent the with this cutie vc sakshi s i n g h coast crossing republik \n",
              "2         654  ...                                                                                                                      will nature conservation remain a priority in post corona bangladesh the daily star\n",
              "3        2530  ...                                                                                                              coronavirus disappearing in italy show this to intellectuals who say lockdowns do not work \n",
              "4        2296  ...                                                                                                                                    uk records lowest daily virus death toll since start of lockdown govt\n",
              "\n",
              "[5 rows x 19 columns]"
            ]
          },
          "metadata": {},
          "execution_count": 32
        }
      ]
    },
    {
      "cell_type": "code",
      "source": [
        "#move to new dataframe\n",
        "df_dataset = df[['Tweet','sentiment']]"
      ],
      "metadata": {
        "id": "WmqkpPbWri8-"
      },
      "execution_count": 33,
      "outputs": []
    },
    {
      "cell_type": "code",
      "source": [
        "df_dataset.info()"
      ],
      "metadata": {
        "colab": {
          "base_uri": "https://localhost:8080/"
        },
        "id": "nMjlQjg_s2UI",
        "outputId": "0cb1376a-1bf9-49f1-f5eb-37e79c80a584"
      },
      "execution_count": 34,
      "outputs": [
        {
          "output_type": "stream",
          "name": "stdout",
          "text": [
            "<class 'pandas.core.frame.DataFrame'>\n",
            "RangeIndex: 3090 entries, 0 to 3089\n",
            "Data columns (total 2 columns):\n",
            " #   Column     Non-Null Count  Dtype \n",
            "---  ------     --------------  ----- \n",
            " 0   Tweet      3090 non-null   object\n",
            " 1   sentiment  3090 non-null   object\n",
            "dtypes: object(2)\n",
            "memory usage: 48.4+ KB\n"
          ]
        }
      ]
    },
    {
      "cell_type": "code",
      "source": [
        "#store classes into an array\n",
        "possible_labels = df_dataset.sentiment.unique()\n",
        "possible_labels"
      ],
      "metadata": {
        "colab": {
          "base_uri": "https://localhost:8080/"
        },
        "id": "Sc5MfyO9rpez",
        "outputId": "d08f3018-36ce-4483-c373-4990dfa5ad50"
      },
      "execution_count": 35,
      "outputs": [
        {
          "output_type": "execute_result",
          "data": {
            "text/plain": [
              "array(['sad', 'joy', 'fear', 'anger'], dtype=object)"
            ]
          },
          "metadata": {},
          "execution_count": 35
        }
      ]
    },
    {
      "cell_type": "code",
      "source": [
        "#convert labels into numeric values\n",
        "label_dict = {}\n",
        "for index, possible_label in enumerate(possible_labels):\n",
        "    label_dict[possible_label] = index"
      ],
      "metadata": {
        "id": "PLA2hIYzrwTi"
      },
      "execution_count": 36,
      "outputs": []
    },
    {
      "cell_type": "code",
      "source": [
        "label_dict"
      ],
      "metadata": {
        "colab": {
          "base_uri": "https://localhost:8080/"
        },
        "id": "7mDp68kVrzLg",
        "outputId": "b1c70b8a-7764-4db6-f036-fc38ed0eb8ec"
      },
      "execution_count": 37,
      "outputs": [
        {
          "output_type": "execute_result",
          "data": {
            "text/plain": [
              "{'anger': 3, 'fear': 2, 'joy': 1, 'sad': 0}"
            ]
          },
          "metadata": {},
          "execution_count": 37
        }
      ]
    },
    {
      "cell_type": "code",
      "source": [
        "#convert labels into numeric values\n",
        "df_dataset['label'] = df_dataset.sentiment.replace(label_dict)\n",
        "df_dataset.head(10)"
      ],
      "metadata": {
        "colab": {
          "base_uri": "https://localhost:8080/",
          "height": 0
        },
        "id": "HQ2KEh-kr1Pq",
        "outputId": "827e545a-3744-44cc-abcb-d41bb8e96168"
      },
      "execution_count": 38,
      "outputs": [
        {
          "output_type": "execute_result",
          "data": {
            "text/html": [
              "\n",
              "  <div id=\"df-c6e3133f-77ab-44ea-87f6-bb4c78a4dec7\">\n",
              "    <div class=\"colab-df-container\">\n",
              "      <div>\n",
              "<style scoped>\n",
              "    .dataframe tbody tr th:only-of-type {\n",
              "        vertical-align: middle;\n",
              "    }\n",
              "\n",
              "    .dataframe tbody tr th {\n",
              "        vertical-align: top;\n",
              "    }\n",
              "\n",
              "    .dataframe thead th {\n",
              "        text-align: right;\n",
              "    }\n",
              "</style>\n",
              "<table border=\"1\" class=\"dataframe\">\n",
              "  <thead>\n",
              "    <tr style=\"text-align: right;\">\n",
              "      <th></th>\n",
              "      <th>Tweet</th>\n",
              "      <th>sentiment</th>\n",
              "      <th>label</th>\n",
              "    </tr>\n",
              "  </thead>\n",
              "  <tbody>\n",
              "    <tr>\n",
              "      <th>0</th>\n",
              "      <td>agree the poor in india are treated badly their poors seek a living in singapore and are treated like citizens they are given free medical treatment given food daily sim cards to call home to tell...</td>\n",
              "      <td>sad</td>\n",
              "      <td>0</td>\n",
              "    </tr>\n",
              "    <tr>\n",
              "      <th>1</th>\n",
              "      <td>if only i could have spent the with this cutie vc sakshi s i n g h coast crossing republik</td>\n",
              "      <td>joy</td>\n",
              "      <td>1</td>\n",
              "    </tr>\n",
              "    <tr>\n",
              "      <th>2</th>\n",
              "      <td>will nature conservation remain a priority in post corona bangladesh the daily star</td>\n",
              "      <td>joy</td>\n",
              "      <td>1</td>\n",
              "    </tr>\n",
              "    <tr>\n",
              "      <th>3</th>\n",
              "      <td>coronavirus disappearing in italy show this to intellectuals who say lockdowns do not work</td>\n",
              "      <td>sad</td>\n",
              "      <td>0</td>\n",
              "    </tr>\n",
              "    <tr>\n",
              "      <th>4</th>\n",
              "      <td>uk records lowest daily virus death toll since start of lockdown govt</td>\n",
              "      <td>sad</td>\n",
              "      <td>0</td>\n",
              "    </tr>\n",
              "    <tr>\n",
              "      <th>5</th>\n",
              "      <td>joe biden s coronavirus web address lands on a donation page for his campaign he is profiting from fear demopos</td>\n",
              "      <td>fear</td>\n",
              "      <td>2</td>\n",
              "    </tr>\n",
              "    <tr>\n",
              "      <th>6</th>\n",
              "      <td>respected sir in our telangana all private teachers and lecturers are in horrible situations due to covid and mainly private management chaithanya nd narayana b caz they told to all faculty s like...</td>\n",
              "      <td>sad</td>\n",
              "      <td>0</td>\n",
              "    </tr>\n",
              "    <tr>\n",
              "      <th>7</th>\n",
              "      <td>so is also times more lethal than influenza think about that</td>\n",
              "      <td>fear</td>\n",
              "      <td>2</td>\n",
              "    </tr>\n",
              "    <tr>\n",
              "      <th>8</th>\n",
              "      <td>thull is passing the most dangerous and ultra hazardous situation in its history population of thul town and surrounding have been striked by corona virus cm health m sindh to take notice we plead...</td>\n",
              "      <td>sad</td>\n",
              "      <td>0</td>\n",
              "    </tr>\n",
              "    <tr>\n",
              "      <th>9</th>\n",
              "      <td>thull is passing the most dangerous and ultra hazardous situation in its history population of thul town and surrounding have been striked by corona virus cm health m sindh to take notice we plead...</td>\n",
              "      <td>sad</td>\n",
              "      <td>0</td>\n",
              "    </tr>\n",
              "  </tbody>\n",
              "</table>\n",
              "</div>\n",
              "      <button class=\"colab-df-convert\" onclick=\"convertToInteractive('df-c6e3133f-77ab-44ea-87f6-bb4c78a4dec7')\"\n",
              "              title=\"Convert this dataframe to an interactive table.\"\n",
              "              style=\"display:none;\">\n",
              "        \n",
              "  <svg xmlns=\"http://www.w3.org/2000/svg\" height=\"24px\"viewBox=\"0 0 24 24\"\n",
              "       width=\"24px\">\n",
              "    <path d=\"M0 0h24v24H0V0z\" fill=\"none\"/>\n",
              "    <path d=\"M18.56 5.44l.94 2.06.94-2.06 2.06-.94-2.06-.94-.94-2.06-.94 2.06-2.06.94zm-11 1L8.5 8.5l.94-2.06 2.06-.94-2.06-.94L8.5 2.5l-.94 2.06-2.06.94zm10 10l.94 2.06.94-2.06 2.06-.94-2.06-.94-.94-2.06-.94 2.06-2.06.94z\"/><path d=\"M17.41 7.96l-1.37-1.37c-.4-.4-.92-.59-1.43-.59-.52 0-1.04.2-1.43.59L10.3 9.45l-7.72 7.72c-.78.78-.78 2.05 0 2.83L4 21.41c.39.39.9.59 1.41.59.51 0 1.02-.2 1.41-.59l7.78-7.78 2.81-2.81c.8-.78.8-2.07 0-2.86zM5.41 20L4 18.59l7.72-7.72 1.47 1.35L5.41 20z\"/>\n",
              "  </svg>\n",
              "      </button>\n",
              "      \n",
              "  <style>\n",
              "    .colab-df-container {\n",
              "      display:flex;\n",
              "      flex-wrap:wrap;\n",
              "      gap: 12px;\n",
              "    }\n",
              "\n",
              "    .colab-df-convert {\n",
              "      background-color: #E8F0FE;\n",
              "      border: none;\n",
              "      border-radius: 50%;\n",
              "      cursor: pointer;\n",
              "      display: none;\n",
              "      fill: #1967D2;\n",
              "      height: 32px;\n",
              "      padding: 0 0 0 0;\n",
              "      width: 32px;\n",
              "    }\n",
              "\n",
              "    .colab-df-convert:hover {\n",
              "      background-color: #E2EBFA;\n",
              "      box-shadow: 0px 1px 2px rgba(60, 64, 67, 0.3), 0px 1px 3px 1px rgba(60, 64, 67, 0.15);\n",
              "      fill: #174EA6;\n",
              "    }\n",
              "\n",
              "    [theme=dark] .colab-df-convert {\n",
              "      background-color: #3B4455;\n",
              "      fill: #D2E3FC;\n",
              "    }\n",
              "\n",
              "    [theme=dark] .colab-df-convert:hover {\n",
              "      background-color: #434B5C;\n",
              "      box-shadow: 0px 1px 3px 1px rgba(0, 0, 0, 0.15);\n",
              "      filter: drop-shadow(0px 1px 2px rgba(0, 0, 0, 0.3));\n",
              "      fill: #FFFFFF;\n",
              "    }\n",
              "  </style>\n",
              "\n",
              "      <script>\n",
              "        const buttonEl =\n",
              "          document.querySelector('#df-c6e3133f-77ab-44ea-87f6-bb4c78a4dec7 button.colab-df-convert');\n",
              "        buttonEl.style.display =\n",
              "          google.colab.kernel.accessAllowed ? 'block' : 'none';\n",
              "\n",
              "        async function convertToInteractive(key) {\n",
              "          const element = document.querySelector('#df-c6e3133f-77ab-44ea-87f6-bb4c78a4dec7');\n",
              "          const dataTable =\n",
              "            await google.colab.kernel.invokeFunction('convertToInteractive',\n",
              "                                                     [key], {});\n",
              "          if (!dataTable) return;\n",
              "\n",
              "          const docLinkHtml = 'Like what you see? Visit the ' +\n",
              "            '<a target=\"_blank\" href=https://colab.research.google.com/notebooks/data_table.ipynb>data table notebook</a>'\n",
              "            + ' to learn more about interactive tables.';\n",
              "          element.innerHTML = '';\n",
              "          dataTable['output_type'] = 'display_data';\n",
              "          await google.colab.output.renderOutput(dataTable, element);\n",
              "          const docLink = document.createElement('div');\n",
              "          docLink.innerHTML = docLinkHtml;\n",
              "          element.appendChild(docLink);\n",
              "        }\n",
              "      </script>\n",
              "    </div>\n",
              "  </div>\n",
              "  "
            ],
            "text/plain": [
              "                                                                                                                                                                                                     Tweet  ... label\n",
              "0  agree the poor in india are treated badly their poors seek a living in singapore and are treated like citizens they are given free medical treatment given food daily sim cards to call home to tell...  ...     0\n",
              "1                                                                                                              if only i could have spent the with this cutie vc sakshi s i n g h coast crossing republik   ...     1\n",
              "2                                                                                                                      will nature conservation remain a priority in post corona bangladesh the daily star  ...     1\n",
              "3                                                                                                              coronavirus disappearing in italy show this to intellectuals who say lockdowns do not work   ...     0\n",
              "4                                                                                                                                    uk records lowest daily virus death toll since start of lockdown govt  ...     0\n",
              "5                                                                                          joe biden s coronavirus web address lands on a donation page for his campaign he is profiting from fear demopos  ...     2\n",
              "6  respected sir in our telangana all private teachers and lecturers are in horrible situations due to covid and mainly private management chaithanya nd narayana b caz they told to all faculty s like...  ...     0\n",
              "7                                                                                                                                             so is also times more lethal than influenza think about that  ...     2\n",
              "8  thull is passing the most dangerous and ultra hazardous situation in its history population of thul town and surrounding have been striked by corona virus cm health m sindh to take notice we plead...  ...     0\n",
              "9  thull is passing the most dangerous and ultra hazardous situation in its history population of thul town and surrounding have been striked by corona virus cm health m sindh to take notice we plead...  ...     0\n",
              "\n",
              "[10 rows x 3 columns]"
            ]
          },
          "metadata": {},
          "execution_count": 38
        }
      ]
    },
    {
      "cell_type": "code",
      "source": [
        "df_dataset.drop(['sentiment'], axis=1, inplace=True)"
      ],
      "metadata": {
        "id": "vA1cMVb8iGUZ"
      },
      "execution_count": 39,
      "outputs": []
    },
    {
      "cell_type": "code",
      "source": [
        "df_dataset.head()"
      ],
      "metadata": {
        "colab": {
          "base_uri": "https://localhost:8080/",
          "height": 0
        },
        "id": "bm0K3Sc9ijT_",
        "outputId": "57da3ae5-dc14-437f-bf36-bec0a25b6df5"
      },
      "execution_count": 40,
      "outputs": [
        {
          "output_type": "execute_result",
          "data": {
            "text/html": [
              "\n",
              "  <div id=\"df-9c4f3007-73e6-4780-a7e7-b1f00edc6086\">\n",
              "    <div class=\"colab-df-container\">\n",
              "      <div>\n",
              "<style scoped>\n",
              "    .dataframe tbody tr th:only-of-type {\n",
              "        vertical-align: middle;\n",
              "    }\n",
              "\n",
              "    .dataframe tbody tr th {\n",
              "        vertical-align: top;\n",
              "    }\n",
              "\n",
              "    .dataframe thead th {\n",
              "        text-align: right;\n",
              "    }\n",
              "</style>\n",
              "<table border=\"1\" class=\"dataframe\">\n",
              "  <thead>\n",
              "    <tr style=\"text-align: right;\">\n",
              "      <th></th>\n",
              "      <th>Tweet</th>\n",
              "      <th>label</th>\n",
              "    </tr>\n",
              "  </thead>\n",
              "  <tbody>\n",
              "    <tr>\n",
              "      <th>0</th>\n",
              "      <td>agree the poor in india are treated badly their poors seek a living in singapore and are treated like citizens they are given free medical treatment given food daily sim cards to call home to tell...</td>\n",
              "      <td>0</td>\n",
              "    </tr>\n",
              "    <tr>\n",
              "      <th>1</th>\n",
              "      <td>if only i could have spent the with this cutie vc sakshi s i n g h coast crossing republik</td>\n",
              "      <td>1</td>\n",
              "    </tr>\n",
              "    <tr>\n",
              "      <th>2</th>\n",
              "      <td>will nature conservation remain a priority in post corona bangladesh the daily star</td>\n",
              "      <td>1</td>\n",
              "    </tr>\n",
              "    <tr>\n",
              "      <th>3</th>\n",
              "      <td>coronavirus disappearing in italy show this to intellectuals who say lockdowns do not work</td>\n",
              "      <td>0</td>\n",
              "    </tr>\n",
              "    <tr>\n",
              "      <th>4</th>\n",
              "      <td>uk records lowest daily virus death toll since start of lockdown govt</td>\n",
              "      <td>0</td>\n",
              "    </tr>\n",
              "  </tbody>\n",
              "</table>\n",
              "</div>\n",
              "      <button class=\"colab-df-convert\" onclick=\"convertToInteractive('df-9c4f3007-73e6-4780-a7e7-b1f00edc6086')\"\n",
              "              title=\"Convert this dataframe to an interactive table.\"\n",
              "              style=\"display:none;\">\n",
              "        \n",
              "  <svg xmlns=\"http://www.w3.org/2000/svg\" height=\"24px\"viewBox=\"0 0 24 24\"\n",
              "       width=\"24px\">\n",
              "    <path d=\"M0 0h24v24H0V0z\" fill=\"none\"/>\n",
              "    <path d=\"M18.56 5.44l.94 2.06.94-2.06 2.06-.94-2.06-.94-.94-2.06-.94 2.06-2.06.94zm-11 1L8.5 8.5l.94-2.06 2.06-.94-2.06-.94L8.5 2.5l-.94 2.06-2.06.94zm10 10l.94 2.06.94-2.06 2.06-.94-2.06-.94-.94-2.06-.94 2.06-2.06.94z\"/><path d=\"M17.41 7.96l-1.37-1.37c-.4-.4-.92-.59-1.43-.59-.52 0-1.04.2-1.43.59L10.3 9.45l-7.72 7.72c-.78.78-.78 2.05 0 2.83L4 21.41c.39.39.9.59 1.41.59.51 0 1.02-.2 1.41-.59l7.78-7.78 2.81-2.81c.8-.78.8-2.07 0-2.86zM5.41 20L4 18.59l7.72-7.72 1.47 1.35L5.41 20z\"/>\n",
              "  </svg>\n",
              "      </button>\n",
              "      \n",
              "  <style>\n",
              "    .colab-df-container {\n",
              "      display:flex;\n",
              "      flex-wrap:wrap;\n",
              "      gap: 12px;\n",
              "    }\n",
              "\n",
              "    .colab-df-convert {\n",
              "      background-color: #E8F0FE;\n",
              "      border: none;\n",
              "      border-radius: 50%;\n",
              "      cursor: pointer;\n",
              "      display: none;\n",
              "      fill: #1967D2;\n",
              "      height: 32px;\n",
              "      padding: 0 0 0 0;\n",
              "      width: 32px;\n",
              "    }\n",
              "\n",
              "    .colab-df-convert:hover {\n",
              "      background-color: #E2EBFA;\n",
              "      box-shadow: 0px 1px 2px rgba(60, 64, 67, 0.3), 0px 1px 3px 1px rgba(60, 64, 67, 0.15);\n",
              "      fill: #174EA6;\n",
              "    }\n",
              "\n",
              "    [theme=dark] .colab-df-convert {\n",
              "      background-color: #3B4455;\n",
              "      fill: #D2E3FC;\n",
              "    }\n",
              "\n",
              "    [theme=dark] .colab-df-convert:hover {\n",
              "      background-color: #434B5C;\n",
              "      box-shadow: 0px 1px 3px 1px rgba(0, 0, 0, 0.15);\n",
              "      filter: drop-shadow(0px 1px 2px rgba(0, 0, 0, 0.3));\n",
              "      fill: #FFFFFF;\n",
              "    }\n",
              "  </style>\n",
              "\n",
              "      <script>\n",
              "        const buttonEl =\n",
              "          document.querySelector('#df-9c4f3007-73e6-4780-a7e7-b1f00edc6086 button.colab-df-convert');\n",
              "        buttonEl.style.display =\n",
              "          google.colab.kernel.accessAllowed ? 'block' : 'none';\n",
              "\n",
              "        async function convertToInteractive(key) {\n",
              "          const element = document.querySelector('#df-9c4f3007-73e6-4780-a7e7-b1f00edc6086');\n",
              "          const dataTable =\n",
              "            await google.colab.kernel.invokeFunction('convertToInteractive',\n",
              "                                                     [key], {});\n",
              "          if (!dataTable) return;\n",
              "\n",
              "          const docLinkHtml = 'Like what you see? Visit the ' +\n",
              "            '<a target=\"_blank\" href=https://colab.research.google.com/notebooks/data_table.ipynb>data table notebook</a>'\n",
              "            + ' to learn more about interactive tables.';\n",
              "          element.innerHTML = '';\n",
              "          dataTable['output_type'] = 'display_data';\n",
              "          await google.colab.output.renderOutput(dataTable, element);\n",
              "          const docLink = document.createElement('div');\n",
              "          docLink.innerHTML = docLinkHtml;\n",
              "          element.appendChild(docLink);\n",
              "        }\n",
              "      </script>\n",
              "    </div>\n",
              "  </div>\n",
              "  "
            ],
            "text/plain": [
              "                                                                                                                                                                                                     Tweet  label\n",
              "0  agree the poor in india are treated badly their poors seek a living in singapore and are treated like citizens they are given free medical treatment given food daily sim cards to call home to tell...      0\n",
              "1                                                                                                              if only i could have spent the with this cutie vc sakshi s i n g h coast crossing republik       1\n",
              "2                                                                                                                      will nature conservation remain a priority in post corona bangladesh the daily star      1\n",
              "3                                                                                                              coronavirus disappearing in italy show this to intellectuals who say lockdowns do not work       0\n",
              "4                                                                                                                                    uk records lowest daily virus death toll since start of lockdown govt      0"
            ]
          },
          "metadata": {},
          "execution_count": 40
        }
      ]
    },
    {
      "cell_type": "markdown",
      "source": [
        "#Load Fasttext vectors\n"
      ],
      "metadata": {
        "id": "cNgQU0AStSaT"
      }
    },
    {
      "cell_type": "code",
      "source": [
        "#!wget https://dl.fbaipublicfiles.com/fasttext/vectors-crawl/cc.en.300.vec.gz\n",
        "#!gzip -d cc.en.300.vec.gz"
      ],
      "metadata": {
        "id": "1q-BLBYetYmQ"
      },
      "execution_count": 41,
      "outputs": []
    },
    {
      "cell_type": "code",
      "metadata": {
        "id": "PcWej6mDZvU0",
        "outputId": "8b586b49-7a3b-43d9-87c7-5a50bec85712",
        "colab": {
          "base_uri": "https://localhost:8080/",
          "height": 66,
          "referenced_widgets": [
            "f7bd59991a50456ba8812ddd5f71412a",
            "8533cc2c3ed94d9db5710cc708c2bced",
            "d6a9cfa47a9e483d9ce61ab925406a92",
            "3a8e184b568f4a80898a3c7d6cbcccf0",
            "17866ac5af4349e0b3969c94210687d2",
            "ff0600dae1934b61a3e0e1c1b0ce45e8",
            "a45ea093e1ec46929362c45b3d35f815",
            "1dedbeb0a9234068babb7c147fd09cef",
            "35ab395274ce414aaed742a970554b84",
            "41bcf8dc705b45a3bc8aa5043db2b8df",
            "0ae16756b1544f8f8e7e5ea16d62ed25"
          ]
        }
      },
      "source": [
        "#create word vectors\n",
        "from tqdm import tqdm_notebook\n",
        "\n",
        "word_vectors = {}\n",
        "f = io.open(\"/content/cc.en.300.vec\", encoding='utf-8')\n",
        "n, d = map(int, f.readline().split())\n",
        "for line in tqdm_notebook(f):\n",
        "    values = line.rstrip().split(' ')\n",
        "    word = values[0]\n",
        "    vector = np.array(values[1:], dtype='float32')\n",
        "    word_vectors[word] = vector\n",
        "f.close()\n",
        "print(f'found {len(word_vectors)} word vectors')"
      ],
      "execution_count": 42,
      "outputs": [
        {
          "output_type": "display_data",
          "data": {
            "application/vnd.jupyter.widget-view+json": {
              "model_id": "f7bd59991a50456ba8812ddd5f71412a",
              "version_minor": 0,
              "version_major": 2
            },
            "text/plain": [
              "0it [00:00, ?it/s]"
            ]
          },
          "metadata": {}
        },
        {
          "output_type": "stream",
          "name": "stdout",
          "text": [
            "found 2000000 word vectors\n"
          ]
        }
      ]
    },
    {
      "cell_type": "markdown",
      "metadata": {
        "id": "HmeuxIoqZvUp"
      },
      "source": [
        "# Text length distribution"
      ]
    },
    {
      "cell_type": "code",
      "metadata": {
        "id": "fUOuOW9hZvUq",
        "outputId": "f8d7c81d-f061-4c56-e753-0cbee1efe316",
        "colab": {
          "base_uri": "https://localhost:8080/"
        }
      },
      "source": [
        "#Finding the text length distribution\n",
        "df_dataset['sent_len'] = df_dataset['Tweet'].apply(lambda x: len(x.split(\" \")))\n",
        "max_seq_len = np.round(df_dataset['sent_len'].mean() + 2 * df_dataset['sent_len'].std()).astype(int)\n",
        "max_seq_len"
      ],
      "execution_count": 43,
      "outputs": [
        {
          "output_type": "execute_result",
          "data": {
            "text/plain": [
              "53"
            ]
          },
          "metadata": {},
          "execution_count": 43
        }
      ]
    },
    {
      "cell_type": "code",
      "metadata": {
        "id": "bkG4F3l_ZvUu",
        "outputId": "2a03f8b0-92d8-4dcb-f732-90aca87cec9e",
        "colab": {
          "base_uri": "https://localhost:8080/",
          "height": 0
        }
      },
      "source": [
        "df_dataset['sent_len'].plot.hist()\n",
        "plt.axvline(x=max_seq_len, color='k', linestyle='--', label='max len');"
      ],
      "execution_count": 44,
      "outputs": [
        {
          "output_type": "display_data",
          "data": {
            "image/png": "[encoded data removed]",
            "text/plain": [
              "<Figure size 432x288 with 1 Axes>"
            ]
          },
          "metadata": {}
        }
      ]
    },
    {
      "cell_type": "markdown",
      "metadata": {
        "id": "Fz8nBPxNZvU6"
      },
      "source": [
        "# Clean"
      ]
    },
    {
      "cell_type": "code",
      "metadata": {
        "scrolled": false,
        "id": "H1TtV1dEZvU7",
        "outputId": "c4e9b573-7233-45c4-e786-231246b12c40",
        "colab": {
          "base_uri": "https://localhost:8080/",
          "height": 0
        }
      },
      "source": [
        "df_dataset.head()"
      ],
      "execution_count": 45,
      "outputs": [
        {
          "output_type": "execute_result",
          "data": {
            "text/html": [
              "\n",
              "  <div id=\"df-4e958a81-4937-4229-aeb5-1e954aec8e52\">\n",
              "    <div class=\"colab-df-container\">\n",
              "      <div>\n",
              "<style scoped>\n",
              "    .dataframe tbody tr th:only-of-type {\n",
              "        vertical-align: middle;\n",
              "    }\n",
              "\n",
              "    .dataframe tbody tr th {\n",
              "        vertical-align: top;\n",
              "    }\n",
              "\n",
              "    .dataframe thead th {\n",
              "        text-align: right;\n",
              "    }\n",
              "</style>\n",
              "<table border=\"1\" class=\"dataframe\">\n",
              "  <thead>\n",
              "    <tr style=\"text-align: right;\">\n",
              "      <th></th>\n",
              "      <th>Tweet</th>\n",
              "      <th>label</th>\n",
              "      <th>sent_len</th>\n",
              "    </tr>\n",
              "  </thead>\n",
              "  <tbody>\n",
              "    <tr>\n",
              "      <th>0</th>\n",
              "      <td>agree the poor in india are treated badly their poors seek a living in singapore and are treated like citizens they are given free medical treatment given food daily sim cards to call home to tell...</td>\n",
              "      <td>0</td>\n",
              "      <td>49</td>\n",
              "    </tr>\n",
              "    <tr>\n",
              "      <th>1</th>\n",
              "      <td>if only i could have spent the with this cutie vc sakshi s i n g h coast crossing republik</td>\n",
              "      <td>1</td>\n",
              "      <td>21</td>\n",
              "    </tr>\n",
              "    <tr>\n",
              "      <th>2</th>\n",
              "      <td>will nature conservation remain a priority in post corona bangladesh the daily star</td>\n",
              "      <td>1</td>\n",
              "      <td>13</td>\n",
              "    </tr>\n",
              "    <tr>\n",
              "      <th>3</th>\n",
              "      <td>coronavirus disappearing in italy show this to intellectuals who say lockdowns do not work</td>\n",
              "      <td>0</td>\n",
              "      <td>15</td>\n",
              "    </tr>\n",
              "    <tr>\n",
              "      <th>4</th>\n",
              "      <td>uk records lowest daily virus death toll since start of lockdown govt</td>\n",
              "      <td>0</td>\n",
              "      <td>12</td>\n",
              "    </tr>\n",
              "  </tbody>\n",
              "</table>\n",
              "</div>\n",
              "      <button class=\"colab-df-convert\" onclick=\"convertToInteractive('df-4e958a81-4937-4229-aeb5-1e954aec8e52')\"\n",
              "              title=\"Convert this dataframe to an interactive table.\"\n",
              "              style=\"display:none;\">\n",
              "        \n",
              "  <svg xmlns=\"http://www.w3.org/2000/svg\" height=\"24px\"viewBox=\"0 0 24 24\"\n",
              "       width=\"24px\">\n",
              "    <path d=\"M0 0h24v24H0V0z\" fill=\"none\"/>\n",
              "    <path d=\"M18.56 5.44l.94 2.06.94-2.06 2.06-.94-2.06-.94-.94-2.06-.94 2.06-2.06.94zm-11 1L8.5 8.5l.94-2.06 2.06-.94-2.06-.94L8.5 2.5l-.94 2.06-2.06.94zm10 10l.94 2.06.94-2.06 2.06-.94-2.06-.94-.94-2.06-.94 2.06-2.06.94z\"/><path d=\"M17.41 7.96l-1.37-1.37c-.4-.4-.92-.59-1.43-.59-.52 0-1.04.2-1.43.59L10.3 9.45l-7.72 7.72c-.78.78-.78 2.05 0 2.83L4 21.41c.39.39.9.59 1.41.59.51 0 1.02-.2 1.41-.59l7.78-7.78 2.81-2.81c.8-.78.8-2.07 0-2.86zM5.41 20L4 18.59l7.72-7.72 1.47 1.35L5.41 20z\"/>\n",
              "  </svg>\n",
              "      </button>\n",
              "      \n",
              "  <style>\n",
              "    .colab-df-container {\n",
              "      display:flex;\n",
              "      flex-wrap:wrap;\n",
              "      gap: 12px;\n",
              "    }\n",
              "\n",
              "    .colab-df-convert {\n",
              "      background-color: #E8F0FE;\n",
              "      border: none;\n",
              "      border-radius: 50%;\n",
              "      cursor: pointer;\n",
              "      display: none;\n",
              "      fill: #1967D2;\n",
              "      height: 32px;\n",
              "      padding: 0 0 0 0;\n",
              "      width: 32px;\n",
              "    }\n",
              "\n",
              "    .colab-df-convert:hover {\n",
              "      background-color: #E2EBFA;\n",
              "      box-shadow: 0px 1px 2px rgba(60, 64, 67, 0.3), 0px 1px 3px 1px rgba(60, 64, 67, 0.15);\n",
              "      fill: #174EA6;\n",
              "    }\n",
              "\n",
              "    [theme=dark] .colab-df-convert {\n",
              "      background-color: #3B4455;\n",
              "      fill: #D2E3FC;\n",
              "    }\n",
              "\n",
              "    [theme=dark] .colab-df-convert:hover {\n",
              "      background-color: #434B5C;\n",
              "      box-shadow: 0px 1px 3px 1px rgba(0, 0, 0, 0.15);\n",
              "      filter: drop-shadow(0px 1px 2px rgba(0, 0, 0, 0.3));\n",
              "      fill: #FFFFFF;\n",
              "    }\n",
              "  </style>\n",
              "\n",
              "      <script>\n",
              "        const buttonEl =\n",
              "          document.querySelector('#df-4e958a81-4937-4229-aeb5-1e954aec8e52 button.colab-df-convert');\n",
              "        buttonEl.style.display =\n",
              "          google.colab.kernel.accessAllowed ? 'block' : 'none';\n",
              "\n",
              "        async function convertToInteractive(key) {\n",
              "          const element = document.querySelector('#df-4e958a81-4937-4229-aeb5-1e954aec8e52');\n",
              "          const dataTable =\n",
              "            await google.colab.kernel.invokeFunction('convertToInteractive',\n",
              "                                                     [key], {});\n",
              "          if (!dataTable) return;\n",
              "\n",
              "          const docLinkHtml = 'Like what you see? Visit the ' +\n",
              "            '<a target=\"_blank\" href=https://colab.research.google.com/notebooks/data_table.ipynb>data table notebook</a>'\n",
              "            + ' to learn more about interactive tables.';\n",
              "          element.innerHTML = '';\n",
              "          dataTable['output_type'] = 'display_data';\n",
              "          await google.colab.output.renderOutput(dataTable, element);\n",
              "          const docLink = document.createElement('div');\n",
              "          docLink.innerHTML = docLinkHtml;\n",
              "          element.appendChild(docLink);\n",
              "        }\n",
              "      </script>\n",
              "    </div>\n",
              "  </div>\n",
              "  "
            ],
            "text/plain": [
              "                                                                                                                                                                                                     Tweet  ...  sent_len\n",
              "0  agree the poor in india are treated badly their poors seek a living in singapore and are treated like citizens they are given free medical treatment given food daily sim cards to call home to tell...  ...        49\n",
              "1                                                                                                              if only i could have spent the with this cutie vc sakshi s i n g h coast crossing republik   ...        21\n",
              "2                                                                                                                      will nature conservation remain a priority in post corona bangladesh the daily star  ...        13\n",
              "3                                                                                                              coronavirus disappearing in italy show this to intellectuals who say lockdowns do not work   ...        15\n",
              "4                                                                                                                                    uk records lowest daily virus death toll since start of lockdown govt  ...        12\n",
              "\n",
              "[5 rows x 3 columns]"
            ]
          },
          "metadata": {},
          "execution_count": 45
        }
      ]
    },
    {
      "cell_type": "code",
      "metadata": {
        "id": "8n2fAcHsZvU-"
      },
      "source": [
        "regex_tokenizer = RegexpTokenizer(r'\\w+')"
      ],
      "execution_count": 46,
      "outputs": []
    },
    {
      "cell_type": "code",
      "metadata": {
        "id": "hcx38CGGZvVB",
        "outputId": "31af0a48-9578-415a-83fd-deffcf7a0f32",
        "colab": {
          "base_uri": "https://localhost:8080/",
          "height": 0,
          "referenced_widgets": [
            "55852fa1226e496c8cecd1d3f7a38ec2",
            "31c0d9837ec74f19b593ac8b16807ad2",
            "ecf74ca7cf6b46e2972d060e023d92b4",
            "ac6b046d963e464ea2d5f51ad5379de9",
            "518c181e26a448999aa8ed4eac433a50",
            "e9016e07d96f44e0885c4b1bed72242b",
            "591ec37d8be24e0fad16a4034a48581b",
            "af5be88af81e4116993da723fa5035b5",
            "6fefc9d7b5244553938fede95c62e632",
            "71a4b37e2b6746819e121a20dd8fdec5",
            "fdd6d5c0fcc84c89b510518399135910"
          ]
        }
      },
      "source": [
        "cleaned_text = []\n",
        "\n",
        "for text in tqdm_notebook(df_dataset['Tweet']):\n",
        "    tokens = regex_tokenizer.tokenize(text)\n",
        "    cleaned_text.append(\" \".join(tokens))"
      ],
      "execution_count": 47,
      "outputs": [
        {
          "output_type": "display_data",
          "data": {
            "application/vnd.jupyter.widget-view+json": {
              "model_id": "55852fa1226e496c8cecd1d3f7a38ec2",
              "version_minor": 0,
              "version_major": 2
            },
            "text/plain": [
              "  0%|          | 0/3090 [00:00<?, ?it/s]"
            ]
          },
          "metadata": {}
        }
      ]
    },
    {
      "cell_type": "code",
      "metadata": {
        "id": "rdgqY2MOZvVE",
        "outputId": "76171dab-c6ce-4196-9c77-27724ab42da4",
        "colab": {
          "base_uri": "https://localhost:8080/"
        }
      },
      "source": [
        "print(cleaned_text[0])"
      ],
      "execution_count": 48,
      "outputs": [
        {
          "output_type": "stream",
          "name": "stdout",
          "text": [
            "agree the poor in india are treated badly their poors seek a living in singapore and are treated like citizens they are given free medical treatment given food daily sim cards to call home to tell their family that they are fine if covid case treated foc in hospitals\n"
          ]
        }
      ]
    },
    {
      "cell_type": "markdown",
      "metadata": {
        "id": "WkGvsotdZvVJ"
      },
      "source": [
        "#Tokenize"
      ]
    },
    {
      "cell_type": "code",
      "metadata": {
        "id": "m_99kIzjZvVK"
      },
      "source": [
        "max_words = 1e5"
      ],
      "execution_count": 49,
      "outputs": []
    },
    {
      "cell_type": "code",
      "metadata": {
        "id": "5VyXMIl1ZvVN"
      },
      "source": [
        "tokenizer = Tokenizer(num_words=max_words, lower=True, char_level=False)"
      ],
      "execution_count": 50,
      "outputs": []
    },
    {
      "cell_type": "code",
      "metadata": {
        "id": "-1OjVtK1ZvVR",
        "outputId": "e9b1d4ed-f5a0-41e0-c8ed-3dbadb3d0a38",
        "colab": {
          "base_uri": "https://localhost:8080/"
        }
      },
      "source": [
        "#tokenize and build dictionary\n",
        "tokenizer.fit_on_texts(cleaned_text)\n",
        "input_sequences = tokenizer.texts_to_sequences(cleaned_text)\n",
        "\n",
        "word_index = tokenizer.word_index\n",
        "print(\"dictionary size: \", len(word_index))"
      ],
      "execution_count": 51,
      "outputs": [
        {
          "output_type": "stream",
          "name": "stdout",
          "text": [
            "dictionary size:  10085\n"
          ]
        }
      ]
    },
    {
      "cell_type": "code",
      "metadata": {
        "id": "xnVesnTbZvVU",
        "outputId": "5971c314-de86-46c6-c6a6-a9b80808d905",
        "colab": {
          "base_uri": "https://localhost:8080/"
        }
      },
      "source": [
        "print(input_sequences[0])"
      ],
      "execution_count": 52,
      "outputs": [
        {
          "output_type": "stream",
          "name": "stdout",
          "text": [
            "[959, 1, 294, 6, 66, 13, 1188, 1570, 57, 4417, 2273, 7, 521, 6, 1358, 5, 13, 1188, 70, 320, 35, 13, 431, 268, 360, 577, 431, 215, 269, 4418, 4419, 2, 235, 79, 2, 371, 57, 127, 21, 35, 13, 877, 42, 18, 295, 1188, 3035, 6, 396]\n"
          ]
        }
      ]
    },
    {
      "cell_type": "markdown",
      "metadata": {
        "id": "8woiteInZvVY"
      },
      "source": [
        "# Padding"
      ]
    },
    {
      "cell_type": "code",
      "metadata": {
        "id": "RRC2PB1UZvVZ"
      },
      "source": [
        "#pad text to make it of equal length\n",
        "input_sequences = pad_sequences(input_sequences, maxlen=max_seq_len)"
      ],
      "execution_count": 53,
      "outputs": []
    },
    {
      "cell_type": "code",
      "metadata": {
        "id": "J9xLO9QwZvVd",
        "outputId": "6c06654d-d9f8-48a5-bdc7-fb35e72d38ac",
        "colab": {
          "base_uri": "https://localhost:8080/"
        }
      },
      "source": [
        "print(input_sequences[0])"
      ],
      "execution_count": 54,
      "outputs": [
        {
          "output_type": "stream",
          "name": "stdout",
          "text": [
            "[   0    0    0    0  959    1  294    6   66   13 1188 1570   57 4417\n",
            " 2273    7  521    6 1358    5   13 1188   70  320   35   13  431  268\n",
            "  360  577  431  215  269 4418 4419    2  235   79    2  371   57  127\n",
            "   21   35   13  877   42   18  295 1188 3035    6  396]\n"
          ]
        }
      ]
    },
    {
      "cell_type": "code",
      "metadata": {
        "id": "ZC9t1SJmZvVg"
      },
      "source": [
        "labels = df_dataset['label'].values"
      ],
      "execution_count": 55,
      "outputs": []
    },
    {
      "cell_type": "code",
      "metadata": {
        "id": "PiL9P2-SZvVk",
        "outputId": "c9c63f4b-1749-4e4f-d8cb-b9770fd31a86",
        "colab": {
          "base_uri": "https://localhost:8080/"
        }
      },
      "source": [
        "print(labels[36])"
      ],
      "execution_count": 56,
      "outputs": [
        {
          "output_type": "stream",
          "name": "stdout",
          "text": [
            "1\n"
          ]
        }
      ]
    },
    {
      "cell_type": "markdown",
      "metadata": {
        "id": "ZzVUxYIfZvVn"
      },
      "source": [
        "#Embedding matrix"
      ]
    },
    {
      "cell_type": "code",
      "metadata": {
        "id": "fP2wR9ZbZvVo"
      },
      "source": [
        "embed_dim = 300"
      ],
      "execution_count": 57,
      "outputs": []
    },
    {
      "cell_type": "code",
      "metadata": {
        "id": "w4wBP5MrZvVr",
        "outputId": "17bea539-5b15-4fc2-a3df-8d3e56530f34",
        "colab": {
          "base_uri": "https://localhost:8080/"
        }
      },
      "source": [
        "#creating the embedding matrix\n",
        "words_not_found = []\n",
        "nb_words = min(max_words, len(word_index))\n",
        "\n",
        "embedding_matrix = np.zeros((nb_words+1, embed_dim))\n",
        "\n",
        "for word, i in word_index.items():\n",
        "    if i > nb_words:\n",
        "        break\n",
        "\n",
        "    vector = word_vectors.get(word)\n",
        "    if vector is not None:\n",
        "        # words not found in embedding index will be all-zeros.\n",
        "        embedding_matrix[i] = vector\n",
        "    else:\n",
        "        words_not_found.append(word)\n",
        "\n",
        "print('number of null word embeddings: {:d}'.format(np.sum(np.sum(embedding_matrix, axis=1) == 0)))"
      ],
      "execution_count": 58,
      "outputs": [
        {
          "output_type": "stream",
          "name": "stdout",
          "text": [
            "number of null word embeddings: 1061\n"
          ]
        }
      ]
    },
    {
      "cell_type": "code",
      "metadata": {
        "id": "3S5Ve5iiZvVu",
        "outputId": "095c6039-d249-4bda-b69a-b7c1885b9cf1",
        "colab": {
          "base_uri": "https://localhost:8080/"
        }
      },
      "source": [
        "print(\"sample words not found: \", np.random.choice(words_not_found, 10))"
      ],
      "execution_count": 59,
      "outputs": [
        {
          "output_type": "stream",
          "name": "stdout",
          "text": [
            "sample words not found:  ['tarawi' 'agqvats' 'crona' 'mnuchin' 'ckee' 'prestigiius' 'mintence'\n",
            " 'sindu' 'lrkz' 'dasdi']\n"
          ]
        }
      ]
    },
    {
      "cell_type": "markdown",
      "metadata": {
        "id": "d-8XEa_IZvVy"
      },
      "source": [
        "#Train Test Split"
      ]
    },
    {
      "cell_type": "code",
      "metadata": {
        "id": "fSo1UHTGZvVz"
      },
      "source": [
        "#splitting the given dataset into train and test sets\n",
        "X_train, X_test, y_train, y_test = (\n",
        "    train_test_split(input_sequences, labels, random_state=42, test_size=0.2)\n",
        ")"
      ],
      "execution_count": 60,
      "outputs": []
    },
    {
      "cell_type": "code",
      "metadata": {
        "id": "PbJS6U1vZvV2"
      },
      "source": [
        "X_train = tf.constant(X_train)\n",
        "X_test = tf.constant(X_test)\n",
        "\n",
        "y_train = tf.constant(y_train)\n",
        "y_test = tf.constant(y_test)"
      ],
      "execution_count": 61,
      "outputs": []
    },
    {
      "cell_type": "code",
      "metadata": {
        "id": "x96WC67rZvV8",
        "outputId": "4e686ae7-7eb8-4e2b-f655-39b463af432e",
        "colab": {
          "base_uri": "https://localhost:8080/"
        }
      },
      "source": [
        "print(f'Train | X shape: {X_train.shape}, y shape: {y_train.shape}')\n",
        "print(f'Test | X shape: {X_test.shape}, y shape: {y_test.shape}')"
      ],
      "execution_count": 62,
      "outputs": [
        {
          "output_type": "stream",
          "name": "stdout",
          "text": [
            "Train | X shape: (2472, 53), y shape: (2472,)\n",
            "Test | X shape: (618, 53), y shape: (618,)\n"
          ]
        }
      ]
    },
    {
      "cell_type": "markdown",
      "metadata": {
        "id": "olAVq30hZvV_"
      },
      "source": [
        "# Create model"
      ]
    },
    {
      "cell_type": "code",
      "source": [
        "from keras import backend as K\n",
        "\n",
        "def recall_m(y_true, y_pred):\n",
        "    true_positives = K.sum(K.round(K.clip(y_true * y_pred, 0, 1)))\n",
        "    possible_positives = K.sum(K.round(K.clip(y_true, 0, 1)))\n",
        "    recall = true_positives / (possible_positives + K.epsilon())\n",
        "    return recall\n",
        "\n",
        "def precision_m(y_true, y_pred):\n",
        "    true_positives = K.sum(K.round(K.clip(y_true * y_pred, 0, 1)))\n",
        "    predicted_positives = K.sum(K.round(K.clip(y_pred, 0, 1)))\n",
        "    precision = true_positives / (predicted_positives + K.epsilon())\n",
        "    return precision\n",
        "\n",
        "def f1_m(y_true, y_pred):\n",
        "    precision = precision_m(y_true, y_pred)\n",
        "    recall = recall_m(y_true, y_pred)\n",
        "    return 2*((precision*recall)/(precision+recall+K.epsilon()))"
      ],
      "metadata": {
        "id": "smkyxsidB5Qd"
      },
      "execution_count": 63,
      "outputs": []
    },
    {
      "cell_type": "code",
      "metadata": {
        "id": "4Di75fGNZvWA"
      },
      "source": [
        "#defining the model\n",
        "def create_model(input_len):\n",
        "    inp = Input(shape=(input_len,))\n",
        "\n",
        "    x = Embedding(nb_words+1, embed_dim,\n",
        "                  weights=[embedding_matrix],\n",
        "                  input_length=input_len, trainable=False)(inp)\n",
        "    \n",
        "    x1 = Conv1D(200, 3, activation='relu', padding='same')(x)\n",
        "    x1 = GlobalMaxPooling1D()(x1)\n",
        "\n",
        "    x2 = Conv1D(200, 4, activation='relu', padding='same')(x)\n",
        "    x2 = GlobalMaxPooling1D()(x2)\n",
        "\n",
        "    x3 = Conv1D(200, 5, activation='relu', padding='same')(x)\n",
        "    x3 = GlobalMaxPooling1D()(x3)\n",
        "\n",
        "    x = concatenate([x1, x2, x3])\n",
        "    x = Dropout(0.5)(x)\n",
        "    x = Dense(30, activation='relu')(x)\n",
        "    x = Dropout(0.5)(x)\n",
        "    x = Dense(4, activation='softmax')(x)\n",
        "\n",
        "    model = Model(inputs=inp, outputs=x)\n",
        "\n",
        "    opt = tf.keras.optimizers.Adam(lr=0.001)\n",
        "\n",
        "    model.compile(loss='sparse_categorical_crossentropy',\n",
        "                  optimizer=opt,\n",
        "                  metrics=['accuracy',f1_m,precision_m, recall_m])\n",
        "\n",
        "    return model"
      ],
      "execution_count": 64,
      "outputs": []
    },
    {
      "cell_type": "code",
      "metadata": {
        "scrolled": true,
        "id": "J4oTEp97ZvWC",
        "outputId": "733007eb-0dc8-4602-dcc7-cb915c1ee29e",
        "colab": {
          "base_uri": "https://localhost:8080/"
        }
      },
      "source": [
        "model = create_model(max_seq_len)\n",
        "model.summary()"
      ],
      "execution_count": 65,
      "outputs": [
        {
          "output_type": "stream",
          "name": "stdout",
          "text": [
            "Model: \"model\"\n",
            "__________________________________________________________________________________________________\n",
            " Layer (type)                   Output Shape         Param #     Connected to                     \n",
            "==================================================================================================\n",
            " input_1 (InputLayer)           [(None, 53)]         0           []                               \n",
            "                                                                                                  \n",
            " embedding (Embedding)          (None, 53, 300)      3025800     ['input_1[0][0]']                \n",
            "                                                                                                  \n",
            " conv1d (Conv1D)                (None, 53, 200)      180200      ['embedding[0][0]']              \n",
            "                                                                                                  \n",
            " conv1d_1 (Conv1D)              (None, 53, 200)      240200      ['embedding[0][0]']              \n",
            "                                                                                                  \n",
            " conv1d_2 (Conv1D)              (None, 53, 200)      300200      ['embedding[0][0]']              \n",
            "                                                                                                  \n",
            " global_max_pooling1d (GlobalMa  (None, 200)         0           ['conv1d[0][0]']                 \n",
            " xPooling1D)                                                                                      \n",
            "                                                                                                  \n",
            " global_max_pooling1d_1 (Global  (None, 200)         0           ['conv1d_1[0][0]']               \n",
            " MaxPooling1D)                                                                                    \n",
            "                                                                                                  \n",
            " global_max_pooling1d_2 (Global  (None, 200)         0           ['conv1d_2[0][0]']               \n",
            " MaxPooling1D)                                                                                    \n",
            "                                                                                                  \n",
            " concatenate (Concatenate)      (None, 600)          0           ['global_max_pooling1d[0][0]',   \n",
            "                                                                  'global_max_pooling1d_1[0][0]', \n",
            "                                                                  'global_max_pooling1d_2[0][0]'] \n",
            "                                                                                                  \n",
            " dropout (Dropout)              (None, 600)          0           ['concatenate[0][0]']            \n",
            "                                                                                                  \n",
            " dense (Dense)                  (None, 30)           18030       ['dropout[0][0]']                \n",
            "                                                                                                  \n",
            " dropout_1 (Dropout)            (None, 30)           0           ['dense[0][0]']                  \n",
            "                                                                                                  \n",
            " dense_1 (Dense)                (None, 4)            124         ['dropout_1[0][0]']              \n",
            "                                                                                                  \n",
            "==================================================================================================\n",
            "Total params: 3,764,554\n",
            "Trainable params: 738,754\n",
            "Non-trainable params: 3,025,800\n",
            "__________________________________________________________________________________________________\n"
          ]
        }
      ]
    },
    {
      "cell_type": "markdown",
      "metadata": {
        "id": "9pTzhS76ZvWE"
      },
      "source": [
        "# Training"
      ]
    },
    {
      "cell_type": "code",
      "metadata": {
        "scrolled": true,
        "id": "JxwSsECoZvWF",
        "outputId": "825e3df6-53fa-444f-ad31-c4598616e7c0",
        "colab": {
          "base_uri": "https://localhost:8080/"
        }
      },
      "source": [
        "#metrics for evaluation\n",
        "loss, metric, f1, prec, rec = model.evaluate(X_test, y_test, batch_size=32, verbose=0)\n",
        "print(f\"Loss before training: {loss:.4f} \\nAccuracy before training: {metric:.2%} \\nF1 Score: {f1:.4f} \\nPrecision: {prec:.4f} \\nRecall: {rec:.4f}\")"
      ],
      "execution_count": 66,
      "outputs": [
        {
          "output_type": "stream",
          "name": "stdout",
          "text": [
            "Loss before training: 1.3880 \n",
            "Accuracy before training: 27.51% \n",
            "F1 Score: 3.7849 \n",
            "Precision: 437999968.0000 \n",
            "Recall: 1.8925\n"
          ]
        }
      ]
    },
    {
      "cell_type": "code",
      "source": [
        "df_dataset.dtypes"
      ],
      "metadata": {
        "colab": {
          "base_uri": "https://localhost:8080/"
        },
        "id": "7tIMFiCifg29",
        "outputId": "b0c1c846-723a-44ff-f87c-8a0a601f8eed"
      },
      "execution_count": 67,
      "outputs": [
        {
          "output_type": "execute_result",
          "data": {
            "text/plain": [
              "Tweet       object\n",
              "label        int64\n",
              "sent_len     int64\n",
              "dtype: object"
            ]
          },
          "metadata": {},
          "execution_count": 67
        }
      ]
    },
    {
      "cell_type": "code",
      "metadata": {
        "scrolled": true,
        "id": "VawyxCyLZvWH",
        "outputId": "d933e1d2-c345-4491-b8d1-7b50f25e1078",
        "colab": {
          "base_uri": "https://localhost:8080/"
        }
      },
      "source": [
        "#fitting the model\n",
        "history = model.fit(X_train, y_train, batch_size=256, epochs=50, validation_data=(X_test, y_test))"
      ],
      "execution_count": 68,
      "outputs": [
        {
          "output_type": "stream",
          "name": "stdout",
          "text": [
            "Epoch 1/50\n",
            "10/10 [==============================] - 10s 901ms/step - loss: 1.4047 - accuracy: 0.2698 - f1_m: 3.7628 - precision_m: 1016000128.0000 - recall_m: 1.9219 - val_loss: 1.3790 - val_accuracy: 0.2735 - val_f1_m: 4.1299 - val_precision_m: 3109999872.0000 - val_recall_m: 2.0649\n",
            "Epoch 2/50\n",
            "10/10 [==============================] - 9s 888ms/step - loss: 1.3680 - accuracy: 0.3131 - f1_m: 3.9308 - precision_m: 2706999808.0000 - recall_m: 1.9727 - val_loss: 1.3469 - val_accuracy: 0.3706 - val_f1_m: 4.1177 - val_precision_m: 3120000000.0000 - val_recall_m: 2.0588\n",
            "Epoch 3/50\n",
            "10/10 [==============================] - 9s 882ms/step - loss: 1.3587 - accuracy: 0.2989 - f1_m: 3.8295 - precision_m: 354000096.0000 - recall_m: 1.9493 - val_loss: 1.3276 - val_accuracy: 0.3867 - val_f1_m: 4.1183 - val_precision_m: 623333504.0000 - val_recall_m: 2.0699\n",
            "Epoch 4/50\n",
            "10/10 [==============================] - 9s 893ms/step - loss: 1.3177 - accuracy: 0.3479 - f1_m: 3.5104 - precision_m: 44.8859 - recall_m: 1.8392 - val_loss: 1.2820 - val_accuracy: 0.4595 - val_f1_m: 3.8982 - val_precision_m: 576666816.0000 - val_recall_m: 1.9594\n",
            "Epoch 5/50\n",
            "10/10 [==============================] - 9s 878ms/step - loss: 1.2770 - accuracy: 0.3892 - f1_m: 3.2319 - precision_m: 16.0468 - recall_m: 1.8106 - val_loss: 1.2446 - val_accuracy: 0.4547 - val_f1_m: 3.5225 - val_precision_m: 116.0000 - val_recall_m: 1.7915\n",
            "Epoch 6/50\n",
            "10/10 [==============================] - 9s 879ms/step - loss: 1.2337 - accuracy: 0.4219 - f1_m: 2.7556 - precision_m: 7.5451 - recall_m: 1.7015 - val_loss: 1.1904 - val_accuracy: 0.4741 - val_f1_m: 3.1930 - val_precision_m: 24.5425 - val_recall_m: 1.7126\n",
            "Epoch 7/50\n",
            "10/10 [==============================] - 9s 884ms/step - loss: 1.1652 - accuracy: 0.4721 - f1_m: 2.5909 - precision_m: 5.6570 - recall_m: 1.6894 - val_loss: 1.1462 - val_accuracy: 0.5129 - val_f1_m: 3.0418 - val_precision_m: 14.4861 - val_recall_m: 1.7002\n",
            "Epoch 8/50\n",
            "10/10 [==============================] - 9s 875ms/step - loss: 1.1171 - accuracy: 0.4883 - f1_m: 2.3982 - precision_m: 4.3475 - recall_m: 1.6687 - val_loss: 1.0735 - val_accuracy: 0.5421 - val_f1_m: 2.5474 - val_precision_m: 5.7022 - val_recall_m: 1.6405\n",
            "Epoch 9/50\n",
            "10/10 [==============================] - 9s 878ms/step - loss: 1.0394 - accuracy: 0.5400 - f1_m: 2.0553 - precision_m: 2.8811 - recall_m: 1.6017 - val_loss: 1.0186 - val_accuracy: 0.5663 - val_f1_m: 2.4137 - val_precision_m: 4.4411 - val_recall_m: 1.6580\n",
            "Epoch 10/50\n",
            "10/10 [==============================] - 9s 881ms/step - loss: 0.9630 - accuracy: 0.5922 - f1_m: 1.9583 - precision_m: 2.5227 - recall_m: 1.6012 - val_loss: 0.9887 - val_accuracy: 0.5696 - val_f1_m: 2.1820 - val_precision_m: 3.2837 - val_recall_m: 1.6363\n",
            "Epoch 11/50\n",
            "10/10 [==============================] - 9s 886ms/step - loss: 0.9070 - accuracy: 0.6270 - f1_m: 1.7979 - precision_m: 2.1047 - recall_m: 1.5739 - val_loss: 0.9578 - val_accuracy: 0.5793 - val_f1_m: 1.9823 - val_precision_m: 2.5364 - val_recall_m: 1.6351\n",
            "Epoch 12/50\n",
            "10/10 [==============================] - 9s 884ms/step - loss: 0.8665 - accuracy: 0.6303 - f1_m: 1.7267 - precision_m: 1.9099 - recall_m: 1.5800 - val_loss: 0.9306 - val_accuracy: 0.5696 - val_f1_m: 1.9294 - val_precision_m: 2.3204 - val_recall_m: 1.6537\n",
            "Epoch 13/50\n",
            "10/10 [==============================] - 9s 881ms/step - loss: 0.8116 - accuracy: 0.6630 - f1_m: 1.6662 - precision_m: 1.7989 - recall_m: 1.5555 - val_loss: 0.9000 - val_accuracy: 0.6003 - val_f1_m: 1.8403 - val_precision_m: 2.0989 - val_recall_m: 1.6426\n",
            "Epoch 14/50\n",
            "10/10 [==============================] - 9s 886ms/step - loss: 0.7611 - accuracy: 0.6950 - f1_m: 1.6035 - precision_m: 1.6582 - recall_m: 1.5556 - val_loss: 0.8866 - val_accuracy: 0.6036 - val_f1_m: 1.7347 - val_precision_m: 1.9303 - val_recall_m: 1.5872\n",
            "Epoch 15/50\n",
            "10/10 [==============================] - 9s 884ms/step - loss: 0.7453 - accuracy: 0.6974 - f1_m: 1.5879 - precision_m: 1.6409 - recall_m: 1.5401 - val_loss: 0.8621 - val_accuracy: 0.6327 - val_f1_m: 1.7736 - val_precision_m: 1.9022 - val_recall_m: 1.6635\n",
            "Epoch 16/50\n",
            "10/10 [==============================] - 9s 888ms/step - loss: 0.6728 - accuracy: 0.7407 - f1_m: 1.4908 - precision_m: 1.4989 - recall_m: 1.4850 - val_loss: 0.8506 - val_accuracy: 0.6327 - val_f1_m: 1.6826 - val_precision_m: 1.7493 - val_recall_m: 1.6231\n",
            "Epoch 17/50\n",
            "10/10 [==============================] - 9s 891ms/step - loss: 0.6369 - accuracy: 0.7617 - f1_m: 1.4534 - precision_m: 1.4198 - recall_m: 1.4898 - val_loss: 0.8572 - val_accuracy: 0.6375 - val_f1_m: 1.5962 - val_precision_m: 1.6172 - val_recall_m: 1.5787\n",
            "Epoch 18/50\n",
            "10/10 [==============================] - 9s 893ms/step - loss: 0.5980 - accuracy: 0.7779 - f1_m: 1.4368 - precision_m: 1.3878 - recall_m: 1.4909 - val_loss: 0.8279 - val_accuracy: 0.6375 - val_f1_m: 1.6178 - val_precision_m: 1.6429 - val_recall_m: 1.5970\n",
            "Epoch 19/50\n",
            "10/10 [==============================] - 9s 948ms/step - loss: 0.5511 - accuracy: 0.7864 - f1_m: 1.3822 - precision_m: 1.3221 - recall_m: 1.4484 - val_loss: 0.8144 - val_accuracy: 0.6537 - val_f1_m: 1.5443 - val_precision_m: 1.5301 - val_recall_m: 1.5622\n",
            "Epoch 20/50\n",
            "10/10 [==============================] - 9s 891ms/step - loss: 0.5201 - accuracy: 0.8042 - f1_m: 1.3455 - precision_m: 1.2675 - recall_m: 1.4347 - val_loss: 0.8158 - val_accuracy: 0.6489 - val_f1_m: 1.4979 - val_precision_m: 1.4672 - val_recall_m: 1.5322\n",
            "Epoch 21/50\n",
            "10/10 [==============================] - 9s 891ms/step - loss: 0.4872 - accuracy: 0.8180 - f1_m: 1.3561 - precision_m: 1.2778 - recall_m: 1.4480 - val_loss: 0.8143 - val_accuracy: 0.6553 - val_f1_m: 1.4504 - val_precision_m: 1.4070 - val_recall_m: 1.5003\n",
            "Epoch 22/50\n",
            "10/10 [==============================] - 9s 888ms/step - loss: 0.4571 - accuracy: 0.8313 - f1_m: 1.2925 - precision_m: 1.1941 - recall_m: 1.4093 - val_loss: 0.8015 - val_accuracy: 0.6748 - val_f1_m: 1.4360 - val_precision_m: 1.3655 - val_recall_m: 1.5179\n",
            "Epoch 23/50\n",
            "10/10 [==============================] - 9s 891ms/step - loss: 0.4137 - accuracy: 0.8475 - f1_m: 1.2298 - precision_m: 1.1221 - recall_m: 1.3608 - val_loss: 0.8136 - val_accuracy: 0.6683 - val_f1_m: 1.4336 - val_precision_m: 1.3601 - val_recall_m: 1.5184\n",
            "Epoch 24/50\n",
            "10/10 [==============================] - 9s 895ms/step - loss: 0.3708 - accuracy: 0.8746 - f1_m: 1.1976 - precision_m: 1.0905 - recall_m: 1.3298 - val_loss: 0.8024 - val_accuracy: 0.6683 - val_f1_m: 1.4133 - val_precision_m: 1.3383 - val_recall_m: 1.5016\n",
            "Epoch 25/50\n",
            "10/10 [==============================] - 9s 898ms/step - loss: 0.3495 - accuracy: 0.8790 - f1_m: 1.1610 - precision_m: 1.0461 - recall_m: 1.3051 - val_loss: 0.8006 - val_accuracy: 0.6748 - val_f1_m: 1.3597 - val_precision_m: 1.2787 - val_recall_m: 1.4544\n",
            "Epoch 26/50\n",
            "10/10 [==============================] - 9s 895ms/step - loss: 0.3405 - accuracy: 0.8815 - f1_m: 1.1551 - precision_m: 1.0359 - recall_m: 1.3064 - val_loss: 0.8057 - val_accuracy: 0.6796 - val_f1_m: 1.3465 - val_precision_m: 1.2527 - val_recall_m: 1.4570\n",
            "Epoch 27/50\n",
            "10/10 [==============================] - 9s 893ms/step - loss: 0.3180 - accuracy: 0.8960 - f1_m: 1.1433 - precision_m: 1.0293 - recall_m: 1.2879 - val_loss: 0.8008 - val_accuracy: 0.6780 - val_f1_m: 1.3334 - val_precision_m: 1.2443 - val_recall_m: 1.4383\n",
            "Epoch 28/50\n",
            "10/10 [==============================] - 9s 891ms/step - loss: 0.2842 - accuracy: 0.9041 - f1_m: 1.1055 - precision_m: 0.9879 - recall_m: 1.2557 - val_loss: 0.8302 - val_accuracy: 0.6780 - val_f1_m: 1.2861 - val_precision_m: 1.1896 - val_recall_m: 1.4013\n",
            "Epoch 29/50\n",
            "10/10 [==============================] - 9s 893ms/step - loss: 0.2681 - accuracy: 0.9114 - f1_m: 1.0869 - precision_m: 0.9670 - recall_m: 1.2411 - val_loss: 0.8246 - val_accuracy: 0.6828 - val_f1_m: 1.2733 - val_precision_m: 1.1697 - val_recall_m: 1.3990\n",
            "Epoch 30/50\n",
            "10/10 [==============================] - 9s 888ms/step - loss: 0.2553 - accuracy: 0.9150 - f1_m: 1.0556 - precision_m: 0.9391 - recall_m: 1.2059 - val_loss: 0.8170 - val_accuracy: 0.6780 - val_f1_m: 1.2420 - val_precision_m: 1.1386 - val_recall_m: 1.3667\n",
            "Epoch 31/50\n",
            "10/10 [==============================] - 9s 888ms/step - loss: 0.2417 - accuracy: 0.9235 - f1_m: 1.0586 - precision_m: 0.9421 - recall_m: 1.2088 - val_loss: 0.8180 - val_accuracy: 0.6926 - val_f1_m: 1.2541 - val_precision_m: 1.1557 - val_recall_m: 1.3737\n",
            "Epoch 32/50\n",
            "10/10 [==============================] - 9s 885ms/step - loss: 0.2234 - accuracy: 0.9333 - f1_m: 1.0266 - precision_m: 0.9095 - recall_m: 1.1796 - val_loss: 0.8204 - val_accuracy: 0.6812 - val_f1_m: 1.2051 - val_precision_m: 1.1012 - val_recall_m: 1.3336\n",
            "Epoch 33/50\n",
            "10/10 [==============================] - 9s 885ms/step - loss: 0.2094 - accuracy: 0.9353 - f1_m: 1.0316 - precision_m: 0.9158 - recall_m: 1.1833 - val_loss: 0.8292 - val_accuracy: 0.6926 - val_f1_m: 1.1880 - val_precision_m: 1.0772 - val_recall_m: 1.3256\n",
            "Epoch 34/50\n",
            "10/10 [==============================] - 9s 889ms/step - loss: 0.1912 - accuracy: 0.9450 - f1_m: 1.0120 - precision_m: 0.8940 - recall_m: 1.1667 - val_loss: 0.8468 - val_accuracy: 0.6893 - val_f1_m: 1.2034 - val_precision_m: 1.0997 - val_recall_m: 1.3304\n",
            "Epoch 35/50\n",
            "10/10 [==============================] - 9s 899ms/step - loss: 0.1751 - accuracy: 0.9482 - f1_m: 0.9824 - precision_m: 0.8645 - recall_m: 1.1379 - val_loss: 0.8593 - val_accuracy: 0.6877 - val_f1_m: 1.1580 - val_precision_m: 1.0512 - val_recall_m: 1.2903\n",
            "Epoch 36/50\n",
            "10/10 [==============================] - 9s 887ms/step - loss: 0.1609 - accuracy: 0.9515 - f1_m: 0.9752 - precision_m: 0.8575 - recall_m: 1.1317 - val_loss: 0.8601 - val_accuracy: 0.6861 - val_f1_m: 1.1583 - val_precision_m: 1.0449 - val_recall_m: 1.3001\n",
            "Epoch 37/50\n",
            "10/10 [==============================] - 9s 892ms/step - loss: 0.1594 - accuracy: 0.9527 - f1_m: 0.9741 - precision_m: 0.8584 - recall_m: 1.1270 - val_loss: 0.8740 - val_accuracy: 0.6990 - val_f1_m: 1.1476 - val_precision_m: 1.0364 - val_recall_m: 1.2871\n",
            "Epoch 38/50\n",
            "10/10 [==============================] - 9s 901ms/step - loss: 0.1412 - accuracy: 0.9612 - f1_m: 0.9652 - precision_m: 0.8490 - recall_m: 1.1195 - val_loss: 0.8790 - val_accuracy: 0.6958 - val_f1_m: 1.1376 - val_precision_m: 1.0205 - val_recall_m: 1.2856\n",
            "Epoch 39/50\n",
            "10/10 [==============================] - 9s 896ms/step - loss: 0.1367 - accuracy: 0.9591 - f1_m: 0.9571 - precision_m: 0.8397 - recall_m: 1.1134 - val_loss: 0.8864 - val_accuracy: 0.6942 - val_f1_m: 1.1341 - val_precision_m: 1.0235 - val_recall_m: 1.2726\n",
            "Epoch 40/50\n",
            "10/10 [==============================] - 9s 891ms/step - loss: 0.1281 - accuracy: 0.9640 - f1_m: 0.9370 - precision_m: 0.8205 - recall_m: 1.0927 - val_loss: 0.8954 - val_accuracy: 0.7039 - val_f1_m: 1.1609 - val_precision_m: 1.0537 - val_recall_m: 1.2940\n",
            "Epoch 41/50\n",
            "10/10 [==============================] - 9s 907ms/step - loss: 0.1140 - accuracy: 0.9648 - f1_m: 0.9361 - precision_m: 0.8215 - recall_m: 1.0885 - val_loss: 0.9114 - val_accuracy: 0.7039 - val_f1_m: 1.0905 - val_precision_m: 0.9841 - val_recall_m: 1.2238\n",
            "Epoch 42/50\n",
            "10/10 [==============================] - 9s 887ms/step - loss: 0.1181 - accuracy: 0.9636 - f1_m: 0.9322 - precision_m: 0.8180 - recall_m: 1.0836 - val_loss: 0.9501 - val_accuracy: 0.6974 - val_f1_m: 1.1026 - val_precision_m: 0.9928 - val_recall_m: 1.2405\n",
            "Epoch 43/50\n",
            "10/10 [==============================] - 9s 893ms/step - loss: 0.1132 - accuracy: 0.9697 - f1_m: 0.9320 - precision_m: 0.8154 - recall_m: 1.0881 - val_loss: 0.9554 - val_accuracy: 0.6828 - val_f1_m: 1.1144 - val_precision_m: 1.0035 - val_recall_m: 1.2542\n",
            "Epoch 44/50\n",
            "10/10 [==============================] - 9s 888ms/step - loss: 0.1134 - accuracy: 0.9636 - f1_m: 0.9383 - precision_m: 0.8208 - recall_m: 1.0953 - val_loss: 0.9414 - val_accuracy: 0.6958 - val_f1_m: 1.0907 - val_precision_m: 0.9795 - val_recall_m: 1.2313\n",
            "Epoch 45/50\n",
            "10/10 [==============================] - 9s 883ms/step - loss: 0.1043 - accuracy: 0.9701 - f1_m: 0.9277 - precision_m: 0.8115 - recall_m: 1.0833 - val_loss: 0.9498 - val_accuracy: 0.6926 - val_f1_m: 1.1145 - val_precision_m: 1.0017 - val_recall_m: 1.2571\n",
            "Epoch 46/50\n",
            "10/10 [==============================] - 10s 975ms/step - loss: 0.0902 - accuracy: 0.9802 - f1_m: 0.9161 - precision_m: 0.8010 - recall_m: 1.0708 - val_loss: 0.9820 - val_accuracy: 0.6828 - val_f1_m: 1.0866 - val_precision_m: 0.9758 - val_recall_m: 1.2266\n",
            "Epoch 47/50\n",
            "10/10 [==============================] - 9s 884ms/step - loss: 0.0949 - accuracy: 0.9737 - f1_m: 0.9271 - precision_m: 0.8104 - recall_m: 1.0836 - val_loss: 0.9912 - val_accuracy: 0.6893 - val_f1_m: 1.0607 - val_precision_m: 0.9488 - val_recall_m: 1.2035\n",
            "Epoch 48/50\n",
            "10/10 [==============================] - 9s 888ms/step - loss: 0.0912 - accuracy: 0.9798 - f1_m: 0.9227 - precision_m: 0.8080 - recall_m: 1.0762 - val_loss: 0.9765 - val_accuracy: 0.7006 - val_f1_m: 1.0769 - val_precision_m: 0.9663 - val_recall_m: 1.2178\n",
            "Epoch 49/50\n",
            "10/10 [==============================] - 9s 882ms/step - loss: 0.0927 - accuracy: 0.9717 - f1_m: 0.9202 - precision_m: 0.8057 - recall_m: 1.0735 - val_loss: 0.9939 - val_accuracy: 0.6926 - val_f1_m: 1.0336 - val_precision_m: 0.9237 - val_recall_m: 1.1735\n",
            "Epoch 50/50\n",
            "10/10 [==============================] - 9s 886ms/step - loss: 0.0868 - accuracy: 0.9790 - f1_m: 0.9088 - precision_m: 0.7941 - recall_m: 1.0634 - val_loss: 1.0059 - val_accuracy: 0.6812 - val_f1_m: 1.0887 - val_precision_m: 0.9743 - val_recall_m: 1.2339\n"
          ]
        }
      ]
    },
    {
      "cell_type": "code",
      "source": [
        "# compile the model\n",
        "model.compile(optimizer='adam', loss='sparse_categorical_crossentropy', metrics=['accuracy',f1_m,precision_m, recall_m])\n"
      ],
      "metadata": {
        "id": "LSDgteFUyXFp"
      },
      "execution_count": 69,
      "outputs": []
    },
    {
      "cell_type": "code",
      "source": [
        "# evaluate the model\n",
        "#loss, accuracy, f1_score, precision, recall = model.evaluate(X_test, y_test, verbose=0)\n",
        "loss, metric, f1, prec, rec = model.evaluate(X_test, y_test, batch_size=32, verbose=0)"
      ],
      "metadata": {
        "id": "P_zrVnOVyeQk"
      },
      "execution_count": 70,
      "outputs": []
    },
    {
      "cell_type": "code",
      "source": [
        "print(f\"Loss after training: {loss:.4f} \\nAccuracy after training: {metric:.2%} \\nF1 Score : {f1:.4f} \\nPrecision: {prec:.4f} \\nRecall: {rec:.4f}\")"
      ],
      "metadata": {
        "colab": {
          "base_uri": "https://localhost:8080/"
        },
        "id": "srFUfNO6Cr0W",
        "outputId": "451d508b-7c82-4439-a80f-72982794f269"
      },
      "execution_count": 71,
      "outputs": [
        {
          "output_type": "stream",
          "name": "stdout",
          "text": [
            "Loss after training: 1.0059 \n",
            "Accuracy after training: 68.12% \n",
            "F1 Score : 1.0688 \n",
            "Precision: 0.9580 \n",
            "Recall: 1.2152\n"
          ]
        }
      ]
    },
    {
      "cell_type": "markdown",
      "metadata": {
        "id": "qSvq3TaMZvWK"
      },
      "source": [
        "# Test model on new sentences"
      ]
    },
    {
      "cell_type": "code",
      "metadata": {
        "id": "GsK5CuQOZvWK"
      },
      "source": [
        "def predict(text):\n",
        "  # pre-process text\n",
        "    tokens = regex_tokenizer.tokenize(text)\n",
        "    cleaned_text = [\" \".join(tokens)]\n",
        "    \n",
        "    input_ = tokenizer.texts_to_sequences(cleaned_text)\n",
        "    input_ = pad_sequences(input_, maxlen=max_seq_len)\n",
        "    \n",
        "    pred = model.predict(input_)[0]\n",
        "\n",
        "    return pred"
      ],
      "execution_count": 72,
      "outputs": []
    },
    {
      "cell_type": "code",
      "source": [
        "label_dict"
      ],
      "metadata": {
        "colab": {
          "base_uri": "https://localhost:8080/"
        },
        "id": "lGjKws-SnCrB",
        "outputId": "e646697b-d571-4831-b2d5-a23c19308e1e"
      },
      "execution_count": 73,
      "outputs": [
        {
          "output_type": "execute_result",
          "data": {
            "text/plain": [
              "{'anger': 3, 'fear': 2, 'joy': 1, 'sad': 0}"
            ]
          },
          "metadata": {},
          "execution_count": 73
        }
      ]
    },
    {
      "cell_type": "code",
      "metadata": {
        "id": "U_cGelZzZvWN"
      },
      "source": [
        "text = \"i am afraid of the virus\""
      ],
      "execution_count": 74,
      "outputs": []
    },
    {
      "cell_type": "code",
      "metadata": {
        "id": "5yucZ9D12jzy",
        "outputId": "fe374f9a-87e7-45cd-8c6b-52e4aa215bd1",
        "colab": {
          "base_uri": "https://localhost:8080/"
        }
      },
      "source": [
        "predict(text)"
      ],
      "execution_count": 75,
      "outputs": [
        {
          "output_type": "execute_result",
          "data": {
            "text/plain": [
              "array([0.0121938 , 0.00192617, 0.95903003, 0.02684997], dtype=float32)"
            ]
          },
          "metadata": {},
          "execution_count": 75
        }
      ]
    },
    {
      "cell_type": "code",
      "source": [
        "result = np.argmax(predict(text), axis=0)\n",
        "print(\"Sentiment : \",list(label_dict.keys())[list(label_dict.values()).index(result)])"
      ],
      "metadata": {
        "colab": {
          "base_uri": "https://localhost:8080/"
        },
        "id": "b5sL3POiHWdP",
        "outputId": "aef3220e-4d9f-45da-e2b8-cc835a92941a"
      },
      "execution_count": 76,
      "outputs": [
        {
          "output_type": "stream",
          "name": "stdout",
          "text": [
            "Sentiment :  fear\n"
          ]
        }
      ]
    },
    {
      "cell_type": "code",
      "metadata": {
        "id": "t8UBIg2aZvWS"
      },
      "source": [
        "text = \"I am happy to test negative\""
      ],
      "execution_count": 77,
      "outputs": []
    },
    {
      "cell_type": "code",
      "source": [
        "predict(text)"
      ],
      "metadata": {
        "colab": {
          "base_uri": "https://localhost:8080/"
        },
        "id": "w-iCAMRw-oGU",
        "outputId": "316ee0d9-dda6-4746-ffbc-e715f38f5977"
      },
      "execution_count": 78,
      "outputs": [
        {
          "output_type": "execute_result",
          "data": {
            "text/plain": [
              "array([0.21708903, 0.6020327 , 0.17388417, 0.00699404], dtype=float32)"
            ]
          },
          "metadata": {},
          "execution_count": 78
        }
      ]
    },
    {
      "cell_type": "code",
      "source": [
        "result = np.argmax(predict(text), axis=0)\n",
        "print(\"Sentiment : \",list(label_dict.keys())[list(label_dict.values()).index(result)])"
      ],
      "metadata": {
        "colab": {
          "base_uri": "https://localhost:8080/"
        },
        "id": "J8WnexRW-Q5Y",
        "outputId": "ae3d6f7d-0b9c-497a-9d0b-9a7f8903f9ad"
      },
      "execution_count": 79,
      "outputs": [
        {
          "output_type": "stream",
          "name": "stdout",
          "text": [
            "Sentiment :  joy\n"
          ]
        }
      ]
    },
    {
      "cell_type": "markdown",
      "metadata": {
        "id": "Itvl6FmK07Pl"
      },
      "source": [
        "#Save model"
      ]
    },
    {
      "cell_type": "code",
      "metadata": {
        "id": "KbXC5L72ZvWY"
      },
      "source": [
        "model_save_path = \"model.h5\"\n",
        "model.save(model_save_path)"
      ],
      "execution_count": 80,
      "outputs": []
    },
    {
      "cell_type": "code",
      "metadata": {
        "id": "4Clezf0qZvWb",
        "colab": {
          "base_uri": "https://localhost:8080/"
        },
        "outputId": "0e002d86-5aee-4163-87a4-512029938986"
      },
      "source": [
        "tokenizer_save_path = \"tokenizer.joblib\"\n",
        "joblib.dump(tokenizer, tokenizer_save_path)"
      ],
      "execution_count": 81,
      "outputs": [
        {
          "output_type": "execute_result",
          "data": {
            "text/plain": [
              "['tokenizer.joblib']"
            ]
          },
          "metadata": {},
          "execution_count": 81
        }
      ]
    },
    {
      "cell_type": "code",
      "source": [
        ""
      ],
      "metadata": {
        "id": "l22OoEJ7Dzec"
      },
      "execution_count": 81,
      "outputs": []
    }
  ]
}
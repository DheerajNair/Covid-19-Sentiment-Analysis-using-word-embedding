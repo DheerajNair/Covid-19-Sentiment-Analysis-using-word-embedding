{
  "nbformat": 4,
  "nbformat_minor": 0,
  "metadata": {
    "colab": {
      "name": "Untitled15.ipynb",
      "provenance": [],
      "mount_file_id": "1u0LMXBh9c9lcY-L43F5KH_5YTMdWuL3M",
      "authorship_tag": "ABX9TyNq6aN2apvAB3G9kJOj1xlB",
      "include_colab_link": true
    },
    "kernelspec": {
      "name": "python3",
      "display_name": "Python 3"
    },
    "language_info": {
      "name": "python"
    },
    "widgets": {
      "application/vnd.jupyter.widget-state+json": {
        "8fb35e5177ca4a479f2b6860f74e8747": {
          "model_module": "@jupyter-widgets/controls",
          "model_name": "HBoxModel",
          "model_module_version": "1.5.0",
          "state": {
            "_view_name": "HBoxView",
            "_dom_classes": [],
            "_model_name": "HBoxModel",
            "_view_module": "@jupyter-widgets/controls",
            "_model_module_version": "1.5.0",
            "_view_count": null,
            "_view_module_version": "1.5.0",
            "box_style": "",
            "layout": "IPY_MODEL_ab23d1445767482890d07a23cda477fc",
            "_model_module": "@jupyter-widgets/controls",
            "children": [
              "IPY_MODEL_8a4a8fc2c4624d48bb2b88ef255733a7",
              "IPY_MODEL_0d5ae2673df0426b9f062bf061fb2029",
              "IPY_MODEL_12b259800aa142ba83828ebf11925a91"
            ]
          }
        },
        "ab23d1445767482890d07a23cda477fc": {
          "model_module": "@jupyter-widgets/base",
          "model_name": "LayoutModel",
          "model_module_version": "1.2.0",
          "state": {
            "_view_name": "LayoutView",
            "grid_template_rows": null,
            "right": null,
            "justify_content": null,
            "_view_module": "@jupyter-widgets/base",
            "overflow": null,
            "_model_module_version": "1.2.0",
            "_view_count": null,
            "flex_flow": null,
            "width": null,
            "min_width": null,
            "border": null,
            "align_items": null,
            "bottom": null,
            "_model_module": "@jupyter-widgets/base",
            "top": null,
            "grid_column": null,
            "overflow_y": null,
            "overflow_x": null,
            "grid_auto_flow": null,
            "grid_area": null,
            "grid_template_columns": null,
            "flex": null,
            "_model_name": "LayoutModel",
            "justify_items": null,
            "grid_row": null,
            "max_height": null,
            "align_content": null,
            "visibility": null,
            "align_self": null,
            "height": null,
            "min_height": null,
            "padding": null,
            "grid_auto_rows": null,
            "grid_gap": null,
            "max_width": null,
            "order": null,
            "_view_module_version": "1.2.0",
            "grid_template_areas": null,
            "object_position": null,
            "object_fit": null,
            "grid_auto_columns": null,
            "margin": null,
            "display": null,
            "left": null
          }
        },
        "8a4a8fc2c4624d48bb2b88ef255733a7": {
          "model_module": "@jupyter-widgets/controls",
          "model_name": "HTMLModel",
          "model_module_version": "1.5.0",
          "state": {
            "_view_name": "HTMLView",
            "style": "IPY_MODEL_2f0d8bcf8e68404ab5dd9f41e76907af",
            "_dom_classes": [],
            "description": "",
            "_model_name": "HTMLModel",
            "placeholder": "​",
            "_view_module": "@jupyter-widgets/controls",
            "_model_module_version": "1.5.0",
            "value": "",
            "_view_count": null,
            "_view_module_version": "1.5.0",
            "description_tooltip": null,
            "_model_module": "@jupyter-widgets/controls",
            "layout": "IPY_MODEL_73a41e6463284ac48a84fd362a1a8a86"
          }
        },
        "0d5ae2673df0426b9f062bf061fb2029": {
          "model_module": "@jupyter-widgets/controls",
          "model_name": "FloatProgressModel",
          "model_module_version": "1.5.0",
          "state": {
            "_view_name": "ProgressView",
            "style": "IPY_MODEL_caae5f7c09d44239a7ea7c60af9b4498",
            "_dom_classes": [],
            "description": "",
            "_model_name": "FloatProgressModel",
            "bar_style": "success",
            "max": 1,
            "_view_module": "@jupyter-widgets/controls",
            "_model_module_version": "1.5.0",
            "value": 1,
            "_view_count": null,
            "_view_module_version": "1.5.0",
            "orientation": "horizontal",
            "min": 0,
            "description_tooltip": null,
            "_model_module": "@jupyter-widgets/controls",
            "layout": "IPY_MODEL_b1006507773c4b10bf94360160138141"
          }
        },
        "12b259800aa142ba83828ebf11925a91": {
          "model_module": "@jupyter-widgets/controls",
          "model_name": "HTMLModel",
          "model_module_version": "1.5.0",
          "state": {
            "_view_name": "HTMLView",
            "style": "IPY_MODEL_0f1ed2e6261f4f49984b028f20380f72",
            "_dom_classes": [],
            "description": "",
            "_model_name": "HTMLModel",
            "placeholder": "​",
            "_view_module": "@jupyter-widgets/controls",
            "_model_module_version": "1.5.0",
            "value": " 2000000/? [02:35&lt;00:00, 12692.44it/s]",
            "_view_count": null,
            "_view_module_version": "1.5.0",
            "description_tooltip": null,
            "_model_module": "@jupyter-widgets/controls",
            "layout": "IPY_MODEL_8c71d92a04134162a03d6ca6cce0e0a8"
          }
        },
        "2f0d8bcf8e68404ab5dd9f41e76907af": {
          "model_module": "@jupyter-widgets/controls",
          "model_name": "DescriptionStyleModel",
          "model_module_version": "1.5.0",
          "state": {
            "_view_name": "StyleView",
            "_model_name": "DescriptionStyleModel",
            "description_width": "",
            "_view_module": "@jupyter-widgets/base",
            "_model_module_version": "1.5.0",
            "_view_count": null,
            "_view_module_version": "1.2.0",
            "_model_module": "@jupyter-widgets/controls"
          }
        },
        "73a41e6463284ac48a84fd362a1a8a86": {
          "model_module": "@jupyter-widgets/base",
          "model_name": "LayoutModel",
          "model_module_version": "1.2.0",
          "state": {
            "_view_name": "LayoutView",
            "grid_template_rows": null,
            "right": null,
            "justify_content": null,
            "_view_module": "@jupyter-widgets/base",
            "overflow": null,
            "_model_module_version": "1.2.0",
            "_view_count": null,
            "flex_flow": null,
            "width": null,
            "min_width": null,
            "border": null,
            "align_items": null,
            "bottom": null,
            "_model_module": "@jupyter-widgets/base",
            "top": null,
            "grid_column": null,
            "overflow_y": null,
            "overflow_x": null,
            "grid_auto_flow": null,
            "grid_area": null,
            "grid_template_columns": null,
            "flex": null,
            "_model_name": "LayoutModel",
            "justify_items": null,
            "grid_row": null,
            "max_height": null,
            "align_content": null,
            "visibility": null,
            "align_self": null,
            "height": null,
            "min_height": null,
            "padding": null,
            "grid_auto_rows": null,
            "grid_gap": null,
            "max_width": null,
            "order": null,
            "_view_module_version": "1.2.0",
            "grid_template_areas": null,
            "object_position": null,
            "object_fit": null,
            "grid_auto_columns": null,
            "margin": null,
            "display": null,
            "left": null
          }
        },
        "caae5f7c09d44239a7ea7c60af9b4498": {
          "model_module": "@jupyter-widgets/controls",
          "model_name": "ProgressStyleModel",
          "model_module_version": "1.5.0",
          "state": {
            "_view_name": "StyleView",
            "_model_name": "ProgressStyleModel",
            "description_width": "",
            "_view_module": "@jupyter-widgets/base",
            "_model_module_version": "1.5.0",
            "_view_count": null,
            "_view_module_version": "1.2.0",
            "bar_color": null,
            "_model_module": "@jupyter-widgets/controls"
          }
        },
        "b1006507773c4b10bf94360160138141": {
          "model_module": "@jupyter-widgets/base",
          "model_name": "LayoutModel",
          "model_module_version": "1.2.0",
          "state": {
            "_view_name": "LayoutView",
            "grid_template_rows": null,
            "right": null,
            "justify_content": null,
            "_view_module": "@jupyter-widgets/base",
            "overflow": null,
            "_model_module_version": "1.2.0",
            "_view_count": null,
            "flex_flow": null,
            "width": "20px",
            "min_width": null,
            "border": null,
            "align_items": null,
            "bottom": null,
            "_model_module": "@jupyter-widgets/base",
            "top": null,
            "grid_column": null,
            "overflow_y": null,
            "overflow_x": null,
            "grid_auto_flow": null,
            "grid_area": null,
            "grid_template_columns": null,
            "flex": null,
            "_model_name": "LayoutModel",
            "justify_items": null,
            "grid_row": null,
            "max_height": null,
            "align_content": null,
            "visibility": null,
            "align_self": null,
            "height": null,
            "min_height": null,
            "padding": null,
            "grid_auto_rows": null,
            "grid_gap": null,
            "max_width": null,
            "order": null,
            "_view_module_version": "1.2.0",
            "grid_template_areas": null,
            "object_position": null,
            "object_fit": null,
            "grid_auto_columns": null,
            "margin": null,
            "display": null,
            "left": null
          }
        },
        "0f1ed2e6261f4f49984b028f20380f72": {
          "model_module": "@jupyter-widgets/controls",
          "model_name": "DescriptionStyleModel",
          "model_module_version": "1.5.0",
          "state": {
            "_view_name": "StyleView",
            "_model_name": "DescriptionStyleModel",
            "description_width": "",
            "_view_module": "@jupyter-widgets/base",
            "_model_module_version": "1.5.0",
            "_view_count": null,
            "_view_module_version": "1.2.0",
            "_model_module": "@jupyter-widgets/controls"
          }
        },
        "8c71d92a04134162a03d6ca6cce0e0a8": {
          "model_module": "@jupyter-widgets/base",
          "model_name": "LayoutModel",
          "model_module_version": "1.2.0",
          "state": {
            "_view_name": "LayoutView",
            "grid_template_rows": null,
            "right": null,
            "justify_content": null,
            "_view_module": "@jupyter-widgets/base",
            "overflow": null,
            "_model_module_version": "1.2.0",
            "_view_count": null,
            "flex_flow": null,
            "width": null,
            "min_width": null,
            "border": null,
            "align_items": null,
            "bottom": null,
            "_model_module": "@jupyter-widgets/base",
            "top": null,
            "grid_column": null,
            "overflow_y": null,
            "overflow_x": null,
            "grid_auto_flow": null,
            "grid_area": null,
            "grid_template_columns": null,
            "flex": null,
            "_model_name": "LayoutModel",
            "justify_items": null,
            "grid_row": null,
            "max_height": null,
            "align_content": null,
            "visibility": null,
            "align_self": null,
            "height": null,
            "min_height": null,
            "padding": null,
            "grid_auto_rows": null,
            "grid_gap": null,
            "max_width": null,
            "order": null,
            "_view_module_version": "1.2.0",
            "grid_template_areas": null,
            "object_position": null,
            "object_fit": null,
            "grid_auto_columns": null,
            "margin": null,
            "display": null,
            "left": null
          }
        },
        "0fd4268f121d48b2a3876845ae1a4a02": {
          "model_module": "@jupyter-widgets/controls",
          "model_name": "HBoxModel",
          "model_module_version": "1.5.0",
          "state": {
            "_view_name": "HBoxView",
            "_dom_classes": [],
            "_model_name": "HBoxModel",
            "_view_module": "@jupyter-widgets/controls",
            "_model_module_version": "1.5.0",
            "_view_count": null,
            "_view_module_version": "1.5.0",
            "box_style": "",
            "layout": "IPY_MODEL_17fb74714d7945119523fc839e84fea5",
            "_model_module": "@jupyter-widgets/controls",
            "children": [
              "IPY_MODEL_1354d0fd8f464bda880ab582c7d0bf63",
              "IPY_MODEL_dcbf9f7548a74017bb2cda633aa09846",
              "IPY_MODEL_902268b5da1d4788aaec2b3383ba271b"
            ]
          }
        },
        "17fb74714d7945119523fc839e84fea5": {
          "model_module": "@jupyter-widgets/base",
          "model_name": "LayoutModel",
          "model_module_version": "1.2.0",
          "state": {
            "_view_name": "LayoutView",
            "grid_template_rows": null,
            "right": null,
            "justify_content": null,
            "_view_module": "@jupyter-widgets/base",
            "overflow": null,
            "_model_module_version": "1.2.0",
            "_view_count": null,
            "flex_flow": null,
            "width": null,
            "min_width": null,
            "border": null,
            "align_items": null,
            "bottom": null,
            "_model_module": "@jupyter-widgets/base",
            "top": null,
            "grid_column": null,
            "overflow_y": null,
            "overflow_x": null,
            "grid_auto_flow": null,
            "grid_area": null,
            "grid_template_columns": null,
            "flex": null,
            "_model_name": "LayoutModel",
            "justify_items": null,
            "grid_row": null,
            "max_height": null,
            "align_content": null,
            "visibility": null,
            "align_self": null,
            "height": null,
            "min_height": null,
            "padding": null,
            "grid_auto_rows": null,
            "grid_gap": null,
            "max_width": null,
            "order": null,
            "_view_module_version": "1.2.0",
            "grid_template_areas": null,
            "object_position": null,
            "object_fit": null,
            "grid_auto_columns": null,
            "margin": null,
            "display": null,
            "left": null
          }
        },
        "1354d0fd8f464bda880ab582c7d0bf63": {
          "model_module": "@jupyter-widgets/controls",
          "model_name": "HTMLModel",
          "model_module_version": "1.5.0",
          "state": {
            "_view_name": "HTMLView",
            "style": "IPY_MODEL_ec0f4531d00f49a6885b0ebd150d67a9",
            "_dom_classes": [],
            "description": "",
            "_model_name": "HTMLModel",
            "placeholder": "​",
            "_view_module": "@jupyter-widgets/controls",
            "_model_module_version": "1.5.0",
            "value": "100%",
            "_view_count": null,
            "_view_module_version": "1.5.0",
            "description_tooltip": null,
            "_model_module": "@jupyter-widgets/controls",
            "layout": "IPY_MODEL_7a2b6877509d475ab3acc5a4b38e7dc2"
          }
        },
        "dcbf9f7548a74017bb2cda633aa09846": {
          "model_module": "@jupyter-widgets/controls",
          "model_name": "FloatProgressModel",
          "model_module_version": "1.5.0",
          "state": {
            "_view_name": "ProgressView",
            "style": "IPY_MODEL_cf53a1625b114c68bd49224ecbfad37d",
            "_dom_classes": [],
            "description": "",
            "_model_name": "FloatProgressModel",
            "bar_style": "success",
            "max": 3090,
            "_view_module": "@jupyter-widgets/controls",
            "_model_module_version": "1.5.0",
            "value": 3090,
            "_view_count": null,
            "_view_module_version": "1.5.0",
            "orientation": "horizontal",
            "min": 0,
            "description_tooltip": null,
            "_model_module": "@jupyter-widgets/controls",
            "layout": "IPY_MODEL_3015691493e843fbbfcb9a3e956f09a2"
          }
        },
        "902268b5da1d4788aaec2b3383ba271b": {
          "model_module": "@jupyter-widgets/controls",
          "model_name": "HTMLModel",
          "model_module_version": "1.5.0",
          "state": {
            "_view_name": "HTMLView",
            "style": "IPY_MODEL_2fbeb42a62454cca9b14ea7419490235",
            "_dom_classes": [],
            "description": "",
            "_model_name": "HTMLModel",
            "placeholder": "​",
            "_view_module": "@jupyter-widgets/controls",
            "_model_module_version": "1.5.0",
            "value": " 3090/3090 [00:00&lt;00:00, 18226.11it/s]",
            "_view_count": null,
            "_view_module_version": "1.5.0",
            "description_tooltip": null,
            "_model_module": "@jupyter-widgets/controls",
            "layout": "IPY_MODEL_fbce0a7b6d96444cbd37b1b1f545df2d"
          }
        },
        "ec0f4531d00f49a6885b0ebd150d67a9": {
          "model_module": "@jupyter-widgets/controls",
          "model_name": "DescriptionStyleModel",
          "model_module_version": "1.5.0",
          "state": {
            "_view_name": "StyleView",
            "_model_name": "DescriptionStyleModel",
            "description_width": "",
            "_view_module": "@jupyter-widgets/base",
            "_model_module_version": "1.5.0",
            "_view_count": null,
            "_view_module_version": "1.2.0",
            "_model_module": "@jupyter-widgets/controls"
          }
        },
        "7a2b6877509d475ab3acc5a4b38e7dc2": {
          "model_module": "@jupyter-widgets/base",
          "model_name": "LayoutModel",
          "model_module_version": "1.2.0",
          "state": {
            "_view_name": "LayoutView",
            "grid_template_rows": null,
            "right": null,
            "justify_content": null,
            "_view_module": "@jupyter-widgets/base",
            "overflow": null,
            "_model_module_version": "1.2.0",
            "_view_count": null,
            "flex_flow": null,
            "width": null,
            "min_width": null,
            "border": null,
            "align_items": null,
            "bottom": null,
            "_model_module": "@jupyter-widgets/base",
            "top": null,
            "grid_column": null,
            "overflow_y": null,
            "overflow_x": null,
            "grid_auto_flow": null,
            "grid_area": null,
            "grid_template_columns": null,
            "flex": null,
            "_model_name": "LayoutModel",
            "justify_items": null,
            "grid_row": null,
            "max_height": null,
            "align_content": null,
            "visibility": null,
            "align_self": null,
            "height": null,
            "min_height": null,
            "padding": null,
            "grid_auto_rows": null,
            "grid_gap": null,
            "max_width": null,
            "order": null,
            "_view_module_version": "1.2.0",
            "grid_template_areas": null,
            "object_position": null,
            "object_fit": null,
            "grid_auto_columns": null,
            "margin": null,
            "display": null,
            "left": null
          }
        },
        "cf53a1625b114c68bd49224ecbfad37d": {
          "model_module": "@jupyter-widgets/controls",
          "model_name": "ProgressStyleModel",
          "model_module_version": "1.5.0",
          "state": {
            "_view_name": "StyleView",
            "_model_name": "ProgressStyleModel",
            "description_width": "",
            "_view_module": "@jupyter-widgets/base",
            "_model_module_version": "1.5.0",
            "_view_count": null,
            "_view_module_version": "1.2.0",
            "bar_color": null,
            "_model_module": "@jupyter-widgets/controls"
          }
        },
        "3015691493e843fbbfcb9a3e956f09a2": {
          "model_module": "@jupyter-widgets/base",
          "model_name": "LayoutModel",
          "model_module_version": "1.2.0",
          "state": {
            "_view_name": "LayoutView",
            "grid_template_rows": null,
            "right": null,
            "justify_content": null,
            "_view_module": "@jupyter-widgets/base",
            "overflow": null,
            "_model_module_version": "1.2.0",
            "_view_count": null,
            "flex_flow": null,
            "width": null,
            "min_width": null,
            "border": null,
            "align_items": null,
            "bottom": null,
            "_model_module": "@jupyter-widgets/base",
            "top": null,
            "grid_column": null,
            "overflow_y": null,
            "overflow_x": null,
            "grid_auto_flow": null,
            "grid_area": null,
            "grid_template_columns": null,
            "flex": null,
            "_model_name": "LayoutModel",
            "justify_items": null,
            "grid_row": null,
            "max_height": null,
            "align_content": null,
            "visibility": null,
            "align_self": null,
            "height": null,
            "min_height": null,
            "padding": null,
            "grid_auto_rows": null,
            "grid_gap": null,
            "max_width": null,
            "order": null,
            "_view_module_version": "1.2.0",
            "grid_template_areas": null,
            "object_position": null,
            "object_fit": null,
            "grid_auto_columns": null,
            "margin": null,
            "display": null,
            "left": null
          }
        },
        "2fbeb42a62454cca9b14ea7419490235": {
          "model_module": "@jupyter-widgets/controls",
          "model_name": "DescriptionStyleModel",
          "model_module_version": "1.5.0",
          "state": {
            "_view_name": "StyleView",
            "_model_name": "DescriptionStyleModel",
            "description_width": "",
            "_view_module": "@jupyter-widgets/base",
            "_model_module_version": "1.5.0",
            "_view_count": null,
            "_view_module_version": "1.2.0",
            "_model_module": "@jupyter-widgets/controls"
          }
        },
        "fbce0a7b6d96444cbd37b1b1f545df2d": {
          "model_module": "@jupyter-widgets/base",
          "model_name": "LayoutModel",
          "model_module_version": "1.2.0",
          "state": {
            "_view_name": "LayoutView",
            "grid_template_rows": null,
            "right": null,
            "justify_content": null,
            "_view_module": "@jupyter-widgets/base",
            "overflow": null,
            "_model_module_version": "1.2.0",
            "_view_count": null,
            "flex_flow": null,
            "width": null,
            "min_width": null,
            "border": null,
            "align_items": null,
            "bottom": null,
            "_model_module": "@jupyter-widgets/base",
            "top": null,
            "grid_column": null,
            "overflow_y": null,
            "overflow_x": null,
            "grid_auto_flow": null,
            "grid_area": null,
            "grid_template_columns": null,
            "flex": null,
            "_model_name": "LayoutModel",
            "justify_items": null,
            "grid_row": null,
            "max_height": null,
            "align_content": null,
            "visibility": null,
            "align_self": null,
            "height": null,
            "min_height": null,
            "padding": null,
            "grid_auto_rows": null,
            "grid_gap": null,
            "max_width": null,
            "order": null,
            "_view_module_version": "1.2.0",
            "grid_template_areas": null,
            "object_position": null,
            "object_fit": null,
            "grid_auto_columns": null,
            "margin": null,
            "display": null,
            "left": null
          }
        }
      }
    }
  },
  "cells": [
    {
      "cell_type": "markdown",
      "metadata": {
        "id": "view-in-github",
        "colab_type": "text"
      },
      "source": [
        "<a href=\"https://colab.research.google.com/github/DheerajNair/Covid-19-Sentiment-Analysis-using-word-embedding/blob/main/Covid19-Sentiment_analysis.ipynb\" target=\"_parent\"><img src=\"https://colab.research.google.com/assets/colab-badge.svg\" alt=\"Open In Colab\"/></a>"
      ]
    },
    {
      "cell_type": "markdown",
      "source": [
        "#Initial Setup"
      ],
      "metadata": {
        "id": "HX6qXXRux12J"
      }
    },
    {
      "cell_type": "code",
      "source": [
        "import torch\n",
        "import pandas as pd\n",
        "\n",
        "\n",
        "import os\n",
        "import io\n",
        "import codecs\n",
        "import joblib\n",
        "import numpy as np\n",
        "from numpy import percentile\n",
        "import matplotlib.pyplot as plt\n",
        "import seaborn as sns\n",
        "import matplotlib\n",
        "import re # for regular expressions\n",
        "import pandas as pd \n",
        "pd.set_option(\"display.max_colwidth\", 200) \n",
        "import string\n",
        "import tensorflow as tf\n",
        "\n",
        "from datetime import datetime\n",
        "from tqdm import notebook\n",
        "from sklearn.model_selection import train_test_split\n",
        "from sklearn.metrics import accuracy_score\n",
        "\n",
        "from nltk.tokenize import RegexpTokenizer\n",
        "from tensorflow.keras.preprocessing.text import Tokenizer\n",
        "from tensorflow.keras.preprocessing.sequence import pad_sequences\n",
        "\n",
        "from tensorflow.keras.models import Model\n",
        "from tensorflow.keras.layers import Input, Embedding, Dense, Dropout, concatenate\n",
        "from tensorflow.keras.layers import Conv1D, GlobalMaxPooling1D\n",
        "\n",
        "\n",
        "import warnings \n",
        "warnings.filterwarnings(\"ignore\")\n",
        "\n",
        "%matplotlib inline"
      ],
      "metadata": {
        "id": "rQC8ruxRsjfs"
      },
      "execution_count": 2,
      "outputs": []
    },
    {
      "cell_type": "code",
      "source": [
        "#load data\n",
        "df = pd.read_csv('/content/drive/MyDrive/finalSentimentdata2.csv')"
      ],
      "metadata": {
        "id": "6HGp8lDHqyd0"
      },
      "execution_count": 3,
      "outputs": []
    },
    {
      "cell_type": "code",
      "source": [
        "#preview\n",
        "df.head()"
      ],
      "metadata": {
        "colab": {
          "base_uri": "https://localhost:8080/",
          "height": 285
        },
        "id": "FiF7f-pFq1uV",
        "outputId": "71f5776e-a4c0-41f4-ffeb-4cfce0a9ac4d"
      },
      "execution_count": 4,
      "outputs": [
        {
          "output_type": "execute_result",
          "data": {
            "text/html": [
              "\n",
              "  <div id=\"df-88d18589-4290-4f7f-96d3-1ecbf0fa62c5\">\n",
              "    <div class=\"colab-df-container\">\n",
              "      <div>\n",
              "<style scoped>\n",
              "    .dataframe tbody tr th:only-of-type {\n",
              "        vertical-align: middle;\n",
              "    }\n",
              "\n",
              "    .dataframe tbody tr th {\n",
              "        vertical-align: top;\n",
              "    }\n",
              "\n",
              "    .dataframe thead th {\n",
              "        text-align: right;\n",
              "    }\n",
              "</style>\n",
              "<table border=\"1\" class=\"dataframe\">\n",
              "  <thead>\n",
              "    <tr style=\"text-align: right;\">\n",
              "      <th></th>\n",
              "      <th>Unnamed: 0</th>\n",
              "      <th>sentiment</th>\n",
              "      <th>text</th>\n",
              "    </tr>\n",
              "  </thead>\n",
              "  <tbody>\n",
              "    <tr>\n",
              "      <th>0</th>\n",
              "      <td>3204</td>\n",
              "      <td>sad</td>\n",
              "      <td>agree the poor in india are treated badly their poors seek a living in singapore and are treated like citizens they are given free medical treatment given food daily sim cards to call home to tell...</td>\n",
              "    </tr>\n",
              "    <tr>\n",
              "      <th>1</th>\n",
              "      <td>1431</td>\n",
              "      <td>joy</td>\n",
              "      <td>if only i could have spent the with this cutie vc sakshi__s i n g h coast crossing republik …</td>\n",
              "    </tr>\n",
              "    <tr>\n",
              "      <th>2</th>\n",
              "      <td>654</td>\n",
              "      <td>joy</td>\n",
              "      <td>will nature conservation remain a priority in post corona bangladesh | the daily star</td>\n",
              "    </tr>\n",
              "    <tr>\n",
              "      <th>3</th>\n",
              "      <td>2530</td>\n",
              "      <td>sad</td>\n",
              "      <td>coronavirus disappearing in italy show this to \"intellectuals\" who say lockdowns do not work …</td>\n",
              "    </tr>\n",
              "    <tr>\n",
              "      <th>4</th>\n",
              "      <td>2296</td>\n",
              "      <td>sad</td>\n",
              "      <td>uk records lowest daily virus death toll since start of lockdown govt</td>\n",
              "    </tr>\n",
              "  </tbody>\n",
              "</table>\n",
              "</div>\n",
              "      <button class=\"colab-df-convert\" onclick=\"convertToInteractive('df-88d18589-4290-4f7f-96d3-1ecbf0fa62c5')\"\n",
              "              title=\"Convert this dataframe to an interactive table.\"\n",
              "              style=\"display:none;\">\n",
              "        \n",
              "  <svg xmlns=\"http://www.w3.org/2000/svg\" height=\"24px\"viewBox=\"0 0 24 24\"\n",
              "       width=\"24px\">\n",
              "    <path d=\"M0 0h24v24H0V0z\" fill=\"none\"/>\n",
              "    <path d=\"M18.56 5.44l.94 2.06.94-2.06 2.06-.94-2.06-.94-.94-2.06-.94 2.06-2.06.94zm-11 1L8.5 8.5l.94-2.06 2.06-.94-2.06-.94L8.5 2.5l-.94 2.06-2.06.94zm10 10l.94 2.06.94-2.06 2.06-.94-2.06-.94-.94-2.06-.94 2.06-2.06.94z\"/><path d=\"M17.41 7.96l-1.37-1.37c-.4-.4-.92-.59-1.43-.59-.52 0-1.04.2-1.43.59L10.3 9.45l-7.72 7.72c-.78.78-.78 2.05 0 2.83L4 21.41c.39.39.9.59 1.41.59.51 0 1.02-.2 1.41-.59l7.78-7.78 2.81-2.81c.8-.78.8-2.07 0-2.86zM5.41 20L4 18.59l7.72-7.72 1.47 1.35L5.41 20z\"/>\n",
              "  </svg>\n",
              "      </button>\n",
              "      \n",
              "  <style>\n",
              "    .colab-df-container {\n",
              "      display:flex;\n",
              "      flex-wrap:wrap;\n",
              "      gap: 12px;\n",
              "    }\n",
              "\n",
              "    .colab-df-convert {\n",
              "      background-color: #E8F0FE;\n",
              "      border: none;\n",
              "      border-radius: 50%;\n",
              "      cursor: pointer;\n",
              "      display: none;\n",
              "      fill: #1967D2;\n",
              "      height: 32px;\n",
              "      padding: 0 0 0 0;\n",
              "      width: 32px;\n",
              "    }\n",
              "\n",
              "    .colab-df-convert:hover {\n",
              "      background-color: #E2EBFA;\n",
              "      box-shadow: 0px 1px 2px rgba(60, 64, 67, 0.3), 0px 1px 3px 1px rgba(60, 64, 67, 0.15);\n",
              "      fill: #174EA6;\n",
              "    }\n",
              "\n",
              "    [theme=dark] .colab-df-convert {\n",
              "      background-color: #3B4455;\n",
              "      fill: #D2E3FC;\n",
              "    }\n",
              "\n",
              "    [theme=dark] .colab-df-convert:hover {\n",
              "      background-color: #434B5C;\n",
              "      box-shadow: 0px 1px 3px 1px rgba(0, 0, 0, 0.15);\n",
              "      filter: drop-shadow(0px 1px 2px rgba(0, 0, 0, 0.3));\n",
              "      fill: #FFFFFF;\n",
              "    }\n",
              "  </style>\n",
              "\n",
              "      <script>\n",
              "        const buttonEl =\n",
              "          document.querySelector('#df-88d18589-4290-4f7f-96d3-1ecbf0fa62c5 button.colab-df-convert');\n",
              "        buttonEl.style.display =\n",
              "          google.colab.kernel.accessAllowed ? 'block' : 'none';\n",
              "\n",
              "        async function convertToInteractive(key) {\n",
              "          const element = document.querySelector('#df-88d18589-4290-4f7f-96d3-1ecbf0fa62c5');\n",
              "          const dataTable =\n",
              "            await google.colab.kernel.invokeFunction('convertToInteractive',\n",
              "                                                     [key], {});\n",
              "          if (!dataTable) return;\n",
              "\n",
              "          const docLinkHtml = 'Like what you see? Visit the ' +\n",
              "            '<a target=\"_blank\" href=https://colab.research.google.com/notebooks/data_table.ipynb>data table notebook</a>'\n",
              "            + ' to learn more about interactive tables.';\n",
              "          element.innerHTML = '';\n",
              "          dataTable['output_type'] = 'display_data';\n",
              "          await google.colab.output.renderOutput(dataTable, element);\n",
              "          const docLink = document.createElement('div');\n",
              "          docLink.innerHTML = docLinkHtml;\n",
              "          element.appendChild(docLink);\n",
              "        }\n",
              "      </script>\n",
              "    </div>\n",
              "  </div>\n",
              "  "
            ],
            "text/plain": [
              "   Unnamed: 0  ...                                                                                                                                                                                                     text\n",
              "0        3204  ...  agree the poor in india are treated badly their poors seek a living in singapore and are treated like citizens they are given free medical treatment given food daily sim cards to call home to tell...\n",
              "1        1431  ...                                                                                                            if only i could have spent the with this cutie vc sakshi__s i n g h coast crossing republik …\n",
              "2         654  ...                                                                                                                    will nature conservation remain a priority in post corona bangladesh | the daily star\n",
              "3        2530  ...                                                                                                           coronavirus disappearing in italy show this to \"intellectuals\" who say lockdowns do not work …\n",
              "4        2296  ...                                                                                                                                    uk records lowest daily virus death toll since start of lockdown govt\n",
              "\n",
              "[5 rows x 3 columns]"
            ]
          },
          "metadata": {},
          "execution_count": 4
        }
      ]
    },
    {
      "cell_type": "code",
      "source": [
        "#Unique Values In Each Feature Coulmn\n",
        "\n",
        "unique_df = pd.DataFrame()\n",
        "unique_df['Features'] = df.columns\n",
        "unique=[]\n",
        "for i in df.columns:\n",
        "    unique.append(df[i].nunique())\n",
        "unique_df['Uniques'] = unique\n",
        "\n",
        "f, ax = plt.subplots(1,1, figsize=(15,7))\n",
        "\n",
        "splot = sns.barplot(x=unique_df['Features'], y=unique_df['Uniques'], alpha=0.8)\n",
        "for p in splot.patches:\n",
        "    splot.annotate(format(p.get_height(), '.0f'), (p.get_x() + p.get_width() / 2., p.get_height()), ha = 'center',\n",
        "                   va = 'center', xytext = (0, 9), textcoords = 'offset points')\n",
        "plt.title('Bar plot for number of unique values in each column',weight='bold', size=15)\n",
        "plt.ylabel('#Unique values', size=12, weight='bold')\n",
        "plt.xlabel('Features', size=12, weight='bold')\n",
        "plt.xticks(rotation=90)\n",
        "plt.show()"
      ],
      "metadata": {
        "colab": {
          "base_uri": "https://localhost:8080/",
          "height": 514
        },
        "id": "iJ4zIVsGrHQB",
        "outputId": "3e35a313-aa6f-4417-b16e-593c9db154c9"
      },
      "execution_count": 5,
      "outputs": [
        {
          "output_type": "display_data",
          "data": {
            "image/png": "[encoded data removed]",
            "text/plain": [
              "<Figure size 1080x504 with 1 Axes>"
            ]
          },
          "metadata": {
            "needs_background": "light"
          }
        }
      ]
    },
    {
      "cell_type": "markdown",
      "source": [
        "# Feature Set Generation"
      ],
      "metadata": {
        "id": "X9nURz6os1om"
      }
    },
    {
      "cell_type": "code",
      "source": [
        "#Number of characters \n",
        "def count_chars(text):\n",
        "    return len(text)\n",
        "    print(text)\n",
        "\n",
        "df['char_count'] = df[\"text\"].apply(lambda x:count_chars(x))\n"
      ],
      "metadata": {
        "id": "aBY3aKH9Rmzb"
      },
      "execution_count": 7,
      "outputs": []
    },
    {
      "cell_type": "code",
      "source": [
        "  df['char_count']"
      ],
      "metadata": {
        "colab": {
          "base_uri": "https://localhost:8080/"
        },
        "id": "JBy0s3f0S_YJ",
        "outputId": "28bbef02-498e-4723-8179-36f09a11b636"
      },
      "execution_count": 8,
      "outputs": [
        {
          "output_type": "execute_result",
          "data": {
            "text/plain": [
              "0       270\n",
              "1        93\n",
              "2        85\n",
              "3        94\n",
              "4        69\n",
              "       ... \n",
              "3085    243\n",
              "3086    101\n",
              "3087     66\n",
              "3088    277\n",
              "3089    100\n",
              "Name: char_count, Length: 3090, dtype: int64"
            ]
          },
          "metadata": {},
          "execution_count": 8
        }
      ]
    },
    {
      "cell_type": "code",
      "source": [
        "#Number of words\n",
        "def count_words(text):\n",
        "    return len(text.split())\n",
        "\n",
        "df['word_count'] = df[\"text\"].apply(lambda x:count_words(x))"
      ],
      "metadata": {
        "id": "xpLmZYMjTy1b"
      },
      "execution_count": 9,
      "outputs": []
    },
    {
      "cell_type": "code",
      "source": [
        "df['word_count']"
      ],
      "metadata": {
        "colab": {
          "base_uri": "https://localhost:8080/"
        },
        "id": "29EM0obhU-U_",
        "outputId": "98c1bd5e-d82e-46f4-de25-2fa90449fb2d"
      },
      "execution_count": 10,
      "outputs": [
        {
          "output_type": "execute_result",
          "data": {
            "text/plain": [
              "0       50\n",
              "1       20\n",
              "2       14\n",
              "3       15\n",
              "4       12\n",
              "        ..\n",
              "3085    46\n",
              "3086    20\n",
              "3087    10\n",
              "3088    51\n",
              "3089    19\n",
              "Name: word_count, Length: 3090, dtype: int64"
            ]
          },
          "metadata": {},
          "execution_count": 10
        }
      ]
    },
    {
      "cell_type": "code",
      "source": [
        "#Number of capital characters\n",
        "def count_capital_chars(text):\n",
        "    count=0\n",
        "    for i in text:\n",
        "        if i.isupper():\n",
        "            count+=1\n",
        "    return count\n",
        "\n",
        "df['capital_char_count'] = df[\"text\"].apply(lambda x:count_capital_chars(x))"
      ],
      "metadata": {
        "id": "GxW9SBXaiav0"
      },
      "execution_count": 11,
      "outputs": []
    },
    {
      "cell_type": "code",
      "source": [
        "#Number of capital words\n",
        "def count_capital_words(text):\n",
        "    return sum(map(str.isupper,text.split()))\n",
        "\n",
        "df['capital_word_count'] = df[\"text\"].apply(lambda x:count_capital_words(x))"
      ],
      "metadata": {
        "id": "XHwmHJ2winOW"
      },
      "execution_count": 12,
      "outputs": []
    },
    {
      "cell_type": "code",
      "source": [
        "#Count the number of punctuations\n",
        "def count_punctuations(text):\n",
        "    punctuations='!\"#$%&\\'()*+,-./:;<=>?@[\\]^_`{|}~'\n",
        "    d=dict()\n",
        "    for i in punctuations:\n",
        "        d[str(i)+' count']=text.count(i)\n",
        "    return d \n",
        "\n",
        "df['punct_count'] = df[\"text\"].apply(lambda x:count_punctuations(x))"
      ],
      "metadata": {
        "id": "wC8EPwIPi4Fx"
      },
      "execution_count": 13,
      "outputs": []
    },
    {
      "cell_type": "code",
      "source": [
        "#Number of words in quotes\n",
        "def count_words_in_quotes(text):\n",
        "    x = re.findall(\"'.'|\\\".\\\"\", text)\n",
        "    count=0\n",
        "    if x is None:\n",
        "        return 0\n",
        "    else:\n",
        "        for i in x:\n",
        "            t=i[1:-1]\n",
        "            count+=count_words(t)\n",
        "        return count\n",
        "\n",
        "df['quoted_word_count'] = df[\"text\"].apply(lambda x:count_words_in_quotes(x))"
      ],
      "metadata": {
        "id": "p_vn_-jtjNuH"
      },
      "execution_count": 14,
      "outputs": []
    },
    {
      "cell_type": "code",
      "source": [
        "import nltk\n",
        "nltk.download('punkt')\n",
        "\n",
        "from nltk.tokenize import word_tokenize\n"
      ],
      "metadata": {
        "colab": {
          "base_uri": "https://localhost:8080/"
        },
        "id": "-hl7xBroKqUn",
        "outputId": "199d1b1a-f4d0-4800-e4ad-76319ef0d81e"
      },
      "execution_count": 15,
      "outputs": [
        {
          "output_type": "stream",
          "name": "stdout",
          "text": [
            "[nltk_data] Downloading package punkt to /root/nltk_data...\n",
            "[nltk_data]   Unzipping tokenizers/punkt.zip.\n"
          ]
        }
      ]
    },
    {
      "cell_type": "code",
      "source": [
        "#Number of sentences\n",
        "def count_sent(text):\n",
        "    return len(nltk.sent_tokenize(text))\n",
        "\n",
        "df['sent_count'] = df[\"text\"].apply(lambda x:count_sent(x))"
      ],
      "metadata": {
        "id": "U-uY8zSZkIiS"
      },
      "execution_count": 16,
      "outputs": []
    },
    {
      "cell_type": "code",
      "source": [
        "#Count the number of unique words\n",
        "def count_unique_words(text):\n",
        "    return len(set(text.split()))\n",
        "\n",
        "df['unique_word_count'] = df[\"text\"].apply(lambda x:count_unique_words(x))"
      ],
      "metadata": {
        "id": "dGgLMgj3kktJ"
      },
      "execution_count": 17,
      "outputs": []
    },
    {
      "cell_type": "code",
      "source": [
        "#Count of hashtags\n",
        "def count_htags(text):\n",
        "    x = re.findall(r'(#w[A-Za-z0-9]*)', text)\n",
        "    return len(x) \n",
        "\n",
        "df['htag_count'] = df[\"text\"].apply(lambda x:count_htags(x))"
      ],
      "metadata": {
        "id": "xHBHPzALk87t"
      },
      "execution_count": 18,
      "outputs": []
    },
    {
      "cell_type": "code",
      "source": [
        "#Count of mentions\n",
        "def count_mentions(text):\n",
        "    x = re.findall(r'(@w[A-Za-z0-9]*)', text)\n",
        "    return len(x)\n",
        "\n",
        "df['mention_count'] = df[\"text\"].apply(lambda x:count_mentions(x))"
      ],
      "metadata": {
        "id": "L8s7Q3QElOT5"
      },
      "execution_count": 19,
      "outputs": []
    },
    {
      "cell_type": "code",
      "source": [
        "#Count of stopwords\n",
        "from nltk.corpus import stopwords\n",
        "nltk.download('stopwords')\n",
        "\n",
        "def count_stopwords(text):\n",
        "    stop_words = set(stopwords.words('english'))  \n",
        "    word_tokens = word_tokenize(text)\n",
        "    stopwords_x = [w for w in word_tokens if w in stop_words]\n",
        "    return len(stopwords_x)\n",
        "\n",
        "df['stopword_count'] = df[\"text\"].apply(lambda x:count_stopwords(x))"
      ],
      "metadata": {
        "id": "l3kN4-UplXmV",
        "colab": {
          "base_uri": "https://localhost:8080/"
        },
        "outputId": "9cd47b88-725c-4c78-b5cb-399189f5fcb0"
      },
      "execution_count": 20,
      "outputs": [
        {
          "output_type": "stream",
          "name": "stdout",
          "text": [
            "[nltk_data] Downloading package stopwords to /root/nltk_data...\n",
            "[nltk_data]   Unzipping corpora/stopwords.zip.\n"
          ]
        }
      ]
    },
    {
      "cell_type": "code",
      "source": [
        "#Calculating average word length\n",
        "\n",
        "df['avg_wordlength'] = df['char_count']/df['word_count']"
      ],
      "metadata": {
        "id": "edQz1lsPlh7G"
      },
      "execution_count": 21,
      "outputs": []
    },
    {
      "cell_type": "code",
      "source": [
        "#Calculating average sentence length\n",
        "\n",
        "df['avg_sentlength'] = df['word_count']/df['sent_count']"
      ],
      "metadata": {
        "id": "BbaHLmw9nzuC"
      },
      "execution_count": 22,
      "outputs": []
    },
    {
      "cell_type": "code",
      "source": [
        "#Unique words vs word count feature\n",
        "\n",
        "df['unique_vs_words'] = df['unique_word_count']/df['word_count']"
      ],
      "metadata": {
        "id": "Slb-bxyXn5Rm"
      },
      "execution_count": 23,
      "outputs": []
    },
    {
      "cell_type": "code",
      "source": [
        "#Stopwords count vs words counts feature\n",
        "\n",
        "df['stopwords_vs_words'] = df['stopword_count']/df['word_count']"
      ],
      "metadata": {
        "id": "u-H34l4hoCCi"
      },
      "execution_count": 24,
      "outputs": []
    },
    {
      "cell_type": "code",
      "source": [
        "df.columns"
      ],
      "metadata": {
        "colab": {
          "base_uri": "https://localhost:8080/"
        },
        "id": "TXJjRh5goHgf",
        "outputId": "5aab2b04-a2ed-4635-bd79-db0a9d89dcb7"
      },
      "execution_count": 25,
      "outputs": [
        {
          "output_type": "execute_result",
          "data": {
            "text/plain": [
              "Index(['Unnamed: 0', 'sentiment', 'text', 'char_count', 'word_count',\n",
              "       'capital_char_count', 'capital_word_count', 'punct_count',\n",
              "       'quoted_word_count', 'sent_count', 'unique_word_count', 'htag_count',\n",
              "       'mention_count', 'stopword_count', 'avg_wordlength', 'avg_sentlength',\n",
              "       'unique_vs_words', 'stopwords_vs_words'],\n",
              "      dtype='object')"
            ]
          },
          "metadata": {},
          "execution_count": 25
        }
      ]
    },
    {
      "cell_type": "code",
      "source": [
        "df['sentiment'].value_counts()"
      ],
      "metadata": {
        "colab": {
          "base_uri": "https://localhost:8080/"
        },
        "id": "gFw2ZsdNuRET",
        "outputId": "ed261833-a5af-4920-e87c-0d6f4dbcfc2a"
      },
      "execution_count": 26,
      "outputs": [
        {
          "output_type": "execute_result",
          "data": {
            "text/plain": [
              "fear     801\n",
              "sad      795\n",
              "anger    767\n",
              "joy      727\n",
              "Name: sentiment, dtype: int64"
            ]
          },
          "metadata": {},
          "execution_count": 26
        }
      ]
    },
    {
      "cell_type": "code",
      "source": [
        "#top sentiments \n",
        "\n",
        "sns.set(font_scale=1.1)\n",
        "sns.catplot(\"sentiment\", data=df, kind=\"count\", height=8)"
      ],
      "metadata": {
        "colab": {
          "base_uri": "https://localhost:8080/",
          "height": 595
        },
        "id": "7DcsCpDZqMLF",
        "outputId": "eeb9cf77-81cf-4525-ab6e-215138a2ef5e"
      },
      "execution_count": 27,
      "outputs": [
        {
          "output_type": "execute_result",
          "data": {
            "text/plain": [
              "<seaborn.axisgrid.FacetGrid at 0x7fb3cd128410>"
            ]
          },
          "metadata": {},
          "execution_count": 27
        },
        {
          "output_type": "display_data",
          "data": {
            "image/png": "[encoded data removed]",
            "text/plain": [
              "<Figure size 576x576 with 1 Axes>"
            ]
          },
          "metadata": {}
        }
      ]
    },
    {
      "cell_type": "markdown",
      "source": [
        "# Data Preprocessing\n"
      ],
      "metadata": {
        "id": "rHnneK_2sqxb"
      }
    },
    {
      "cell_type": "code",
      "source": [
        "#Removing @user\n",
        "def remove_pattern(input_txt, pattern):\n",
        "    r = re.findall(pattern, input_txt)\n",
        "    for i in r:\n",
        "        input_txt = re.sub(i,'',input_txt)\n",
        "    return input_txt"
      ],
      "metadata": {
        "id": "z_yaxQyEsx3F"
      },
      "execution_count": 28,
      "outputs": []
    },
    {
      "cell_type": "code",
      "source": [
        "# create new column with removed @user\n",
        "df['Tweet'] = np.vectorize(remove_pattern)(df['text'], '@[\\w]*')"
      ],
      "metadata": {
        "id": "yi0N0vHStC59"
      },
      "execution_count": 30,
      "outputs": []
    },
    {
      "cell_type": "code",
      "source": [
        "df.head(2)"
      ],
      "metadata": {
        "colab": {
          "base_uri": "https://localhost:8080/",
          "height": 818
        },
        "id": "9lxC7rT8tG2o",
        "outputId": "62a58fd4-f836-415a-e941-e0fd83a11fb1"
      },
      "execution_count": 31,
      "outputs": [
        {
          "output_type": "execute_result",
          "data": {
            "text/html": [
              "\n",
              "  <div id=\"df-65803b8c-1931-45af-be88-bb4e7b2114d4\">\n",
              "    <div class=\"colab-df-container\">\n",
              "      <div>\n",
              "<style scoped>\n",
              "    .dataframe tbody tr th:only-of-type {\n",
              "        vertical-align: middle;\n",
              "    }\n",
              "\n",
              "    .dataframe tbody tr th {\n",
              "        vertical-align: top;\n",
              "    }\n",
              "\n",
              "    .dataframe thead th {\n",
              "        text-align: right;\n",
              "    }\n",
              "</style>\n",
              "<table border=\"1\" class=\"dataframe\">\n",
              "  <thead>\n",
              "    <tr style=\"text-align: right;\">\n",
              "      <th></th>\n",
              "      <th>Unnamed: 0</th>\n",
              "      <th>sentiment</th>\n",
              "      <th>text</th>\n",
              "      <th>char_count</th>\n",
              "      <th>word_count</th>\n",
              "      <th>capital_char_count</th>\n",
              "      <th>capital_word_count</th>\n",
              "      <th>punct_count</th>\n",
              "      <th>quoted_word_count</th>\n",
              "      <th>sent_count</th>\n",
              "      <th>unique_word_count</th>\n",
              "      <th>htag_count</th>\n",
              "      <th>mention_count</th>\n",
              "      <th>stopword_count</th>\n",
              "      <th>avg_wordlength</th>\n",
              "      <th>avg_sentlength</th>\n",
              "      <th>unique_vs_words</th>\n",
              "      <th>stopwords_vs_words</th>\n",
              "      <th>Tweet</th>\n",
              "    </tr>\n",
              "  </thead>\n",
              "  <tbody>\n",
              "    <tr>\n",
              "      <th>0</th>\n",
              "      <td>3204</td>\n",
              "      <td>sad</td>\n",
              "      <td>agree the poor in india are treated badly their poors seek a living in singapore and are treated like citizens they are given free medical treatment given food daily sim cards to call home to tell...</td>\n",
              "      <td>270</td>\n",
              "      <td>50</td>\n",
              "      <td>0</td>\n",
              "      <td>0</td>\n",
              "      <td>{'! count': 0, '\" count': 0, '# count': 0, '$ count': 0, '% count': 0, '&amp; count': 0, '' count': 0, '( count': 0, ') count': 0, '* count': 0, '+ count': 0, ', count': 0, '- count': 0, '. count': 0,...</td>\n",
              "      <td>0</td>\n",
              "      <td>1</td>\n",
              "      <td>39</td>\n",
              "      <td>0</td>\n",
              "      <td>0</td>\n",
              "      <td>18</td>\n",
              "      <td>5.40</td>\n",
              "      <td>50.0</td>\n",
              "      <td>0.78</td>\n",
              "      <td>0.36</td>\n",
              "      <td>agree the poor in india are treated badly their poors seek a living in singapore and are treated like citizens they are given free medical treatment given food daily sim cards to call home to tell...</td>\n",
              "    </tr>\n",
              "    <tr>\n",
              "      <th>1</th>\n",
              "      <td>1431</td>\n",
              "      <td>joy</td>\n",
              "      <td>if only i could have spent the with this cutie vc sakshi__s i n g h coast crossing republik …</td>\n",
              "      <td>93</td>\n",
              "      <td>20</td>\n",
              "      <td>0</td>\n",
              "      <td>0</td>\n",
              "      <td>{'! count': 0, '\" count': 0, '# count': 0, '$ count': 0, '% count': 0, '&amp; count': 0, '' count': 0, '( count': 0, ') count': 0, '* count': 0, '+ count': 0, ', count': 0, '- count': 0, '. count': 0,...</td>\n",
              "      <td>0</td>\n",
              "      <td>1</td>\n",
              "      <td>19</td>\n",
              "      <td>0</td>\n",
              "      <td>0</td>\n",
              "      <td>8</td>\n",
              "      <td>4.65</td>\n",
              "      <td>20.0</td>\n",
              "      <td>0.95</td>\n",
              "      <td>0.40</td>\n",
              "      <td>if only i could have spent the with this cutie vc sakshi__s i n g h coast crossing republik …</td>\n",
              "    </tr>\n",
              "  </tbody>\n",
              "</table>\n",
              "</div>\n",
              "      <button class=\"colab-df-convert\" onclick=\"convertToInteractive('df-65803b8c-1931-45af-be88-bb4e7b2114d4')\"\n",
              "              title=\"Convert this dataframe to an interactive table.\"\n",
              "              style=\"display:none;\">\n",
              "        \n",
              "  <svg xmlns=\"http://www.w3.org/2000/svg\" height=\"24px\"viewBox=\"0 0 24 24\"\n",
              "       width=\"24px\">\n",
              "    <path d=\"M0 0h24v24H0V0z\" fill=\"none\"/>\n",
              "    <path d=\"M18.56 5.44l.94 2.06.94-2.06 2.06-.94-2.06-.94-.94-2.06-.94 2.06-2.06.94zm-11 1L8.5 8.5l.94-2.06 2.06-.94-2.06-.94L8.5 2.5l-.94 2.06-2.06.94zm10 10l.94 2.06.94-2.06 2.06-.94-2.06-.94-.94-2.06-.94 2.06-2.06.94z\"/><path d=\"M17.41 7.96l-1.37-1.37c-.4-.4-.92-.59-1.43-.59-.52 0-1.04.2-1.43.59L10.3 9.45l-7.72 7.72c-.78.78-.78 2.05 0 2.83L4 21.41c.39.39.9.59 1.41.59.51 0 1.02-.2 1.41-.59l7.78-7.78 2.81-2.81c.8-.78.8-2.07 0-2.86zM5.41 20L4 18.59l7.72-7.72 1.47 1.35L5.41 20z\"/>\n",
              "  </svg>\n",
              "      </button>\n",
              "      \n",
              "  <style>\n",
              "    .colab-df-container {\n",
              "      display:flex;\n",
              "      flex-wrap:wrap;\n",
              "      gap: 12px;\n",
              "    }\n",
              "\n",
              "    .colab-df-convert {\n",
              "      background-color: #E8F0FE;\n",
              "      border: none;\n",
              "      border-radius: 50%;\n",
              "      cursor: pointer;\n",
              "      display: none;\n",
              "      fill: #1967D2;\n",
              "      height: 32px;\n",
              "      padding: 0 0 0 0;\n",
              "      width: 32px;\n",
              "    }\n",
              "\n",
              "    .colab-df-convert:hover {\n",
              "      background-color: #E2EBFA;\n",
              "      box-shadow: 0px 1px 2px rgba(60, 64, 67, 0.3), 0px 1px 3px 1px rgba(60, 64, 67, 0.15);\n",
              "      fill: #174EA6;\n",
              "    }\n",
              "\n",
              "    [theme=dark] .colab-df-convert {\n",
              "      background-color: #3B4455;\n",
              "      fill: #D2E3FC;\n",
              "    }\n",
              "\n",
              "    [theme=dark] .colab-df-convert:hover {\n",
              "      background-color: #434B5C;\n",
              "      box-shadow: 0px 1px 3px 1px rgba(0, 0, 0, 0.15);\n",
              "      filter: drop-shadow(0px 1px 2px rgba(0, 0, 0, 0.3));\n",
              "      fill: #FFFFFF;\n",
              "    }\n",
              "  </style>\n",
              "\n",
              "      <script>\n",
              "        const buttonEl =\n",
              "          document.querySelector('#df-65803b8c-1931-45af-be88-bb4e7b2114d4 button.colab-df-convert');\n",
              "        buttonEl.style.display =\n",
              "          google.colab.kernel.accessAllowed ? 'block' : 'none';\n",
              "\n",
              "        async function convertToInteractive(key) {\n",
              "          const element = document.querySelector('#df-65803b8c-1931-45af-be88-bb4e7b2114d4');\n",
              "          const dataTable =\n",
              "            await google.colab.kernel.invokeFunction('convertToInteractive',\n",
              "                                                     [key], {});\n",
              "          if (!dataTable) return;\n",
              "\n",
              "          const docLinkHtml = 'Like what you see? Visit the ' +\n",
              "            '<a target=\"_blank\" href=https://colab.research.google.com/notebooks/data_table.ipynb>data table notebook</a>'\n",
              "            + ' to learn more about interactive tables.';\n",
              "          element.innerHTML = '';\n",
              "          dataTable['output_type'] = 'display_data';\n",
              "          await google.colab.output.renderOutput(dataTable, element);\n",
              "          const docLink = document.createElement('div');\n",
              "          docLink.innerHTML = docLinkHtml;\n",
              "          element.appendChild(docLink);\n",
              "        }\n",
              "      </script>\n",
              "    </div>\n",
              "  </div>\n",
              "  "
            ],
            "text/plain": [
              "   Unnamed: 0  ...                                                                                                                                                                                                    Tweet\n",
              "0        3204  ...  agree the poor in india are treated badly their poors seek a living in singapore and are treated like citizens they are given free medical treatment given food daily sim cards to call home to tell...\n",
              "1        1431  ...                                                                                                            if only i could have spent the with this cutie vc sakshi__s i n g h coast crossing republik …\n",
              "\n",
              "[2 rows x 19 columns]"
            ]
          },
          "metadata": {},
          "execution_count": 31
        }
      ]
    },
    {
      "cell_type": "code",
      "source": [
        "#REMOVED HTTP AND URLS FROM TWEET\n",
        "\n",
        "import re\n",
        "df['Tweet'] = df['Tweet'].apply(lambda x: re.split('https:\\/\\/.*', str(x))[0])"
      ],
      "metadata": {
        "id": "pjK9A27etIWK"
      },
      "execution_count": 32,
      "outputs": []
    },
    {
      "cell_type": "code",
      "source": [
        "# remove special characters, numbers, punctuations\n",
        "df['Tweet'] = df['Tweet'].str.replace('[^a-zA-Z#]+',' ')"
      ],
      "metadata": {
        "id": "UpEKSyn5yXCF"
      },
      "execution_count": 33,
      "outputs": []
    },
    {
      "cell_type": "code",
      "source": [
        "df.info()"
      ],
      "metadata": {
        "colab": {
          "base_uri": "https://localhost:8080/"
        },
        "id": "oKt0tZygriA7",
        "outputId": "9b94512b-e981-43f1-b1e0-1867c58ba0c9"
      },
      "execution_count": 34,
      "outputs": [
        {
          "output_type": "stream",
          "name": "stdout",
          "text": [
            "<class 'pandas.core.frame.DataFrame'>\n",
            "RangeIndex: 3090 entries, 0 to 3089\n",
            "Data columns (total 19 columns):\n",
            " #   Column              Non-Null Count  Dtype  \n",
            "---  ------              --------------  -----  \n",
            " 0   Unnamed: 0          3090 non-null   int64  \n",
            " 1   sentiment           3090 non-null   object \n",
            " 2   text                3090 non-null   object \n",
            " 3   char_count          3090 non-null   int64  \n",
            " 4   word_count          3090 non-null   int64  \n",
            " 5   capital_char_count  3090 non-null   int64  \n",
            " 6   capital_word_count  3090 non-null   int64  \n",
            " 7   punct_count         3090 non-null   object \n",
            " 8   quoted_word_count   3090 non-null   int64  \n",
            " 9   sent_count          3090 non-null   int64  \n",
            " 10  unique_word_count   3090 non-null   int64  \n",
            " 11  htag_count          3090 non-null   int64  \n",
            " 12  mention_count       3090 non-null   int64  \n",
            " 13  stopword_count      3090 non-null   int64  \n",
            " 14  avg_wordlength      3090 non-null   float64\n",
            " 15  avg_sentlength      3090 non-null   float64\n",
            " 16  unique_vs_words     3090 non-null   float64\n",
            " 17  stopwords_vs_words  3090 non-null   float64\n",
            " 18  Tweet               3090 non-null   object \n",
            "dtypes: float64(4), int64(11), object(4)\n",
            "memory usage: 458.8+ KB\n"
          ]
        }
      ]
    },
    {
      "cell_type": "code",
      "source": [
        "df.head()"
      ],
      "metadata": {
        "colab": {
          "base_uri": "https://localhost:8080/",
          "height": 1000
        },
        "id": "5NEM5xyCJzZI",
        "outputId": "3de2efc2-7be2-4e4b-9dca-63ff133fc09c"
      },
      "execution_count": 35,
      "outputs": [
        {
          "output_type": "execute_result",
          "data": {
            "text/html": [
              "\n",
              "  <div id=\"df-daaa8c72-afca-43e9-8484-8cd56d5fa60e\">\n",
              "    <div class=\"colab-df-container\">\n",
              "      <div>\n",
              "<style scoped>\n",
              "    .dataframe tbody tr th:only-of-type {\n",
              "        vertical-align: middle;\n",
              "    }\n",
              "\n",
              "    .dataframe tbody tr th {\n",
              "        vertical-align: top;\n",
              "    }\n",
              "\n",
              "    .dataframe thead th {\n",
              "        text-align: right;\n",
              "    }\n",
              "</style>\n",
              "<table border=\"1\" class=\"dataframe\">\n",
              "  <thead>\n",
              "    <tr style=\"text-align: right;\">\n",
              "      <th></th>\n",
              "      <th>Unnamed: 0</th>\n",
              "      <th>sentiment</th>\n",
              "      <th>text</th>\n",
              "      <th>char_count</th>\n",
              "      <th>word_count</th>\n",
              "      <th>capital_char_count</th>\n",
              "      <th>capital_word_count</th>\n",
              "      <th>punct_count</th>\n",
              "      <th>quoted_word_count</th>\n",
              "      <th>sent_count</th>\n",
              "      <th>unique_word_count</th>\n",
              "      <th>htag_count</th>\n",
              "      <th>mention_count</th>\n",
              "      <th>stopword_count</th>\n",
              "      <th>avg_wordlength</th>\n",
              "      <th>avg_sentlength</th>\n",
              "      <th>unique_vs_words</th>\n",
              "      <th>stopwords_vs_words</th>\n",
              "      <th>Tweet</th>\n",
              "    </tr>\n",
              "  </thead>\n",
              "  <tbody>\n",
              "    <tr>\n",
              "      <th>0</th>\n",
              "      <td>3204</td>\n",
              "      <td>sad</td>\n",
              "      <td>agree the poor in india are treated badly their poors seek a living in singapore and are treated like citizens they are given free medical treatment given food daily sim cards to call home to tell...</td>\n",
              "      <td>270</td>\n",
              "      <td>50</td>\n",
              "      <td>0</td>\n",
              "      <td>0</td>\n",
              "      <td>{'! count': 0, '\" count': 0, '# count': 0, '$ count': 0, '% count': 0, '&amp; count': 0, '' count': 0, '( count': 0, ') count': 0, '* count': 0, '+ count': 0, ', count': 0, '- count': 0, '. count': 0,...</td>\n",
              "      <td>0</td>\n",
              "      <td>1</td>\n",
              "      <td>39</td>\n",
              "      <td>0</td>\n",
              "      <td>0</td>\n",
              "      <td>18</td>\n",
              "      <td>5.400000</td>\n",
              "      <td>50.0</td>\n",
              "      <td>0.78</td>\n",
              "      <td>0.360000</td>\n",
              "      <td>agree the poor in india are treated badly their poors seek a living in singapore and are treated like citizens they are given free medical treatment given food daily sim cards to call home to tell...</td>\n",
              "    </tr>\n",
              "    <tr>\n",
              "      <th>1</th>\n",
              "      <td>1431</td>\n",
              "      <td>joy</td>\n",
              "      <td>if only i could have spent the with this cutie vc sakshi__s i n g h coast crossing republik …</td>\n",
              "      <td>93</td>\n",
              "      <td>20</td>\n",
              "      <td>0</td>\n",
              "      <td>0</td>\n",
              "      <td>{'! count': 0, '\" count': 0, '# count': 0, '$ count': 0, '% count': 0, '&amp; count': 0, '' count': 0, '( count': 0, ') count': 0, '* count': 0, '+ count': 0, ', count': 0, '- count': 0, '. count': 0,...</td>\n",
              "      <td>0</td>\n",
              "      <td>1</td>\n",
              "      <td>19</td>\n",
              "      <td>0</td>\n",
              "      <td>0</td>\n",
              "      <td>8</td>\n",
              "      <td>4.650000</td>\n",
              "      <td>20.0</td>\n",
              "      <td>0.95</td>\n",
              "      <td>0.400000</td>\n",
              "      <td>if only i could have spent the with this cutie vc sakshi s i n g h coast crossing republik</td>\n",
              "    </tr>\n",
              "    <tr>\n",
              "      <th>2</th>\n",
              "      <td>654</td>\n",
              "      <td>joy</td>\n",
              "      <td>will nature conservation remain a priority in post corona bangladesh | the daily star</td>\n",
              "      <td>85</td>\n",
              "      <td>14</td>\n",
              "      <td>0</td>\n",
              "      <td>0</td>\n",
              "      <td>{'! count': 0, '\" count': 0, '# count': 0, '$ count': 0, '% count': 0, '&amp; count': 0, '' count': 0, '( count': 0, ') count': 0, '* count': 0, '+ count': 0, ', count': 0, '- count': 0, '. count': 0,...</td>\n",
              "      <td>0</td>\n",
              "      <td>1</td>\n",
              "      <td>14</td>\n",
              "      <td>0</td>\n",
              "      <td>0</td>\n",
              "      <td>4</td>\n",
              "      <td>6.071429</td>\n",
              "      <td>14.0</td>\n",
              "      <td>1.00</td>\n",
              "      <td>0.285714</td>\n",
              "      <td>will nature conservation remain a priority in post corona bangladesh the daily star</td>\n",
              "    </tr>\n",
              "    <tr>\n",
              "      <th>3</th>\n",
              "      <td>2530</td>\n",
              "      <td>sad</td>\n",
              "      <td>coronavirus disappearing in italy show this to \"intellectuals\" who say lockdowns do not work …</td>\n",
              "      <td>94</td>\n",
              "      <td>15</td>\n",
              "      <td>0</td>\n",
              "      <td>0</td>\n",
              "      <td>{'! count': 0, '\" count': 2, '# count': 0, '$ count': 0, '% count': 0, '&amp; count': 0, '' count': 0, '( count': 0, ') count': 0, '* count': 0, '+ count': 0, ', count': 0, '- count': 0, '. count': 0,...</td>\n",
              "      <td>0</td>\n",
              "      <td>1</td>\n",
              "      <td>15</td>\n",
              "      <td>0</td>\n",
              "      <td>0</td>\n",
              "      <td>6</td>\n",
              "      <td>6.266667</td>\n",
              "      <td>15.0</td>\n",
              "      <td>1.00</td>\n",
              "      <td>0.400000</td>\n",
              "      <td>coronavirus disappearing in italy show this to intellectuals who say lockdowns do not work</td>\n",
              "    </tr>\n",
              "    <tr>\n",
              "      <th>4</th>\n",
              "      <td>2296</td>\n",
              "      <td>sad</td>\n",
              "      <td>uk records lowest daily virus death toll since start of lockdown govt</td>\n",
              "      <td>69</td>\n",
              "      <td>12</td>\n",
              "      <td>0</td>\n",
              "      <td>0</td>\n",
              "      <td>{'! count': 0, '\" count': 0, '# count': 0, '$ count': 0, '% count': 0, '&amp; count': 0, '' count': 0, '( count': 0, ') count': 0, '* count': 0, '+ count': 0, ', count': 0, '- count': 0, '. count': 0,...</td>\n",
              "      <td>0</td>\n",
              "      <td>1</td>\n",
              "      <td>12</td>\n",
              "      <td>0</td>\n",
              "      <td>0</td>\n",
              "      <td>1</td>\n",
              "      <td>5.750000</td>\n",
              "      <td>12.0</td>\n",
              "      <td>1.00</td>\n",
              "      <td>0.083333</td>\n",
              "      <td>uk records lowest daily virus death toll since start of lockdown govt</td>\n",
              "    </tr>\n",
              "  </tbody>\n",
              "</table>\n",
              "</div>\n",
              "      <button class=\"colab-df-convert\" onclick=\"convertToInteractive('df-daaa8c72-afca-43e9-8484-8cd56d5fa60e')\"\n",
              "              title=\"Convert this dataframe to an interactive table.\"\n",
              "              style=\"display:none;\">\n",
              "        \n",
              "  <svg xmlns=\"http://www.w3.org/2000/svg\" height=\"24px\"viewBox=\"0 0 24 24\"\n",
              "       width=\"24px\">\n",
              "    <path d=\"M0 0h24v24H0V0z\" fill=\"none\"/>\n",
              "    <path d=\"M18.56 5.44l.94 2.06.94-2.06 2.06-.94-2.06-.94-.94-2.06-.94 2.06-2.06.94zm-11 1L8.5 8.5l.94-2.06 2.06-.94-2.06-.94L8.5 2.5l-.94 2.06-2.06.94zm10 10l.94 2.06.94-2.06 2.06-.94-2.06-.94-.94-2.06-.94 2.06-2.06.94z\"/><path d=\"M17.41 7.96l-1.37-1.37c-.4-.4-.92-.59-1.43-.59-.52 0-1.04.2-1.43.59L10.3 9.45l-7.72 7.72c-.78.78-.78 2.05 0 2.83L4 21.41c.39.39.9.59 1.41.59.51 0 1.02-.2 1.41-.59l7.78-7.78 2.81-2.81c.8-.78.8-2.07 0-2.86zM5.41 20L4 18.59l7.72-7.72 1.47 1.35L5.41 20z\"/>\n",
              "  </svg>\n",
              "      </button>\n",
              "      \n",
              "  <style>\n",
              "    .colab-df-container {\n",
              "      display:flex;\n",
              "      flex-wrap:wrap;\n",
              "      gap: 12px;\n",
              "    }\n",
              "\n",
              "    .colab-df-convert {\n",
              "      background-color: #E8F0FE;\n",
              "      border: none;\n",
              "      border-radius: 50%;\n",
              "      cursor: pointer;\n",
              "      display: none;\n",
              "      fill: #1967D2;\n",
              "      height: 32px;\n",
              "      padding: 0 0 0 0;\n",
              "      width: 32px;\n",
              "    }\n",
              "\n",
              "    .colab-df-convert:hover {\n",
              "      background-color: #E2EBFA;\n",
              "      box-shadow: 0px 1px 2px rgba(60, 64, 67, 0.3), 0px 1px 3px 1px rgba(60, 64, 67, 0.15);\n",
              "      fill: #174EA6;\n",
              "    }\n",
              "\n",
              "    [theme=dark] .colab-df-convert {\n",
              "      background-color: #3B4455;\n",
              "      fill: #D2E3FC;\n",
              "    }\n",
              "\n",
              "    [theme=dark] .colab-df-convert:hover {\n",
              "      background-color: #434B5C;\n",
              "      box-shadow: 0px 1px 3px 1px rgba(0, 0, 0, 0.15);\n",
              "      filter: drop-shadow(0px 1px 2px rgba(0, 0, 0, 0.3));\n",
              "      fill: #FFFFFF;\n",
              "    }\n",
              "  </style>\n",
              "\n",
              "      <script>\n",
              "        const buttonEl =\n",
              "          document.querySelector('#df-daaa8c72-afca-43e9-8484-8cd56d5fa60e button.colab-df-convert');\n",
              "        buttonEl.style.display =\n",
              "          google.colab.kernel.accessAllowed ? 'block' : 'none';\n",
              "\n",
              "        async function convertToInteractive(key) {\n",
              "          const element = document.querySelector('#df-daaa8c72-afca-43e9-8484-8cd56d5fa60e');\n",
              "          const dataTable =\n",
              "            await google.colab.kernel.invokeFunction('convertToInteractive',\n",
              "                                                     [key], {});\n",
              "          if (!dataTable) return;\n",
              "\n",
              "          const docLinkHtml = 'Like what you see? Visit the ' +\n",
              "            '<a target=\"_blank\" href=https://colab.research.google.com/notebooks/data_table.ipynb>data table notebook</a>'\n",
              "            + ' to learn more about interactive tables.';\n",
              "          element.innerHTML = '';\n",
              "          dataTable['output_type'] = 'display_data';\n",
              "          await google.colab.output.renderOutput(dataTable, element);\n",
              "          const docLink = document.createElement('div');\n",
              "          docLink.innerHTML = docLinkHtml;\n",
              "          element.appendChild(docLink);\n",
              "        }\n",
              "      </script>\n",
              "    </div>\n",
              "  </div>\n",
              "  "
            ],
            "text/plain": [
              "   Unnamed: 0  ...                                                                                                                                                                                                    Tweet\n",
              "0        3204  ...  agree the poor in india are treated badly their poors seek a living in singapore and are treated like citizens they are given free medical treatment given food daily sim cards to call home to tell...\n",
              "1        1431  ...                                                                                                              if only i could have spent the with this cutie vc sakshi s i n g h coast crossing republik \n",
              "2         654  ...                                                                                                                      will nature conservation remain a priority in post corona bangladesh the daily star\n",
              "3        2530  ...                                                                                                              coronavirus disappearing in italy show this to intellectuals who say lockdowns do not work \n",
              "4        2296  ...                                                                                                                                    uk records lowest daily virus death toll since start of lockdown govt\n",
              "\n",
              "[5 rows x 19 columns]"
            ]
          },
          "metadata": {},
          "execution_count": 35
        }
      ]
    },
    {
      "cell_type": "code",
      "source": [
        "#move to new dataframe\n",
        "df_dataset = df[['Tweet','sentiment']]"
      ],
      "metadata": {
        "id": "WmqkpPbWri8-"
      },
      "execution_count": 36,
      "outputs": []
    },
    {
      "cell_type": "code",
      "source": [
        "df_dataset.info()"
      ],
      "metadata": {
        "colab": {
          "base_uri": "https://localhost:8080/"
        },
        "id": "nMjlQjg_s2UI",
        "outputId": "0b3d1189-4342-4f93-b05b-954c92a312f2"
      },
      "execution_count": 37,
      "outputs": [
        {
          "output_type": "stream",
          "name": "stdout",
          "text": [
            "<class 'pandas.core.frame.DataFrame'>\n",
            "RangeIndex: 3090 entries, 0 to 3089\n",
            "Data columns (total 2 columns):\n",
            " #   Column     Non-Null Count  Dtype \n",
            "---  ------     --------------  ----- \n",
            " 0   Tweet      3090 non-null   object\n",
            " 1   sentiment  3090 non-null   object\n",
            "dtypes: object(2)\n",
            "memory usage: 48.4+ KB\n"
          ]
        }
      ]
    },
    {
      "cell_type": "code",
      "source": [
        "#store classes into an array\n",
        "possible_labels = df_dataset.sentiment.unique()\n",
        "possible_labels"
      ],
      "metadata": {
        "colab": {
          "base_uri": "https://localhost:8080/"
        },
        "id": "Sc5MfyO9rpez",
        "outputId": "4f332f86-bcec-4398-a1b5-d4192a5c80ed"
      },
      "execution_count": 38,
      "outputs": [
        {
          "output_type": "execute_result",
          "data": {
            "text/plain": [
              "array(['sad', 'joy', 'fear', 'anger'], dtype=object)"
            ]
          },
          "metadata": {},
          "execution_count": 38
        }
      ]
    },
    {
      "cell_type": "code",
      "source": [
        "#convert labels into numeric values\n",
        "label_dict = {}\n",
        "for index, possible_label in enumerate(possible_labels):\n",
        "    label_dict[possible_label] = index"
      ],
      "metadata": {
        "id": "PLA2hIYzrwTi"
      },
      "execution_count": 39,
      "outputs": []
    },
    {
      "cell_type": "code",
      "source": [
        "label_dict"
      ],
      "metadata": {
        "colab": {
          "base_uri": "https://localhost:8080/"
        },
        "id": "7mDp68kVrzLg",
        "outputId": "86326fec-9624-45bc-c7ca-1dcb0ad5d40d"
      },
      "execution_count": 40,
      "outputs": [
        {
          "output_type": "execute_result",
          "data": {
            "text/plain": [
              "{'anger': 3, 'fear': 2, 'joy': 1, 'sad': 0}"
            ]
          },
          "metadata": {},
          "execution_count": 40
        }
      ]
    },
    {
      "cell_type": "code",
      "source": [
        "#convert labels into numeric values\n",
        "df_dataset['label'] = df_dataset.sentiment.replace(label_dict)\n",
        "df_dataset.head(10)"
      ],
      "metadata": {
        "colab": {
          "base_uri": "https://localhost:8080/",
          "height": 476
        },
        "id": "HQ2KEh-kr1Pq",
        "outputId": "871759ec-8996-45d6-c80f-b6ddd76215bb"
      },
      "execution_count": 41,
      "outputs": [
        {
          "output_type": "execute_result",
          "data": {
            "text/html": [
              "\n",
              "  <div id=\"df-b75c7ceb-b36f-4b70-a622-c059406c0151\">\n",
              "    <div class=\"colab-df-container\">\n",
              "      <div>\n",
              "<style scoped>\n",
              "    .dataframe tbody tr th:only-of-type {\n",
              "        vertical-align: middle;\n",
              "    }\n",
              "\n",
              "    .dataframe tbody tr th {\n",
              "        vertical-align: top;\n",
              "    }\n",
              "\n",
              "    .dataframe thead th {\n",
              "        text-align: right;\n",
              "    }\n",
              "</style>\n",
              "<table border=\"1\" class=\"dataframe\">\n",
              "  <thead>\n",
              "    <tr style=\"text-align: right;\">\n",
              "      <th></th>\n",
              "      <th>Tweet</th>\n",
              "      <th>sentiment</th>\n",
              "      <th>label</th>\n",
              "    </tr>\n",
              "  </thead>\n",
              "  <tbody>\n",
              "    <tr>\n",
              "      <th>0</th>\n",
              "      <td>agree the poor in india are treated badly their poors seek a living in singapore and are treated like citizens they are given free medical treatment given food daily sim cards to call home to tell...</td>\n",
              "      <td>sad</td>\n",
              "      <td>0</td>\n",
              "    </tr>\n",
              "    <tr>\n",
              "      <th>1</th>\n",
              "      <td>if only i could have spent the with this cutie vc sakshi s i n g h coast crossing republik</td>\n",
              "      <td>joy</td>\n",
              "      <td>1</td>\n",
              "    </tr>\n",
              "    <tr>\n",
              "      <th>2</th>\n",
              "      <td>will nature conservation remain a priority in post corona bangladesh the daily star</td>\n",
              "      <td>joy</td>\n",
              "      <td>1</td>\n",
              "    </tr>\n",
              "    <tr>\n",
              "      <th>3</th>\n",
              "      <td>coronavirus disappearing in italy show this to intellectuals who say lockdowns do not work</td>\n",
              "      <td>sad</td>\n",
              "      <td>0</td>\n",
              "    </tr>\n",
              "    <tr>\n",
              "      <th>4</th>\n",
              "      <td>uk records lowest daily virus death toll since start of lockdown govt</td>\n",
              "      <td>sad</td>\n",
              "      <td>0</td>\n",
              "    </tr>\n",
              "    <tr>\n",
              "      <th>5</th>\n",
              "      <td>joe biden s coronavirus web address lands on a donation page for his campaign he is profiting from fear demopos</td>\n",
              "      <td>fear</td>\n",
              "      <td>2</td>\n",
              "    </tr>\n",
              "    <tr>\n",
              "      <th>6</th>\n",
              "      <td>respected sir in our telangana all private teachers and lecturers are in horrible situations due to covid and mainly private management chaithanya nd narayana b caz they told to all faculty s like...</td>\n",
              "      <td>sad</td>\n",
              "      <td>0</td>\n",
              "    </tr>\n",
              "    <tr>\n",
              "      <th>7</th>\n",
              "      <td>so is also times more lethal than influenza think about that</td>\n",
              "      <td>fear</td>\n",
              "      <td>2</td>\n",
              "    </tr>\n",
              "    <tr>\n",
              "      <th>8</th>\n",
              "      <td>thull is passing the most dangerous and ultra hazardous situation in its history population of thul town and surrounding have been striked by corona virus cm health m sindh to take notice we plead...</td>\n",
              "      <td>sad</td>\n",
              "      <td>0</td>\n",
              "    </tr>\n",
              "    <tr>\n",
              "      <th>9</th>\n",
              "      <td>thull is passing the most dangerous and ultra hazardous situation in its history population of thul town and surrounding have been striked by corona virus cm health m sindh to take notice we plead...</td>\n",
              "      <td>sad</td>\n",
              "      <td>0</td>\n",
              "    </tr>\n",
              "  </tbody>\n",
              "</table>\n",
              "</div>\n",
              "      <button class=\"colab-df-convert\" onclick=\"convertToInteractive('df-b75c7ceb-b36f-4b70-a622-c059406c0151')\"\n",
              "              title=\"Convert this dataframe to an interactive table.\"\n",
              "              style=\"display:none;\">\n",
              "        \n",
              "  <svg xmlns=\"http://www.w3.org/2000/svg\" height=\"24px\"viewBox=\"0 0 24 24\"\n",
              "       width=\"24px\">\n",
              "    <path d=\"M0 0h24v24H0V0z\" fill=\"none\"/>\n",
              "    <path d=\"M18.56 5.44l.94 2.06.94-2.06 2.06-.94-2.06-.94-.94-2.06-.94 2.06-2.06.94zm-11 1L8.5 8.5l.94-2.06 2.06-.94-2.06-.94L8.5 2.5l-.94 2.06-2.06.94zm10 10l.94 2.06.94-2.06 2.06-.94-2.06-.94-.94-2.06-.94 2.06-2.06.94z\"/><path d=\"M17.41 7.96l-1.37-1.37c-.4-.4-.92-.59-1.43-.59-.52 0-1.04.2-1.43.59L10.3 9.45l-7.72 7.72c-.78.78-.78 2.05 0 2.83L4 21.41c.39.39.9.59 1.41.59.51 0 1.02-.2 1.41-.59l7.78-7.78 2.81-2.81c.8-.78.8-2.07 0-2.86zM5.41 20L4 18.59l7.72-7.72 1.47 1.35L5.41 20z\"/>\n",
              "  </svg>\n",
              "      </button>\n",
              "      \n",
              "  <style>\n",
              "    .colab-df-container {\n",
              "      display:flex;\n",
              "      flex-wrap:wrap;\n",
              "      gap: 12px;\n",
              "    }\n",
              "\n",
              "    .colab-df-convert {\n",
              "      background-color: #E8F0FE;\n",
              "      border: none;\n",
              "      border-radius: 50%;\n",
              "      cursor: pointer;\n",
              "      display: none;\n",
              "      fill: #1967D2;\n",
              "      height: 32px;\n",
              "      padding: 0 0 0 0;\n",
              "      width: 32px;\n",
              "    }\n",
              "\n",
              "    .colab-df-convert:hover {\n",
              "      background-color: #E2EBFA;\n",
              "      box-shadow: 0px 1px 2px rgba(60, 64, 67, 0.3), 0px 1px 3px 1px rgba(60, 64, 67, 0.15);\n",
              "      fill: #174EA6;\n",
              "    }\n",
              "\n",
              "    [theme=dark] .colab-df-convert {\n",
              "      background-color: #3B4455;\n",
              "      fill: #D2E3FC;\n",
              "    }\n",
              "\n",
              "    [theme=dark] .colab-df-convert:hover {\n",
              "      background-color: #434B5C;\n",
              "      box-shadow: 0px 1px 3px 1px rgba(0, 0, 0, 0.15);\n",
              "      filter: drop-shadow(0px 1px 2px rgba(0, 0, 0, 0.3));\n",
              "      fill: #FFFFFF;\n",
              "    }\n",
              "  </style>\n",
              "\n",
              "      <script>\n",
              "        const buttonEl =\n",
              "          document.querySelector('#df-b75c7ceb-b36f-4b70-a622-c059406c0151 button.colab-df-convert');\n",
              "        buttonEl.style.display =\n",
              "          google.colab.kernel.accessAllowed ? 'block' : 'none';\n",
              "\n",
              "        async function convertToInteractive(key) {\n",
              "          const element = document.querySelector('#df-b75c7ceb-b36f-4b70-a622-c059406c0151');\n",
              "          const dataTable =\n",
              "            await google.colab.kernel.invokeFunction('convertToInteractive',\n",
              "                                                     [key], {});\n",
              "          if (!dataTable) return;\n",
              "\n",
              "          const docLinkHtml = 'Like what you see? Visit the ' +\n",
              "            '<a target=\"_blank\" href=https://colab.research.google.com/notebooks/data_table.ipynb>data table notebook</a>'\n",
              "            + ' to learn more about interactive tables.';\n",
              "          element.innerHTML = '';\n",
              "          dataTable['output_type'] = 'display_data';\n",
              "          await google.colab.output.renderOutput(dataTable, element);\n",
              "          const docLink = document.createElement('div');\n",
              "          docLink.innerHTML = docLinkHtml;\n",
              "          element.appendChild(docLink);\n",
              "        }\n",
              "      </script>\n",
              "    </div>\n",
              "  </div>\n",
              "  "
            ],
            "text/plain": [
              "                                                                                                                                                                                                     Tweet  ... label\n",
              "0  agree the poor in india are treated badly their poors seek a living in singapore and are treated like citizens they are given free medical treatment given food daily sim cards to call home to tell...  ...     0\n",
              "1                                                                                                              if only i could have spent the with this cutie vc sakshi s i n g h coast crossing republik   ...     1\n",
              "2                                                                                                                      will nature conservation remain a priority in post corona bangladesh the daily star  ...     1\n",
              "3                                                                                                              coronavirus disappearing in italy show this to intellectuals who say lockdowns do not work   ...     0\n",
              "4                                                                                                                                    uk records lowest daily virus death toll since start of lockdown govt  ...     0\n",
              "5                                                                                          joe biden s coronavirus web address lands on a donation page for his campaign he is profiting from fear demopos  ...     2\n",
              "6  respected sir in our telangana all private teachers and lecturers are in horrible situations due to covid and mainly private management chaithanya nd narayana b caz they told to all faculty s like...  ...     0\n",
              "7                                                                                                                                             so is also times more lethal than influenza think about that  ...     2\n",
              "8  thull is passing the most dangerous and ultra hazardous situation in its history population of thul town and surrounding have been striked by corona virus cm health m sindh to take notice we plead...  ...     0\n",
              "9  thull is passing the most dangerous and ultra hazardous situation in its history population of thul town and surrounding have been striked by corona virus cm health m sindh to take notice we plead...  ...     0\n",
              "\n",
              "[10 rows x 3 columns]"
            ]
          },
          "metadata": {},
          "execution_count": 41
        }
      ]
    },
    {
      "cell_type": "code",
      "source": [
        "df_dataset.drop(['sentiment'], axis=1, inplace=True)"
      ],
      "metadata": {
        "id": "vA1cMVb8iGUZ"
      },
      "execution_count": 42,
      "outputs": []
    },
    {
      "cell_type": "code",
      "source": [
        "df_dataset.head()"
      ],
      "metadata": {
        "colab": {
          "base_uri": "https://localhost:8080/",
          "height": 267
        },
        "id": "bm0K3Sc9ijT_",
        "outputId": "0a8a2e42-8614-4954-bacb-6e5f7d2175c5"
      },
      "execution_count": 43,
      "outputs": [
        {
          "output_type": "execute_result",
          "data": {
            "text/html": [
              "\n",
              "  <div id=\"df-9812a874-1db8-406b-8cf5-0f7379014728\">\n",
              "    <div class=\"colab-df-container\">\n",
              "      <div>\n",
              "<style scoped>\n",
              "    .dataframe tbody tr th:only-of-type {\n",
              "        vertical-align: middle;\n",
              "    }\n",
              "\n",
              "    .dataframe tbody tr th {\n",
              "        vertical-align: top;\n",
              "    }\n",
              "\n",
              "    .dataframe thead th {\n",
              "        text-align: right;\n",
              "    }\n",
              "</style>\n",
              "<table border=\"1\" class=\"dataframe\">\n",
              "  <thead>\n",
              "    <tr style=\"text-align: right;\">\n",
              "      <th></th>\n",
              "      <th>Tweet</th>\n",
              "      <th>label</th>\n",
              "    </tr>\n",
              "  </thead>\n",
              "  <tbody>\n",
              "    <tr>\n",
              "      <th>0</th>\n",
              "      <td>agree the poor in india are treated badly their poors seek a living in singapore and are treated like citizens they are given free medical treatment given food daily sim cards to call home to tell...</td>\n",
              "      <td>0</td>\n",
              "    </tr>\n",
              "    <tr>\n",
              "      <th>1</th>\n",
              "      <td>if only i could have spent the with this cutie vc sakshi s i n g h coast crossing republik</td>\n",
              "      <td>1</td>\n",
              "    </tr>\n",
              "    <tr>\n",
              "      <th>2</th>\n",
              "      <td>will nature conservation remain a priority in post corona bangladesh the daily star</td>\n",
              "      <td>1</td>\n",
              "    </tr>\n",
              "    <tr>\n",
              "      <th>3</th>\n",
              "      <td>coronavirus disappearing in italy show this to intellectuals who say lockdowns do not work</td>\n",
              "      <td>0</td>\n",
              "    </tr>\n",
              "    <tr>\n",
              "      <th>4</th>\n",
              "      <td>uk records lowest daily virus death toll since start of lockdown govt</td>\n",
              "      <td>0</td>\n",
              "    </tr>\n",
              "  </tbody>\n",
              "</table>\n",
              "</div>\n",
              "      <button class=\"colab-df-convert\" onclick=\"convertToInteractive('df-9812a874-1db8-406b-8cf5-0f7379014728')\"\n",
              "              title=\"Convert this dataframe to an interactive table.\"\n",
              "              style=\"display:none;\">\n",
              "        \n",
              "  <svg xmlns=\"http://www.w3.org/2000/svg\" height=\"24px\"viewBox=\"0 0 24 24\"\n",
              "       width=\"24px\">\n",
              "    <path d=\"M0 0h24v24H0V0z\" fill=\"none\"/>\n",
              "    <path d=\"M18.56 5.44l.94 2.06.94-2.06 2.06-.94-2.06-.94-.94-2.06-.94 2.06-2.06.94zm-11 1L8.5 8.5l.94-2.06 2.06-.94-2.06-.94L8.5 2.5l-.94 2.06-2.06.94zm10 10l.94 2.06.94-2.06 2.06-.94-2.06-.94-.94-2.06-.94 2.06-2.06.94z\"/><path d=\"M17.41 7.96l-1.37-1.37c-.4-.4-.92-.59-1.43-.59-.52 0-1.04.2-1.43.59L10.3 9.45l-7.72 7.72c-.78.78-.78 2.05 0 2.83L4 21.41c.39.39.9.59 1.41.59.51 0 1.02-.2 1.41-.59l7.78-7.78 2.81-2.81c.8-.78.8-2.07 0-2.86zM5.41 20L4 18.59l7.72-7.72 1.47 1.35L5.41 20z\"/>\n",
              "  </svg>\n",
              "      </button>\n",
              "      \n",
              "  <style>\n",
              "    .colab-df-container {\n",
              "      display:flex;\n",
              "      flex-wrap:wrap;\n",
              "      gap: 12px;\n",
              "    }\n",
              "\n",
              "    .colab-df-convert {\n",
              "      background-color: #E8F0FE;\n",
              "      border: none;\n",
              "      border-radius: 50%;\n",
              "      cursor: pointer;\n",
              "      display: none;\n",
              "      fill: #1967D2;\n",
              "      height: 32px;\n",
              "      padding: 0 0 0 0;\n",
              "      width: 32px;\n",
              "    }\n",
              "\n",
              "    .colab-df-convert:hover {\n",
              "      background-color: #E2EBFA;\n",
              "      box-shadow: 0px 1px 2px rgba(60, 64, 67, 0.3), 0px 1px 3px 1px rgba(60, 64, 67, 0.15);\n",
              "      fill: #174EA6;\n",
              "    }\n",
              "\n",
              "    [theme=dark] .colab-df-convert {\n",
              "      background-color: #3B4455;\n",
              "      fill: #D2E3FC;\n",
              "    }\n",
              "\n",
              "    [theme=dark] .colab-df-convert:hover {\n",
              "      background-color: #434B5C;\n",
              "      box-shadow: 0px 1px 3px 1px rgba(0, 0, 0, 0.15);\n",
              "      filter: drop-shadow(0px 1px 2px rgba(0, 0, 0, 0.3));\n",
              "      fill: #FFFFFF;\n",
              "    }\n",
              "  </style>\n",
              "\n",
              "      <script>\n",
              "        const buttonEl =\n",
              "          document.querySelector('#df-9812a874-1db8-406b-8cf5-0f7379014728 button.colab-df-convert');\n",
              "        buttonEl.style.display =\n",
              "          google.colab.kernel.accessAllowed ? 'block' : 'none';\n",
              "\n",
              "        async function convertToInteractive(key) {\n",
              "          const element = document.querySelector('#df-9812a874-1db8-406b-8cf5-0f7379014728');\n",
              "          const dataTable =\n",
              "            await google.colab.kernel.invokeFunction('convertToInteractive',\n",
              "                                                     [key], {});\n",
              "          if (!dataTable) return;\n",
              "\n",
              "          const docLinkHtml = 'Like what you see? Visit the ' +\n",
              "            '<a target=\"_blank\" href=https://colab.research.google.com/notebooks/data_table.ipynb>data table notebook</a>'\n",
              "            + ' to learn more about interactive tables.';\n",
              "          element.innerHTML = '';\n",
              "          dataTable['output_type'] = 'display_data';\n",
              "          await google.colab.output.renderOutput(dataTable, element);\n",
              "          const docLink = document.createElement('div');\n",
              "          docLink.innerHTML = docLinkHtml;\n",
              "          element.appendChild(docLink);\n",
              "        }\n",
              "      </script>\n",
              "    </div>\n",
              "  </div>\n",
              "  "
            ],
            "text/plain": [
              "                                                                                                                                                                                                     Tweet  label\n",
              "0  agree the poor in india are treated badly their poors seek a living in singapore and are treated like citizens they are given free medical treatment given food daily sim cards to call home to tell...      0\n",
              "1                                                                                                              if only i could have spent the with this cutie vc sakshi s i n g h coast crossing republik       1\n",
              "2                                                                                                                      will nature conservation remain a priority in post corona bangladesh the daily star      1\n",
              "3                                                                                                              coronavirus disappearing in italy show this to intellectuals who say lockdowns do not work       0\n",
              "4                                                                                                                                    uk records lowest daily virus death toll since start of lockdown govt      0"
            ]
          },
          "metadata": {},
          "execution_count": 43
        }
      ]
    },
    {
      "cell_type": "markdown",
      "source": [
        "#Load Fasttext vectors\n"
      ],
      "metadata": {
        "id": "cNgQU0AStSaT"
      }
    },
    {
      "cell_type": "code",
      "source": [
        "!wget https://dl.fbaipublicfiles.com/fasttext/vectors-crawl/cc.en.300.vec.gz\n",
        "!gzip -d cc.en.300.vec.gz"
      ],
      "metadata": {
        "id": "1q-BLBYetYmQ",
        "colab": {
          "base_uri": "https://localhost:8080/"
        },
        "outputId": "e6aaa51c-d34e-45dc-f5ca-9aa8341e326c"
      },
      "execution_count": 44,
      "outputs": [
        {
          "output_type": "stream",
          "name": "stdout",
          "text": [
            "--2022-01-06 20:01:48--  https://dl.fbaipublicfiles.com/fasttext/vectors-crawl/cc.en.300.vec.gz\n",
            "Resolving dl.fbaipublicfiles.com (dl.fbaipublicfiles.com)... 104.22.75.142, 104.22.74.142, 172.67.9.4, ...\n",
            "Connecting to dl.fbaipublicfiles.com (dl.fbaipublicfiles.com)|104.22.75.142|:443... connected.\n",
            "HTTP request sent, awaiting response... 200 OK\n",
            "Length: 1325960915 (1.2G) [binary/octet-stream]\n",
            "Saving to: ‘cc.en.300.vec.gz’\n",
            "\n",
            "cc.en.300.vec.gz    100%[===================>]   1.23G  22.4MB/s    in 48s     \n",
            "\n",
            "2022-01-06 20:02:36 (26.2 MB/s) - ‘cc.en.300.vec.gz’ saved [1325960915/1325960915]\n",
            "\n"
          ]
        }
      ]
    },
    {
      "cell_type": "code",
      "metadata": {
        "id": "PcWej6mDZvU0",
        "outputId": "f84a536e-7e69-45e5-e3de-a55f035f877b",
        "colab": {
          "base_uri": "https://localhost:8080/",
          "height": 66,
          "referenced_widgets": [
            "8fb35e5177ca4a479f2b6860f74e8747",
            "ab23d1445767482890d07a23cda477fc",
            "8a4a8fc2c4624d48bb2b88ef255733a7",
            "0d5ae2673df0426b9f062bf061fb2029",
            "12b259800aa142ba83828ebf11925a91",
            "2f0d8bcf8e68404ab5dd9f41e76907af",
            "73a41e6463284ac48a84fd362a1a8a86",
            "caae5f7c09d44239a7ea7c60af9b4498",
            "b1006507773c4b10bf94360160138141",
            "0f1ed2e6261f4f49984b028f20380f72",
            "8c71d92a04134162a03d6ca6cce0e0a8"
          ]
        }
      },
      "source": [
        "#create word vectors\n",
        "from tqdm import tqdm_notebook\n",
        "\n",
        "word_vectors = {}\n",
        "f = io.open(\"/content/cc.en.300.vec\", encoding='utf-8')\n",
        "n, d = map(int, f.readline().split())\n",
        "for line in tqdm_notebook(f):\n",
        "    values = line.rstrip().split(' ')\n",
        "    word = values[0]\n",
        "    vector = np.array(values[1:], dtype='float32')\n",
        "    word_vectors[word] = vector\n",
        "f.close()\n",
        "print(f'found {len(word_vectors)} word vectors')"
      ],
      "execution_count": 45,
      "outputs": [
        {
          "output_type": "display_data",
          "data": {
            "application/vnd.jupyter.widget-view+json": {
              "model_id": "8fb35e5177ca4a479f2b6860f74e8747",
              "version_minor": 0,
              "version_major": 2
            },
            "text/plain": [
              "0it [00:00, ?it/s]"
            ]
          },
          "metadata": {}
        },
        {
          "output_type": "stream",
          "name": "stdout",
          "text": [
            "found 2000000 word vectors\n"
          ]
        }
      ]
    },
    {
      "cell_type": "markdown",
      "metadata": {
        "id": "HmeuxIoqZvUp"
      },
      "source": [
        "# Text length distribution"
      ]
    },
    {
      "cell_type": "code",
      "metadata": {
        "id": "fUOuOW9hZvUq",
        "outputId": "a2901ca6-6a8c-4a93-e99a-43f43674ed6b",
        "colab": {
          "base_uri": "https://localhost:8080/"
        }
      },
      "source": [
        "#Finding the text length distribution\n",
        "df_dataset['sent_len'] = df_dataset['Tweet'].apply(lambda x: len(x.split(\" \")))\n",
        "max_seq_len = np.round(df_dataset['sent_len'].mean() + 2 * df_dataset['sent_len'].std()).astype(int)\n",
        "max_seq_len"
      ],
      "execution_count": 46,
      "outputs": [
        {
          "output_type": "execute_result",
          "data": {
            "text/plain": [
              "53"
            ]
          },
          "metadata": {},
          "execution_count": 46
        }
      ]
    },
    {
      "cell_type": "code",
      "metadata": {
        "id": "bkG4F3l_ZvUu",
        "outputId": "e7d422d1-dfaf-4f5e-e968-3ce7cfc018c3",
        "colab": {
          "base_uri": "https://localhost:8080/",
          "height": 271
        }
      },
      "source": [
        "df_dataset['sent_len'].plot.hist()\n",
        "plt.axvline(x=max_seq_len, color='k', linestyle='--', label='max len');"
      ],
      "execution_count": 47,
      "outputs": [
        {
          "output_type": "display_data",
          "data": {
            "image/png": "[encoded data removed]",
            "text/plain": [
              "<Figure size 432x288 with 1 Axes>"
            ]
          },
          "metadata": {}
        }
      ]
    },
    {
      "cell_type": "markdown",
      "metadata": {
        "id": "Fz8nBPxNZvU6"
      },
      "source": [
        "# Clean"
      ]
    },
    {
      "cell_type": "code",
      "metadata": {
        "scrolled": false,
        "id": "H1TtV1dEZvU7",
        "outputId": "af9ba07b-a830-46fc-96c9-dc67146fdd4b",
        "colab": {
          "base_uri": "https://localhost:8080/",
          "height": 267
        }
      },
      "source": [
        "df_dataset.head()"
      ],
      "execution_count": 48,
      "outputs": [
        {
          "output_type": "execute_result",
          "data": {
            "text/html": [
              "\n",
              "  <div id=\"df-eac04f35-7c75-4b9b-9fc5-de3b10d3497c\">\n",
              "    <div class=\"colab-df-container\">\n",
              "      <div>\n",
              "<style scoped>\n",
              "    .dataframe tbody tr th:only-of-type {\n",
              "        vertical-align: middle;\n",
              "    }\n",
              "\n",
              "    .dataframe tbody tr th {\n",
              "        vertical-align: top;\n",
              "    }\n",
              "\n",
              "    .dataframe thead th {\n",
              "        text-align: right;\n",
              "    }\n",
              "</style>\n",
              "<table border=\"1\" class=\"dataframe\">\n",
              "  <thead>\n",
              "    <tr style=\"text-align: right;\">\n",
              "      <th></th>\n",
              "      <th>Tweet</th>\n",
              "      <th>label</th>\n",
              "      <th>sent_len</th>\n",
              "    </tr>\n",
              "  </thead>\n",
              "  <tbody>\n",
              "    <tr>\n",
              "      <th>0</th>\n",
              "      <td>agree the poor in india are treated badly their poors seek a living in singapore and are treated like citizens they are given free medical treatment given food daily sim cards to call home to tell...</td>\n",
              "      <td>0</td>\n",
              "      <td>49</td>\n",
              "    </tr>\n",
              "    <tr>\n",
              "      <th>1</th>\n",
              "      <td>if only i could have spent the with this cutie vc sakshi s i n g h coast crossing republik</td>\n",
              "      <td>1</td>\n",
              "      <td>21</td>\n",
              "    </tr>\n",
              "    <tr>\n",
              "      <th>2</th>\n",
              "      <td>will nature conservation remain a priority in post corona bangladesh the daily star</td>\n",
              "      <td>1</td>\n",
              "      <td>13</td>\n",
              "    </tr>\n",
              "    <tr>\n",
              "      <th>3</th>\n",
              "      <td>coronavirus disappearing in italy show this to intellectuals who say lockdowns do not work</td>\n",
              "      <td>0</td>\n",
              "      <td>15</td>\n",
              "    </tr>\n",
              "    <tr>\n",
              "      <th>4</th>\n",
              "      <td>uk records lowest daily virus death toll since start of lockdown govt</td>\n",
              "      <td>0</td>\n",
              "      <td>12</td>\n",
              "    </tr>\n",
              "  </tbody>\n",
              "</table>\n",
              "</div>\n",
              "      <button class=\"colab-df-convert\" onclick=\"convertToInteractive('df-eac04f35-7c75-4b9b-9fc5-de3b10d3497c')\"\n",
              "              title=\"Convert this dataframe to an interactive table.\"\n",
              "              style=\"display:none;\">\n",
              "        \n",
              "  <svg xmlns=\"http://www.w3.org/2000/svg\" height=\"24px\"viewBox=\"0 0 24 24\"\n",
              "       width=\"24px\">\n",
              "    <path d=\"M0 0h24v24H0V0z\" fill=\"none\"/>\n",
              "    <path d=\"M18.56 5.44l.94 2.06.94-2.06 2.06-.94-2.06-.94-.94-2.06-.94 2.06-2.06.94zm-11 1L8.5 8.5l.94-2.06 2.06-.94-2.06-.94L8.5 2.5l-.94 2.06-2.06.94zm10 10l.94 2.06.94-2.06 2.06-.94-2.06-.94-.94-2.06-.94 2.06-2.06.94z\"/><path d=\"M17.41 7.96l-1.37-1.37c-.4-.4-.92-.59-1.43-.59-.52 0-1.04.2-1.43.59L10.3 9.45l-7.72 7.72c-.78.78-.78 2.05 0 2.83L4 21.41c.39.39.9.59 1.41.59.51 0 1.02-.2 1.41-.59l7.78-7.78 2.81-2.81c.8-.78.8-2.07 0-2.86zM5.41 20L4 18.59l7.72-7.72 1.47 1.35L5.41 20z\"/>\n",
              "  </svg>\n",
              "      </button>\n",
              "      \n",
              "  <style>\n",
              "    .colab-df-container {\n",
              "      display:flex;\n",
              "      flex-wrap:wrap;\n",
              "      gap: 12px;\n",
              "    }\n",
              "\n",
              "    .colab-df-convert {\n",
              "      background-color: #E8F0FE;\n",
              "      border: none;\n",
              "      border-radius: 50%;\n",
              "      cursor: pointer;\n",
              "      display: none;\n",
              "      fill: #1967D2;\n",
              "      height: 32px;\n",
              "      padding: 0 0 0 0;\n",
              "      width: 32px;\n",
              "    }\n",
              "\n",
              "    .colab-df-convert:hover {\n",
              "      background-color: #E2EBFA;\n",
              "      box-shadow: 0px 1px 2px rgba(60, 64, 67, 0.3), 0px 1px 3px 1px rgba(60, 64, 67, 0.15);\n",
              "      fill: #174EA6;\n",
              "    }\n",
              "\n",
              "    [theme=dark] .colab-df-convert {\n",
              "      background-color: #3B4455;\n",
              "      fill: #D2E3FC;\n",
              "    }\n",
              "\n",
              "    [theme=dark] .colab-df-convert:hover {\n",
              "      background-color: #434B5C;\n",
              "      box-shadow: 0px 1px 3px 1px rgba(0, 0, 0, 0.15);\n",
              "      filter: drop-shadow(0px 1px 2px rgba(0, 0, 0, 0.3));\n",
              "      fill: #FFFFFF;\n",
              "    }\n",
              "  </style>\n",
              "\n",
              "      <script>\n",
              "        const buttonEl =\n",
              "          document.querySelector('#df-eac04f35-7c75-4b9b-9fc5-de3b10d3497c button.colab-df-convert');\n",
              "        buttonEl.style.display =\n",
              "          google.colab.kernel.accessAllowed ? 'block' : 'none';\n",
              "\n",
              "        async function convertToInteractive(key) {\n",
              "          const element = document.querySelector('#df-eac04f35-7c75-4b9b-9fc5-de3b10d3497c');\n",
              "          const dataTable =\n",
              "            await google.colab.kernel.invokeFunction('convertToInteractive',\n",
              "                                                     [key], {});\n",
              "          if (!dataTable) return;\n",
              "\n",
              "          const docLinkHtml = 'Like what you see? Visit the ' +\n",
              "            '<a target=\"_blank\" href=https://colab.research.google.com/notebooks/data_table.ipynb>data table notebook</a>'\n",
              "            + ' to learn more about interactive tables.';\n",
              "          element.innerHTML = '';\n",
              "          dataTable['output_type'] = 'display_data';\n",
              "          await google.colab.output.renderOutput(dataTable, element);\n",
              "          const docLink = document.createElement('div');\n",
              "          docLink.innerHTML = docLinkHtml;\n",
              "          element.appendChild(docLink);\n",
              "        }\n",
              "      </script>\n",
              "    </div>\n",
              "  </div>\n",
              "  "
            ],
            "text/plain": [
              "                                                                                                                                                                                                     Tweet  ...  sent_len\n",
              "0  agree the poor in india are treated badly their poors seek a living in singapore and are treated like citizens they are given free medical treatment given food daily sim cards to call home to tell...  ...        49\n",
              "1                                                                                                              if only i could have spent the with this cutie vc sakshi s i n g h coast crossing republik   ...        21\n",
              "2                                                                                                                      will nature conservation remain a priority in post corona bangladesh the daily star  ...        13\n",
              "3                                                                                                              coronavirus disappearing in italy show this to intellectuals who say lockdowns do not work   ...        15\n",
              "4                                                                                                                                    uk records lowest daily virus death toll since start of lockdown govt  ...        12\n",
              "\n",
              "[5 rows x 3 columns]"
            ]
          },
          "metadata": {},
          "execution_count": 48
        }
      ]
    },
    {
      "cell_type": "code",
      "metadata": {
        "id": "8n2fAcHsZvU-"
      },
      "source": [
        "regex_tokenizer = RegexpTokenizer(r'\\w+')"
      ],
      "execution_count": 49,
      "outputs": []
    },
    {
      "cell_type": "code",
      "metadata": {
        "id": "hcx38CGGZvVB",
        "outputId": "ed53337a-1977-47ca-9717-85b85a5079bd",
        "colab": {
          "base_uri": "https://localhost:8080/",
          "height": 49,
          "referenced_widgets": [
            "0fd4268f121d48b2a3876845ae1a4a02",
            "17fb74714d7945119523fc839e84fea5",
            "1354d0fd8f464bda880ab582c7d0bf63",
            "dcbf9f7548a74017bb2cda633aa09846",
            "902268b5da1d4788aaec2b3383ba271b",
            "ec0f4531d00f49a6885b0ebd150d67a9",
            "7a2b6877509d475ab3acc5a4b38e7dc2",
            "cf53a1625b114c68bd49224ecbfad37d",
            "3015691493e843fbbfcb9a3e956f09a2",
            "2fbeb42a62454cca9b14ea7419490235",
            "fbce0a7b6d96444cbd37b1b1f545df2d"
          ]
        }
      },
      "source": [
        "cleaned_text = []\n",
        "\n",
        "for text in tqdm_notebook(df_dataset['Tweet']):\n",
        "    tokens = regex_tokenizer.tokenize(text)\n",
        "    cleaned_text.append(\" \".join(tokens))"
      ],
      "execution_count": 50,
      "outputs": [
        {
          "output_type": "display_data",
          "data": {
            "application/vnd.jupyter.widget-view+json": {
              "model_id": "0fd4268f121d48b2a3876845ae1a4a02",
              "version_minor": 0,
              "version_major": 2
            },
            "text/plain": [
              "  0%|          | 0/3090 [00:00<?, ?it/s]"
            ]
          },
          "metadata": {}
        }
      ]
    },
    {
      "cell_type": "code",
      "metadata": {
        "id": "rdgqY2MOZvVE",
        "outputId": "e377dfbe-b6d1-4444-b27e-2aea97f1ad49",
        "colab": {
          "base_uri": "https://localhost:8080/"
        }
      },
      "source": [
        "print(cleaned_text[0])"
      ],
      "execution_count": 51,
      "outputs": [
        {
          "output_type": "stream",
          "name": "stdout",
          "text": [
            "agree the poor in india are treated badly their poors seek a living in singapore and are treated like citizens they are given free medical treatment given food daily sim cards to call home to tell their family that they are fine if covid case treated foc in hospitals\n"
          ]
        }
      ]
    },
    {
      "cell_type": "markdown",
      "metadata": {
        "id": "WkGvsotdZvVJ"
      },
      "source": [
        "#Tokenize"
      ]
    },
    {
      "cell_type": "code",
      "metadata": {
        "id": "m_99kIzjZvVK"
      },
      "source": [
        "max_words = 1e5"
      ],
      "execution_count": 52,
      "outputs": []
    },
    {
      "cell_type": "code",
      "metadata": {
        "id": "5VyXMIl1ZvVN"
      },
      "source": [
        "tokenizer = Tokenizer(num_words=max_words, lower=True, char_level=False)"
      ],
      "execution_count": 53,
      "outputs": []
    },
    {
      "cell_type": "code",
      "metadata": {
        "id": "-1OjVtK1ZvVR",
        "outputId": "e094cbcf-d41f-4f01-ab0b-061cb02dbd3b",
        "colab": {
          "base_uri": "https://localhost:8080/"
        }
      },
      "source": [
        "#tokenize and build dictionary\n",
        "tokenizer.fit_on_texts(cleaned_text)\n",
        "input_sequences = tokenizer.texts_to_sequences(cleaned_text)\n",
        "\n",
        "word_index = tokenizer.word_index\n",
        "print(\"dictionary size: \", len(word_index))"
      ],
      "execution_count": 54,
      "outputs": [
        {
          "output_type": "stream",
          "name": "stdout",
          "text": [
            "dictionary size:  10085\n"
          ]
        }
      ]
    },
    {
      "cell_type": "code",
      "metadata": {
        "id": "xnVesnTbZvVU",
        "outputId": "2c849fd8-cbbf-4dd0-f5bb-6927ae3c8fa9",
        "colab": {
          "base_uri": "https://localhost:8080/"
        }
      },
      "source": [
        "print(input_sequences[0])"
      ],
      "execution_count": 55,
      "outputs": [
        {
          "output_type": "stream",
          "name": "stdout",
          "text": [
            "[959, 1, 294, 6, 66, 13, 1188, 1570, 57, 4417, 2273, 7, 521, 6, 1358, 5, 13, 1188, 70, 320, 35, 13, 431, 268, 360, 577, 431, 215, 269, 4418, 4419, 2, 235, 79, 2, 371, 57, 127, 21, 35, 13, 877, 42, 18, 295, 1188, 3035, 6, 396]\n"
          ]
        }
      ]
    },
    {
      "cell_type": "markdown",
      "metadata": {
        "id": "8woiteInZvVY"
      },
      "source": [
        "# Padding"
      ]
    },
    {
      "cell_type": "code",
      "metadata": {
        "id": "RRC2PB1UZvVZ"
      },
      "source": [
        "#pad text to make it of equal length\n",
        "input_sequences = pad_sequences(input_sequences, maxlen=max_seq_len)"
      ],
      "execution_count": 56,
      "outputs": []
    },
    {
      "cell_type": "code",
      "metadata": {
        "id": "J9xLO9QwZvVd",
        "outputId": "b4ae38e8-0c82-4b68-956d-1f118979a2ee",
        "colab": {
          "base_uri": "https://localhost:8080/"
        }
      },
      "source": [
        "print(input_sequences[0])"
      ],
      "execution_count": 57,
      "outputs": [
        {
          "output_type": "stream",
          "name": "stdout",
          "text": [
            "[   0    0    0    0  959    1  294    6   66   13 1188 1570   57 4417\n",
            " 2273    7  521    6 1358    5   13 1188   70  320   35   13  431  268\n",
            "  360  577  431  215  269 4418 4419    2  235   79    2  371   57  127\n",
            "   21   35   13  877   42   18  295 1188 3035    6  396]\n"
          ]
        }
      ]
    },
    {
      "cell_type": "code",
      "metadata": {
        "id": "ZC9t1SJmZvVg"
      },
      "source": [
        "labels = df_dataset['label'].values"
      ],
      "execution_count": 58,
      "outputs": []
    },
    {
      "cell_type": "code",
      "metadata": {
        "id": "PiL9P2-SZvVk",
        "outputId": "0e44a981-861c-4a7c-c5ce-ba6441dbd919",
        "colab": {
          "base_uri": "https://localhost:8080/"
        }
      },
      "source": [
        "print(labels[36])"
      ],
      "execution_count": 59,
      "outputs": [
        {
          "output_type": "stream",
          "name": "stdout",
          "text": [
            "1\n"
          ]
        }
      ]
    },
    {
      "cell_type": "markdown",
      "metadata": {
        "id": "ZzVUxYIfZvVn"
      },
      "source": [
        "#Embedding matrix"
      ]
    },
    {
      "cell_type": "code",
      "metadata": {
        "id": "fP2wR9ZbZvVo"
      },
      "source": [
        "embed_dim = 300"
      ],
      "execution_count": 60,
      "outputs": []
    },
    {
      "cell_type": "code",
      "metadata": {
        "id": "w4wBP5MrZvVr",
        "outputId": "2100c08a-a66b-472c-d624-8e21bfadea90",
        "colab": {
          "base_uri": "https://localhost:8080/"
        }
      },
      "source": [
        "#creating the embedding matrix\n",
        "words_not_found = []\n",
        "nb_words = min(max_words, len(word_index))\n",
        "\n",
        "embedding_matrix = np.zeros((nb_words+1, embed_dim))\n",
        "\n",
        "for word, i in word_index.items():\n",
        "    if i > nb_words:\n",
        "        break\n",
        "\n",
        "    vector = word_vectors.get(word)\n",
        "    if vector is not None:\n",
        "        # words not found in embedding index will be all-zeros.\n",
        "        embedding_matrix[i] = vector\n",
        "    else:\n",
        "        words_not_found.append(word)\n",
        "\n",
        "print('number of null word embeddings: {:d}'.format(np.sum(np.sum(embedding_matrix, axis=1) == 0)))"
      ],
      "execution_count": 61,
      "outputs": [
        {
          "output_type": "stream",
          "name": "stdout",
          "text": [
            "number of null word embeddings: 1061\n"
          ]
        }
      ]
    },
    {
      "cell_type": "code",
      "metadata": {
        "id": "3S5Ve5iiZvVu",
        "outputId": "750baa78-67f2-4a11-cdf9-93d384ca2612",
        "colab": {
          "base_uri": "https://localhost:8080/"
        }
      },
      "source": [
        "print(\"sample words not found: \", np.random.choice(words_not_found, 10))"
      ],
      "execution_count": 62,
      "outputs": [
        {
          "output_type": "stream",
          "name": "stdout",
          "text": [
            "sample words not found:  ['khatarnaak' 'tgtwaitingresults' 'erigy' 'modiji' 'avk' 'imdadullah'\n",
            " 'tejaswini' 'wuflu' 'alvares' 'bollybuzz']\n"
          ]
        }
      ]
    },
    {
      "cell_type": "markdown",
      "metadata": {
        "id": "d-8XEa_IZvVy"
      },
      "source": [
        "#Train Test Split"
      ]
    },
    {
      "cell_type": "code",
      "metadata": {
        "id": "fSo1UHTGZvVz"
      },
      "source": [
        "#splitting the given dataset into train and test sets\n",
        "X_train, X_test, y_train, y_test = (\n",
        "    train_test_split(input_sequences, labels, random_state=42, test_size=0.2)\n",
        ")"
      ],
      "execution_count": 63,
      "outputs": []
    },
    {
      "cell_type": "code",
      "metadata": {
        "id": "PbJS6U1vZvV2"
      },
      "source": [
        "X_train = tf.constant(X_train)\n",
        "X_test = tf.constant(X_test)\n",
        "\n",
        "y_train = tf.constant(y_train)\n",
        "y_test = tf.constant(y_test)"
      ],
      "execution_count": 64,
      "outputs": []
    },
    {
      "cell_type": "code",
      "metadata": {
        "id": "x96WC67rZvV8",
        "outputId": "50a42282-a3ad-4731-d1ee-32fc4dbe3963",
        "colab": {
          "base_uri": "https://localhost:8080/"
        }
      },
      "source": [
        "print(f'Train | X shape: {X_train.shape}, y shape: {y_train.shape}')\n",
        "print(f'Test | X shape: {X_test.shape}, y shape: {y_test.shape}')"
      ],
      "execution_count": 65,
      "outputs": [
        {
          "output_type": "stream",
          "name": "stdout",
          "text": [
            "Train | X shape: (2472, 53), y shape: (2472,)\n",
            "Test | X shape: (618, 53), y shape: (618,)\n"
          ]
        }
      ]
    },
    {
      "cell_type": "markdown",
      "metadata": {
        "id": "olAVq30hZvV_"
      },
      "source": [
        "# Create model"
      ]
    },
    {
      "cell_type": "code",
      "source": [
        "from keras import backend as K\n",
        "\n",
        "def recall_m(y_true, y_pred):\n",
        "    true_positives = K.sum(K.round(K.clip(y_true * y_pred, 0, 1)))\n",
        "    possible_positives = K.sum(K.round(K.clip(y_true, 0, 1)))\n",
        "    recall = true_positives / (possible_positives + K.epsilon())\n",
        "    return recall\n",
        "\n",
        "def precision_m(y_true, y_pred):\n",
        "    true_positives = K.sum(K.round(K.clip(y_true * y_pred, 0, 1)))\n",
        "    predicted_positives = K.sum(K.round(K.clip(y_pred, 0, 1)))\n",
        "    precision = true_positives / (predicted_positives + K.epsilon())\n",
        "    return precision\n",
        "\n",
        "def f1_m(y_true, y_pred):\n",
        "    precision = precision_m(y_true, y_pred)\n",
        "    recall = recall_m(y_true, y_pred)\n",
        "    return 2*((precision*recall)/(precision+recall+K.epsilon()))"
      ],
      "metadata": {
        "id": "smkyxsidB5Qd"
      },
      "execution_count": 68,
      "outputs": []
    },
    {
      "cell_type": "code",
      "metadata": {
        "id": "4Di75fGNZvWA"
      },
      "source": [
        "#defining the model\n",
        "def create_model(input_len):\n",
        "    inp = Input(shape=(input_len,))\n",
        "\n",
        "    x = Embedding(nb_words+1, embed_dim,\n",
        "                  weights=[embedding_matrix],\n",
        "                  input_length=input_len, trainable=False)(inp)\n",
        "    \n",
        "    x1 = Conv1D(200, 3, activation='relu', padding='same')(x)\n",
        "    x1 = GlobalMaxPooling1D()(x1)\n",
        "\n",
        "    x2 = Conv1D(200, 4, activation='relu', padding='same')(x)\n",
        "    x2 = GlobalMaxPooling1D()(x2)\n",
        "\n",
        "    x3 = Conv1D(200, 5, activation='relu', padding='same')(x)\n",
        "    x3 = GlobalMaxPooling1D()(x3)\n",
        "\n",
        "    x = concatenate([x1, x2, x3])\n",
        "    x = Dropout(0.5)(x)\n",
        "    x = Dense(30, activation='relu')(x)\n",
        "    x = Dropout(0.5)(x)\n",
        "    x = Dense(4, activation='softmax')(x)\n",
        "\n",
        "    model = Model(inputs=inp, outputs=x)\n",
        "\n",
        "    opt = tf.keras.optimizers.Adam(lr=0.001)\n",
        "\n",
        "    model.compile(loss='sparse_categorical_crossentropy',\n",
        "                  optimizer=opt,\n",
        "                  metrics=['accuracy',f1_m,precision_m, recall_m])\n",
        "\n",
        "    return model"
      ],
      "execution_count": 69,
      "outputs": []
    },
    {
      "cell_type": "code",
      "metadata": {
        "scrolled": true,
        "id": "J4oTEp97ZvWC",
        "outputId": "1ef74968-a0af-4584-80a0-92c1879d6a17",
        "colab": {
          "base_uri": "https://localhost:8080/"
        }
      },
      "source": [
        "model = create_model(max_seq_len)\n",
        "model.summary()"
      ],
      "execution_count": 70,
      "outputs": [
        {
          "output_type": "stream",
          "name": "stdout",
          "text": [
            "Model: \"model_1\"\n",
            "__________________________________________________________________________________________________\n",
            " Layer (type)                   Output Shape         Param #     Connected to                     \n",
            "==================================================================================================\n",
            " input_2 (InputLayer)           [(None, 53)]         0           []                               \n",
            "                                                                                                  \n",
            " embedding_1 (Embedding)        (None, 53, 300)      3025800     ['input_2[0][0]']                \n",
            "                                                                                                  \n",
            " conv1d_3 (Conv1D)              (None, 53, 200)      180200      ['embedding_1[0][0]']            \n",
            "                                                                                                  \n",
            " conv1d_4 (Conv1D)              (None, 53, 200)      240200      ['embedding_1[0][0]']            \n",
            "                                                                                                  \n",
            " conv1d_5 (Conv1D)              (None, 53, 200)      300200      ['embedding_1[0][0]']            \n",
            "                                                                                                  \n",
            " global_max_pooling1d_3 (Global  (None, 200)         0           ['conv1d_3[0][0]']               \n",
            " MaxPooling1D)                                                                                    \n",
            "                                                                                                  \n",
            " global_max_pooling1d_4 (Global  (None, 200)         0           ['conv1d_4[0][0]']               \n",
            " MaxPooling1D)                                                                                    \n",
            "                                                                                                  \n",
            " global_max_pooling1d_5 (Global  (None, 200)         0           ['conv1d_5[0][0]']               \n",
            " MaxPooling1D)                                                                                    \n",
            "                                                                                                  \n",
            " concatenate_1 (Concatenate)    (None, 600)          0           ['global_max_pooling1d_3[0][0]', \n",
            "                                                                  'global_max_pooling1d_4[0][0]', \n",
            "                                                                  'global_max_pooling1d_5[0][0]'] \n",
            "                                                                                                  \n",
            " dropout_2 (Dropout)            (None, 600)          0           ['concatenate_1[0][0]']          \n",
            "                                                                                                  \n",
            " dense_2 (Dense)                (None, 30)           18030       ['dropout_2[0][0]']              \n",
            "                                                                                                  \n",
            " dropout_3 (Dropout)            (None, 30)           0           ['dense_2[0][0]']                \n",
            "                                                                                                  \n",
            " dense_3 (Dense)                (None, 4)            124         ['dropout_3[0][0]']              \n",
            "                                                                                                  \n",
            "==================================================================================================\n",
            "Total params: 3,764,554\n",
            "Trainable params: 738,754\n",
            "Non-trainable params: 3,025,800\n",
            "__________________________________________________________________________________________________\n"
          ]
        }
      ]
    },
    {
      "cell_type": "markdown",
      "metadata": {
        "id": "9pTzhS76ZvWE"
      },
      "source": [
        "# Training"
      ]
    },
    {
      "cell_type": "code",
      "metadata": {
        "scrolled": true,
        "id": "JxwSsECoZvWF",
        "outputId": "5b1da5fc-788e-4e08-e50c-a5b0b1ac64a5",
        "colab": {
          "base_uri": "https://localhost:8080/"
        }
      },
      "source": [
        "#metrics for evaluation\n",
        "loss, metric, f1, prec, rec = model.evaluate(X_test, y_test, batch_size=32, verbose=0)\n",
        "print(f\"Loss before training: {loss:.4f} \\nAccuracy before training: {metric:.2%} \\nF1 Score: {f1:.4f} \\nPrecision: {prec:.4f} \\nRecall: {rec:.4f}\")"
      ],
      "execution_count": 91,
      "outputs": [
        {
          "output_type": "stream",
          "name": "stdout",
          "text": [
            "Loss before training: 1.2321 \n",
            "Accuracy before training: 43.53% \n",
            "F1 Score: 3.4853 \n",
            "Precision: 137000016.0000 \n",
            "Recall: 1.8176\n"
          ]
        }
      ]
    },
    {
      "cell_type": "code",
      "source": [
        "df_dataset.dtypes"
      ],
      "metadata": {
        "colab": {
          "base_uri": "https://localhost:8080/"
        },
        "id": "7tIMFiCifg29",
        "outputId": "5c44e1e8-e413-4f04-bdc3-f564eb9ea9e6"
      },
      "execution_count": 72,
      "outputs": [
        {
          "output_type": "execute_result",
          "data": {
            "text/plain": [
              "Tweet       object\n",
              "label        int64\n",
              "sent_len     int64\n",
              "dtype: object"
            ]
          },
          "metadata": {},
          "execution_count": 72
        }
      ]
    },
    {
      "cell_type": "code",
      "metadata": {
        "scrolled": true,
        "id": "VawyxCyLZvWH",
        "outputId": "6a8b70aa-9ce4-4ccb-ca38-cf05dc3a0351",
        "colab": {
          "base_uri": "https://localhost:8080/"
        }
      },
      "source": [
        "#fitting the model\n",
        "history = model.fit(X_train, y_train, batch_size=256, epochs=20, validation_data=(X_test, y_test))"
      ],
      "execution_count": 99,
      "outputs": [
        {
          "output_type": "stream",
          "name": "stdout",
          "text": [
            "Epoch 1/20\n",
            "10/10 [==============================] - 9s 889ms/step - loss: 0.2310 - accuracy: 0.9300 - f1_m: 1.0217 - precision_m: 0.9097 - recall_m: 1.1656 - val_loss: 0.8309 - val_accuracy: 0.6796 - val_f1_m: 1.2646 - val_precision_m: 1.1694 - val_recall_m: 1.3788\n",
            "Epoch 2/20\n",
            "10/10 [==============================] - 9s 880ms/step - loss: 0.2180 - accuracy: 0.9369 - f1_m: 1.0153 - precision_m: 0.8974 - recall_m: 1.1698 - val_loss: 0.8477 - val_accuracy: 0.6683 - val_f1_m: 1.2487 - val_precision_m: 1.1461 - val_recall_m: 1.3736\n",
            "Epoch 3/20\n",
            "10/10 [==============================] - 9s 891ms/step - loss: 0.1989 - accuracy: 0.9393 - f1_m: 0.9967 - precision_m: 0.8796 - recall_m: 1.1509 - val_loss: 0.8575 - val_accuracy: 0.6731 - val_f1_m: 1.2225 - val_precision_m: 1.1155 - val_recall_m: 1.3533\n",
            "Epoch 4/20\n",
            "10/10 [==============================] - 9s 873ms/step - loss: 0.1943 - accuracy: 0.9385 - f1_m: 0.9870 - precision_m: 0.8727 - recall_m: 1.1368 - val_loss: 0.8744 - val_accuracy: 0.6683 - val_f1_m: 1.1874 - val_precision_m: 1.0915 - val_recall_m: 1.3049\n",
            "Epoch 5/20\n",
            "10/10 [==============================] - 9s 886ms/step - loss: 0.1800 - accuracy: 0.9482 - f1_m: 0.9756 - precision_m: 0.8601 - recall_m: 1.1279 - val_loss: 0.8857 - val_accuracy: 0.6715 - val_f1_m: 1.2057 - val_precision_m: 1.1054 - val_recall_m: 1.3280\n",
            "Epoch 6/20\n",
            "10/10 [==============================] - 9s 881ms/step - loss: 0.1603 - accuracy: 0.9531 - f1_m: 0.9680 - precision_m: 0.8520 - recall_m: 1.1214 - val_loss: 0.8895 - val_accuracy: 0.6845 - val_f1_m: 1.1656 - val_precision_m: 1.0576 - val_recall_m: 1.2992\n",
            "Epoch 7/20\n",
            "10/10 [==============================] - 9s 885ms/step - loss: 0.1480 - accuracy: 0.9547 - f1_m: 0.9653 - precision_m: 0.8498 - recall_m: 1.1184 - val_loss: 0.8938 - val_accuracy: 0.6715 - val_f1_m: 1.1568 - val_precision_m: 1.0438 - val_recall_m: 1.2979\n",
            "Epoch 8/20\n",
            "10/10 [==============================] - 9s 876ms/step - loss: 0.1467 - accuracy: 0.9636 - f1_m: 0.9580 - precision_m: 0.8426 - recall_m: 1.1105 - val_loss: 0.9020 - val_accuracy: 0.6650 - val_f1_m: 1.1512 - val_precision_m: 1.0445 - val_recall_m: 1.2833\n",
            "Epoch 9/20\n",
            "10/10 [==============================] - 9s 881ms/step - loss: 0.1370 - accuracy: 0.9620 - f1_m: 0.9420 - precision_m: 0.8278 - recall_m: 1.0934 - val_loss: 0.9019 - val_accuracy: 0.6796 - val_f1_m: 1.1653 - val_precision_m: 1.0573 - val_recall_m: 1.2984\n",
            "Epoch 10/20\n",
            "10/10 [==============================] - 9s 880ms/step - loss: 0.1274 - accuracy: 0.9628 - f1_m: 0.9431 - precision_m: 0.8287 - recall_m: 1.0942 - val_loss: 0.9032 - val_accuracy: 0.6877 - val_f1_m: 1.1509 - val_precision_m: 1.0379 - val_recall_m: 1.2919\n",
            "Epoch 11/20\n",
            "10/10 [==============================] - 9s 871ms/step - loss: 0.1304 - accuracy: 0.9721 - f1_m: 0.9377 - precision_m: 0.8232 - recall_m: 1.0899 - val_loss: 0.9087 - val_accuracy: 0.6974 - val_f1_m: 1.1339 - val_precision_m: 1.0260 - val_recall_m: 1.2689\n",
            "Epoch 12/20\n",
            "10/10 [==============================] - 9s 883ms/step - loss: 0.1167 - accuracy: 0.9668 - f1_m: 0.9309 - precision_m: 0.8166 - recall_m: 1.0833 - val_loss: 0.9466 - val_accuracy: 0.6845 - val_f1_m: 1.1272 - val_precision_m: 1.0234 - val_recall_m: 1.2553\n",
            "Epoch 13/20\n",
            "10/10 [==============================] - 9s 875ms/step - loss: 0.1148 - accuracy: 0.9701 - f1_m: 0.9326 - precision_m: 0.8168 - recall_m: 1.0872 - val_loss: 0.9521 - val_accuracy: 0.6780 - val_f1_m: 1.1164 - val_precision_m: 1.0110 - val_recall_m: 1.2475\n",
            "Epoch 14/20\n",
            "10/10 [==============================] - 9s 889ms/step - loss: 0.1151 - accuracy: 0.9684 - f1_m: 0.9116 - precision_m: 0.7975 - recall_m: 1.0649 - val_loss: 0.9677 - val_accuracy: 0.6812 - val_f1_m: 1.1170 - val_precision_m: 1.0024 - val_recall_m: 1.2621\n",
            "Epoch 15/20\n",
            "10/10 [==============================] - 9s 888ms/step - loss: 0.0972 - accuracy: 0.9765 - f1_m: 0.9205 - precision_m: 0.8069 - recall_m: 1.0725 - val_loss: 0.9694 - val_accuracy: 0.6877 - val_f1_m: 1.1086 - val_precision_m: 0.9946 - val_recall_m: 1.2531\n",
            "Epoch 16/20\n",
            "10/10 [==============================] - 12s 1s/step - loss: 0.0989 - accuracy: 0.9753 - f1_m: 0.9054 - precision_m: 0.7912 - recall_m: 1.0588 - val_loss: 0.9879 - val_accuracy: 0.6828 - val_f1_m: 1.1304 - val_precision_m: 1.0234 - val_recall_m: 1.2636\n",
            "Epoch 17/20\n",
            "10/10 [==============================] - 9s 902ms/step - loss: 0.0942 - accuracy: 0.9773 - f1_m: 0.9102 - precision_m: 0.7976 - recall_m: 1.0601 - val_loss: 0.9783 - val_accuracy: 0.6845 - val_f1_m: 1.1080 - val_precision_m: 0.9940 - val_recall_m: 1.2521\n",
            "Epoch 18/20\n",
            "10/10 [==============================] - 9s 906ms/step - loss: 0.0885 - accuracy: 0.9790 - f1_m: 0.9045 - precision_m: 0.7922 - recall_m: 1.0548 - val_loss: 0.9877 - val_accuracy: 0.6699 - val_f1_m: 1.1031 - val_precision_m: 0.9911 - val_recall_m: 1.2440\n",
            "Epoch 19/20\n",
            "10/10 [==============================] - 9s 894ms/step - loss: 0.0807 - accuracy: 0.9834 - f1_m: 0.8915 - precision_m: 0.7776 - recall_m: 1.0448 - val_loss: 1.0075 - val_accuracy: 0.6683 - val_f1_m: 1.1053 - val_precision_m: 0.9919 - val_recall_m: 1.2493\n",
            "Epoch 20/20\n",
            "10/10 [==============================] - 9s 878ms/step - loss: 0.0907 - accuracy: 0.9741 - f1_m: 0.9106 - precision_m: 0.7952 - recall_m: 1.0659 - val_loss: 0.9995 - val_accuracy: 0.6909 - val_f1_m: 1.1086 - val_precision_m: 0.9940 - val_recall_m: 1.2533\n"
          ]
        }
      ]
    },
    {
      "cell_type": "code",
      "source": [
        "# compile the model\n",
        "model.compile(optimizer='adam', loss='sparse_categorical_crossentropy', metrics=['accuracy',f1_m,precision_m, recall_m])\n"
      ],
      "metadata": {
        "id": "LSDgteFUyXFp"
      },
      "execution_count": 100,
      "outputs": []
    },
    {
      "cell_type": "code",
      "source": [
        "# evaluate the model\n",
        "#loss, accuracy, f1_score, precision, recall = model.evaluate(X_test, y_test, verbose=0)\n",
        "loss, metric, f1, prec, rec = model.evaluate(X_test, y_test, batch_size=32, verbose=0)"
      ],
      "metadata": {
        "id": "P_zrVnOVyeQk"
      },
      "execution_count": 101,
      "outputs": []
    },
    {
      "cell_type": "code",
      "source": [
        "print(f\"Loss after training: {loss:.4f} \\nAccuracy after training: {metric:.2%} \\nF1 Score : {f1:.4f} \\nPrecision: {prec:.4f} \\nRecall: {rec:.4f}\")"
      ],
      "metadata": {
        "colab": {
          "base_uri": "https://localhost:8080/"
        },
        "id": "srFUfNO6Cr0W",
        "outputId": "84bb88c0-3e62-4248-b417-b0f515790429"
      },
      "execution_count": 102,
      "outputs": [
        {
          "output_type": "stream",
          "name": "stdout",
          "text": [
            "Loss after training: 0.9995 \n",
            "Accuracy after training: 69.09% \n",
            "F1 Score : 1.1014 \n",
            "Precision: 0.9900 \n",
            "Recall: 1.2488\n"
          ]
        }
      ]
    },
    {
      "cell_type": "markdown",
      "metadata": {
        "id": "qSvq3TaMZvWK"
      },
      "source": [
        "# Test model on new sentences"
      ]
    },
    {
      "cell_type": "code",
      "metadata": {
        "id": "GsK5CuQOZvWK"
      },
      "source": [
        "def predict(text):\n",
        "  # pre-process text\n",
        "    tokens = regex_tokenizer.tokenize(text)\n",
        "    cleaned_text = [\" \".join(tokens)]\n",
        "    \n",
        "    input_ = tokenizer.texts_to_sequences(cleaned_text)\n",
        "    input_ = pad_sequences(input_, maxlen=max_seq_len)\n",
        "    \n",
        "    pred = model.predict(input_)[0]\n",
        "\n",
        "    return pred"
      ],
      "execution_count": 103,
      "outputs": []
    },
    {
      "cell_type": "code",
      "source": [
        "label_dict"
      ],
      "metadata": {
        "colab": {
          "base_uri": "https://localhost:8080/"
        },
        "id": "lGjKws-SnCrB",
        "outputId": "96e7b43d-842f-43aa-bddf-ad6ab8b3907a"
      },
      "execution_count": 104,
      "outputs": [
        {
          "output_type": "execute_result",
          "data": {
            "text/plain": [
              "{'anger': 3, 'fear': 2, 'joy': 1, 'sad': 0}"
            ]
          },
          "metadata": {},
          "execution_count": 104
        }
      ]
    },
    {
      "cell_type": "code",
      "metadata": {
        "id": "U_cGelZzZvWN"
      },
      "source": [
        "text = \"i am afraid of the virus\""
      ],
      "execution_count": 105,
      "outputs": []
    },
    {
      "cell_type": "code",
      "metadata": {
        "id": "5yucZ9D12jzy",
        "outputId": "d11b2331-b800-4c69-f83a-06171185fb31",
        "colab": {
          "base_uri": "https://localhost:8080/"
        }
      },
      "source": [
        "predict(text)"
      ],
      "execution_count": 106,
      "outputs": [
        {
          "output_type": "execute_result",
          "data": {
            "text/plain": [
              "array([0.00293701, 0.00218376, 0.9789525 , 0.01592668], dtype=float32)"
            ]
          },
          "metadata": {},
          "execution_count": 106
        }
      ]
    },
    {
      "cell_type": "code",
      "source": [
        "result = np.argmax(predict(text), axis=0)\n",
        "print(\"Sentiment : \",list(label_dict.keys())[list(label_dict.values()).index(result)])"
      ],
      "metadata": {
        "colab": {
          "base_uri": "https://localhost:8080/"
        },
        "id": "b5sL3POiHWdP",
        "outputId": "74a26c89-e96c-448a-9a97-aaa66781738a"
      },
      "execution_count": 107,
      "outputs": [
        {
          "output_type": "stream",
          "name": "stdout",
          "text": [
            "Sentiment :  fear\n"
          ]
        }
      ]
    },
    {
      "cell_type": "code",
      "metadata": {
        "id": "t8UBIg2aZvWS"
      },
      "source": [
        "text = \"I am happy to test negative\""
      ],
      "execution_count": 117,
      "outputs": []
    },
    {
      "cell_type": "code",
      "source": [
        "predict(text)"
      ],
      "metadata": {
        "colab": {
          "base_uri": "https://localhost:8080/"
        },
        "id": "w-iCAMRw-oGU",
        "outputId": "f7b38a44-5df4-459d-933a-bec8c3f2c8c5"
      },
      "execution_count": 118,
      "outputs": [
        {
          "output_type": "execute_result",
          "data": {
            "text/plain": [
              "array([0.13466598, 0.44855508, 0.39949462, 0.01728436], dtype=float32)"
            ]
          },
          "metadata": {},
          "execution_count": 118
        }
      ]
    },
    {
      "cell_type": "code",
      "source": [
        "result = np.argmax(predict(text), axis=0)\n",
        "print(\"Sentiment : \",list(label_dict.keys())[list(label_dict.values()).index(result)])"
      ],
      "metadata": {
        "colab": {
          "base_uri": "https://localhost:8080/"
        },
        "id": "J8WnexRW-Q5Y",
        "outputId": "94f67978-1c45-4988-f82f-eff5e6ae6916"
      },
      "execution_count": 119,
      "outputs": [
        {
          "output_type": "stream",
          "name": "stdout",
          "text": [
            "Sentiment :  joy\n"
          ]
        }
      ]
    },
    {
      "cell_type": "markdown",
      "metadata": {
        "id": "Itvl6FmK07Pl"
      },
      "source": [
        "#Save model"
      ]
    },
    {
      "cell_type": "code",
      "metadata": {
        "id": "KbXC5L72ZvWY"
      },
      "source": [
        "model_save_path = \"model.h5\"\n",
        "model.save(model_save_path)"
      ],
      "execution_count": 120,
      "outputs": []
    },
    {
      "cell_type": "code",
      "metadata": {
        "id": "4Clezf0qZvWb",
        "colab": {
          "base_uri": "https://localhost:8080/"
        },
        "outputId": "76bc720a-d932-4892-dd14-8aa8251f3d26"
      },
      "source": [
        "tokenizer_save_path = \"tokenizer.joblib\"\n",
        "joblib.dump(tokenizer, tokenizer_save_path)"
      ],
      "execution_count": 121,
      "outputs": [
        {
          "output_type": "execute_result",
          "data": {
            "text/plain": [
              "['tokenizer.joblib']"
            ]
          },
          "metadata": {},
          "execution_count": 121
        }
      ]
    },
    {
      "cell_type": "code",
      "source": [
        ""
      ],
      "metadata": {
        "id": "l22OoEJ7Dzec"
      },
      "execution_count": null,
      "outputs": []
    }
  ]
}